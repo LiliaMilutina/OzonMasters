{
 "cells": [
  {
   "cell_type": "markdown",
   "id": "liquid-antibody",
   "metadata": {},
   "source": [
    "### Предсказание звонков в колл-центр"
   ]
  },
  {
   "cell_type": "code",
   "execution_count": null,
   "id": "governmental-tooth",
   "metadata": {},
   "outputs": [],
   "source": [
    "import pandas as pd\n",
    "import numpy as np\n",
    "import matplotlib.pyplot as plt\n",
    "\n",
    "from sklearn.metrics import roc_auc_score\n",
    "from sklearn.model_selection import train_test_split\n",
    "from lightgbm import LGBMClassifier\n",
    "from sklearn.model_selection import GridSearchCV"
   ]
  },
  {
   "cell_type": "code",
   "execution_count": 22,
   "id": "aggressive-clark",
   "metadata": {},
   "outputs": [],
   "source": [
    "def plot_importances(model):\n",
    "    imps, names = model.feature_importances_, model.feature_name_\n",
    "    imp_names = sorted(dict(zip(imps, names)).items(), key=lambda x: x[0])\n",
    "    imps_, names_ = zip(*imp_names)\n",
    "    plt.barh(names_[:20], imps_[:20])\n",
    "    plt.show()\n",
    "    \n",
    "def validate_model(model, data_train, data_test):\n",
    "    model_ = model\n",
    "    \n",
    "    # X and y\n",
    "    X_train = data_train.loc[:, data_train.columns != 'is_callcenter']\n",
    "    y_train = data_train.loc[:, 'is_callcenter']\n",
    "    \n",
    "    # validation\n",
    "    X_train_1, X_test_1, y_train_1, y_test_1 = train_test_split(X_train, y_train, test_size=0.33, random_state=42)\n",
    "    model.fit(X_train_1, y_train_1)\n",
    "    y_pred_1 = model.predict_proba(X_test_1)\n",
    "    \n",
    "    # plot\n",
    "    plot_importances(model)\n",
    "    \n",
    "    print('validation:', roc_auc_score(y_test_1, y_pred_1[:, 1]))\n",
    "    \n",
    "    # test\n",
    "    model_.fit(X_train, y_train)\n",
    "    y_pred_test = model.predict_proba(data_test)\n",
    "    \n",
    "    return y_pred_test[:, 1]"
   ]
  },
  {
   "cell_type": "markdown",
   "id": "curious-valley",
   "metadata": {},
   "source": [
    "### Функция для извлечения статистических характеристик"
   ]
  },
  {
   "cell_type": "code",
   "execution_count": 3,
   "id": "regular-probability",
   "metadata": {},
   "outputs": [],
   "source": [
    "def stat_char(df_input, feature, cols_for_features):\n",
    "    df = df_input.copy()\n",
    "    df_ = df[cols_for_features].groupby(feature).agg('std')\n",
    "    df_.columns = [el + feature + '_std' for el in list(df_.columns)]\n",
    "    df_.reset_index(level=0, inplace=True)\n",
    "    df = df.merge(df_, how='left', on = feature)\n",
    "    \n",
    "    df_ = df[cols_for_features].groupby(feature).agg('mean')\n",
    "    df_.columns = [el + feature + '_mean' for el in list(df_.columns)]\n",
    "    df_.reset_index(level=0, inplace=True)\n",
    "    df = df.merge(df_, how='left', on = feature)    \n",
    "    \n",
    "    df_ = df[cols_for_features].groupby(feature).agg('median')\n",
    "    df_.columns = [el + feature + '_median' for el in list(df_.columns)]\n",
    "    df_.reset_index(level=0, inplace=True)\n",
    "    df = df.merge(df_, how='left', on = feature)\n",
    "    \n",
    "    df_ = df[cols_for_features].groupby(feature).agg('max')\n",
    "    df_.columns = [el + feature + '_max' for el in list(df_.columns)]\n",
    "    df_.reset_index(level=0, inplace=True)\n",
    "    df = df.merge(df_, how='left', on = feature)\n",
    "\n",
    "    df_ = df[cols_for_features].groupby(feature).agg('min')\n",
    "    df_.columns = [el + feature + '_min' for el in list(df_.columns)]\n",
    "    df_.reset_index(level=0, inplace=True)\n",
    "    df = df.merge(df_, how='left', on = feature)\n",
    "\n",
    "    df_ = df[cols_for_features].groupby(feature).quantile(0.25)\n",
    "    df_.columns = [el + feature + '_q25' for el in list(df_.columns)]\n",
    "    df_.reset_index(level=0, inplace=True)\n",
    "    df = df.merge(df_, how='left', on = feature)\n",
    "    \n",
    "    df_ = df[cols_for_features].groupby(feature).quantile(0.75)\n",
    "    df_.columns = [el + feature + '_q75' for el in list(df_.columns)]\n",
    "    df_.reset_index(level=0, inplace=True)\n",
    "    df = df.merge(df_, how='left', on = feature)\n",
    "    \n",
    "    df_ = df[cols_for_features].groupby(feature).nunique()\n",
    "    df_.columns = [el + feature + '_count' for el in list(df_.columns)]\n",
    "    df_.reset_index(level=0, inplace=True)\n",
    "    df = df.merge(df_, how='left', on = feature)\n",
    "\n",
    "    df_ = df[cols_for_features].groupby(feature).agg('sum')\n",
    "    df_.columns = [el + feature + '_sum' for el in list(df_.columns)]\n",
    "    df_.reset_index(level=0, inplace=True)\n",
    "    df = df.merge(df_, how='left', on = feature)\n",
    "    \n",
    "    return df"
   ]
  },
  {
   "cell_type": "code",
   "execution_count": 4,
   "id": "studied-franklin",
   "metadata": {},
   "outputs": [],
   "source": [
    "data_train = pd.read_csv('train.csv')\n",
    "data_test = pd.read_csv('test.csv')\n",
    "webstat = pd.read_csv('t1_webstat.csv')"
   ]
  },
  {
   "cell_type": "code",
   "execution_count": 5,
   "id": "arbitrary-moldova",
   "metadata": {},
   "outputs": [],
   "source": [
    "# сохраним информацию о таргете\n",
    "df_target = pd.DataFrame(list(zip(data_train['id'], data_train['is_callcenter'])), columns = ['id', 'is_callcenter'])"
   ]
  },
  {
   "cell_type": "markdown",
   "id": "monetary-bahamas",
   "metadata": {},
   "source": [
    "### Работаем с датой"
   ]
  },
  {
   "cell_type": "code",
   "execution_count": 6,
   "id": "female-stand",
   "metadata": {},
   "outputs": [],
   "source": [
    "data_train['create_time'] = pd.to_datetime(data_train['create_time'])\n",
    "data_test['create_time'] = pd.to_datetime(data_test['create_time'])\n",
    "\n",
    "data_train['day'] = data_train['create_time'].dt.day\n",
    "data_train['month'] = data_train['create_time'].dt.month\n",
    "data_train['year'] = data_train['create_time'].dt.year\n",
    "data_train['hour'] = data_train['create_time'].dt.hour\n",
    "data_train['dayofweek'] = data_train['create_time'].dt.dayofweek\n",
    "\n",
    "data_test['day'] = data_test['create_time'].dt.day\n",
    "data_test['month'] = data_test['create_time'].dt.month\n",
    "data_test['year'] = data_test['create_time'].dt.year\n",
    "data_test['hour'] = data_test['create_time'].dt.hour\n",
    "data_test['dayofweek'] = data_test['create_time'].dt.dayofweek\n",
    "\n",
    "# type to date\n",
    "data_train['model_create_time'] = pd.to_datetime(data_train['model_create_time'])\n",
    "data_test['model_create_time'] = pd.to_datetime(data_test['model_create_time'])\n",
    "\n",
    "data_train['day_model'] = data_train['model_create_time'].dt.day\n",
    "data_train['month_model'] = data_train['model_create_time'].dt.month\n",
    "data_train['year_model'] = data_train['model_create_time'].dt.year\n",
    "data_train['hour_model'] = data_train['model_create_time'].dt.hour\n",
    "data_train['dayofweek_model'] = data_train['model_create_time'].dt.dayofweek\n",
    "\n",
    "data_test['day_model'] = data_test['model_create_time'].dt.day\n",
    "data_test['month_model'] = data_test['model_create_time'].dt.month\n",
    "data_test['year_model'] = data_test['model_create_time'].dt.year\n",
    "data_test['hour_model'] = data_test['model_create_time'].dt.hour\n",
    "data_test['dayofweek_model'] = data_test['create_time'].dt.dayofweek\n",
    "\n",
    "data_train = data_train.drop(['create_date'], axis=1)\n",
    "data_test = data_test.drop(['create_date'], axis=1)\n",
    "\n",
    "data_train.drop(['create_time'], inplace=True, axis=1)\n",
    "data_test.drop(['create_time'], inplace=True, axis=1)\n",
    "\n",
    "data_train.drop(['model_create_time'], inplace=True, axis=1)\n",
    "data_test.drop(['model_create_time'], inplace=True, axis=1)"
   ]
  },
  {
   "cell_type": "code",
   "execution_count": 7,
   "id": "connected-river",
   "metadata": {},
   "outputs": [],
   "source": [
    "# cols for features\n",
    "\n",
    "cols_for_features = list(data_test.columns)\n",
    "cols_for_features = cols_for_features[:18] + cols_for_features[-10:]"
   ]
  },
  {
   "cell_type": "markdown",
   "id": "understanding-miniature",
   "metadata": {},
   "source": [
    "### Cделаем статистические характеристики по сессии"
   ]
  },
  {
   "cell_type": "code",
   "execution_count": 8,
   "id": "designed-stone",
   "metadata": {},
   "outputs": [],
   "source": [
    "webstat['date_time'] = pd.to_datetime(webstat['date_time'])\n",
    "id_ind = list(data_train['sessionkey_id'].unique())\n",
    "id_ind_1 = list(data_test['sessionkey_id'].unique())\n",
    "id_ind = id_ind + id_ind_1\n",
    "webstat = webstat[webstat['sessionkey_id'].isin(id_ind)]"
   ]
  },
  {
   "cell_type": "code",
   "execution_count": 9,
   "id": "alien-leeds",
   "metadata": {},
   "outputs": [],
   "source": [
    "web_time = webstat[['date_time', 'sessionkey_id']].groupby('sessionkey_id').apply(lambda x: x.max() - x.min())['date_time']\n",
    "web_time = pd.DataFrame(web_time)\n",
    "\n",
    "web_time.columns = [el + '_delta' for el in list(web_time.columns)]\n",
    "web_time.reset_index(level=0, inplace=True)\n",
    "webstat = webstat.merge(web_time, how='left', on = 'sessionkey_id')"
   ]
  },
  {
   "cell_type": "code",
   "execution_count": 10,
   "id": "stylish-twins",
   "metadata": {},
   "outputs": [],
   "source": [
    "webstat['date_time_delta'] = webstat['date_time_delta'].dt.seconds\n",
    "webstat['day_w'] = webstat['date_time'].dt.day\n",
    "webstat['month_w'] = webstat['date_time'].dt.month\n",
    "webstat['year_w'] = webstat['date_time'].dt.year\n",
    "webstat['hour_w'] = webstat['date_time'].dt.hour\n",
    "webstat['dayofweek_w'] = webstat['date_time'].dt.dayofweek\n",
    "webstat.drop(['date_time'], inplace=True, axis=1)\n",
    "webstat_cols = list(webstat.columns)\n",
    "webstat_cols.remove('date_time_delta')\n",
    "webstat = stat_char(webstat, 'sessionkey_id', webstat_cols)"
   ]
  },
  {
   "cell_type": "code",
   "execution_count": 11,
   "id": "handed-generic",
   "metadata": {},
   "outputs": [],
   "source": [
    "col_to_use_train = list(data_train.columns.difference(webstat.columns))\n",
    "col_to_use_train.append('sessionkey_id')\n",
    "\n",
    "data_train = data_train[col_to_use_train].merge(webstat, how='left', on = 'sessionkey_id')"
   ]
  },
  {
   "cell_type": "code",
   "execution_count": 12,
   "id": "iraqi-january",
   "metadata": {},
   "outputs": [],
   "source": [
    "data_train.drop('is_callcenter', axis=1, inplace=True)\n",
    "data_train = data_train.merge(df_target, how='left', on = 'id')"
   ]
  },
  {
   "cell_type": "code",
   "execution_count": 13,
   "id": "tender-forth",
   "metadata": {},
   "outputs": [],
   "source": [
    "col_to_use_test = list(data_test.columns.difference(webstat.columns))\n",
    "col_to_use_test.append('sessionkey_id')\n",
    "\n",
    "data_test = data_test[col_to_use_test].merge(webstat, how='left', on = 'sessionkey_id')"
   ]
  },
  {
   "cell_type": "code",
   "execution_count": 14,
   "id": "capable-sussex",
   "metadata": {},
   "outputs": [],
   "source": [
    "session_id_encoding = (\n",
    "    webstat[webstat['page_type'] == 3]\n",
    "    .groupby(['sessionkey_id'])\n",
    "    .agg({'pageview_duration_sec': 'sum'})\n",
    "    .rename(columns=({'pageview_duration_sec': 'sessionkey_id_encoding3'}))\n",
    ")"
   ]
  },
  {
   "cell_type": "code",
   "execution_count": 15,
   "id": "emerging-potato",
   "metadata": {},
   "outputs": [],
   "source": [
    "data_train = data_train.groupby('id').mean()\n",
    "data_train.drop('is_callcenter', axis=1, inplace=True)\n",
    "data_train.reset_index(level=0, inplace=True)\n",
    "\n",
    "data_train = data_train.merge(df_target, how='left', on='id')\n",
    "data_train.drop('id', axis=1, inplace=True)\n",
    "\n",
    "data_test = data_test.groupby('id').mean()\n",
    "\n",
    "data_test.reset_index(level=0, inplace=True)\n",
    "y_id = data_test.id\n",
    "data_test.drop('id', axis=1, inplace=True)"
   ]
  },
  {
   "cell_type": "code",
   "execution_count": 17,
   "id": "bridal-exhibit",
   "metadata": {},
   "outputs": [],
   "source": [
    "data_train = (\n",
    "    data_train\n",
    "    .join(session_id_encoding, on=['sessionkey_id'], how='left')\n",
    "    .fillna(-1)\n",
    ")\n",
    "\n",
    "data_test = (\n",
    "    data_test\n",
    "    .join(session_id_encoding, on=['sessionkey_id'], how='left')\n",
    "    .fillna(-1)\n",
    ")"
   ]
  },
  {
   "cell_type": "code",
   "execution_count": 18,
   "id": "juvenile-poetry",
   "metadata": {},
   "outputs": [],
   "source": [
    "data_train = data_train.drop(['sessionkey_id'], axis=1)\n",
    "data_test = data_test.drop(['sessionkey_id'], axis=1)"
   ]
  },
  {
   "cell_type": "code",
   "execution_count": 19,
   "id": "muslim-blood",
   "metadata": {},
   "outputs": [],
   "source": [
    "# cols for features\n",
    "\n",
    "cols_for_features = list(data_test.columns)\n",
    "cols_for_features = cols_for_features[:28]"
   ]
  },
  {
   "cell_type": "markdown",
   "id": "sharp-sacramento",
   "metadata": {},
   "source": [
    "### Рассчитаем корень, логарифм, квадрат"
   ]
  },
  {
   "cell_type": "code",
   "execution_count": 20,
   "id": "demonstrated-lemon",
   "metadata": {},
   "outputs": [],
   "source": [
    "for el in cols_for_features:\n",
    "    data_train[el + '_sqr'] = data_train[el].apply(lambda x: x**2)\n",
    "    data_train[el + '_lg'] = data_train[el].apply(lambda x: np.log(x))\n",
    "    data_train[el + '_sqrt'] = data_train[el].apply(lambda x: np.sqrt(x))\n",
    "    \n",
    "    data_test[el + '_sqr'] = data_test[el].apply(lambda x: x**2)\n",
    "    data_test[el + '_lg'] = data_test[el].apply(lambda x: np.log(x))\n",
    "    data_test[el + '_sqrt'] = data_test[el].apply(lambda x: np.sqrt(x))"
   ]
  },
  {
   "cell_type": "markdown",
   "id": "federal-repeat",
   "metadata": {},
   "source": [
    "### LGBMClassifier"
   ]
  },
  {
   "cell_type": "markdown",
   "id": "historical-preserve",
   "metadata": {},
   "source": [
    "Настроим гиперпараметры модели (для ускорения привожу уже подобранные параметры)"
   ]
  },
  {
   "cell_type": "code",
   "execution_count": 23,
   "id": "considerable-cooperation",
   "metadata": {},
   "outputs": [
    {
     "data": {
      "image/png": "[encoded data removed]",
      "text/plain": [
       "<Figure size 432x288 with 1 Axes>"
      ]
     },
     "metadata": {
      "needs_background": "light"
     },
     "output_type": "display_data"
    },
    {
     "name": "stdout",
     "output_type": "stream",
     "text": [
      "validation: 0.9355357802623259\n"
     ]
    }
   ],
   "source": [
    "model = LGBMClassifier(n_estimators=2000, metric = 'auc', objective='binary',\n",
    "                        learning_rate=0.05, reg_alpha=1.5, n_jobs=-1)\n",
    "\n",
    "y_pred = validate_model(model, data_train, data_test)"
   ]
  },
  {
   "cell_type": "code",
   "execution_count": 24,
   "id": "fluid-favorite",
   "metadata": {},
   "outputs": [],
   "source": [
    "# dataframe of results\n",
    "\n",
    "import pandas as pd\n",
    "\n",
    "list_res = []\n",
    "list_res.append(y_id)\n",
    "list_res.append(y_pred)\n",
    "df = pd.DataFrame(list_res)\n",
    "df = df.transpose()\n",
    "df.columns = ['id', 'is_callcenter']\n",
    "df['id'] = df['id'].astype('int32')\n",
    "\n",
    "df.to_csv('test_pred', index=False)"
   ]
  },
  {
   "cell_type": "markdown",
   "id": "super-treat",
   "metadata": {},
   "source": [
    "На лидерборде данное решение дало скор ROC AUC **0.92626**"
   ]
  },
  {
   "cell_type": "code",
   "execution_count": null,
   "id": "handmade-friday",
   "metadata": {},
   "outputs": [],
   "source": []
  }
 ],
 "metadata": {
  "kernelspec": {
   "display_name": "Python 3",
   "language": "python",
   "name": "python3"
  },
  "language_info": {
   "codemirror_mode": {
    "name": "ipython",
    "version": 3
   },
   "file_extension": ".py",
   "mimetype": "text/x-python",
   "name": "python",
   "nbconvert_exporter": "python",
   "pygments_lexer": "ipython3",
   "version": "3.8.8"
  }
 },
 "nbformat": 4,
 "nbformat_minor": 5
}
