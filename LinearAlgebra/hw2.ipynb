{
 "cells": [
  {
   "cell_type": "markdown",
   "metadata": {},
   "source": [
    "# Домашнее задание 2 (20 + 15 + 25 = 60 pts )"
   ]
  },
  {
   "cell_type": "markdown",
   "metadata": {},
   "source": [
    "## Задача 1 (20 pts)\n",
    "\n",
    "- (5 pts) Докажите, что $\\mathrm{vec}(AXB) = (B^\\top \\otimes A)\\, \\mathrm{vec}(X)$, если $\\mathrm{vec}(X)$ векторизация матрицы по столбцам. Что и почему изменится, если использовать векторизацию по строкам? \n",
    "\n",
    "- (2 pts) Какова сложность наивного вычислени $(A \\otimes B) x$ и почему она такова? Покажите, как она может быть снижена.\n",
    "\n",
    "- (3 pts) Пусть матрицы $A$ и $B$ имеют спектральные разложения $A = S_A\\Lambda_A S_A^{-1}$ и $B = S_B\\Lambda_B S^{-1}_B$. Найдите собственные векторы и собственные значения у матрицы $A\\otimes I + I \\otimes B$.\n",
    "\n",
    "- (10 pts) Пусть $A = \\mathrm{diag}\\left(\\frac{1}{1000},\\frac{2}{1000},\\dots \\frac{999}{1000}, 1, 1000 \\right)$. Оцените аналитически число итераций необходимых для решения линейной системы с матрицей $A$ с относительной точностью $10^{-4}$ используя\n",
    "    - метод Ричардсона с оптимальным параметром (используйте евклидову норму)\n",
    "    - метод Чебышёва (используйте евклидову норму)\n",
    "    - метод сопряжённых градиентов (используйте $A$-норму).\n",
    "    \n",
    "и сравните вашу оценку с экспериментальными результатами."
   ]
  },
  {
   "cell_type": "markdown",
   "metadata": {},
   "source": [
    "# Место для Вашего решения\n",
    "- (5 pts) Докажите, что $\\mathrm{vec}(AXB) = (B^\\top \\otimes A)\\, \\mathrm{vec}(X)$, если $\\mathrm{vec}(X)$ векторизация матрицы по столбцам. Что и почему изменится, если использовать векторизацию по строкам?\n",
    "\n",
    "__Доказательство:__\n",
    "\n",
    "Пусть матрица $X$ состоит из $n$ столбцов: $x_1, x_2, ..., x_n$. \n",
    "\n",
    "$e_1, e_2, ..., e_n$ - столбцы единичной матрицы I\n",
    "\n",
    "$X = \\sum_{j=1}^{n} x_j e_j^T$\n",
    "\n",
    "--\n",
    "\n",
    "Заметим следующее: \n",
    "\n",
    "$\\mathrm{vec}\\: ab^T = b \\otimes a$ для любых двух векторов $a$ и $b$, так как $j$-ый столбец матрицы $ab^T$ - это $b_j a$, размещая столбцы эти друг под другом, получим $b \\otimes a$\n",
    "\n",
    "--\n",
    "\n",
    "Используя свойство выше, получим:\n",
    "\n",
    "$\\mathrm{vec}(AXB) = \\mathrm{vec} \\sum_{j=1}^{n} Ax_je_j^TB = \\sum_{j=1}^{n} \\mathrm{vec}(Ax_j)(B^T e_j)^T = \\sum_{j=1}^{n}(B^T e_j \\otimes Ax_j = (B^T \\otimes A)\\sum_{j=1}^{n}(e_j \\otimes x_j) = (B^T \\otimes A) \\sum_{j=1}^{n} \\mathrm{vec} x_j e_j^T = (B^T \\otimes A)\\, \\mathrm{vec}(X)$\n",
    "\n",
    "В случае векторизации по строкам получим: $ \\mathrm{vec}(AXB) = (A \\otimes B^T) \\, \\mathrm{vec}(X)$. \n",
    "\n",
    "Так как это будет векторизация по столбцам матрицы $(AXB)^T = B^T X^T A^T$. Используя полученное равенство, имеем  $\\mathrm{vec} \\: B^T X^T A^T = (A \\otimes B^T) \\, \\mathrm{vec}(X^T) = (A \\otimes B^T) \\, \\mathrm{vec}(X)$\n",
    "\n",
    "Последнее равенство в силу того, что $\\mathrm{vec}\\: a^T = \\mathrm{vec}\\: a = a$ для любого вектора $a$\n",
    "\n",
    "Таким образом, $ \\mathrm{vec}(AXB) = (A \\otimes B^T) \\, \\mathrm{vec}(X)$"
   ]
  },
  {
   "cell_type": "markdown",
   "metadata": {},
   "source": [
    "- (2 pts) Какова сложность наивного вычислени $(A \\otimes B) x$ и почему она такова? Покажите, как она может быть снижена.\n",
    "\n",
    "__Решение:__\n",
    "\n",
    "Пусть матрица $A$ имеет размеры $m \\times n$ и $B$ - $p \\times q$, $x$ - $nq \\times  1$\n",
    "\n",
    "Используя наивные вычисления мы бы затратили $O(nmpq)$ на вычисление кронекирова произведения и $O(pq^2n^2m)$ на умножение итоговой матрицы на вектор, то есть, итоговая сложность $O(pq^2n^2m)$.\n",
    "\n",
    "Но эту операцию можно ускорить, если использовать векторизацию.\n",
    "\n",
    "Распишем кронекерово произведение: \n",
    "\n",
    "$ y = (A\\otimes B)x = \\begin{bmatrix}a_{11}B & \\dots & a_{1n}B \\\\ \\vdots & \\ddots & \\vdots \\\\ a_{m1}B & \\dots & a_{mn}B\\end{bmatrix} \\begin{bmatrix} x_1 \\\\ \\vdots \\\\ x_{m}\\end{bmatrix}$, где $x_i \\in \\mathrm{R_q}$\n",
    "\n",
    "Перепишем это так: $\\begin{bmatrix} y_1 \\\\ \\vdots \\\\ y_{m}\\end{bmatrix} = \\begin{bmatrix}a_{11}B x_1 + \\dots + a_{1n}B x_n \\\\ \\vdots \\\\ a_{m1}B x_1 + \\dots + a_{mn}B x_n\\end{bmatrix}$\n",
    "\n",
    "И распишем $i$-ую компоненту: \n",
    "\n",
    "$y_i = B \\begin{bmatrix} x_1 \\dots x_n  \\end{bmatrix} \\begin{bmatrix} a_{i1} \\\\ \\vdots \\\\ a_{in}\\end{bmatrix}$\n",
    "\n",
    "Тогда $Y =\\begin{bmatrix} y_1 \\dots y_m  \\end{bmatrix} = \\begin{bmatrix}BXa_1 & BXa_2 \\dots BXa_m \\end{bmatrix} = BX\\begin{bmatrix}a_1 & a_2 \\dots a_m \\end{bmatrix} = BXA^T$\n",
    "\n",
    "То есть, мы получили, что $ y = (A\\otimes B)x = \\mathrm{vec}(BXA^T)$\n",
    "\n",
    "Следовательно, теперь мы затратим $O(npq + qnm)$, что значительно лучше."
   ]
  },
  {
   "cell_type": "markdown",
   "metadata": {},
   "source": [
    "- (3 pts) Пусть матрицы $A$ и $B$ имеют спектральные разложения $A = S_A\\Lambda_A S_A^{-1}$ и $B = S_B\\Lambda_B S^{-1}_B$. Найдите собственные векторы и собственные значения у матрицы $A\\otimes I + I \\otimes B$.\n",
    "\n",
    "__Решение:__\n",
    "\n",
    "--\n",
    "\n",
    "Заметим, что единичную матрицу можно записать в виде: $I = S_A I S_A^{-1} = S_B I S^{-1}_B$\n",
    "\n",
    "А также $(A \\otimes B)^{-1} = A^{-1} \\otimes B^{-1}$\n",
    "\n",
    "--\n",
    "\n",
    "Тогда: \n",
    "\n",
    "$A\\otimes I + I \\otimes B = (S_A\\Lambda_A S_A^{-1}) \\otimes (S_B I S^{-1}_B) +  (S_A I S_A^{-1})\\otimes (S_B\\Lambda_B S^{-1}_B) = (S_A \\otimes S_B)\\times (\\Lambda_A \\otimes I) \\times (S_A^{-1} \\otimes S_B^{-1}) + (S_A \\otimes S_B)\\times (I \\otimes \\Lambda_B) \\times (S_A^{-1} \\otimes S_B^{-1}) = (S_A \\otimes S_B)(\\Lambda_A \\otimes I + I \\otimes \\Lambda_B) \\times (S_A^{-1} \\otimes S_B^{-1}) = (S_A \\otimes S_B)(\\Lambda_A \\otimes I + I \\otimes \\Lambda_B) \\times (S_A \\otimes S_B)^{-1}$\n",
    "\n",
    "То есть, таким образом, мы имеем спектральное разложение $A\\otimes I + I \\otimes B$. \n",
    "\n",
    "На диагонали $\\Lambda_A$ лежат собственные значения матрицы $A$ обозначим их $\\lambda_1^A, ..., \\lambda_n^A$, на диагонали $\\Lambda_B$ лежат собственные значения матрицы $B$ обозначим их $\\lambda_1^B, ..., \\lambda_n^B$ (размеры матриц $n \\times n$). Столбцы матрицы $S_A = [s_1^A, ..., s_n^A]$ - собственные векторы $A$, столбцы матрицы $S_B = [s_1^B, ..., s_n^B]$ - собственные векторы $B$.\n",
    "\n",
    "Таким образом получаем, исходя из полученного выше спектального разложения, что собственные значения $\\lambda_i^A + \\lambda_j^B, \\: \\forall i,j $, а собственные векторы - это  $s_i^A \\otimes s_j^B, \\: \\forall i,j $, где $i = \\overline{1,n}$, $j = \\overline{1,n}$"
   ]
  },
  {
   "cell_type": "markdown",
   "metadata": {},
   "source": [
    "- (10 pts) Пусть $A = \\mathrm{diag}\\left(\\frac{1}{1000},\\frac{2}{1000},\\dots \\frac{999}{1000}, 1, 1000 \\right)$. Оцените аналитически число итераций необходимых для решения линейной системы с матрицей $A$ с относительной точностью $10^{-4}$ используя\n",
    "    - метод Ричардсона с оптимальным параметром (используйте евклидову норму)\n",
    "    - метод Чебышёва (используйте евклидову норму)\n",
    "    - метод сопряжённых градиентов (используйте $A$-норму).\n",
    "    \n",
    "и сравните вашу оценку с экспериментальными результатами.\n",
    "\n",
    "__Решение:__\n",
    "\n",
    "- метод Ричардсона\n",
    "\n",
    "Оптимальным параметром является: $\\tau_{opt} = \\frac{2}{\\lambda_{min} + \\lambda_{max}}$ (было показано на лекции и семинаре).\n",
    "\n",
    "У диагональной матрицы собственные значения расположены на диагонали, следовательно, $\\lambda_{min} = \\frac{1}{1000}, \\lambda_{max} = 1000$. \n",
    "\n",
    "Таким образом, $cond(A) = \\frac{\\lambda_{max}}{\\lambda_{min}}=10^6$. Данная матрица плохо обусловлена. \n",
    "\n",
    "На лекции было показано, что $||e_k||_2 \\leq q^k ||e_0||_2 $, где $q = \\frac{cond(A)-1}{cond(A)+1}$\n",
    "\n",
    "Относительная ошибка $\\epsilon = \\frac{||e_k||_2}{||e_0||_2} = 10^{-4}$ (согласно условию), тогда получаем, что $(\\frac{10^6-1}{10^6+1})^k = 10^{-4}$, откуда $k \\approx 4605000$ итераций.\n"
   ]
  },
  {
   "cell_type": "code",
   "execution_count": 225,
   "metadata": {},
   "outputs": [
    {
     "name": "stdout",
     "output_type": "stream",
     "text": [
      "Maximum eigenvalue = 1000.0, minimum eigenvalue = 0.001\n",
      "Condition number = 1000000.0\n",
      "Число итераций:  3051269\n"
     ]
    },
    {
     "data": {
      "image/png": "[encoded data removed]",
      "text/plain": [
       "<Figure size 432x288 with 1 Axes>"
      ]
     },
     "metadata": {
      "needs_background": "light"
     },
     "output_type": "display_data"
    }
   ],
   "source": [
    "# метод Ричардсона\n",
    "\n",
    "import numpy as np\n",
    "import matplotlib.pyplot as plt\n",
    "%matplotlib inline\n",
    "plt.rc(\"text\", usetex=True)\n",
    "import scipy as sp\n",
    "import scipy.sparse\n",
    "import scipy.sparse.linalg as spla\n",
    "import scipy\n",
    "from scipy.sparse import csc_matrix\n",
    "\n",
    "n = 1001\n",
    "a = np.arange(1/1000, 1.000001, 1/1000)\n",
    "a = np.append(a, 1000)\n",
    "A = np.diag(a)\n",
    "rhs = np.ones(n)\n",
    "\n",
    "eig_val = np.linalg.eigvals(A)\n",
    "lam_max = eig_val[eig_val.shape[0]-1]\n",
    "lam_min = eig_val[0]\n",
    "\n",
    "tau_opt = 2.0/(lam_max + lam_min)\n",
    "\n",
    "fig, ax = plt.subplots()\n",
    "plt.close(fig)\n",
    "\n",
    "niters = 4606000\n",
    "x = np.zeros(n)\n",
    "res_richardson = []\n",
    "\n",
    "rr = A.dot(x) - rhs\n",
    "x = x - tau_opt * rr\n",
    "err_0 = np.linalg.norm(rr)\n",
    "\n",
    "i=0\n",
    "err = 1\n",
    "while (err > 0.0001) and (i <=niters):\n",
    "    rr = A.dot(x) - rhs\n",
    "    x = x - tau_opt * rr\n",
    "    err = np.linalg.norm(rr)/err_0\n",
    "    res_richardson.append(err)\n",
    "    i+=1\n",
    "\n",
    "#Convergence of an ordinary Richardson (with optimal parameter)\n",
    "plt.plot(res_richardson)\n",
    "plt.yscale(\"log\")\n",
    "plt.xlabel(\"Number of iterations\", fontsize=20)\n",
    "plt.ylabel(\"Relative error\", fontsize=20)\n",
    "plt.xticks(fontsize=20)\n",
    "plt.yticks(fontsize=20)\n",
    "print(\"Maximum eigenvalue = {}, minimum eigenvalue = {}\".format(lam_max, lam_min))\n",
    "print(\"Condition number = {}\".format(lam_max.real / lam_min.real))\n",
    "\n",
    "print(\"Число итераций: \", len(res_richardson))"
   ]
  },
  {
   "cell_type": "markdown",
   "metadata": {},
   "source": [
    "Полученный экспериментальный результат хорошо согласуется с теоретическим"
   ]
  },
  {
   "cell_type": "markdown",
   "metadata": {},
   "source": [
    "- метод Чебышёва\n",
    "\n",
    "На лекции было показано, что $||e_k||_2 \\leq C q^k ||e_0||_2 $, где $q = \\frac{\\sqrt{cond(A)}-1}{\\sqrt{cond(A)}+1}$\n",
    "\n",
    "Относительная ошибка $\\epsilon = \\frac{||e_k||_2}{||e_0||_2} = 10^{-4}$ (согласно условию), тогда получаем, что $(\\frac{10^3-1}{10^3+1})^k = 10^{-4}$, откуда $k \\approx 4606$ итераций."
   ]
  },
  {
   "cell_type": "code",
   "execution_count": 231,
   "metadata": {},
   "outputs": [
    {
     "name": "stdout",
     "output_type": "stream",
     "text": [
      "Число итераций:  5603\n"
     ]
    },
    {
     "data": {
      "image/png": "[encoded data removed]",
      "text/plain": [
       "<Figure size 432x288 with 1 Axes>"
      ]
     },
     "metadata": {
      "needs_background": "light"
     },
     "output_type": "display_data"
    }
   ],
   "source": [
    "# метод Чебышёва\n",
    "\n",
    "niters = 8192\n",
    "roots = [np.cos((np.pi * (2 * i + 1)) / (2 * niters)) for i in range(niters)]\n",
    "taus = [(lam_max + lam_min - (lam_min - lam_max) * r) / 2 for r in roots]\n",
    "x = np.zeros(n)\n",
    "r = A.dot(x) - rhs\n",
    "err_0_ = np.linalg.norm(r)\n",
    "res_cheb = [err_0_]\n",
    "\n",
    "def good_shuffle(idx):\n",
    "    if len(idx) == 1:\n",
    "        return idx\n",
    "    else:\n",
    "        new_len = int(np.ceil((len(idx) / 2)))\n",
    "        new_idx = good_shuffle(idx[:new_len])\n",
    "        res_perm = []\n",
    "        perm_count = 0\n",
    "        for i in new_idx:\n",
    "            res_perm.append(i)\n",
    "            perm_count += 1\n",
    "            if perm_count == len(idx):\n",
    "                break\n",
    "            res_perm.append(len(idx) + 1 - i)\n",
    "            perm_count += 1\n",
    "            if perm_count == len(idx):\n",
    "                break\n",
    "        return res_perm\n",
    "\n",
    "# делаем перестановку, чтобы метод был устойчивым (норма произведения должна быть маленькой)\n",
    "good_perm = good_shuffle([i for i in range(1, niters+1)])\n",
    "\n",
    "i=0\n",
    "err = 1\n",
    "while (err > 0.0001) and (i <=niters):\n",
    "    x = x - 1.0/taus[good_perm[i] - 1] * r\n",
    "    r = A.dot(x) - rhs\n",
    "    err = np.linalg.norm(r)/err_0_\n",
    "    res_cheb.append(err)\n",
    "    i+=1\n",
    "    \n",
    "plt.semilogy(res_cheb, label=\"Chebyshev\")\n",
    "plt.xlabel(\"Number of iterations\", fontsize=20)\n",
    "plt.ylabel(\"Relative error\", fontsize=20)\n",
    "plt.xticks(fontsize=20)\n",
    "_ = plt.yticks(fontsize=20)\n",
    "print(\"Число итераций: \", len(res_cheb))\n"
   ]
  },
  {
   "cell_type": "markdown",
   "metadata": {},
   "source": [
    "Число итераций в эксперименте хорошо согласуется с теоретическим расчетом."
   ]
  },
  {
   "cell_type": "markdown",
   "metadata": {},
   "source": [
    "- метод сопряжённых градиентов\n",
    "\n",
    "На лекции была получена оценка относительной ошибки: $\\frac{\\Vert x - x_* \\Vert_A }{\\Vert x_* \\Vert_A} \\leq \\inf_{q, q(0)=1} \\max_{j} |q({\\lambda_j})|$\n",
    "\n",
    "В данном случае у нас 1001 различных собственных значений, однако 1000 распределены равномерно, а одно (1000) сильно выбивается. \n",
    "\n",
    "Теоретическая оценка на число сходимости $k = 1001$, так как столько различных собственных значений."
   ]
  },
  {
   "cell_type": "code",
   "execution_count": 85,
   "metadata": {},
   "outputs": [
    {
     "data": {
      "image/png": "[encoded data removed]",
      "text/plain": [
       "<Figure size 432x288 with 1 Axes>"
      ]
     },
     "metadata": {
      "needs_background": "light"
     },
     "output_type": "display_data"
    }
   ],
   "source": [
    "# собственные значения A\n",
    "\n",
    "eigs = np.linalg.eigvals(A)\n",
    "plt.semilogy(np.unique(eigs))\n",
    "plt.ylabel(\"Eigenvalues\", fontsize=20)\n",
    "plt.xticks(fontsize=18)\n",
    "_ = plt.yticks(fontsize=18)"
   ]
  },
  {
   "cell_type": "code",
   "execution_count": 86,
   "metadata": {},
   "outputs": [
    {
     "name": "stdout",
     "output_type": "stream",
     "text": [
      "Число итераций:  133\n"
     ]
    },
    {
     "data": {
      "image/png": "[encoded data removed]",
      "text/plain": [
       "<Figure size 432x288 with 1 Axes>"
      ]
     },
     "metadata": {
      "needs_background": "light"
     },
     "output_type": "display_data"
    }
   ],
   "source": [
    "import scipy.sparse.linalg as spsplin\n",
    "res_hist = []\n",
    "def callback(x):\n",
    "    res_hist.append(np.linalg.norm(A @ x - b) / np.linalg.norm(b))\n",
    "\n",
    "_, eigvec = np.linalg.eigh(A)\n",
    "#b = eigvec[:, 0]\n",
    "b = np.random.randn(n)\n",
    "x, info = spsplin.cg(A, b, x0=b, maxiter=n, tol=1e-4, callback=callback)\n",
    "\n",
    "plt.semilogy(res_hist)\n",
    "print(\"Число итераций: \", len(res_hist))"
   ]
  },
  {
   "cell_type": "markdown",
   "metadata": {},
   "source": [
    "Число итераций в эксперименте оказалось даже значительно ниже, чем теоретическая оценка."
   ]
  },
  {
   "cell_type": "code",
   "execution_count": 76,
   "metadata": {},
   "outputs": [
    {
     "data": {
      "image/png": "[encoded data removed]",
      "text/plain": [
       "<Figure size 432x288 with 1 Axes>"
      ]
     },
     "metadata": {
      "needs_background": "light"
     },
     "output_type": "display_data"
    }
   ],
   "source": [
    "# три метода на одном графике\n",
    "\n",
    "plt.semilogy(res_richardson, label=\"Richardson\")\n",
    "plt.semilogy(res_cheb, label=\"Chebyshev\")\n",
    "plt.semilogy(res_hist, label=\"CG\")\n",
    "plt.legend(fontsize=20)\n",
    "plt.xlabel(\"Number of iterations\", fontsize=20)\n",
    "plt.ylabel(\"Relative error\", fontsize=20)\n",
    "plt.xticks(fontsize=20)\n",
    "_ = plt.yticks(fontsize=20)"
   ]
  },
  {
   "cell_type": "markdown",
   "metadata": {},
   "source": [
    "Как видно из графика, что метод Ричардсона самый долгий (3051269 итераций), затем следует Чебышёва (5603 итераций), и самый быстрый - метод сопряженных градиентов (133 итерации), причем крайне намного. "
   ]
  },
  {
   "cell_type": "markdown",
   "metadata": {
    "slideshow": {
     "slide_type": "fragment"
    }
   },
   "source": [
    "## Задача 2 (15 pts)\n",
    "\n",
    "### Спектральное разбиение графа и обратная итерация\n",
    "\n",
    "\n",
    "Дан связный граф $G$ и соответствующий ему лапласиан $L = D - A$ с собственными значениями  $0=\\lambda_1, \\lambda_2, ..., \\lambda_n$, где $D$ диагональная матрица со степенями вершин на диагонали, а $A$ – матрица смежности.\n",
    "Вектор Фидлера – это собственный вектор, соответствующий собственному значению $\\lambda_2$ матрицы $L$. Этот вектор может быть использован для разбиения графа: положительные значения соответствуют одной части графа, отрицательные – другой."
   ]
  },
  {
   "cell_type": "markdown",
   "metadata": {},
   "source": [
    "## Метод обратной итерации\n",
    "\n",
    "Для поиска вектора Фидлера мы будем использовать метод Релея.\n",
    "\n",
    "* (5 pts) Выпишите матрицу ортопроектора на подпространство ортогональное собственному вектору матрице $L$, соответствующему собственному значению $0$ и докажите (аналитически), что это действительно ортопроектор.\n",
    " \n",
    "* (5 pts) Реализуйте функцию спектрального разделения графа ```partition```:"
   ]
  },
  {
   "cell_type": "markdown",
   "metadata": {},
   "source": [
    "# Место для Вашего решения\n",
    "* (5 pts) Выпишите матрицу ортопроектора на подпространство ортогональное собственному вектору матрице $L$, соответствующему собственному значению $0$ и докажите (аналитически), что это действительно ортопроектор.\n",
    "\n",
    "__Решение:__\n",
    "\n",
    "Пусть $\\psi_1$ - собственный вектор матрицы $L$, соответствующий собственному значению $\\lambda_1=0$.\n",
    "\n",
    "--\n",
    "\n",
    "Для начала докажем следующее утверждение: \n",
    "\n",
    "Если $P$ - ортпроектор на подпространство $U$, то $I-P$ - ортпроектор на ортогональное дополнение к $U$: $U^{\\perp}$.\n",
    "\n",
    "Доказательство: \n",
    "\n",
    "$U=Im(P)$\n",
    "\n",
    "Пусть $U$ - подпространство $V$, тогда для $\\forall x \\in V$:\n",
    "\n",
    "$x = Px \\oplus (x-Px) = Px \\oplus (I-P)x$, где $Px \\in U$, $(I-P)x \\in U^{\\perp}$\n",
    "\n",
    "Следовательно, $I-P$ - ортогональный проектор на $U^{\\perp}$.\n",
    "\n",
    "--\n",
    "\n",
    "Заметим, что $P = \\frac{\\psi_1*\\psi_1^T}{\\psi_1^T*\\psi_1} $ - ортпроектор на собственный вектор $\\psi_1$, тогда, согласно утверждению выше, получим, что матрица ортопроектора на подпространство ортогональное собственному вектору $\\psi_1$: $I - \\frac{\\psi_1*\\psi_1^T}{\\psi_1^T*\\psi_1}$\n",
    "\n",
    "Докажем, что $P = \\frac{\\psi_1*\\psi_1^T}{\\psi_1^T*\\psi_1} $ - действительно ортпроектор, тогда, согласно утверждению выше, будет следовать, что и $I - \\frac{\\psi_1*\\psi_1^T}{\\psi_1^T*\\psi_1}$ - тоже ортпроектр, причем как раз на на подпространство ортогональное собственному вектору матрице $L$.\n",
    "\n",
    "$P^2 = \\frac{\\psi_1*\\psi_1^T}{\\psi_1^T*\\psi_1} * \\frac{\\psi_1*\\psi_1^T}{\\psi_1^T*\\psi_1} = \\frac{\\psi_1*\\psi_1^T}{\\psi_1^T*\\psi_1} = P$\n",
    "\n",
    "И покажем, что образ и ядро оператора ортогональны.\n",
    "\n",
    "Пусть $U$ - образ оператора, то есть $\\forall u \\in U: Pu = u$, а $V$ - ядро оператора: $\\forall v \\in V: Pv = 0$\n",
    "\n",
    "Действительно, в данном случае образом оператора является первый собственный вектор $\\psi_1$, а ядром оператора - собственные векторы, соответствующие другим собственным значениям, а собственные векторы, отвечающие различным собственным значениям - ортогональны, что и требовалось доказать. \n",
    "\n",
    "Таким образом, матрица ортопроектора на подпространство ортогональное собственному вектору матрице $L$: $I - \\frac{\\psi_1*\\psi_1^T}{\\psi_1^T*\\psi_1}$ "
   ]
  },
  {
   "cell_type": "code",
   "execution_count": 20,
   "metadata": {},
   "outputs": [],
   "source": [
    "import numpy as np\n",
    "import scipy.sparse.linalg as spsplin\n",
    "import scipy.sparse as spsp\n",
    "from scipy.sparse.csr import csr_matrix\n",
    "# INPUT:\n",
    "# A - adjacency matrix (scipy.sparse.csr_matrix)\n",
    "# num_iter_fix - number of iterations with fixed shift (float)\n",
    "# shift - (float number)\n",
    "# num_iter_adapt - number of iterations with adaptive shift (int) -- Rayleigh quotient iteration steps\n",
    "# x0 - initial guess (1D numpy.ndarray)\n",
    "# OUTPUT:\n",
    "# x - normalized Fiedler vector (1D numpy.ndarray)\n",
    "# eigs - eigenvalue estimations at each step (1D numpy.ndarray)\n",
    "# eps - relative tolerance (float)\n",
    "def partition(A, shift, num_iter_fix, num_iter_adapt, x0, eps):\n",
    "\n",
    "    x = x0.copy()\n",
    "    A_ = csr_matrix.copy(A)\n",
    "\n",
    "    \n",
    "    eigs = []\n",
    "    n = A.shape[0]\n",
    "    \n",
    "    # фиксированный сдвиг\n",
    "    \n",
    "    # проецироание\n",
    "    t = np.matrix(x)\n",
    "    T = csr_matrix(t.T * t)\n",
    "    P = spsp.eye(n) - T + A_ @ T\n",
    "    x = P.dot(x) \n",
    "    \n",
    "    splu = spsplin.splu(A_ - shift * np.eye(n))\n",
    "    x = splu.solve(x)\n",
    "    x = x / np.linalg.norm(x)\n",
    "    \n",
    "    lam_prev = (x @ A_ @ x) / (x @ x)\n",
    "    eigs.append(lam_prev)\n",
    "    \n",
    "    for i in range(1, num_iter_fix):\n",
    "        t = np.matrix(x)\n",
    "        T = csr_matrix(t.T * t)\n",
    "        P = spsp.eye(n) - T + A_ @ T\n",
    "        x = P.dot(x)\n",
    "        \n",
    "        x = splu.solve(x)\n",
    "        x = x / np.linalg.norm(x)\n",
    "        lam_next = (x @ A_ @ x) / (x @ x)\n",
    "        \n",
    "        eigs.append(lam_next)\n",
    "        \n",
    "        if np.linalg.norm(lam_prev - lam_next)/np.linalg.norm(lam_next) <= eps:\n",
    "            break\n",
    "        lam_prev = lam_next\n",
    "        \n",
    "    \n",
    "    # адаптивный сдвиг\n",
    "    for i in range(1, num_iter_adapt):       \n",
    "        \n",
    "        t = np.matrix(x)\n",
    "        T = csr_matrix(t.T * t)\n",
    "        P = spsp.eye(n) - T + A_ @ T\n",
    "        x = P.dot(x)\n",
    "        \n",
    "        # корректируем сдвиг\n",
    "        shift_adapt = x.T @ A @ x\n",
    "        \n",
    "        splu = spsplin.splu(A_ - shift_adapt * np.eye(n))        \n",
    "        x = splu.solve(x)\n",
    "        x = x / np.linalg.norm(x) \n",
    "        lam_next = (x @ A_ @ x) / (x @ x)\n",
    "        \n",
    "        eigs.append(lam_next)\n",
    "        \n",
    "        if np.linalg.norm(lam_prev - lam_next)/np.linalg.norm(lam_next) <= eps:\n",
    "            break\n",
    "        \n",
    "        lam_prev = lam_next   \n",
    "        x_prev = x\n",
    "    \n",
    "    return x, np.sort(np.asarray(eigs))"
   ]
  },
  {
   "cell_type": "markdown",
   "metadata": {},
   "source": [
    "Алгоритм должен останавливаться спустя `num_iter_fix + num_iter_adapt` итераций или если выполнено следующее соотношение\n",
    "\n",
    "$$ \\boxed{\\|\\lambda_k - \\lambda_{k-1}\\|_2 / \\|\\lambda_k\\|_2 \\leq \\varepsilon} \\text{ на некотором шаге } k.$$\n",
    "\n",
    "Не забудьте использовать ортогональную проекцию из задачи выше в итерационном процессе, чтобы получить верный собственный вектор.\n",
    "Также хорошей идеей могло быть использование ```shift=0``` до запуска адаптивного режима. Однако это невозможно в силу вырождннности матрицы $L$, а разреженное разложенное в ```scipy``` не работет в этом случае. Поэтому вместо нулевого сдвига предлагается использовать некоторое малое значение.\n",
    "\n",
    "* (3 pts) Сгенерируйте случайный `lollipop_graph`, используя библиотеку `networkx`, и найдите его разбиение. [Нарисуйте](https://networkx.github.io/documentation/networkx-1.9/examples/drawing/labels_and_colors.html) этот граф с вершинами, окрашенными в соответствии с разбиением.\n",
    "\n",
    "* (2 pts) Запустите метод со случайного начального приближение ```x0```, установите ```num_iter_fix=0``` и объясните, почему метод может сойтись к неверному собственному значению?"
   ]
  },
  {
   "cell_type": "code",
   "execution_count": 31,
   "metadata": {},
   "outputs": [
    {
     "data": {
      "image/png": "[encoded data removed]",
      "text/plain": [
       "<Figure size 432x288 with 1 Axes>"
      ]
     },
     "metadata": {},
     "output_type": "display_data"
    }
   ],
   "source": [
    "# отрисовка графа с вершинами, окрашенными в соответствии с разбиением\n",
    "\n",
    "import matplotlib.pyplot as plt\n",
    "import networkx as nx\n",
    "\n",
    "n = np.random.randint(3, 10)\n",
    "m = np.random.randint(3, 10)\n",
    "\n",
    "G = nx.lollipop_graph(n, m)\n",
    "\n",
    "A = nx.laplacian_matrix(G)\n",
    "\n",
    "x_0 = np.random.randn(A.shape[0])\n",
    "\n",
    "shift = .01\n",
    "num_iter_fix = 100\n",
    "num_iter_adapt = 100\n",
    "eps = 1e-6\n",
    "\n",
    "pinvit_eigvec, eigs = partition(A, shift, num_iter_fix, num_iter_adapt, x_0, eps)\n",
    "\n",
    "color_map = []\n",
    "\n",
    "for el in pinvit_eigvec:\n",
    "    if el > 0:\n",
    "        color_map.append('blue')\n",
    "    else:\n",
    "        color_map.append('red')\n",
    "\n",
    "nx.draw(G, node_color=color_map, with_labels=True)\n",
    "\n",
    "plt.axis('off')\n",
    "\n",
    "plt.show()"
   ]
  },
  {
   "cell_type": "code",
   "execution_count": 29,
   "metadata": {},
   "outputs": [
    {
     "name": "stdout",
     "output_type": "stream",
     "text": [
      "Верное собственное значение:  0.2774068956782044\n",
      "Полученное собственное значение:  6.054785914561717\n"
     ]
    }
   ],
   "source": [
    "# запуск алгоритма со случайного приближения\n",
    "\n",
    "x0 = np.random.randn(A.shape[0])\n",
    "\n",
    "num_iter_fix = 0\n",
    "num_iter_adapt = 100\n",
    "\n",
    "pinvit_eigvec, eigs = partition(A, shift, num_iter_fix, num_iter_adapt, x_0, eps)\n",
    "\n",
    "true_eigval, true_eigvec = np.linalg.eigh(A.toarray())\n",
    "\n",
    "print(\"Верное собственное значение: \", true_eigval[1])\n",
    "print(\"Полученное собственное значение: \", eigs[-1])"
   ]
  },
  {
   "cell_type": "markdown",
   "metadata": {},
   "source": [
    "Как видно, полученное собственное значение совсем не согласуется с истинным. \n",
    "\n",
    "Переменный сдвиг необходимо включать тогда, когда уже получена грубая сходимость, так как сдвиг должен быть близок к целевому собственному значению. А когда мы стартуем со случайного вектора и делаем переменный сдвиг, то метод может сойтись к случайному числу, вовсе не являющимся искомым собственным значением. "
   ]
  },
  {
   "cell_type": "markdown",
   "metadata": {
    "id": "ru70NGUlOGIy",
    "slideshow": {
     "slide_type": "fragment"
    }
   },
   "source": [
    "## Задача 3 (25 pts)\n",
    "\n",
    "## PageRank для DBLP\n",
    "\n",
    "\n",
    "#### Введение дэмпфирующего фактора\n",
    "\n",
    "* (5 pts) Напишите функцию ```pagerank_matrix(G)```, которая из поданной на вход матрицы смежности $G$ (в плотном или разреженном форматах) создаёт и возвращает матрицу PageRank'a $A$."
   ]
  },
  {
   "cell_type": "code",
   "execution_count": 32,
   "metadata": {},
   "outputs": [],
   "source": [
    "# INPUT:  G - np.ndarray or sparse matrix\n",
    "# OUTPUT: A - np.ndarray (of size G.shape) or sparse matrix\n",
    "import numpy as np\n",
    "from scipy.sparse.csr import csr_matrix\n",
    "def pagerank_matrix(G):\n",
    "\n",
    "    if type(G) == csr_matrix:\n",
    "        rsums = np.array(csr_matrix.sum(G, axis=0)).flatten()\n",
    "        G.data = G.data / rsums[G.indices]\n",
    "    else:\n",
    "        rsums = np.count_nonzero(G, axis=0)\n",
    "        ind_non_zero = np.where(rsums!=0)[0]\n",
    "        for el in ind_non_zero:\n",
    "            G[:, el] = G[:, el] / rsums[el]\n",
    "            \n",
    "    return G"
   ]
  },
  {
   "cell_type": "markdown",
   "metadata": {
    "id": "ru70NGUlOGIy",
    "slideshow": {
     "slide_type": "fragment"
    }
   },
   "source": [
    "* (5 pts) Реализуйте степенной метод для заданной матрицы $A$, начального вектора $x_0$ и числа итераций```num_iter``` в соответствии с прототипом ниже. Функция возвращает оценку собственного вектора, собственного значения и нормы невязки при сходимости. Проверьте, что ваша реализация сходится для матрицы $\\begin{bmatrix} 2 & -1 \\\\ -1 & 2 \\end{bmatrix}$."
   ]
  },
  {
   "cell_type": "code",
   "execution_count": 33,
   "metadata": {
    "id": "ru70NGUlOGIy",
    "slideshow": {
     "slide_type": "fragment"
    }
   },
   "outputs": [],
   "source": [
    "# INPUT:  A - np.ndarray (2D), x0 - np.ndarray (1D), num_iter - integer (positive)\n",
    "# OUTPUT: x - np.ndarray (of size x0), l - float, res - np.ndarray (of size num_iter + 1 [include initial guess])\n",
    "def power_method(A, x0, num_iter): # 5 pts\n",
    "    x = x0.copy()\n",
    "    res = []\n",
    "    for i in range(num_iter):\n",
    "        x = A @ x\n",
    "        x = x / np.linalg.norm(x)\n",
    "        np.append(res, x)\n",
    "        l = x @ (A @ x)\n",
    "        res.append(np.linalg.norm(A @ x - l * x))\n",
    "    return x, l, np.asarray(res)"
   ]
  },
  {
   "cell_type": "code",
   "execution_count": 34,
   "metadata": {},
   "outputs": [
    {
     "name": "stdout",
     "output_type": "stream",
     "text": [
      "Полученный собственный вектор:  [-0.70710678  0.70710678]\n",
      "Истинный собственный вектор:  [-0.70710678  0.70710678]\n",
      "Полученное собственное значение:  3.0\n",
      "Истинное собственное значение:  3.0\n"
     ]
    }
   ],
   "source": [
    "# демонстрация корректности работы степенного метода\n",
    "\n",
    "A = np.array([[2, -1], [-1, 2]])\n",
    "x0 = np.random.randn(2)\n",
    "num_iter = 100\n",
    "max_eigvec, max_eigval, conv = power_method(A, x0, num_iter)\n",
    "true_eigvals, true_eigvec = np.linalg.eigh(A)\n",
    "\n",
    "print(\"Полученный собственный вектор: \", max_eigvec)\n",
    "print(\"Истинный собственный вектор: \", true_eigvec[::-1][0])\n",
    "print(\"Полученное собственное значение: \", max_eigval)\n",
    "print(\"Истинное собственное значение: \",true_eigvals[::-1][0])"
   ]
  },
  {
   "cell_type": "markdown",
   "metadata": {
    "id": "ru70NGUlOGIy",
    "slideshow": {
     "slide_type": "fragment"
    }
   },
   "source": [
    "Для избежания проблем со сходимостью степенного метода, обсуждённых на семинаре, можно ввести дэмпфирующий фактор и преобразовать матрицу PageRank'a следующим образом:\n",
    "\n",
    "$$\n",
    "A_d = dA + \\frac{1-d}{N} \\begin{pmatrix} 1 & \\dots & 1 \\\\ \\vdots & & \\vdots \\\\ 1 & \\dots & 1 \\end{pmatrix},\n",
    "$$\n",
    "\n",
    "где $d$ малый параметр из отрезка $[0,1]$ (обычно $d=0.85$), который называется **демпфирующим фактором**, $A$ размера $N\\times N$. После такого преобразования максимальное собственное значение матрицы $A_d$ обладает кратностью равной 1. \n",
    "\n",
    "Именно это [предложили](http://ilpubs.stanford.edu:8090/422/1/1999-66.pdf) сделать Ларри Пейдж и Сергей Брин для получения своего алгоритма ранжирвания веб-страниц.\n",
    "\n",
    "\n",
    "* (4 pts) Реализуйте функцию быстрого умножения матрицы $A_d$ на вектор в соответствии с прототипом ниже ```pagerank_matvec(A, d, x)```. На вход функция принимает  матрицу PageRank'a $A$ (в разреженном формате, например ```csr_matrix```), демпфирующий фактор $d$ и начальный вектор $x$, а возвращает $A_dx$. "
   ]
  },
  {
   "cell_type": "code",
   "execution_count": 35,
   "metadata": {},
   "outputs": [],
   "source": [
    "# INPUT:  A - np.ndarray (2D), d - float (from 0.0 to 1.0), x - np.ndarray (1D, size of A.shape[0/1])\n",
    "# OUTPUT: y - np.ndarray (1D, size of x)\n",
    "def pagerank_matvec(A, d, x): # 2 pts\n",
    "    \n",
    "    # введение дэмпфирующего фактора\n",
    "    n = A.shape[0]\n",
    "    \n",
    "    # реализация быстрого умножения матрицы на вектор\n",
    "    \n",
    "    # сначала умножаем матрицу A на вектор x\n",
    "    y = A @ x\n",
    "            \n",
    "    # умножаем добавку на вектор x\n",
    "    y_add = np.repeat(np.sum(x), n)\n",
    "            \n",
    "    y = d*y + (1-d)/n*y_add\n",
    "    \n",
    "    return y"
   ]
  },
  {
   "cell_type": "code",
   "execution_count": 51,
   "metadata": {},
   "outputs": [
    {
     "name": "stdout",
     "output_type": "stream",
     "text": [
      "4.28 s ± 49.8 ms per loop (mean ± std. dev. of 7 runs, 1 loop each)\n",
      "141 µs ± 154 ns per loop (mean ± std. dev. of 7 runs, 10000 loops each)\n"
     ]
    }
   ],
   "source": [
    "# (2 pts) \n",
    "# сравнение времени работы pagerank_matvec и явного вычисления \n",
    "\n",
    "import scipy.sparse as ss\n",
    "\n",
    "n = 10000\n",
    "A = ss.random(n, n, density=10**(-4), format='csr', dtype='i')\n",
    "x = np.random.randint(0, 100, size=n)\n",
    "d = 0.85\n",
    "%timeit (d*A + (1-d)/n*csr_matrix(np.ones((n,n)))) @ x\n",
    "%timeit pagerank_matvec(A, d, x)"
   ]
  },
  {
   "cell_type": "markdown",
   "metadata": {},
   "source": [
    "Как видно, при использовании функции был получен выигрыш по времени, более, чем в 30000 раз!"
   ]
  },
  {
   "cell_type": "markdown",
   "metadata": {
    "id": "ru70NGUlOGIy",
    "slideshow": {
     "slide_type": "fragment"
    }
   },
   "source": [
    "* (2 pts) Сгенерируйте случайную матрицу смежности $1000 \\times 1000$ (если помещается в память, то увеличьте размер до $10000 \\times 10000$) со 100 ненулевыми элементами и сравните время вычисления произведения матрицы и случайного вектора с помощью ```pagerank_matvec``` и явным вычислением $A_dx$.\n",
    "    \n",
    "Загрузите данные [отсюда](https://goo.gl/oZVxEa), разархивируйте и поместите файлы `dblp_authors.npz`  и `dblp_graph.npz` в папку рядом с этим ноутбуком. Каждое значение (имя автора) из `dblp_authors.npz` соответствует строке/столбцу в матрице из  `dblp_graph.npz`. Значения в строке `i` и столбце `j` матрицы `dblp_graph.npz` соответствуют числу раз, которое автор `i` цитировал статьи автора `j`. Давайте теперь найдём наиболее влиятельных авторов по величине Pagerank'a на основе данных DBLP.\n",
    "\n",
    "* (5 pts) Загрузите взвешенную матрицу смежности и список авторов с помощью функции ```load_dblp(...)```. Выведите её плотность, то есть отношение числа ненулевых элементов к общему числу элементов. Найдите top-10 наиболее цитируемых авторов по значениям элементов этой матрицы. Далее сделайте все элементы равными 1 для простоты. Получите матрицу Pagerank'a из матрицы смежности и проверьте её стохастичность (сумма элементов по строкам/столбцам равна 1).\n",
    " \n",
    "* (1 pts) Для того чтобы передать функцию ```pagerank_matvec``` в функцию ```power_method``` для быстрого вычисления матрично-векторного произведения $A_dx$, вы можете сделать ```LinearOperator```: \n",
    "```python\n",
    "L = scipy.sparse.linalg.LinearOperator(A.shape, matvec=lambda x, A=A, d=d: pagerank_matvec(A, d, x))\n",
    "```\n",
    "Вызов ```L@x``` или ```L.dot(x)``` будет реализован путём вызова функции ```pagerank_matvec(A, d, x)```, таким образом, вы можете передать $L$ вместо матрицы $A$ в функцию ```power_method``` напрямую.\n",
    "\n",
    "\n",
    "* (2 pts) Запустите степенной метод начиная с вектора из всех 1 и нарисуйте норму невязок $\\|A_dx_k - \\lambda_k x_k\\|_2$  как функцию от $k$ для $d=0.85$.\n",
    "\n",
    "\n",
    "* (1 pts) Выведите имена top-10 авторов по величине PageRank'a на основании графа DBLP с $d=0.85$. Прокомментируйте результат и сарвните его со списком наиболее цитируемых авторов."
   ]
  },
  {
   "cell_type": "code",
   "execution_count": 38,
   "metadata": {
    "id": "L5ZnW7m-OGIz"
   },
   "outputs": [],
   "source": [
    "# (5 pts)\n",
    "\n",
    "from scipy.sparse import load_npz\n",
    "import numpy as np\n",
    "def load_dblp(path_auth, path_graph):\n",
    "    G = load_npz(path_graph).astype(float)\n",
    "    with np.load(path_auth) as data: authors = data['authors']\n",
    "    return G, authors\n",
    "G, authors = load_dblp('dblp_authors.npz', 'dblp_graph.npz')"
   ]
  },
  {
   "cell_type": "code",
   "execution_count": 39,
   "metadata": {},
   "outputs": [
    {
     "name": "stdout",
     "output_type": "stream",
     "text": [
      "Плотность матрицы:  4.4986518152305776e-05\n"
     ]
    }
   ],
   "source": [
    "# плотность матрицы\n",
    "\n",
    "non_zero = csr_matrix.nonzero(G)[0].shape[0]\n",
    "print('Плотность матрицы: ', non_zero / G.shape[0]**2)"
   ]
  },
  {
   "cell_type": "code",
   "execution_count": 40,
   "metadata": {},
   "outputs": [
    {
     "name": "stdout",
     "output_type": "stream",
     "text": [
      "Самые цитируемые: \n",
      "Wei Wang\n",
      "Lei Zhang\n",
      "Yang Liu\n",
      "Wei Zhang\n",
      "Jun Wang\n",
      "Dacheng Tao\n",
      "Philip S. Yu\n",
      "Lei Wang\n",
      "Wei Li\n",
      "Jun Zhang\n"
     ]
    }
   ],
   "source": [
    "# топ-10\n",
    "\n",
    "rsums = np.array(csr_matrix.sum(G, axis=1)).flatten()\n",
    "best_ind = rsums.argsort()[-10:][::-1]\n",
    "best_authors = authors[best_ind]\n",
    "print('Самые цитируемые: ')\n",
    "for el in best_authors:\n",
    "    print(el, sep='\\n')"
   ]
  },
  {
   "cell_type": "code",
   "execution_count": 41,
   "metadata": {},
   "outputs": [],
   "source": [
    "# матрица Pagerank'a\n",
    "\n",
    "#  делаем все элементы ненулевые равными 1\n",
    "\n",
    "G = csr_matrix(G, dtype=bool)\n",
    "G = csr_matrix(G, dtype=int)\n",
    "A = pagerank_matrix(G)"
   ]
  },
  {
   "cell_type": "code",
   "execution_count": 43,
   "metadata": {},
   "outputs": [],
   "source": [
    "# (1 pts)\n",
    "\n",
    "import scipy.sparse.linalg as ssl\n",
    "d=0.85\n",
    "L = ssl.LinearOperator(A.shape, matvec=lambda x, A=A, d=d: pagerank_matvec(A, d, x))"
   ]
  },
  {
   "cell_type": "code",
   "execution_count": 44,
   "metadata": {},
   "outputs": [
    {
     "data": {
      "image/png": "[encoded data removed]",
      "text/plain": [
       "<Figure size 432x288 with 1 Axes>"
      ]
     },
     "metadata": {
      "needs_background": "light"
     },
     "output_type": "display_data"
    }
   ],
   "source": [
    "# (2 pts)\n",
    "\n",
    "import matplotlib.pyplot as plt\n",
    "x0 = np.ones(A.shape[1])\n",
    "num_iter = 100\n",
    "max_eigvec, max_eigval, conv = power_method(L, x0, num_iter)\n",
    "plt.plot(conv, linewidth=4, label=\"Eigval conv\")\n",
    "plt.legend(fontsize=20)\n",
    "plt.yscale(\"log\")\n",
    "plt.ylabel(\"Residual norm\", fontsize=20)\n",
    "plt.yticks(fontsize=16)\n",
    "plt.xlabel(\"Number of iteration\", fontsize=20)\n",
    "plt.xticks(fontsize=16)\n",
    "plt.grid(True)"
   ]
  },
  {
   "cell_type": "code",
   "execution_count": 52,
   "metadata": {},
   "outputs": [],
   "source": [
    "best_ = max_eigvec.argsort()[-10:][::-1]"
   ]
  },
  {
   "cell_type": "code",
   "execution_count": 47,
   "metadata": {},
   "outputs": [
    {
     "name": "stdout",
     "output_type": "stream",
     "text": [
      "Top-10 авторов по величине PageRank: \n",
      "Wei Wang\n",
      "Yang Liu\n",
      "Wei Zhang\n",
      "Wei Li\n",
      "Lei Wang\n",
      "Athanasios V. Vasilakos\n",
      "Lei Zhang\n",
      "Jun Zhang\n",
      "Jun Wang\n",
      "Li Li\n"
     ]
    }
   ],
   "source": [
    "best_authors_pagerank = authors[best_]\n",
    "print('Top-10 авторов по величине PageRank: ')\n",
    "for el in best_authors_pagerank:\n",
    "    print(el, sep='\\n')"
   ]
  },
  {
   "cell_type": "code",
   "execution_count": 48,
   "metadata": {},
   "outputs": [
    {
     "name": "stdout",
     "output_type": "stream",
     "text": [
      "Самые цитируемые: \n",
      "Wei Wang\n",
      "Lei Zhang\n",
      "Yang Liu\n",
      "Wei Zhang\n",
      "Jun Wang\n",
      "Dacheng Tao\n",
      "Philip S. Yu\n",
      "Lei Wang\n",
      "Wei Li\n",
      "Jun Zhang\n"
     ]
    }
   ],
   "source": [
    "print('Самые цитируемые: ')\n",
    "for el in best_authors:\n",
    "    print(el, sep='\\n')"
   ]
  },
  {
   "cell_type": "code",
   "execution_count": 49,
   "metadata": {},
   "outputs": [
    {
     "data": {
      "text/plain": [
       "{'Jun Wang',\n",
       " 'Jun Zhang',\n",
       " 'Lei Wang',\n",
       " 'Lei Zhang',\n",
       " 'Wei Li',\n",
       " 'Wei Wang',\n",
       " 'Wei Zhang',\n",
       " 'Yang Liu'}"
      ]
     },
     "execution_count": 49,
     "metadata": {},
     "output_type": "execute_result"
    }
   ],
   "source": [
    "# пересечение имен top-10 авторов по величине PageRank'a и списка наиболее цитируемых авторов\n",
    "\n",
    "set(best_authors) & set(best_authors_pagerank)"
   ]
  },
  {
   "cell_type": "markdown",
   "metadata": {},
   "source": [
    "Как видно, топ-10 авторов хорошо коррелируют по двум расчетам: 8 из 10 авторов совпадают. "
   ]
  }
 ],
 "metadata": {
  "kernelspec": {
   "display_name": "Python 3",
   "language": "python",
   "name": "python3"
  },
  "language_info": {
   "codemirror_mode": {
    "name": "ipython",
    "version": 3
   },
   "file_extension": ".py",
   "mimetype": "text/x-python",
   "name": "python",
   "nbconvert_exporter": "python",
   "pygments_lexer": "ipython3",
   "version": "3.7.6"
  }
 },
 "nbformat": 4,
 "nbformat_minor": 2
}
