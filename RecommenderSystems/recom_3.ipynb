{
 "cells": [
  {
   "cell_type": "markdown",
   "metadata": {},
   "source": [
    "# Милютина Лилия"
   ]
  },
  {
   "cell_type": "code",
   "execution_count": 1,
   "metadata": {},
   "outputs": [],
   "source": [
    "import time\n",
    "import numpy as np\n",
    "import pandas as pd\n",
    "import scipy.sparse as sp\n",
    "from sklearn.model_selection import KFold\n",
    "import matplotlib.pyplot as plt\n",
    "\n",
    "import torch\n",
    "import torch.nn as nn\n",
    "import torch.nn.functional as F\n",
    "import torch.optim as optim\n",
    "import torch.utils.data as data\n",
    "\n",
    "from tqdm import tqdm"
   ]
  },
  {
   "cell_type": "code",
   "execution_count": 2,
   "metadata": {},
   "outputs": [],
   "source": [
    "path = 'rekko/ratings.csv'\n",
    "df = pd.read_csv(path)\n",
    "df = df.iloc[:1000, :]"
   ]
  },
  {
   "cell_type": "markdown",
   "metadata": {},
   "source": [
    "**Посмотрим на данные**"
   ]
  },
  {
   "cell_type": "code",
   "execution_count": 3,
   "metadata": {},
   "outputs": [
    {
     "data": {
      "text/html": [
       "<div>\n",
       "<style scoped>\n",
       "    .dataframe tbody tr th:only-of-type {\n",
       "        vertical-align: middle;\n",
       "    }\n",
       "\n",
       "    .dataframe tbody tr th {\n",
       "        vertical-align: top;\n",
       "    }\n",
       "\n",
       "    .dataframe thead th {\n",
       "        text-align: right;\n",
       "    }\n",
       "</style>\n",
       "<table border=\"1\" class=\"dataframe\">\n",
       "  <thead>\n",
       "    <tr style=\"text-align: right;\">\n",
       "      <th></th>\n",
       "      <th>user_uid</th>\n",
       "      <th>element_uid</th>\n",
       "      <th>rating</th>\n",
       "      <th>ts</th>\n",
       "    </tr>\n",
       "  </thead>\n",
       "  <tbody>\n",
       "    <tr>\n",
       "      <th>0</th>\n",
       "      <td>571252</td>\n",
       "      <td>1364</td>\n",
       "      <td>10</td>\n",
       "      <td>4.430517e+07</td>\n",
       "    </tr>\n",
       "    <tr>\n",
       "      <th>1</th>\n",
       "      <td>63140</td>\n",
       "      <td>3037</td>\n",
       "      <td>10</td>\n",
       "      <td>4.430514e+07</td>\n",
       "    </tr>\n",
       "    <tr>\n",
       "      <th>2</th>\n",
       "      <td>443817</td>\n",
       "      <td>4363</td>\n",
       "      <td>8</td>\n",
       "      <td>4.430514e+07</td>\n",
       "    </tr>\n",
       "    <tr>\n",
       "      <th>3</th>\n",
       "      <td>359870</td>\n",
       "      <td>1364</td>\n",
       "      <td>10</td>\n",
       "      <td>4.430506e+07</td>\n",
       "    </tr>\n",
       "    <tr>\n",
       "      <th>4</th>\n",
       "      <td>359870</td>\n",
       "      <td>3578</td>\n",
       "      <td>9</td>\n",
       "      <td>4.430506e+07</td>\n",
       "    </tr>\n",
       "  </tbody>\n",
       "</table>\n",
       "</div>"
      ],
      "text/plain": [
       "   user_uid  element_uid  rating            ts\n",
       "0    571252         1364      10  4.430517e+07\n",
       "1     63140         3037      10  4.430514e+07\n",
       "2    443817         4363       8  4.430514e+07\n",
       "3    359870         1364      10  4.430506e+07\n",
       "4    359870         3578       9  4.430506e+07"
      ]
     },
     "execution_count": 3,
     "metadata": {},
     "output_type": "execute_result"
    }
   ],
   "source": [
    "df.head()"
   ]
  },
  {
   "cell_type": "markdown",
   "metadata": {},
   "source": [
    "**Создадим NCF модель**"
   ]
  },
  {
   "cell_type": "code",
   "execution_count": 4,
   "metadata": {},
   "outputs": [],
   "source": [
    "class NCF(nn.Module):\n",
    "    def __init__(self, user_num, item_num, factor_num, num_layers, type_non_linear='relu'):\n",
    "        super(NCF, self).__init__()\n",
    "        \n",
    "        # Эмбеддинги user-ов и item-ов.\n",
    "        self.embed_user = nn.Embedding(user_num, factor_num * (2 ** (num_layers - 1)))\n",
    "        self.embed_item = nn.Embedding(item_num, factor_num * (2 ** (num_layers - 1)))\n",
    "        \n",
    "        # Собираем слои.\n",
    "        modules = []\n",
    "        for i in range(num_layers):\n",
    "            input_size = factor_num * (2 ** (num_layers - i))\n",
    "            modules.append(nn.Linear(input_size, input_size//2))\n",
    "            \n",
    "            if type_non_linear == 'relu':\n",
    "                modules.append(nn.ReLU())\n",
    "            elif type_non_linear == 'leaky-relu':\n",
    "                modules.append(nn.LeakyReLU())\n",
    "            elif type_non_linear == 'relu6':\n",
    "                modules.append(nn.ReLU6())\n",
    "            elif type_non_linear == 'selu':\n",
    "                modules.append(nn.SELU())\n",
    "            elif type_non_linear == 'celu':\n",
    "                modules.append(nn.CELU())\n",
    "            else:\n",
    "                print('Unknown non-linear activation.')\n",
    "        \n",
    "        # Заворачиваем в контейнер.\n",
    "        self.layers = nn.Sequential(*modules)\n",
    "        self.predict_layer = nn.Linear(factor_num, 1)\n",
    "        \n",
    "        # Инициализация.\n",
    "        self._init_weight_()\n",
    "        \n",
    "    def _init_weight_(self):\n",
    "        \"\"\"\n",
    "        Инициализация весов.\n",
    "        \"\"\"\n",
    "        nn.init.normal_(self.embed_user.weight, std=0.01)\n",
    "        nn.init.normal_(self.embed_item.weight, std=0.01)\n",
    "\n",
    "        for m in self.layers:\n",
    "            if isinstance(m, nn.Linear):\n",
    "                nn.init.xavier_uniform_(m.weight)\n",
    "        nn.init.kaiming_uniform_(self.predict_layer.weight, a=1, nonlinearity='sigmoid')\n",
    "\n",
    "        for m in self.modules():\n",
    "            if isinstance(m, nn.Linear) and m.bias is not None:\n",
    "                m.bias.data.zero_()\n",
    "\n",
    "    def forward(self, user, item):\n",
    "        embed_user = self.embed_user(user)\n",
    "        embed_item = self.embed_item(item)\n",
    "        interaction = torch.cat((embed_user, embed_item), -1)\n",
    "        output = self.layers(interaction)\n",
    "        prediction = self.predict_layer(output)\n",
    "        return prediction.view(-1)"
   ]
  },
  {
   "cell_type": "markdown",
   "metadata": {},
   "source": [
    "**Создадим DataSet для обертки датафрейма**"
   ]
  },
  {
   "cell_type": "code",
   "execution_count": 5,
   "metadata": {},
   "outputs": [],
   "source": [
    "class NCFData(data.Dataset):\n",
    "    def __init__(self, features, num_item, matrix=None):\n",
    "        super(NCFData, self).__init__()\n",
    "        self.features = features\n",
    "        self.num_item = num_item\n",
    "        self.matrix = matrix\n",
    "        self.labels = [matrix.todense()[el[0], el[1]] for el in features]\n",
    "\n",
    "    def __len__(self):\n",
    "        return len(self.labels)\n",
    "\n",
    "    def __getitem__(self, idx):\n",
    "\n",
    "        user = self.features[idx][0]\n",
    "        item = self.features[idx][1]\n",
    "        label = self.labels[idx]\n",
    "        return user, item, label"
   ]
  },
  {
   "cell_type": "markdown",
   "metadata": {},
   "source": [
    "*Нужная функция collate для правильной работы DataLoader*"
   ]
  },
  {
   "cell_type": "code",
   "execution_count": 6,
   "metadata": {},
   "outputs": [],
   "source": [
    "def collate(batch):\n",
    "    users = []\n",
    "    items = []\n",
    "    labels = []\n",
    "    for item in batch:\n",
    "        user, item, label = item\n",
    "        users.append(user)\n",
    "        items.append(item)\n",
    "        labels.append(label)\n",
    "    return torch.tensor(users, dtype=torch.int64), torch.tensor(items, dtype=torch.int64), torch.tensor(labels, dtype=torch.float64)"
   ]
  },
  {
   "cell_type": "markdown",
   "metadata": {},
   "source": [
    "**Функции для расчета метрик: RMSE и nDCG@n**"
   ]
  },
  {
   "cell_type": "code",
   "execution_count": 7,
   "metadata": {},
   "outputs": [],
   "source": [
    "def rmse(y_1, y_2):\n",
    "    y_1_ = y_1.detach().numpy()\n",
    "    y_2_ = y_2.detach().numpy()\n",
    "    return ((y_1_ - y_2_) ** 2).mean() ** .5\n",
    "\n",
    "\n",
    "def ndcg(gt_item, pred_items):\n",
    "    if gt_item in pred_items:\n",
    "        index = pred_items.index(gt_item)\n",
    "        return np.reciprocal(np.log2(index+2))\n",
    "    return 0\n",
    "\n",
    "\n",
    "def get_metrics(model, test_loader, top_k):\n",
    "    NDCG, RMSE = [], []\n",
    "\n",
    "    for user, item, label in test_loader:\n",
    "\n",
    "        predictions = model(user, item)\n",
    "        _, indices = torch.topk(predictions, top_k)\n",
    "        recommends = torch.take(item, indices).numpy().tolist()\n",
    "\n",
    "        gt_item = item[0].item()\n",
    "\n",
    "        NDCG.append(ndcg(gt_item, recommends))\n",
    "        RMSE.append(rmse(predictions, label))\n",
    "\n",
    "    return np.mean(NDCG), np.mean(RMSE)"
   ]
  },
  {
   "cell_type": "code",
   "execution_count": 8,
   "metadata": {},
   "outputs": [],
   "source": [
    "def load(df):\n",
    "    user_num = df['user_uid'].max() + 1\n",
    "    item_num = df['element_uid'].max() + 1\n",
    "    \n",
    "    matrix = sp.dok_matrix((user_num, item_num), dtype=np.float32)\n",
    "    for i in tqdm(range(df.shape[0])):\n",
    "        user_id = df.iloc[i, :]['user_uid']\n",
    "        item_id = df.iloc[i, :]['element_uid']\n",
    "        rating = df.iloc[i, :]['rating']\n",
    "        matrix[user_id, item_id] = rating\n",
    "\n",
    "    return df.iloc[:, :2].values.tolist(), user_num, item_num, matrix"
   ]
  },
  {
   "cell_type": "markdown",
   "metadata": {},
   "source": [
    "**Функция для тренировки и оценки НС при кросс-валидации**"
   ]
  },
  {
   "cell_type": "code",
   "execution_count": 9,
   "metadata": {},
   "outputs": [],
   "source": [
    "def train(model, optimizer, dataset, n_epochs):\n",
    "    \n",
    "    all_ndcg_metrics = []\n",
    "    all_rmse_metrics = []\n",
    "    \n",
    "    splits = KFold(n_splits=3, shuffle=True, random_state=42)\n",
    "    loss_function = nn.BCEWithLogitsLoss()\n",
    "    for fold, (train_ids, test_ids) in enumerate(splits.split(dataset)):\n",
    "\n",
    "        train_subsampler = torch.utils.data.SubsetRandomSampler(train_ids)\n",
    "        test_subsampler = torch.utils.data.SubsetRandomSampler(test_ids)\n",
    "\n",
    "        trainloader = torch.utils.data.DataLoader(\n",
    "                          dataset, \n",
    "                          batch_size=batch_size, sampler=train_subsampler, collate_fn=collate)\n",
    "        testloader = torch.utils.data.DataLoader(\n",
    "                          dataset,\n",
    "                          batch_size=batch_size, sampler=test_subsampler, collate_fn=collate)\n",
    "        \n",
    "        ndcg_metrics, rmse_metrics = [], []\n",
    "        for epoch in range(n_epochs):\n",
    "            model.train()\n",
    "            start_time = time.time()\n",
    "\n",
    "            for i, (user, item, label) in enumerate(trainloader):\n",
    "                model.zero_grad()\n",
    "                prediction = model(user, item)\n",
    "                loss = loss_function(prediction, label)\n",
    "                loss.backward()\n",
    "                optimizer.step()\n",
    "\n",
    "            model.eval()\n",
    "            NDCG, RMSE = get_metrics(model, testloader, top_k)\n",
    "            ndcg_metrics.append(round(np.mean(NDCG),3))\n",
    "            rmse_metrics.append(round(np.mean(RMSE),3))\n",
    "        \n",
    "        all_ndcg_metrics.append(np.max(ndcg_metrics))\n",
    "        all_rmse_metrics.append(np.min(rmse_metrics))\n",
    "        \n",
    "    return np.mean(all_ndcg_metrics), np.mean(all_rmse_metrics)"
   ]
  },
  {
   "cell_type": "code",
   "execution_count": 10,
   "metadata": {},
   "outputs": [],
   "source": [
    "n_epochs = 10\n",
    "factor_num = 5\n",
    "top_k = 5\n",
    "batch_size = 100"
   ]
  },
  {
   "cell_type": "code",
   "execution_count": 11,
   "metadata": {},
   "outputs": [
    {
     "name": "stderr",
     "output_type": "stream",
     "text": [
      "100%|████████████████████████████████████████████████████████████████████████████| 1000/1000 [00:00<00:00, 1858.94it/s]\n"
     ]
    }
   ],
   "source": [
    "ready_data, user_num, item_num, matrix = load(df)\n",
    "dataset = NCFData(ready_data, item_num, matrix)"
   ]
  },
  {
   "cell_type": "markdown",
   "metadata": {},
   "source": [
    "# Эксперименты с разными нелинейными функциями активации"
   ]
  },
  {
   "cell_type": "code",
   "execution_count": 12,
   "metadata": {},
   "outputs": [
    {
     "name": "stdout",
     "output_type": "stream",
     "text": [
      "Number of layers: 3, Non-linear activation: relu, RMSE: 8, nDCG@5: 0.23\n",
      "Number of layers: 3, Non-linear activation: leaky-relu, RMSE: 12, nDCG@5: 0.208\n",
      "Number of layers: 3, Non-linear activation: relu6, RMSE: 6, nDCG@5: 0.494\n",
      "Number of layers: 3, Non-linear activation: selu, RMSE: 13, nDCG@5: 0.219\n",
      "Number of layers: 3, Non-linear activation: celu, RMSE: 8, nDCG@5: 0.224\n",
      "Number of layers: 5, Non-linear activation: relu, RMSE: 8, nDCG@5: 1.0\n",
      "Number of layers: 5, Non-linear activation: leaky-relu, RMSE: 5462, nDCG@5: 0.167\n",
      "Number of layers: 5, Non-linear activation: relu6, RMSE: 6, nDCG@5: 0.75\n",
      "Number of layers: 5, Non-linear activation: selu, RMSE: 74, nDCG@5: 0.314\n",
      "Number of layers: 5, Non-linear activation: celu, RMSE: 4808, nDCG@5: 0.333\n"
     ]
    }
   ],
   "source": [
    "type_non_linear_acts = ['relu', 'leaky-relu', 'relu6', 'selu', 'celu']\n",
    "all_num_layers = [3, 5]\n",
    "\n",
    "all_results_rmse = []\n",
    "all_results_ndcg = []\n",
    "for num_layers in all_num_layers:\n",
    "    results_rmse = []\n",
    "    results_ndcg = []\n",
    "    for type_non_linear_act in type_non_linear_acts:\n",
    "        model = NCF(user_num, item_num, factor_num, num_layers, type_non_linear=type_non_linear_act)\n",
    "        optimizer = optim.Adam(model.parameters(), lr=1e-3)\n",
    "        best_ndcg, best_rmse = train(model, optimizer, dataset, n_epochs)\n",
    "        \n",
    "        results_ndcg.append(best_ndcg)\n",
    "        results_rmse.append(best_rmse)\n",
    "            \n",
    "        print(f'Number of layers: {num_layers}, Non-linear activation: {type_non_linear_act}, RMSE: {round(best_rmse)}, nDCG@5: {round(best_ndcg,3)}')\n",
    "    \n",
    "    print('-------')\n",
    "    all_results_rmse.append(results_rmse)\n",
    "    all_results_ndcg.append(results_ndcg)"
   ]
  },
  {
   "cell_type": "code",
   "execution_count": 13,
   "metadata": {},
   "outputs": [
    {
     "data": {
      "image/png": "[encoded data removed]",
      "text/plain": [
       "<Figure size 576x576 with 2 Axes>"
      ]
     },
     "metadata": {
      "needs_background": "light"
     },
     "output_type": "display_data"
    }
   ],
   "source": [
    "fig = plt.figure(figsize=(8, 8))\n",
    "\n",
    "ax1 = fig.add_subplot(211)\n",
    "ax1.plot(np.arange(len(type_non_linear_acts)), all_results_rmse[0], 'o')\n",
    "for i, name in enumerate(type_non_linear_acts):\n",
    "    ax1.annotate(name, xy=(i, all_results_rmse[0][i]))\n",
    "\n",
    "ax1.set_xlabel('Индекс нелинейной функции активации')\n",
    "ax1.set_ylabel('Метрика: RMSE')\n",
    "ax1.set_title('Зависимость значений RMSE от функции активации для 3-x слойной НС')\n",
    "\n",
    "ax2 = fig.add_subplot(212)\n",
    "ax2.plot(np.arange(len(type_non_linear_acts)), all_results_ndcg[0], 'o')\n",
    "for i, name in enumerate(type_non_linear_acts):\n",
    "    ax2.annotate(name, xy=(i, all_results_ndcg[0][i]))\n",
    "\n",
    "ax2.set_xlabel('Индекс нелинейной функции активации')\n",
    "ax2.set_ylabel('Метрика: nDCG@5')\n",
    "ax2.set_title('Зависимость значений nDCG@5 от функции активации для 3-x слойной НС')\n",
    "\n",
    "fig.tight_layout()\n",
    "\n",
    "plt.show()"
   ]
  },
  {
   "cell_type": "code",
   "execution_count": 14,
   "metadata": {},
   "outputs": [
    {
     "data": {
      "image/png": "[encoded data removed]",
      "text/plain": [
       "<Figure size 576x576 with 2 Axes>"
      ]
     },
     "metadata": {
      "needs_background": "light"
     },
     "output_type": "display_data"
    }
   ],
   "source": [
    "fig = plt.figure(figsize=(8, 8))\n",
    "\n",
    "ax1 = fig.add_subplot(211)\n",
    "ax1.plot(np.arange(len(type_non_linear_acts)), all_results_rmse[1], 'o')\n",
    "for i, name in enumerate(type_non_linear_acts):\n",
    "    ax1.annotate(name, xy=(i, all_results_rmse[1][i]))\n",
    "\n",
    "ax1.set_xlabel('Индекс нелинейной функции активации')\n",
    "ax1.set_ylabel('Метрика: RMSE')\n",
    "ax1.set_title('Зависимость значений RMSE от функции активации для 5-ти слойной НС')\n",
    "\n",
    "ax2 = fig.add_subplot(212)\n",
    "ax2.plot(np.arange(len(type_non_linear_acts)), all_results_ndcg[1], 'o')\n",
    "for i, name in enumerate(type_non_linear_acts):\n",
    "    ax2.annotate(name, xy=(i, all_results_ndcg[1][i]))\n",
    "\n",
    "ax2.set_xlabel('Индекс нелинейной функции активации')\n",
    "ax2.set_ylabel('Метрика: nDCG@5')\n",
    "ax2.set_title('Зависимость значений nDCG@5 от функции активации для 5-ти слойной НС')\n",
    "\n",
    "fig.tight_layout()\n",
    "\n",
    "plt.show()"
   ]
  },
  {
   "cell_type": "markdown",
   "metadata": {},
   "source": [
    "**Выводы:**   \n",
    "\n",
    "- Лучше всего себя показала нелинейная функция активации: ReLU6, как в случае 3-х, так и 5-ти слойной НС\n",
    "\n",
    "- Значения метрик при 5-ти слоях лучше, чем при 3-х (что совпадает с теоретическими представлениями)"
   ]
  },
  {
   "cell_type": "markdown",
   "metadata": {},
   "source": [
    "# Эксперименты с разным числом скрытых латентных факторов"
   ]
  },
  {
   "cell_type": "markdown",
   "metadata": {},
   "source": [
    "*Функцию активации зафиксируем ReLU6 как лучше всего себя показавшую в прошлом эксперименте*"
   ]
  },
  {
   "cell_type": "code",
   "execution_count": 15,
   "metadata": {},
   "outputs": [
    {
     "name": "stdout",
     "output_type": "stream",
     "text": [
      "Number of layers: 3, Number of factors: 5, RMSE: 4, nDCG@5: 0.532\n",
      "Number of layers: 3, Number of factors: 10, RMSE: 4, nDCG@5: 0.719\n",
      "Number of layers: 3, Number of factors: 20, RMSE: 11, nDCG@5: 0.833\n",
      "Number of layers: 3, Number of factors: 30, RMSE: 14, nDCG@5: 0.917\n",
      "Number of layers: 3, Number of factors: 50, RMSE: 26, nDCG@5: 0.917\n",
      "Number of layers: 5, Number of factors: 5, RMSE: 3, nDCG@5: 0.668\n",
      "Number of layers: 5, Number of factors: 10, RMSE: 6, nDCG@5: 0.917\n",
      "Number of layers: 5, Number of factors: 20, RMSE: 6, nDCG@5: 1.0\n",
      "Number of layers: 5, Number of factors: 30, RMSE: 10, nDCG@5: 0.75\n",
      "Number of layers: 5, Number of factors: 50, RMSE: 10, nDCG@5: 1.0\n"
     ]
    }
   ],
   "source": [
    "factor_nums = [5, 10, 20, 30, 50]\n",
    "\n",
    "all_results_rmse = []\n",
    "all_results_ndcg = []\n",
    "for num_layers in all_num_layers:\n",
    "    results_rmse = []\n",
    "    results_ndcg = []\n",
    "    for factor_num in factor_nums:\n",
    "        model = NCF(user_num, item_num, factor_num, num_layers, type_non_linear='relu6')\n",
    "        optimizer = optim.Adam(model.parameters(), lr=1e-3)\n",
    "        best_ndcg, best_rmse = train(model, optimizer, dataset, n_epochs)\n",
    "        \n",
    "        results_rmse.append(best_rmse)\n",
    "        results_ndcg.append(best_ndcg)\n",
    "            \n",
    "        print(f'Number of layers: {num_layers}, Number of factors: {factor_num}, RMSE: {round(best_rmse)}, nDCG@5: {round(best_ndcg,3)}')\n",
    "    \n",
    "    all_results_rmse.append(results_rmse)\n",
    "    all_results_ndcg.append(results_ndcg)"
   ]
  },
  {
   "cell_type": "code",
   "execution_count": 18,
   "metadata": {},
   "outputs": [
    {
     "data": {
      "image/png": "[encoded data removed]",
      "text/plain": [
       "<Figure size 576x576 with 2 Axes>"
      ]
     },
     "metadata": {
      "needs_background": "light"
     },
     "output_type": "display_data"
    }
   ],
   "source": [
    "fig = plt.figure(figsize=(8, 8))\n",
    "\n",
    "ax1 = fig.add_subplot(211)\n",
    "ax1.plot(factor_nums, all_results_rmse[0], 'o')\n",
    "ax1.set_xlabel('Число факторов')\n",
    "ax1.set_ylabel('Метрика: RMSE')\n",
    "ax1.set_title('Зависимость значений RMSE от числа факторов для 3-x слойной НС')\n",
    "\n",
    "ax2 = fig.add_subplot(212)\n",
    "ax2.plot(factor_nums, all_results_rmse[1], 'o')\n",
    "ax2.set_xlabel('Число факторов')\n",
    "ax2.set_ylabel('Метрика: RMSE')\n",
    "ax2.set_title('Зависимость значений RMSE от числа факторов для 5-ти слойной НС')\n",
    "\n",
    "fig.tight_layout()\n",
    "\n",
    "plt.show()"
   ]
  },
  {
   "cell_type": "markdown",
   "metadata": {},
   "source": [
    "**Выводы**:   \n",
    "- 5 факторов - оптимальный параметр для 3-х слойной и 5-ти слойной НС (однако, возможно, если сделать больше эпох обучения, то при большем числе факторов будет лучше, но всю GPU на Colab-e я уже потратила на курс DL:))  \n",
    "- Значения метрики при 5-ти слоях лучше, чем при 3-х (что совпадает с теоретическими представлениями)"
   ]
  },
  {
   "cell_type": "markdown",
   "metadata": {},
   "source": [
    "# Общие выводы:"
   ]
  },
  {
   "cell_type": "markdown",
   "metadata": {},
   "source": [
    "- Была реализована модель NCF на PyTorch\n",
    "- Проведены эксперименты с числом слоев (3 и 5): 5-ти слойная НС показывает лучшее качество (RMSE и nDCG метрики)\n",
    "- По кросс-валидации по метрике RMSE выбрана функция активации ReLu6\n",
    "- Проведены эксперименты с количеством латентных факторов (при 5 латентных факторах значение метрики RMSE лучшее)"
   ]
  },
  {
   "cell_type": "code",
   "execution_count": null,
   "metadata": {},
   "outputs": [],
   "source": []
  }
 ],
 "metadata": {
  "kernelspec": {
   "display_name": "Python 3",
   "language": "python",
   "name": "python3"
  },
  "language_info": {
   "codemirror_mode": {
    "name": "ipython",
    "version": 3
   },
   "file_extension": ".py",
   "mimetype": "text/x-python",
   "name": "python",
   "nbconvert_exporter": "python",
   "pygments_lexer": "ipython3",
   "version": "3.8.5"
  }
 },
 "nbformat": 4,
 "nbformat_minor": 4
}
