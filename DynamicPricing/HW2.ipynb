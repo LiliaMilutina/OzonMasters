{
  "cells": [
    {
      "cell_type": "code",
      "execution_count": 50,
      "metadata": {
        "id": "mwHRU9x0_haU"
      },
      "outputs": [],
      "source": [
        "import pandas as pd\n",
        "import numpy as np\n",
        "\n",
        "import matplotlib.pyplot as plt\n",
        "import seaborn as sns\n",
        "import plotly.express as px\n",
        "\n",
        "from sklearn.decomposition import NMF, TruncatedSVD\n",
        "from sklearn.metrics.pairwise import euclidean_distances\n",
        "from scipy.cluster.hierarchy import linkage, dendrogram\n",
        "\n",
        "from sklearn.cluster import KMeans, DBSCAN\n",
        "from sklearn.manifold import TSNE\n",
        "from scipy.spatial.distance import cdist\n",
        "import itertools\n",
        "from collections import Counter\n",
        "\n",
        "from yellowbrick.cluster import KElbowVisualizer\n",
        "\n",
        "\n",
        "from tqdm import tqdm"
      ]
    },
    {
      "cell_type": "code",
      "execution_count": 4,
      "metadata": {
        "id": "v4JHBGhu_hac"
      },
      "outputs": [],
      "source": [
        "data = pd.read_csv('data.csv')"
      ]
    },
    {
      "cell_type": "markdown",
      "metadata": {
        "id": "McE6nzBL_hae"
      },
      "source": [
        "<h1>Задание</h1>\n",
        "<b>Задача:</b>\n",
        "<ol>\n",
        "<li>Изучите датасэт, обработайте отрицательные продажи, обработайте специальные строки, которые не являются товарами и т.д.</li>\n",
        "<li>Построить матрицу (A) чеки-товары, чтобы на пересечении оказалось число товаров (Quantity). Построить матрицу (B) чеки-товары, чтобы на пересечении оказалось число 1 - если была покупка, 0 - иначе.</li>\n",
        "<li>Получите эмбединги товаров по матрицам А и B.\n",
        "Для этого можно использовать SVD и NMF/NNMF c разным числом компанент (до 15). Оцените качество разложений. Выберите лучшее разложение для варианта А и B.</li>\n",
        "    <li>Сделайте кластеризацию в полученом пространстве в лучших эмбедингах А и B. Для этого можно использовать любые алгоритмы кластеризации. Кол-во кластеров от 10 до 30. Но так, что в каждом кластере было не меньше 4000 чеков (т.е. продаж без учета Quantity). Выберите оптимальное разбиение. Обоснуйте решение.</li>\n",
        "    <li>К лучшим эмбедингам А и B добавьте цену (UnitPrice) каждого товара. Будем называть такие эмбединги А', B'.</li> \n",
        "     <li>Сделайте кластеризицаю в полученном пространстве эмбедингов А' и B'. И решите задачу кластеризации. Кол-во кластеров взять оптимальным из 4-го пункта. Но! Нужно учесть, что компонент цены и остальная часть эмбединга находятся в разных \"пространствах\". Разрешите эту проблему с помощью метрики и/или изменением пространства.</li>\n",
        "    <li>Найти товары заменители (на которые есть общий спрос). Объедините их в отдельные кластера.</li>\n",
        "    <li>Найти товары \"якоря\" и сопутсвующие к ним. Объединить их в отдельные кластера. Мы не знаем порядок добавления товаров в чек, но полагаем что \"якоря\" покупают значительно чаще остальных.</li>\n",
        "</ol>\n",
        "<b>Анализ:</b>\n",
        "<ul>\n",
        "<li>\n",
        "Оцените качество кластеризации. Выборочно посмотрите кластеры и сопоставьте по описанию (Description), опишите полученное качество. Сравните кластеризацию из пунктов 4 и 6.</li>\n",
        "    <li>Есть ли товары, которые оказались в разных кластерах в пункте 4 (6), при этом оказались общими по спросу. Объясните этот эффект.</li>\n",
        "<li>Выборочно посмотрите \"якоря\". Оцените качество кластеризации.</li>\n",
        "<li>Какие проблемы могут быть при использовании такой кластеризации для задач динамического ценообразования?</li>\n",
        "    </ul>"
      ]
    },
    {
      "cell_type": "markdown",
      "metadata": {
        "id": "AGcVJBEL_hai"
      },
      "source": [
        "# 1. Препроцессинг/Анализ данных"
      ]
    },
    {
      "cell_type": "code",
      "execution_count": null,
      "metadata": {
        "id": "OimSk8bR_hak",
        "outputId": "09683adb-7aff-49bf-8840-08db21557387"
      },
      "outputs": [
        {
          "data": {
            "text/html": [
              "<div>\n",
              "<style scoped>\n",
              "    .dataframe tbody tr th:only-of-type {\n",
              "        vertical-align: middle;\n",
              "    }\n",
              "\n",
              "    .dataframe tbody tr th {\n",
              "        vertical-align: top;\n",
              "    }\n",
              "\n",
              "    .dataframe thead th {\n",
              "        text-align: right;\n",
              "    }\n",
              "</style>\n",
              "<table border=\"1\" class=\"dataframe\">\n",
              "  <thead>\n",
              "    <tr style=\"text-align: right;\">\n",
              "      <th></th>\n",
              "      <th>InvoiceNo</th>\n",
              "      <th>StockCode</th>\n",
              "      <th>Description</th>\n",
              "      <th>Quantity</th>\n",
              "      <th>InvoiceDate</th>\n",
              "      <th>UnitPrice</th>\n",
              "      <th>CustomerID</th>\n",
              "      <th>Country</th>\n",
              "    </tr>\n",
              "  </thead>\n",
              "  <tbody>\n",
              "    <tr>\n",
              "      <th>0</th>\n",
              "      <td>536365</td>\n",
              "      <td>85123A</td>\n",
              "      <td>WHITE HANGING HEART T-LIGHT HOLDER</td>\n",
              "      <td>6</td>\n",
              "      <td>12/1/2010 8:26</td>\n",
              "      <td>2.55</td>\n",
              "      <td>17850.0</td>\n",
              "      <td>United Kingdom</td>\n",
              "    </tr>\n",
              "    <tr>\n",
              "      <th>1</th>\n",
              "      <td>536365</td>\n",
              "      <td>71053</td>\n",
              "      <td>WHITE METAL LANTERN</td>\n",
              "      <td>6</td>\n",
              "      <td>12/1/2010 8:26</td>\n",
              "      <td>3.39</td>\n",
              "      <td>17850.0</td>\n",
              "      <td>United Kingdom</td>\n",
              "    </tr>\n",
              "    <tr>\n",
              "      <th>2</th>\n",
              "      <td>536365</td>\n",
              "      <td>84406B</td>\n",
              "      <td>CREAM CUPID HEARTS COAT HANGER</td>\n",
              "      <td>8</td>\n",
              "      <td>12/1/2010 8:26</td>\n",
              "      <td>2.75</td>\n",
              "      <td>17850.0</td>\n",
              "      <td>United Kingdom</td>\n",
              "    </tr>\n",
              "    <tr>\n",
              "      <th>3</th>\n",
              "      <td>536365</td>\n",
              "      <td>84029G</td>\n",
              "      <td>KNITTED UNION FLAG HOT WATER BOTTLE</td>\n",
              "      <td>6</td>\n",
              "      <td>12/1/2010 8:26</td>\n",
              "      <td>3.39</td>\n",
              "      <td>17850.0</td>\n",
              "      <td>United Kingdom</td>\n",
              "    </tr>\n",
              "    <tr>\n",
              "      <th>4</th>\n",
              "      <td>536365</td>\n",
              "      <td>84029E</td>\n",
              "      <td>RED WOOLLY HOTTIE WHITE HEART.</td>\n",
              "      <td>6</td>\n",
              "      <td>12/1/2010 8:26</td>\n",
              "      <td>3.39</td>\n",
              "      <td>17850.0</td>\n",
              "      <td>United Kingdom</td>\n",
              "    </tr>\n",
              "  </tbody>\n",
              "</table>\n",
              "</div>"
            ],
            "text/plain": [
              "  InvoiceNo StockCode                          Description  Quantity  \\\n",
              "0    536365    85123A   WHITE HANGING HEART T-LIGHT HOLDER         6   \n",
              "1    536365     71053                  WHITE METAL LANTERN         6   \n",
              "2    536365    84406B       CREAM CUPID HEARTS COAT HANGER         8   \n",
              "3    536365    84029G  KNITTED UNION FLAG HOT WATER BOTTLE         6   \n",
              "4    536365    84029E       RED WOOLLY HOTTIE WHITE HEART.         6   \n",
              "\n",
              "      InvoiceDate  UnitPrice  CustomerID         Country  \n",
              "0  12/1/2010 8:26       2.55     17850.0  United Kingdom  \n",
              "1  12/1/2010 8:26       3.39     17850.0  United Kingdom  \n",
              "2  12/1/2010 8:26       2.75     17850.0  United Kingdom  \n",
              "3  12/1/2010 8:26       3.39     17850.0  United Kingdom  \n",
              "4  12/1/2010 8:26       3.39     17850.0  United Kingdom  "
            ]
          },
          "execution_count": 8,
          "metadata": {},
          "output_type": "execute_result"
        }
      ],
      "source": [
        "data.head()"
      ]
    },
    {
      "cell_type": "code",
      "execution_count": null,
      "metadata": {
        "id": "YoISOhmW_ham",
        "outputId": "373951a1-893d-499e-e5f8-7f0356e25a1b"
      },
      "outputs": [
        {
          "data": {
            "text/plain": [
              "(541909, 8)"
            ]
          },
          "execution_count": 9,
          "metadata": {},
          "output_type": "execute_result"
        }
      ],
      "source": [
        "data.shape"
      ]
    },
    {
      "cell_type": "code",
      "execution_count": null,
      "metadata": {
        "id": "roP8o_7U_han",
        "outputId": "9e33133c-5a0a-48c3-b9b6-75f578b55de7"
      },
      "outputs": [
        {
          "name": "stdout",
          "output_type": "stream",
          "text": [
            "<class 'pandas.core.frame.DataFrame'>\n",
            "RangeIndex: 541909 entries, 0 to 541908\n",
            "Data columns (total 8 columns):\n",
            " #   Column       Non-Null Count   Dtype  \n",
            "---  ------       --------------   -----  \n",
            " 0   InvoiceNo    541909 non-null  object \n",
            " 1   StockCode    541909 non-null  object \n",
            " 2   Description  540455 non-null  object \n",
            " 3   Quantity     541909 non-null  int64  \n",
            " 4   InvoiceDate  541909 non-null  object \n",
            " 5   UnitPrice    541909 non-null  float64\n",
            " 6   CustomerID   406829 non-null  float64\n",
            " 7   Country      541909 non-null  object \n",
            "dtypes: float64(2), int64(1), object(5)\n",
            "memory usage: 33.1+ MB\n"
          ]
        }
      ],
      "source": [
        "data.info()"
      ]
    },
    {
      "cell_type": "code",
      "execution_count": null,
      "metadata": {
        "id": "IQMFD5U4_hap",
        "outputId": "29dd3a4c-9f11-408e-9f37-6dcf3fedcc69"
      },
      "outputs": [
        {
          "data": {
            "text/html": [
              "<div>\n",
              "<style scoped>\n",
              "    .dataframe tbody tr th:only-of-type {\n",
              "        vertical-align: middle;\n",
              "    }\n",
              "\n",
              "    .dataframe tbody tr th {\n",
              "        vertical-align: top;\n",
              "    }\n",
              "\n",
              "    .dataframe thead th {\n",
              "        text-align: right;\n",
              "    }\n",
              "</style>\n",
              "<table border=\"1\" class=\"dataframe\">\n",
              "  <thead>\n",
              "    <tr style=\"text-align: right;\">\n",
              "      <th></th>\n",
              "      <th>Quantity</th>\n",
              "      <th>UnitPrice</th>\n",
              "      <th>CustomerID</th>\n",
              "    </tr>\n",
              "  </thead>\n",
              "  <tbody>\n",
              "    <tr>\n",
              "      <th>count</th>\n",
              "      <td>531285.000000</td>\n",
              "      <td>531285.000000</td>\n",
              "      <td>397924.000000</td>\n",
              "    </tr>\n",
              "    <tr>\n",
              "      <th>mean</th>\n",
              "      <td>10.655262</td>\n",
              "      <td>3.857296</td>\n",
              "      <td>15294.315171</td>\n",
              "    </tr>\n",
              "    <tr>\n",
              "      <th>std</th>\n",
              "      <td>156.830323</td>\n",
              "      <td>41.810047</td>\n",
              "      <td>1713.169877</td>\n",
              "    </tr>\n",
              "    <tr>\n",
              "      <th>min</th>\n",
              "      <td>1.000000</td>\n",
              "      <td>-11062.060000</td>\n",
              "      <td>12346.000000</td>\n",
              "    </tr>\n",
              "    <tr>\n",
              "      <th>25%</th>\n",
              "      <td>1.000000</td>\n",
              "      <td>1.250000</td>\n",
              "      <td>13969.000000</td>\n",
              "    </tr>\n",
              "    <tr>\n",
              "      <th>50%</th>\n",
              "      <td>3.000000</td>\n",
              "      <td>2.080000</td>\n",
              "      <td>15159.000000</td>\n",
              "    </tr>\n",
              "    <tr>\n",
              "      <th>75%</th>\n",
              "      <td>10.000000</td>\n",
              "      <td>4.130000</td>\n",
              "      <td>16795.000000</td>\n",
              "    </tr>\n",
              "    <tr>\n",
              "      <th>max</th>\n",
              "      <td>80995.000000</td>\n",
              "      <td>13541.330000</td>\n",
              "      <td>18287.000000</td>\n",
              "    </tr>\n",
              "  </tbody>\n",
              "</table>\n",
              "</div>"
            ],
            "text/plain": [
              "            Quantity      UnitPrice     CustomerID\n",
              "count  531285.000000  531285.000000  397924.000000\n",
              "mean       10.655262       3.857296   15294.315171\n",
              "std       156.830323      41.810047    1713.169877\n",
              "min         1.000000  -11062.060000   12346.000000\n",
              "25%         1.000000       1.250000   13969.000000\n",
              "50%         3.000000       2.080000   15159.000000\n",
              "75%        10.000000       4.130000   16795.000000\n",
              "max     80995.000000   13541.330000   18287.000000"
            ]
          },
          "execution_count": 214,
          "metadata": {},
          "output_type": "execute_result"
        }
      ],
      "source": [
        "data.describe()"
      ]
    },
    {
      "cell_type": "markdown",
      "metadata": {
        "id": "xcCab63I_haq"
      },
      "source": [
        "## Отрицательные продажи"
      ]
    },
    {
      "cell_type": "code",
      "execution_count": null,
      "metadata": {
        "id": "9n0RAltU_har",
        "outputId": "ed2ac482-a5e1-43f7-e34f-708a267c38e6"
      },
      "outputs": [
        {
          "data": {
            "text/plain": [
              "1.9604767590130447"
            ]
          },
          "execution_count": 12,
          "metadata": {},
          "output_type": "execute_result"
        }
      ],
      "source": [
        "data[data.Quantity<0].shape[0] / data.shape[0] * 100"
      ]
    },
    {
      "cell_type": "code",
      "execution_count": null,
      "metadata": {
        "id": "q4t90mg7_has"
      },
      "outputs": [],
      "source": [
        "data_negative = data[data.Quantity<=0]"
      ]
    },
    {
      "cell_type": "markdown",
      "metadata": {
        "id": "9-VoxoKJ_hat"
      },
      "source": [
        "Отрицательные продажи - это возврат товара, InvoiceNo начинается с C"
      ]
    },
    {
      "cell_type": "code",
      "execution_count": null,
      "metadata": {
        "id": "y_U-S5Dh_hau",
        "outputId": "e45f3536-bd95-46d0-b2ba-3e14508fd440"
      },
      "outputs": [
        {
          "data": {
            "text/plain": [
              "87.42469879518072"
            ]
          },
          "execution_count": 14,
          "metadata": {},
          "output_type": "execute_result"
        }
      ],
      "source": [
        "data_negative[data_negative.InvoiceNo.str.startswith('C')].shape[0] / data_negative.shape[0] * 100"
      ]
    },
    {
      "cell_type": "code",
      "execution_count": null,
      "metadata": {
        "id": "nvdK28YC_hau",
        "outputId": "aa7d5294-9860-4d27-e0d3-fb82e41d61d4"
      },
      "outputs": [
        {
          "data": {
            "text/html": [
              "<div>\n",
              "<style scoped>\n",
              "    .dataframe tbody tr th:only-of-type {\n",
              "        vertical-align: middle;\n",
              "    }\n",
              "\n",
              "    .dataframe tbody tr th {\n",
              "        vertical-align: top;\n",
              "    }\n",
              "\n",
              "    .dataframe thead th {\n",
              "        text-align: right;\n",
              "    }\n",
              "</style>\n",
              "<table border=\"1\" class=\"dataframe\">\n",
              "  <thead>\n",
              "    <tr style=\"text-align: right;\">\n",
              "      <th></th>\n",
              "      <th>InvoiceNo</th>\n",
              "      <th>StockCode</th>\n",
              "      <th>Description</th>\n",
              "      <th>Quantity</th>\n",
              "      <th>InvoiceDate</th>\n",
              "      <th>UnitPrice</th>\n",
              "      <th>CustomerID</th>\n",
              "      <th>Country</th>\n",
              "    </tr>\n",
              "  </thead>\n",
              "  <tbody>\n",
              "    <tr>\n",
              "      <th>2406</th>\n",
              "      <td>536589</td>\n",
              "      <td>21777</td>\n",
              "      <td>NaN</td>\n",
              "      <td>-10</td>\n",
              "      <td>12/1/2010 16:50</td>\n",
              "      <td>0.0</td>\n",
              "      <td>NaN</td>\n",
              "      <td>United Kingdom</td>\n",
              "    </tr>\n",
              "    <tr>\n",
              "      <th>4347</th>\n",
              "      <td>536764</td>\n",
              "      <td>84952C</td>\n",
              "      <td>NaN</td>\n",
              "      <td>-38</td>\n",
              "      <td>12/2/2010 14:42</td>\n",
              "      <td>0.0</td>\n",
              "      <td>NaN</td>\n",
              "      <td>United Kingdom</td>\n",
              "    </tr>\n",
              "    <tr>\n",
              "      <th>7188</th>\n",
              "      <td>536996</td>\n",
              "      <td>22712</td>\n",
              "      <td>NaN</td>\n",
              "      <td>-20</td>\n",
              "      <td>12/3/2010 15:30</td>\n",
              "      <td>0.0</td>\n",
              "      <td>NaN</td>\n",
              "      <td>United Kingdom</td>\n",
              "    </tr>\n",
              "    <tr>\n",
              "      <th>7189</th>\n",
              "      <td>536997</td>\n",
              "      <td>22028</td>\n",
              "      <td>NaN</td>\n",
              "      <td>-20</td>\n",
              "      <td>12/3/2010 15:30</td>\n",
              "      <td>0.0</td>\n",
              "      <td>NaN</td>\n",
              "      <td>United Kingdom</td>\n",
              "    </tr>\n",
              "    <tr>\n",
              "      <th>7190</th>\n",
              "      <td>536998</td>\n",
              "      <td>85067</td>\n",
              "      <td>NaN</td>\n",
              "      <td>-6</td>\n",
              "      <td>12/3/2010 15:30</td>\n",
              "      <td>0.0</td>\n",
              "      <td>NaN</td>\n",
              "      <td>United Kingdom</td>\n",
              "    </tr>\n",
              "    <tr>\n",
              "      <th>...</th>\n",
              "      <td>...</td>\n",
              "      <td>...</td>\n",
              "      <td>...</td>\n",
              "      <td>...</td>\n",
              "      <td>...</td>\n",
              "      <td>...</td>\n",
              "      <td>...</td>\n",
              "      <td>...</td>\n",
              "    </tr>\n",
              "    <tr>\n",
              "      <th>535333</th>\n",
              "      <td>581210</td>\n",
              "      <td>23395</td>\n",
              "      <td>check</td>\n",
              "      <td>-26</td>\n",
              "      <td>12/7/2011 18:36</td>\n",
              "      <td>0.0</td>\n",
              "      <td>NaN</td>\n",
              "      <td>United Kingdom</td>\n",
              "    </tr>\n",
              "    <tr>\n",
              "      <th>535335</th>\n",
              "      <td>581212</td>\n",
              "      <td>22578</td>\n",
              "      <td>lost</td>\n",
              "      <td>-1050</td>\n",
              "      <td>12/7/2011 18:38</td>\n",
              "      <td>0.0</td>\n",
              "      <td>NaN</td>\n",
              "      <td>United Kingdom</td>\n",
              "    </tr>\n",
              "    <tr>\n",
              "      <th>535336</th>\n",
              "      <td>581213</td>\n",
              "      <td>22576</td>\n",
              "      <td>check</td>\n",
              "      <td>-30</td>\n",
              "      <td>12/7/2011 18:38</td>\n",
              "      <td>0.0</td>\n",
              "      <td>NaN</td>\n",
              "      <td>United Kingdom</td>\n",
              "    </tr>\n",
              "    <tr>\n",
              "      <th>536908</th>\n",
              "      <td>581226</td>\n",
              "      <td>23090</td>\n",
              "      <td>missing</td>\n",
              "      <td>-338</td>\n",
              "      <td>12/8/2011 9:56</td>\n",
              "      <td>0.0</td>\n",
              "      <td>NaN</td>\n",
              "      <td>United Kingdom</td>\n",
              "    </tr>\n",
              "    <tr>\n",
              "      <th>538919</th>\n",
              "      <td>581422</td>\n",
              "      <td>23169</td>\n",
              "      <td>smashed</td>\n",
              "      <td>-235</td>\n",
              "      <td>12/8/2011 15:24</td>\n",
              "      <td>0.0</td>\n",
              "      <td>NaN</td>\n",
              "      <td>United Kingdom</td>\n",
              "    </tr>\n",
              "  </tbody>\n",
              "</table>\n",
              "<p>1336 rows × 8 columns</p>\n",
              "</div>"
            ],
            "text/plain": [
              "       InvoiceNo StockCode Description  Quantity      InvoiceDate  UnitPrice  \\\n",
              "2406      536589     21777         NaN       -10  12/1/2010 16:50        0.0   \n",
              "4347      536764    84952C         NaN       -38  12/2/2010 14:42        0.0   \n",
              "7188      536996     22712         NaN       -20  12/3/2010 15:30        0.0   \n",
              "7189      536997     22028         NaN       -20  12/3/2010 15:30        0.0   \n",
              "7190      536998     85067         NaN        -6  12/3/2010 15:30        0.0   \n",
              "...          ...       ...         ...       ...              ...        ...   \n",
              "535333    581210     23395       check       -26  12/7/2011 18:36        0.0   \n",
              "535335    581212     22578        lost     -1050  12/7/2011 18:38        0.0   \n",
              "535336    581213     22576       check       -30  12/7/2011 18:38        0.0   \n",
              "536908    581226     23090     missing      -338   12/8/2011 9:56        0.0   \n",
              "538919    581422     23169     smashed      -235  12/8/2011 15:24        0.0   \n",
              "\n",
              "        CustomerID         Country  \n",
              "2406           NaN  United Kingdom  \n",
              "4347           NaN  United Kingdom  \n",
              "7188           NaN  United Kingdom  \n",
              "7189           NaN  United Kingdom  \n",
              "7190           NaN  United Kingdom  \n",
              "...            ...             ...  \n",
              "535333         NaN  United Kingdom  \n",
              "535335         NaN  United Kingdom  \n",
              "535336         NaN  United Kingdom  \n",
              "536908         NaN  United Kingdom  \n",
              "538919         NaN  United Kingdom  \n",
              "\n",
              "[1336 rows x 8 columns]"
            ]
          },
          "execution_count": 15,
          "metadata": {},
          "output_type": "execute_result"
        }
      ],
      "source": [
        "data_negative[(~data_negative.InvoiceNo.str.startswith('C')) & (data_negative.Quantity<0)]"
      ]
    },
    {
      "cell_type": "markdown",
      "metadata": {
        "id": "TIQhy10M_hav"
      },
      "source": [
        "Но есть какие-то и исключения. Видимо, ошибки в InvoiceNo\t"
      ]
    },
    {
      "cell_type": "markdown",
      "metadata": {
        "id": "oP2abROy_hav"
      },
      "source": [
        "Кажется, что ~2% с отрицательными продажами можно просто удалить, много данных мы не потеряем."
      ]
    },
    {
      "cell_type": "code",
      "execution_count": 5,
      "metadata": {
        "id": "icAgDGsb_haw"
      },
      "outputs": [],
      "source": [
        "data = data[data.Quantity>0]"
      ]
    },
    {
      "cell_type": "markdown",
      "metadata": {
        "id": "HdEKlLkT_haw"
      },
      "source": [
        "## StockCode"
      ]
    },
    {
      "cell_type": "code",
      "execution_count": null,
      "metadata": {
        "id": "8pyfTJKP_hax"
      },
      "outputs": [],
      "source": [
        "vc1 = data.StockCode.value_counts()"
      ]
    },
    {
      "cell_type": "code",
      "execution_count": null,
      "metadata": {
        "id": "P6ChgEh6_hax"
      },
      "outputs": [],
      "source": [
        "t = pd.DataFrame(vc1)"
      ]
    },
    {
      "cell_type": "code",
      "execution_count": null,
      "metadata": {
        "id": "oIYbEhL1_hay",
        "outputId": "9dbe5ca5-9b79-444a-8284-f18ede245ed9"
      },
      "outputs": [
        {
          "data": {
            "text/plain": [
              "array([[<AxesSubplot:title={'center':'StockCode'}>]], dtype=object)"
            ]
          },
          "execution_count": 11,
          "metadata": {},
          "output_type": "execute_result"
        },
        {
          "data": {
            "image/png": "[encoded data removed]",
            "text/plain": [
              "<Figure size 864x432 with 1 Axes>"
            ]
          },
          "metadata": {
            "needs_background": "light"
          },
          "output_type": "display_data"
        }
      ],
      "source": [
        "t.hist(bins=200, figsize=(12,6))"
      ]
    },
    {
      "cell_type": "code",
      "execution_count": null,
      "metadata": {
        "id": "-mQp8NZB_hay",
        "outputId": "b2b3af63-2e34-4ab9-c7de-48ebd1e5e095"
      },
      "outputs": [
        {
          "data": {
            "text/html": [
              "<div>\n",
              "<style scoped>\n",
              "    .dataframe tbody tr th:only-of-type {\n",
              "        vertical-align: middle;\n",
              "    }\n",
              "\n",
              "    .dataframe tbody tr th {\n",
              "        vertical-align: top;\n",
              "    }\n",
              "\n",
              "    .dataframe thead th {\n",
              "        text-align: right;\n",
              "    }\n",
              "</style>\n",
              "<table border=\"1\" class=\"dataframe\">\n",
              "  <thead>\n",
              "    <tr style=\"text-align: right;\">\n",
              "      <th></th>\n",
              "      <th>InvoiceNo</th>\n",
              "      <th>StockCode</th>\n",
              "      <th>Description</th>\n",
              "      <th>Quantity</th>\n",
              "      <th>InvoiceDate</th>\n",
              "      <th>UnitPrice</th>\n",
              "      <th>CustomerID</th>\n",
              "      <th>Country</th>\n",
              "    </tr>\n",
              "  </thead>\n",
              "  <tbody>\n",
              "    <tr>\n",
              "      <th>1273</th>\n",
              "      <td>536532</td>\n",
              "      <td>21984</td>\n",
              "      <td>PACK OF 12 PINK PAISLEY TISSUES</td>\n",
              "      <td>48</td>\n",
              "      <td>12/1/2010 13:24</td>\n",
              "      <td>0.29</td>\n",
              "      <td>12433.0</td>\n",
              "      <td>Norway</td>\n",
              "    </tr>\n",
              "    <tr>\n",
              "      <th>2630</th>\n",
              "      <td>536592</td>\n",
              "      <td>21984</td>\n",
              "      <td>PACK OF 12 PINK PAISLEY TISSUES</td>\n",
              "      <td>1</td>\n",
              "      <td>12/1/2010 17:06</td>\n",
              "      <td>0.85</td>\n",
              "      <td>NaN</td>\n",
              "      <td>United Kingdom</td>\n",
              "    </tr>\n",
              "    <tr>\n",
              "      <th>4640</th>\n",
              "      <td>536796</td>\n",
              "      <td>21984</td>\n",
              "      <td>PACK OF 12 PINK PAISLEY TISSUES</td>\n",
              "      <td>1</td>\n",
              "      <td>12/2/2010 15:46</td>\n",
              "      <td>0.29</td>\n",
              "      <td>15574.0</td>\n",
              "      <td>United Kingdom</td>\n",
              "    </tr>\n",
              "    <tr>\n",
              "      <th>6343</th>\n",
              "      <td>536876</td>\n",
              "      <td>21984</td>\n",
              "      <td>PACK OF 12 PINK PAISLEY TISSUES</td>\n",
              "      <td>2</td>\n",
              "      <td>12/3/2010 11:36</td>\n",
              "      <td>0.85</td>\n",
              "      <td>NaN</td>\n",
              "      <td>United Kingdom</td>\n",
              "    </tr>\n",
              "    <tr>\n",
              "      <th>9713</th>\n",
              "      <td>537212</td>\n",
              "      <td>21984</td>\n",
              "      <td>PACK OF 12 PINK PAISLEY TISSUES</td>\n",
              "      <td>24</td>\n",
              "      <td>12/5/2010 15:21</td>\n",
              "      <td>0.29</td>\n",
              "      <td>12720.0</td>\n",
              "      <td>Germany</td>\n",
              "    </tr>\n",
              "    <tr>\n",
              "      <th>...</th>\n",
              "      <td>...</td>\n",
              "      <td>...</td>\n",
              "      <td>...</td>\n",
              "      <td>...</td>\n",
              "      <td>...</td>\n",
              "      <td>...</td>\n",
              "      <td>...</td>\n",
              "      <td>...</td>\n",
              "    </tr>\n",
              "    <tr>\n",
              "      <th>538329</th>\n",
              "      <td>581405</td>\n",
              "      <td>21984</td>\n",
              "      <td>PACK OF 12 PINK PAISLEY TISSUES</td>\n",
              "      <td>3</td>\n",
              "      <td>12/8/2011 13:50</td>\n",
              "      <td>0.39</td>\n",
              "      <td>13521.0</td>\n",
              "      <td>United Kingdom</td>\n",
              "    </tr>\n",
              "    <tr>\n",
              "      <th>538363</th>\n",
              "      <td>581405</td>\n",
              "      <td>21984</td>\n",
              "      <td>PACK OF 12 PINK PAISLEY TISSUES</td>\n",
              "      <td>1</td>\n",
              "      <td>12/8/2011 13:50</td>\n",
              "      <td>0.39</td>\n",
              "      <td>13521.0</td>\n",
              "      <td>United Kingdom</td>\n",
              "    </tr>\n",
              "    <tr>\n",
              "      <th>539502</th>\n",
              "      <td>581439</td>\n",
              "      <td>21984</td>\n",
              "      <td>PACK OF 12 PINK PAISLEY TISSUES</td>\n",
              "      <td>1</td>\n",
              "      <td>12/8/2011 16:30</td>\n",
              "      <td>0.83</td>\n",
              "      <td>NaN</td>\n",
              "      <td>United Kingdom</td>\n",
              "    </tr>\n",
              "    <tr>\n",
              "      <th>539982</th>\n",
              "      <td>581453</td>\n",
              "      <td>21984</td>\n",
              "      <td>PACK OF 12 PINK PAISLEY TISSUES</td>\n",
              "      <td>24</td>\n",
              "      <td>12/8/2011 18:15</td>\n",
              "      <td>0.39</td>\n",
              "      <td>16401.0</td>\n",
              "      <td>United Kingdom</td>\n",
              "    </tr>\n",
              "    <tr>\n",
              "      <th>540706</th>\n",
              "      <td>581492</td>\n",
              "      <td>21984</td>\n",
              "      <td>PACK OF 12 PINK PAISLEY TISSUES</td>\n",
              "      <td>1</td>\n",
              "      <td>12/9/2011 10:03</td>\n",
              "      <td>0.83</td>\n",
              "      <td>NaN</td>\n",
              "      <td>United Kingdom</td>\n",
              "    </tr>\n",
              "  </tbody>\n",
              "</table>\n",
              "<p>217 rows × 8 columns</p>\n",
              "</div>"
            ],
            "text/plain": [
              "       InvoiceNo StockCode                       Description  Quantity  \\\n",
              "1273      536532     21984  PACK OF 12 PINK PAISLEY TISSUES         48   \n",
              "2630      536592     21984  PACK OF 12 PINK PAISLEY TISSUES          1   \n",
              "4640      536796     21984  PACK OF 12 PINK PAISLEY TISSUES          1   \n",
              "6343      536876     21984  PACK OF 12 PINK PAISLEY TISSUES          2   \n",
              "9713      537212     21984  PACK OF 12 PINK PAISLEY TISSUES         24   \n",
              "...          ...       ...                               ...       ...   \n",
              "538329    581405     21984  PACK OF 12 PINK PAISLEY TISSUES          3   \n",
              "538363    581405     21984  PACK OF 12 PINK PAISLEY TISSUES          1   \n",
              "539502    581439     21984  PACK OF 12 PINK PAISLEY TISSUES          1   \n",
              "539982    581453     21984  PACK OF 12 PINK PAISLEY TISSUES         24   \n",
              "540706    581492     21984  PACK OF 12 PINK PAISLEY TISSUES          1   \n",
              "\n",
              "            InvoiceDate  UnitPrice  CustomerID         Country  \n",
              "1273    12/1/2010 13:24       0.29     12433.0          Norway  \n",
              "2630    12/1/2010 17:06       0.85         NaN  United Kingdom  \n",
              "4640    12/2/2010 15:46       0.29     15574.0  United Kingdom  \n",
              "6343    12/3/2010 11:36       0.85         NaN  United Kingdom  \n",
              "9713    12/5/2010 15:21       0.29     12720.0         Germany  \n",
              "...                 ...        ...         ...             ...  \n",
              "538329  12/8/2011 13:50       0.39     13521.0  United Kingdom  \n",
              "538363  12/8/2011 13:50       0.39     13521.0  United Kingdom  \n",
              "539502  12/8/2011 16:30       0.83         NaN  United Kingdom  \n",
              "539982  12/8/2011 18:15       0.39     16401.0  United Kingdom  \n",
              "540706  12/9/2011 10:03       0.83         NaN  United Kingdom  \n",
              "\n",
              "[217 rows x 8 columns]"
            ]
          },
          "execution_count": 12,
          "metadata": {},
          "output_type": "execute_result"
        }
      ],
      "source": [
        "data[data.StockCode=='21984']"
      ]
    },
    {
      "cell_type": "markdown",
      "metadata": {
        "id": "-J8zRzrr_haz"
      },
      "source": [
        "StockCode должен быть 5-значным номером. Посмотрим, везде ли это так"
      ]
    },
    {
      "cell_type": "code",
      "execution_count": null,
      "metadata": {
        "id": "tIS0U_MM_ha0",
        "outputId": "d3be3feb-74d9-4aca-f33f-9b6bfe5b08c0"
      },
      "outputs": [
        {
          "data": {
            "text/plain": [
              "(531285, 8)"
            ]
          },
          "execution_count": 13,
          "metadata": {},
          "output_type": "execute_result"
        }
      ],
      "source": [
        "data.shape"
      ]
    },
    {
      "cell_type": "code",
      "execution_count": null,
      "metadata": {
        "id": "KjQMgaXt_ha0",
        "outputId": "5117a655-a5f8-495e-e480-7342ed09ec33"
      },
      "outputs": [
        {
          "data": {
            "text/plain": [
              "(478049, 8)"
            ]
          },
          "execution_count": 14,
          "metadata": {},
          "output_type": "execute_result"
        }
      ],
      "source": [
        "data[(data.StockCode.str.isdigit()) & (data.StockCode.str.len() == 5)].shape"
      ]
    },
    {
      "cell_type": "markdown",
      "metadata": {
        "id": "fcmz5uoM_ha1"
      },
      "source": [
        "Возьмем только с корректным номером"
      ]
    },
    {
      "cell_type": "code",
      "execution_count": null,
      "metadata": {
        "id": "_Y_o8_1G_ha1"
      },
      "outputs": [],
      "source": [
        "data = data[(data.StockCode.str.isdigit()) & (data.StockCode.str.len() == 5)]"
      ]
    },
    {
      "cell_type": "markdown",
      "metadata": {
        "id": "bma9hBdf_ha1"
      },
      "source": [
        "# 2. Построение матрицы"
      ]
    },
    {
      "cell_type": "code",
      "execution_count": 28,
      "metadata": {
        "colab": {
          "base_uri": "https://localhost:8080/"
        },
        "id": "ruw7K4MO_ha2",
        "outputId": "29b4d726-9abd-4a93-bd95-f375f127a069"
      },
      "outputs": [
        {
          "output_type": "execute_result",
          "data": {
            "text/plain": [
              "(531285, 8)"
            ]
          },
          "metadata": {},
          "execution_count": 28
        }
      ],
      "source": [
        "data.shape"
      ]
    },
    {
      "cell_type": "code",
      "execution_count": 29,
      "metadata": {
        "id": "zSB4Eeq7_ha2"
      },
      "outputs": [],
      "source": [
        "A = pd.pivot_table(data, values='Quantity', index=['InvoiceNo'], columns=['StockCode'])"
      ]
    },
    {
      "cell_type": "code",
      "execution_count": 30,
      "metadata": {
        "id": "aiKJm3Ed_ha3"
      },
      "outputs": [],
      "source": [
        "A.fillna(0, inplace=True)"
      ]
    },
    {
      "cell_type": "code",
      "execution_count": 31,
      "metadata": {
        "id": "X1b00RtU_ha3"
      },
      "outputs": [],
      "source": [
        "A = A.reset_index()"
      ]
    },
    {
      "cell_type": "code",
      "execution_count": 32,
      "metadata": {
        "id": "dRBoh3hW_ha3"
      },
      "outputs": [],
      "source": [
        "A.columns.name = None\n",
        "A.index.name = None\n",
        "A.drop(['InvoiceNo'], axis=1, inplace=True)"
      ]
    },
    {
      "cell_type": "code",
      "execution_count": 33,
      "metadata": {
        "colab": {
          "base_uri": "https://localhost:8080/",
          "height": 299
        },
        "id": "ndOgKOl8_ha3",
        "outputId": "2e94c3ea-8d0a-4492-b9c1-78adcff74476"
      },
      "outputs": [
        {
          "output_type": "execute_result",
          "data": {
            "text/plain": [
              "   10002  10080  10120  10123C  10124A  10124G  10125  10133  10135  11001  \\\n",
              "0    0.0    0.0    0.0     0.0     0.0     0.0    0.0    0.0    0.0    0.0   \n",
              "1    0.0    0.0    0.0     0.0     0.0     0.0    0.0    0.0    0.0    0.0   \n",
              "2    0.0    0.0    0.0     0.0     0.0     0.0    0.0    0.0    0.0    0.0   \n",
              "3    0.0    0.0    0.0     0.0     0.0     0.0    0.0    0.0    0.0    0.0   \n",
              "4    0.0    0.0    0.0     0.0     0.0     0.0    0.0    0.0    0.0    0.0   \n",
              "\n",
              "   ...    M  PADS  POST    S  gift_0001_10  gift_0001_20  gift_0001_30  \\\n",
              "0  ...  0.0   0.0   0.0  0.0           0.0           0.0           0.0   \n",
              "1  ...  0.0   0.0   0.0  0.0           0.0           0.0           0.0   \n",
              "2  ...  0.0   0.0   0.0  0.0           0.0           0.0           0.0   \n",
              "3  ...  0.0   0.0   0.0  0.0           0.0           0.0           0.0   \n",
              "4  ...  0.0   0.0   0.0  0.0           0.0           0.0           0.0   \n",
              "\n",
              "   gift_0001_40  gift_0001_50    m  \n",
              "0           0.0           0.0  0.0  \n",
              "1           0.0           0.0  0.0  \n",
              "2           0.0           0.0  0.0  \n",
              "3           0.0           0.0  0.0  \n",
              "4           0.0           0.0  0.0  \n",
              "\n",
              "[5 rows x 3941 columns]"
            ],
            "text/html": [
              "\n",
              "  <div id=\"df-19dc2ed1-1cdb-4990-a5bb-403db477d847\">\n",
              "    <div class=\"colab-df-container\">\n",
              "      <div>\n",
              "<style scoped>\n",
              "    .dataframe tbody tr th:only-of-type {\n",
              "        vertical-align: middle;\n",
              "    }\n",
              "\n",
              "    .dataframe tbody tr th {\n",
              "        vertical-align: top;\n",
              "    }\n",
              "\n",
              "    .dataframe thead th {\n",
              "        text-align: right;\n",
              "    }\n",
              "</style>\n",
              "<table border=\"1\" class=\"dataframe\">\n",
              "  <thead>\n",
              "    <tr style=\"text-align: right;\">\n",
              "      <th></th>\n",
              "      <th>10002</th>\n",
              "      <th>10080</th>\n",
              "      <th>10120</th>\n",
              "      <th>10123C</th>\n",
              "      <th>10124A</th>\n",
              "      <th>10124G</th>\n",
              "      <th>10125</th>\n",
              "      <th>10133</th>\n",
              "      <th>10135</th>\n",
              "      <th>11001</th>\n",
              "      <th>...</th>\n",
              "      <th>M</th>\n",
              "      <th>PADS</th>\n",
              "      <th>POST</th>\n",
              "      <th>S</th>\n",
              "      <th>gift_0001_10</th>\n",
              "      <th>gift_0001_20</th>\n",
              "      <th>gift_0001_30</th>\n",
              "      <th>gift_0001_40</th>\n",
              "      <th>gift_0001_50</th>\n",
              "      <th>m</th>\n",
              "    </tr>\n",
              "  </thead>\n",
              "  <tbody>\n",
              "    <tr>\n",
              "      <th>0</th>\n",
              "      <td>0.0</td>\n",
              "      <td>0.0</td>\n",
              "      <td>0.0</td>\n",
              "      <td>0.0</td>\n",
              "      <td>0.0</td>\n",
              "      <td>0.0</td>\n",
              "      <td>0.0</td>\n",
              "      <td>0.0</td>\n",
              "      <td>0.0</td>\n",
              "      <td>0.0</td>\n",
              "      <td>...</td>\n",
              "      <td>0.0</td>\n",
              "      <td>0.0</td>\n",
              "      <td>0.0</td>\n",
              "      <td>0.0</td>\n",
              "      <td>0.0</td>\n",
              "      <td>0.0</td>\n",
              "      <td>0.0</td>\n",
              "      <td>0.0</td>\n",
              "      <td>0.0</td>\n",
              "      <td>0.0</td>\n",
              "    </tr>\n",
              "    <tr>\n",
              "      <th>1</th>\n",
              "      <td>0.0</td>\n",
              "      <td>0.0</td>\n",
              "      <td>0.0</td>\n",
              "      <td>0.0</td>\n",
              "      <td>0.0</td>\n",
              "      <td>0.0</td>\n",
              "      <td>0.0</td>\n",
              "      <td>0.0</td>\n",
              "      <td>0.0</td>\n",
              "      <td>0.0</td>\n",
              "      <td>...</td>\n",
              "      <td>0.0</td>\n",
              "      <td>0.0</td>\n",
              "      <td>0.0</td>\n",
              "      <td>0.0</td>\n",
              "      <td>0.0</td>\n",
              "      <td>0.0</td>\n",
              "      <td>0.0</td>\n",
              "      <td>0.0</td>\n",
              "      <td>0.0</td>\n",
              "      <td>0.0</td>\n",
              "    </tr>\n",
              "    <tr>\n",
              "      <th>2</th>\n",
              "      <td>0.0</td>\n",
              "      <td>0.0</td>\n",
              "      <td>0.0</td>\n",
              "      <td>0.0</td>\n",
              "      <td>0.0</td>\n",
              "      <td>0.0</td>\n",
              "      <td>0.0</td>\n",
              "      <td>0.0</td>\n",
              "      <td>0.0</td>\n",
              "      <td>0.0</td>\n",
              "      <td>...</td>\n",
              "      <td>0.0</td>\n",
              "      <td>0.0</td>\n",
              "      <td>0.0</td>\n",
              "      <td>0.0</td>\n",
              "      <td>0.0</td>\n",
              "      <td>0.0</td>\n",
              "      <td>0.0</td>\n",
              "      <td>0.0</td>\n",
              "      <td>0.0</td>\n",
              "      <td>0.0</td>\n",
              "    </tr>\n",
              "    <tr>\n",
              "      <th>3</th>\n",
              "      <td>0.0</td>\n",
              "      <td>0.0</td>\n",
              "      <td>0.0</td>\n",
              "      <td>0.0</td>\n",
              "      <td>0.0</td>\n",
              "      <td>0.0</td>\n",
              "      <td>0.0</td>\n",
              "      <td>0.0</td>\n",
              "      <td>0.0</td>\n",
              "      <td>0.0</td>\n",
              "      <td>...</td>\n",
              "      <td>0.0</td>\n",
              "      <td>0.0</td>\n",
              "      <td>0.0</td>\n",
              "      <td>0.0</td>\n",
              "      <td>0.0</td>\n",
              "      <td>0.0</td>\n",
              "      <td>0.0</td>\n",
              "      <td>0.0</td>\n",
              "      <td>0.0</td>\n",
              "      <td>0.0</td>\n",
              "    </tr>\n",
              "    <tr>\n",
              "      <th>4</th>\n",
              "      <td>0.0</td>\n",
              "      <td>0.0</td>\n",
              "      <td>0.0</td>\n",
              "      <td>0.0</td>\n",
              "      <td>0.0</td>\n",
              "      <td>0.0</td>\n",
              "      <td>0.0</td>\n",
              "      <td>0.0</td>\n",
              "      <td>0.0</td>\n",
              "      <td>0.0</td>\n",
              "      <td>...</td>\n",
              "      <td>0.0</td>\n",
              "      <td>0.0</td>\n",
              "      <td>0.0</td>\n",
              "      <td>0.0</td>\n",
              "      <td>0.0</td>\n",
              "      <td>0.0</td>\n",
              "      <td>0.0</td>\n",
              "      <td>0.0</td>\n",
              "      <td>0.0</td>\n",
              "      <td>0.0</td>\n",
              "    </tr>\n",
              "  </tbody>\n",
              "</table>\n",
              "<p>5 rows × 3941 columns</p>\n",
              "</div>\n",
              "      <button class=\"colab-df-convert\" onclick=\"convertToInteractive('df-19dc2ed1-1cdb-4990-a5bb-403db477d847')\"\n",
              "              title=\"Convert this dataframe to an interactive table.\"\n",
              "              style=\"display:none;\">\n",
              "        \n",
              "  <svg xmlns=\"http://www.w3.org/2000/svg\" height=\"24px\"viewBox=\"0 0 24 24\"\n",
              "       width=\"24px\">\n",
              "    <path d=\"M0 0h24v24H0V0z\" fill=\"none\"/>\n",
              "    <path d=\"M18.56 5.44l.94 2.06.94-2.06 2.06-.94-2.06-.94-.94-2.06-.94 2.06-2.06.94zm-11 1L8.5 8.5l.94-2.06 2.06-.94-2.06-.94L8.5 2.5l-.94 2.06-2.06.94zm10 10l.94 2.06.94-2.06 2.06-.94-2.06-.94-.94-2.06-.94 2.06-2.06.94z\"/><path d=\"M17.41 7.96l-1.37-1.37c-.4-.4-.92-.59-1.43-.59-.52 0-1.04.2-1.43.59L10.3 9.45l-7.72 7.72c-.78.78-.78 2.05 0 2.83L4 21.41c.39.39.9.59 1.41.59.51 0 1.02-.2 1.41-.59l7.78-7.78 2.81-2.81c.8-.78.8-2.07 0-2.86zM5.41 20L4 18.59l7.72-7.72 1.47 1.35L5.41 20z\"/>\n",
              "  </svg>\n",
              "      </button>\n",
              "      \n",
              "  <style>\n",
              "    .colab-df-container {\n",
              "      display:flex;\n",
              "      flex-wrap:wrap;\n",
              "      gap: 12px;\n",
              "    }\n",
              "\n",
              "    .colab-df-convert {\n",
              "      background-color: #E8F0FE;\n",
              "      border: none;\n",
              "      border-radius: 50%;\n",
              "      cursor: pointer;\n",
              "      display: none;\n",
              "      fill: #1967D2;\n",
              "      height: 32px;\n",
              "      padding: 0 0 0 0;\n",
              "      width: 32px;\n",
              "    }\n",
              "\n",
              "    .colab-df-convert:hover {\n",
              "      background-color: #E2EBFA;\n",
              "      box-shadow: 0px 1px 2px rgba(60, 64, 67, 0.3), 0px 1px 3px 1px rgba(60, 64, 67, 0.15);\n",
              "      fill: #174EA6;\n",
              "    }\n",
              "\n",
              "    [theme=dark] .colab-df-convert {\n",
              "      background-color: #3B4455;\n",
              "      fill: #D2E3FC;\n",
              "    }\n",
              "\n",
              "    [theme=dark] .colab-df-convert:hover {\n",
              "      background-color: #434B5C;\n",
              "      box-shadow: 0px 1px 3px 1px rgba(0, 0, 0, 0.15);\n",
              "      filter: drop-shadow(0px 1px 2px rgba(0, 0, 0, 0.3));\n",
              "      fill: #FFFFFF;\n",
              "    }\n",
              "  </style>\n",
              "\n",
              "      <script>\n",
              "        const buttonEl =\n",
              "          document.querySelector('#df-19dc2ed1-1cdb-4990-a5bb-403db477d847 button.colab-df-convert');\n",
              "        buttonEl.style.display =\n",
              "          google.colab.kernel.accessAllowed ? 'block' : 'none';\n",
              "\n",
              "        async function convertToInteractive(key) {\n",
              "          const element = document.querySelector('#df-19dc2ed1-1cdb-4990-a5bb-403db477d847');\n",
              "          const dataTable =\n",
              "            await google.colab.kernel.invokeFunction('convertToInteractive',\n",
              "                                                     [key], {});\n",
              "          if (!dataTable) return;\n",
              "\n",
              "          const docLinkHtml = 'Like what you see? Visit the ' +\n",
              "            '<a target=\"_blank\" href=https://colab.research.google.com/notebooks/data_table.ipynb>data table notebook</a>'\n",
              "            + ' to learn more about interactive tables.';\n",
              "          element.innerHTML = '';\n",
              "          dataTable['output_type'] = 'display_data';\n",
              "          await google.colab.output.renderOutput(dataTable, element);\n",
              "          const docLink = document.createElement('div');\n",
              "          docLink.innerHTML = docLinkHtml;\n",
              "          element.appendChild(docLink);\n",
              "        }\n",
              "      </script>\n",
              "    </div>\n",
              "  </div>\n",
              "  "
            ]
          },
          "metadata": {},
          "execution_count": 33
        }
      ],
      "source": [
        "A.head()"
      ]
    },
    {
      "cell_type": "code",
      "execution_count": 34,
      "metadata": {
        "id": "vXwqs3gj_ha4"
      },
      "outputs": [],
      "source": [
        "X_A = A.to_numpy()"
      ]
    },
    {
      "cell_type": "code",
      "execution_count": 35,
      "metadata": {
        "colab": {
          "base_uri": "https://localhost:8080/"
        },
        "id": "NYT-G5Zp_ha4",
        "outputId": "9519c539-46ca-4909-c3c7-d793b8a661d8"
      },
      "outputs": [
        {
          "output_type": "execute_result",
          "data": {
            "text/plain": [
              "(20728, 3941)"
            ]
          },
          "metadata": {},
          "execution_count": 35
        }
      ],
      "source": [
        "X_A.shape"
      ]
    },
    {
      "cell_type": "code",
      "execution_count": 36,
      "metadata": {
        "id": "45rk3d_9_ha5"
      },
      "outputs": [],
      "source": [
        "B = (A > 0).astype(int)"
      ]
    },
    {
      "cell_type": "code",
      "execution_count": 37,
      "metadata": {
        "id": "BYj65Zi4_ha5"
      },
      "outputs": [],
      "source": [
        "X_B = B.to_numpy()"
      ]
    },
    {
      "cell_type": "markdown",
      "metadata": {
        "id": "b0kf0MLv_ha5"
      },
      "source": [
        "## Степень разреженности"
      ]
    },
    {
      "cell_type": "code",
      "execution_count": 38,
      "metadata": {
        "colab": {
          "base_uri": "https://localhost:8080/"
        },
        "id": "ucZPIdDb_ha5",
        "outputId": "734e6720-4361-4837-cc6f-3bda990401cb"
      },
      "outputs": [
        {
          "output_type": "execute_result",
          "data": {
            "text/plain": [
              "0.6374783557276857"
            ]
          },
          "metadata": {},
          "execution_count": 38
        }
      ],
      "source": [
        "sum(sum(X_B)) / (X_B.shape[0]*X_B.shape[1]) * 100"
      ]
    },
    {
      "cell_type": "markdown",
      "metadata": {
        "id": "Gu8GlNaw_ha6"
      },
      "source": [
        "Кажется, что матрица довольно сильно разреженная"
      ]
    },
    {
      "cell_type": "markdown",
      "metadata": {
        "id": "1r_6H3gs_ha6"
      },
      "source": [
        "# 3. Получение эмбеддингов"
      ]
    },
    {
      "cell_type": "code",
      "execution_count": 39,
      "metadata": {
        "colab": {
          "base_uri": "https://localhost:8080/"
        },
        "id": "cvOxMTWq_ha6",
        "outputId": "7322ccc7-f89b-450e-f8fb-bc7852f4ccef"
      },
      "outputs": [
        {
          "output_type": "execute_result",
          "data": {
            "text/plain": [
              "array([[0., 0., 0., ..., 0., 0., 0.],\n",
              "       [0., 0., 0., ..., 0., 0., 0.],\n",
              "       [0., 0., 0., ..., 0., 0., 0.],\n",
              "       ...,\n",
              "       [0., 0., 0., ..., 0., 0., 0.],\n",
              "       [0., 0., 0., ..., 0., 0., 0.],\n",
              "       [0., 0., 0., ..., 0., 0., 0.]])"
            ]
          },
          "metadata": {},
          "execution_count": 39
        }
      ],
      "source": [
        "X_A"
      ]
    },
    {
      "cell_type": "code",
      "execution_count": 40,
      "metadata": {
        "colab": {
          "base_uri": "https://localhost:8080/"
        },
        "id": "fjOMIswl_ha7",
        "outputId": "490b56e7-f7e0-4ac8-fb2e-b5228bb24149"
      },
      "outputs": [
        {
          "output_type": "stream",
          "name": "stderr",
          "text": [
            "100%|██████████| 15/15 [07:00<00:00, 28.06s/it]\n"
          ]
        }
      ],
      "source": [
        "results_nmf = {}\n",
        "results_svd = {}\n",
        "for n_components in tqdm(range(1, 16)):\n",
        "    model = NMF(n_components=n_components, init='random', random_state=0)\n",
        "    nmf = model.fit_transform(X_A)\n",
        "    nmf_em = model.components_\n",
        "    results_nmf[n_components] = np.linalg.norm(X_A - nmf @ nmf_em)\n",
        "    \n",
        "    model = TruncatedSVD(n_components=n_components, random_state=0)\n",
        "    svd = model.fit_transform(X_A)\n",
        "    svd_em = model.components_\n",
        "    results_svd[n_components] = np.linalg.norm(X_A - svd @ svd_em)"
      ]
    },
    {
      "cell_type": "code",
      "execution_count": 43,
      "metadata": {
        "colab": {
          "base_uri": "https://localhost:8080/",
          "height": 390
        },
        "id": "U45GmI3G_ha7",
        "outputId": "1bd2e61f-d415-4ef9-90e1-d91765fb412f"
      },
      "outputs": [
        {
          "output_type": "display_data",
          "data": {
            "text/plain": [
              "<Figure size 864x432 with 1 Axes>"
            ],
            "image/png": "[encoded data removed]"
          },
          "metadata": {}
        }
      ],
      "source": [
        "plt.figure(figsize=(12,6))\n",
        "plt.plot(list(results_nmf.keys()), list(results_nmf.values()), label='NMF')\n",
        "plt.plot(list(results_svd.keys()), list(results_svd.values()), label='SVD')\n",
        "plt.legend()\n",
        "plt.title('Норма между разложением и исходной матрицей X_A')\n",
        "plt.show()"
      ]
    },
    {
      "cell_type": "code",
      "execution_count": 44,
      "metadata": {
        "colab": {
          "base_uri": "https://localhost:8080/"
        },
        "id": "WGD_GkaJ_ha7",
        "outputId": "7ac7e7ea-cb29-42e8-a0e6-38387f252d86"
      },
      "outputs": [
        {
          "output_type": "stream",
          "name": "stderr",
          "text": [
            " 20%|██        | 3/15 [02:12<09:34, 47.89s/it]/usr/local/lib/python3.7/dist-packages/sklearn/decomposition/_nmf.py:1641: ConvergenceWarning: Maximum number of iterations 200 reached. Increase it to improve convergence.\n",
            "  ConvergenceWarning,\n",
            " 47%|████▋     | 7/15 [09:21<12:35, 94.47s/it]/usr/local/lib/python3.7/dist-packages/sklearn/decomposition/_nmf.py:1641: ConvergenceWarning: Maximum number of iterations 200 reached. Increase it to improve convergence.\n",
            "  ConvergenceWarning,\n",
            " 73%|███████▎  | 11/15 [15:41<05:59, 89.76s/it]/usr/local/lib/python3.7/dist-packages/sklearn/decomposition/_nmf.py:1641: ConvergenceWarning: Maximum number of iterations 200 reached. Increase it to improve convergence.\n",
            "  ConvergenceWarning,\n",
            " 80%|████████  | 12/15 [18:26<05:37, 112.50s/it]/usr/local/lib/python3.7/dist-packages/sklearn/decomposition/_nmf.py:1641: ConvergenceWarning: Maximum number of iterations 200 reached. Increase it to improve convergence.\n",
            "  ConvergenceWarning,\n",
            " 87%|████████▋ | 13/15 [21:25<04:25, 132.83s/it]/usr/local/lib/python3.7/dist-packages/sklearn/decomposition/_nmf.py:1641: ConvergenceWarning: Maximum number of iterations 200 reached. Increase it to improve convergence.\n",
            "  ConvergenceWarning,\n",
            "100%|██████████| 15/15 [26:54<00:00, 107.65s/it]\n"
          ]
        }
      ],
      "source": [
        "results_nmf = {}\n",
        "results_svd = {}\n",
        "for n_components in tqdm(range(1, 16)):\n",
        "    model = NMF(n_components=n_components, init='random', random_state=0)\n",
        "    nmf = model.fit_transform(X_B)\n",
        "    nmf_em = model.components_\n",
        "    results_nmf[n_components] = np.linalg.norm(X_B - nmf @ nmf_em)\n",
        "    \n",
        "    model = TruncatedSVD(n_components=n_components, random_state=0)\n",
        "    svd = model.fit_transform(X_B)\n",
        "    svd_em = model.components_\n",
        "    results_svd[n_components] = np.linalg.norm(X_B - svd @ svd_em)"
      ]
    },
    {
      "cell_type": "code",
      "execution_count": 46,
      "metadata": {
        "colab": {
          "base_uri": "https://localhost:8080/",
          "height": 390
        },
        "id": "nnshiV2B_ha8",
        "outputId": "f2466173-cb6d-40fb-f5c7-484e84d9ed01"
      },
      "outputs": [
        {
          "output_type": "display_data",
          "data": {
            "text/plain": [
              "<Figure size 864x432 with 1 Axes>"
            ],
            "image/png": "[encoded data removed]"
          },
          "metadata": {}
        }
      ],
      "source": [
        "plt.figure(figsize=(12,6))\n",
        "plt.plot(list(results_nmf.keys()), list(results_nmf.values()), label='NMF')\n",
        "plt.plot(list(results_svd.keys()), list(results_svd.values()), label='SVD')\n",
        "plt.legend()\n",
        "plt.title('Норма между разложением и исходной матрицей X_B')\n",
        "plt.show()"
      ]
    },
    {
      "cell_type": "markdown",
      "metadata": {
        "id": "-jfBscEO_ha8"
      },
      "source": [
        "**Выводы:**  \n",
        "- \"Хорошими\" эмбеддингами будем считать те, которые хорошо по L2-норме приближаются к исходной матрице.  \n",
        "Судя по графику, лучше взять 6-8 компонент, что уже дает хорошее качество, но будет быстрее работать при кластеризации, нежели чем 15.\n",
        "- SVD лучше, чем NMF, как и следует из теории. \n",
        "- Установим разложение SVD на 8 компонент"
      ]
    },
    {
      "cell_type": "code",
      "execution_count": 47,
      "metadata": {
        "id": "z8q5qvnL_ha9"
      },
      "outputs": [],
      "source": [
        "model = TruncatedSVD(n_components=8, random_state=0)\n",
        "svd_A = model.fit_transform(X_A)\n",
        "svd_em_А = model.components_\n",
        "\n",
        "model = TruncatedSVD(n_components=8, random_state=0)\n",
        "svd_B = model.fit_transform(X_B)\n",
        "svd_em_B = model.components_"
      ]
    },
    {
      "cell_type": "code",
      "execution_count": null,
      "metadata": {
        "id": "D0KuWmU4_ha9",
        "outputId": "fecbfd8f-83e9-45b6-cbfb-d90b09b1f99c"
      },
      "outputs": [
        {
          "data": {
            "text/plain": [
              "(20728, 8)"
            ]
          },
          "execution_count": 121,
          "metadata": {},
          "output_type": "execute_result"
        }
      ],
      "source": [
        "svd_A.shape"
      ]
    },
    {
      "cell_type": "code",
      "execution_count": null,
      "metadata": {
        "id": "ji8fuqqq_ha9",
        "outputId": "dffe3d72-5fdb-452e-b2d5-65fb27c23371"
      },
      "outputs": [
        {
          "data": {
            "text/plain": [
              "(20728, 3941)"
            ]
          },
          "execution_count": 126,
          "metadata": {},
          "output_type": "execute_result"
        }
      ],
      "source": [
        "(svd_A @ svd_em_А).shape"
      ]
    },
    {
      "cell_type": "markdown",
      "metadata": {
        "id": "iy-dOczH_ha-"
      },
      "source": [
        "# 4. Кластеризация"
      ]
    },
    {
      "cell_type": "markdown",
      "metadata": {
        "id": "el78JNqX_ha-"
      },
      "source": [
        "## K-MEANS"
      ]
    },
    {
      "cell_type": "markdown",
      "metadata": {
        "id": "ZAYachAJ_ha-"
      },
      "source": [
        "**Выберем количество кластеров исходя из Elbow Method, базирующийся на расчете WCSS метрики**"
      ]
    },
    {
      "cell_type": "code",
      "execution_count": null,
      "metadata": {
        "id": "DhCb1yb0_ha-",
        "outputId": "255aea44-f5bc-4f95-98cb-1038c5aaa1ba"
      },
      "outputs": [
        {
          "data": {
            "image/png": "[encoded data removed]",
            "text/plain": [
              "<Figure size 576x396 with 1 Axes>"
            ]
          },
          "metadata": {},
          "output_type": "display_data"
        },
        {
          "data": {
            "text/plain": [
              "<AxesSubplot:title={'center':'Distortion Score Elbow for KMeans Clustering'}, xlabel='k', ylabel='distortion score'>"
            ]
          },
          "execution_count": 128,
          "metadata": {},
          "output_type": "execute_result"
        }
      ],
      "source": [
        "# матрица A\n",
        "\n",
        "from yellowbrick.cluster import KElbowVisualizer\n",
        "model = KMeans()\n",
        "visualizer = KElbowVisualizer(model, k=(1, 16), timings= False)\n",
        "visualizer.fit(svd_em_А.T)\n",
        "visualizer.show()"
      ]
    },
    {
      "cell_type": "markdown",
      "metadata": {
        "id": "A7QN8AuI_ha_"
      },
      "source": [
        "Посмотрим, сколько элементов будет в каждом кластере при k=10"
      ]
    },
    {
      "cell_type": "code",
      "execution_count": null,
      "metadata": {
        "id": "EBQreBGF_ha_"
      },
      "outputs": [],
      "source": [
        "kmeans = KMeans(n_clusters=10, random_state=0).fit(svd_em_А.T)"
      ]
    },
    {
      "cell_type": "code",
      "execution_count": null,
      "metadata": {
        "id": "8taH7Ekx_ha_"
      },
      "outputs": [],
      "source": [
        "Counter(kmeans.labels_)"
      ]
    },
    {
      "cell_type": "code",
      "execution_count": null,
      "metadata": {
        "id": "fqfd6J1x_hbA"
      },
      "outputs": [],
      "source": [
        "kmeans = KMeans(n_clusters=2, random_state=0).fit(svd_em_А.T)\n",
        "Counter(kmeans.labels_)"
      ]
    },
    {
      "cell_type": "code",
      "execution_count": null,
      "metadata": {
        "id": "h8Ypzz01_hbA",
        "outputId": "e998df8a-f595-4dc7-a870-602fb434f3a1"
      },
      "outputs": [
        {
          "data": {
            "image/png": "[encoded data removed]",
            "text/plain": [
              "<Figure size 576x396 with 1 Axes>"
            ]
          },
          "metadata": {},
          "output_type": "display_data"
        },
        {
          "data": {
            "text/plain": [
              "<AxesSubplot:title={'center':'Distortion Score Elbow for KMeans Clustering'}, xlabel='k', ylabel='distortion score'>"
            ]
          },
          "execution_count": 216,
          "metadata": {},
          "output_type": "execute_result"
        }
      ],
      "source": [
        "# матрица B\n",
        "\n",
        "model = KMeans()\n",
        "visualizer = KElbowVisualizer(model, k=(1, 16), timings= False)\n",
        "visualizer.fit(svd_em_B.T)\n",
        "visualizer.show()"
      ]
    },
    {
      "cell_type": "code",
      "execution_count": 58,
      "metadata": {
        "id": "gu76exyj_hbB"
      },
      "outputs": [],
      "source": [
        "y_pred = KMeans(n_clusters=10, random_state=0).fit_predict(svd_em_B.T)"
      ]
    },
    {
      "cell_type": "code",
      "execution_count": 59,
      "metadata": {
        "colab": {
          "base_uri": "https://localhost:8080/"
        },
        "id": "RIXVjjxN_hbB",
        "outputId": "adbb0350-2214-484e-ba15-7e40292b550e"
      },
      "outputs": [
        {
          "output_type": "stream",
          "name": "stderr",
          "text": [
            "/usr/local/lib/python3.7/dist-packages/sklearn/manifold/_t_sne.py:783: FutureWarning:\n",
            "\n",
            "The default initialization in TSNE will change from 'random' to 'pca' in 1.2.\n",
            "\n",
            "/usr/local/lib/python3.7/dist-packages/sklearn/manifold/_t_sne.py:793: FutureWarning:\n",
            "\n",
            "The default learning rate in TSNE will change from 200.0 to 'auto' in 1.2.\n",
            "\n"
          ]
        }
      ],
      "source": [
        "X_embedded = TSNE(n_components=2).fit_transform(svd_em_B.T)"
      ]
    },
    {
      "cell_type": "code",
      "execution_count": 60,
      "metadata": {
        "id": "39LnqbYH_hbC"
      },
      "outputs": [],
      "source": [
        "df = pd.DataFrame()\n",
        "df[\"x_component\"]=X_embedded[:,0]\n",
        "df[\"y_component\"]=X_embedded[:,1]\n",
        "df[\"labels\"] = y_pred\n",
        "\n",
        "df['StockCode'] = B.columns\n",
        "df = pd.merge(df, data[['StockCode', 'Description', 'Quantity']], on=['StockCode'], how='left')"
      ]
    },
    {
      "cell_type": "code",
      "execution_count": 61,
      "metadata": {
        "id": "63CCiUaL_hbC"
      },
      "outputs": [],
      "source": [
        "fig = px.scatter(df, \n",
        "                 x=\"x_component\", \n",
        "                 y=\"y_component\", \n",
        "                 color = \"labels\", \n",
        "                 size_max=60, hover_data=['Description', 'Quantity'])\n",
        "fig.update_layout(\n",
        "     height=800)\n",
        "fig.show()"
      ]
    },
    {
      "cell_type": "code",
      "source": [
        "figs = []\n",
        "figs.append(fig)"
      ],
      "metadata": {
        "id": "0xEftxhitbsa"
      },
      "execution_count": 62,
      "outputs": []
    },
    {
      "cell_type": "markdown",
      "metadata": {
        "id": "VqQHFe-G_hbC"
      },
      "source": [
        "**Выводы:**  \n",
        "- Довольно неплохо бейзлайна (как зрительно, так и по функционалу качества) произошла кластеризация матрицы B\n",
        "- Например, рассмотрим желтый кластер: в нем товары с большим спросом, но также присутствуют и выбросы с маленьким. Я объсняю это разреженностью матрицы и неудачными эмбеддингами.\n",
        "- Для матрицы А не получается произвести кластеризацию с помощью KMeans, так матрица очень разреженная\n",
        "- Kmeans не устойчив к выбросам, попробуем DBSCAN"
      ]
    },
    {
      "cell_type": "markdown",
      "metadata": {
        "id": "fvSwoEKv_hbD"
      },
      "source": [
        "## DBSCAN"
      ]
    },
    {
      "cell_type": "code",
      "execution_count": null,
      "metadata": {
        "id": "3naLhFyL_hbD",
        "outputId": "80434bc6-c307-445e-ad5e-834cf341a290"
      },
      "outputs": [
        {
          "name": "stdout",
          "output_type": "stream",
          "text": [
            "1e-10 3\n",
            "Counter({-1: 3898, 0: 34, 1: 9})\n",
            "1e-10 5\n",
            "Counter({-1: 3900, 0: 32, 1: 9})\n",
            "1e-10 10\n",
            "Counter({-1: 3909, 0: 32})\n",
            "1e-10 20\n",
            "Counter({-1: 3909, 0: 32})\n",
            "1e-08 3\n",
            "Counter({-1: 3819, 0: 101, 3: 9, 4: 5, 1: 4, 2: 3})\n",
            "1e-08 5\n",
            "Counter({-1: 3826, 0: 101, 1: 9, 2: 5})\n",
            "1e-08 10\n",
            "Counter({-1: 3849, 0: 92})\n",
            "1e-08 20\n",
            "Counter({-1: 3860, 0: 81})\n",
            "1e-06 3\n",
            "Counter({-1: 2730, 0: 1112, 19: 18, 8: 8, 9: 7, 1: 6, 7: 6, 13: 6, 6: 5, 2: 4, 3: 4, 12: 4, 18: 4, 16: 3, 4: 3, 5: 3, 11: 3, 10: 3, 14: 3, 17: 3, 15: 3, 20: 3})\n",
            "1e-06 5\n",
            "Counter({-1: 2819, 0: 1048, 6: 18, 2: 17, 1: 13, 7: 9, 5: 6, 3: 6, 4: 5})\n",
            "1e-06 10\n",
            "Counter({-1: 2923, 0: 1006, 1: 12})\n",
            "1e-06 20\n",
            "Counter({-1: 2981, 0: 960})\n",
            "1e-05 3\n",
            "Counter({0: 2197, -1: 1665, 9: 9, 6: 8, 4: 5, 8: 5, 15: 4, 1: 4, 11: 4, 10: 4, 2: 3, 3: 3, 19: 3, 5: 3, 20: 3, 7: 3, 13: 3, 16: 3, 12: 3, 14: 3, 17: 3, 18: 3})\n",
            "1e-05 5\n",
            "Counter({0: 2175, -1: 1749, 1: 9, 2: 8})\n",
            "1e-05 10\n",
            "Counter({0: 2070, -1: 1843, 1: 19, 2: 9})\n",
            "1e-05 20\n",
            "Counter({0: 1981, -1: 1960})\n",
            "0.0001 3\n",
            "Counter({0: 3389, -1: 514, 5: 11, 1: 7, 2: 6, 3: 5, 7: 3, 4: 3, 6: 3})\n",
            "0.0001 5\n",
            "Counter({0: 3354, -1: 556, 2: 8, 1: 7, 4: 6, 3: 5, 5: 5})\n",
            "0.0001 10\n",
            "Counter({0: 3308, -1: 633})\n",
            "0.0001 20\n",
            "Counter({0: 3248, -1: 693})\n",
            "0.001 3\n",
            "Counter({0: 3821, -1: 97, 3: 10, 1: 5, 4: 5, 2: 3})\n",
            "0.001 5\n",
            "Counter({0: 3818, -1: 113, 1: 10})\n",
            "0.001 10\n",
            "Counter({0: 3791, -1: 138, 1: 12})\n",
            "0.001 20\n",
            "Counter({0: 3763, -1: 178})\n"
          ]
        }
      ],
      "source": [
        "for eps in [1e-10, 1e-8, 1e-6, 1e-5, 1e-4, 1e-3]:\n",
        "    for min_samples in [3, 5, 10, 20]:\n",
        "        dbsc = DBSCAN(eps=eps, min_samples=min_samples).fit(svd_em_А.T)\n",
        "        print(eps, min_samples)\n",
        "        print(Counter(dbsc.labels_))"
      ]
    },
    {
      "cell_type": "code",
      "execution_count": 66,
      "metadata": {
        "id": "qw_uUWVq_hbD"
      },
      "outputs": [],
      "source": [
        "y_pred = DBSCAN(eps=1e-5, min_samples=5).fit_predict(svd_em_А.T)"
      ]
    },
    {
      "cell_type": "code",
      "execution_count": 67,
      "metadata": {
        "colab": {
          "base_uri": "https://localhost:8080/"
        },
        "id": "HeOi9WkS_hbD",
        "outputId": "f73ae9e4-c022-48c1-f67c-be6d78d40088"
      },
      "outputs": [
        {
          "output_type": "stream",
          "name": "stderr",
          "text": [
            "/usr/local/lib/python3.7/dist-packages/sklearn/manifold/_t_sne.py:783: FutureWarning:\n",
            "\n",
            "The default initialization in TSNE will change from 'random' to 'pca' in 1.2.\n",
            "\n",
            "/usr/local/lib/python3.7/dist-packages/sklearn/manifold/_t_sne.py:793: FutureWarning:\n",
            "\n",
            "The default learning rate in TSNE will change from 200.0 to 'auto' in 1.2.\n",
            "\n"
          ]
        }
      ],
      "source": [
        "X_embedded = TSNE(n_components=2).fit_transform(svd_em_А.T)"
      ]
    },
    {
      "cell_type": "code",
      "execution_count": 68,
      "metadata": {
        "id": "wuYRFMMh_hbE"
      },
      "outputs": [],
      "source": [
        "df = pd.DataFrame()\n",
        "df[\"x_component\"]=X_embedded[:,0]\n",
        "df[\"y_component\"]=X_embedded[:,1]\n",
        "df[\"labels\"] = y_pred\n",
        "df['StockCode'] = A.columns\n",
        "df = pd.merge(df, data[['StockCode', 'Description', 'Quantity']], on=['StockCode'], how='left')"
      ]
    },
    {
      "cell_type": "code",
      "execution_count": 69,
      "metadata": {
        "id": "u_GSMfAI_hbE"
      },
      "outputs": [],
      "source": [
        "fig = px.scatter(df, x=\"x_component\", y=\"y_component\", color = \"labels\", hover_data=['Description', 'Quantity'], size_max=60)\n",
        "fig.update_layout(\n",
        "     height=800)\n",
        "\n",
        "figs.append(fig)\n",
        "fig.show()"
      ]
    },
    {
      "cell_type": "markdown",
      "metadata": {
        "id": "OCRuA1nu_hbE"
      },
      "source": [
        "**Выводы:**  \n",
        "- HDBSCAN в силу устойчивости к выбросам смог произвести кластеризацию матрицы А\n",
        "- Хотя опять однако кластеры не очень информативные: два больших и вкрапление маленьких. t-SNE еще, конечно, не передает полностью структуры в проекции\n",
        "- Кажется, что помимо разложения нужно использовать и другую мета-информации при кластеризации\n",
        "- Бинарную матрицу с помощью простых эмбеддингов разложить проще, чем с количеством."
      ]
    },
    {
      "cell_type": "markdown",
      "metadata": {
        "id": "yj56MVM5_hbF"
      },
      "source": [
        "# 5. Добавление цены к эмбеддингам"
      ]
    },
    {
      "cell_type": "code",
      "execution_count": 71,
      "metadata": {
        "colab": {
          "base_uri": "https://localhost:8080/"
        },
        "id": "xec7tIVY_hbF",
        "outputId": "f9faaf8e-ff35-4223-bee3-627773abc558"
      },
      "outputs": [
        {
          "output_type": "stream",
          "name": "stderr",
          "text": [
            "/usr/local/lib/python3.7/dist-packages/pandas/util/_decorators.py:311: SettingWithCopyWarning:\n",
            "\n",
            "\n",
            "A value is trying to be set on a copy of a slice from a DataFrame\n",
            "\n",
            "See the caveats in the documentation: https://pandas.pydata.org/pandas-docs/stable/user_guide/indexing.html#returning-a-view-versus-a-copy\n",
            "\n"
          ]
        }
      ],
      "source": [
        "df = pd.DataFrame()\n",
        "df[\"x_component\"]=X_embedded[:,0]\n",
        "df[\"y_component\"]=X_embedded[:,1]\n",
        "df[\"labels\"] = y_pred\n",
        "df['StockCode'] = A.columns\n",
        "data_copy = data[['StockCode', 'UnitPrice']]\n",
        "data_copy.drop_duplicates(subset='StockCode', inplace=True)\n",
        "df = pd.merge(df, data_copy, on='StockCode', how='left')"
      ]
    },
    {
      "cell_type": "code",
      "execution_count": 72,
      "metadata": {
        "id": "NEcehb19_hbF"
      },
      "outputs": [],
      "source": [
        "svd_em_А_copy = svd_em_А.copy()"
      ]
    },
    {
      "cell_type": "code",
      "execution_count": null,
      "metadata": {
        "id": "o7Fcr2pY_hbG",
        "outputId": "84a40cef-ed99-4434-c069-65192d3d22e2"
      },
      "outputs": [
        {
          "data": {
            "text/plain": [
              "0.0004220433605119035"
            ]
          },
          "execution_count": 190,
          "metadata": {},
          "output_type": "execute_result"
        }
      ],
      "source": [
        "svd_em_А.mean()"
      ]
    },
    {
      "cell_type": "code",
      "execution_count": 74,
      "metadata": {
        "colab": {
          "base_uri": "https://localhost:8080/"
        },
        "id": "u16tJvuo_hbG",
        "outputId": "43746fb9-645d-4e15-85f9-9351b789d9ce"
      },
      "outputs": [
        {
          "output_type": "execute_result",
          "data": {
            "text/plain": [
              "10.591383151484392"
            ]
          },
          "metadata": {},
          "execution_count": 74
        }
      ],
      "source": [
        "prices = df['UnitPrice'].values\n",
        "prices.mean()"
      ]
    },
    {
      "cell_type": "code",
      "execution_count": 75,
      "metadata": {
        "colab": {
          "base_uri": "https://localhost:8080/"
        },
        "id": "za25U6Bf_hbG",
        "outputId": "64f5aac6-27c8-43a0-dbd3-ead85ea8117c"
      },
      "outputs": [
        {
          "output_type": "execute_result",
          "data": {
            "text/plain": [
              "0.0004220433605118936"
            ]
          },
          "metadata": {},
          "execution_count": 75
        }
      ],
      "source": [
        "svd_em_А_copy.mean()"
      ]
    },
    {
      "cell_type": "markdown",
      "source": [
        "Для того чтобы компонента цены сильно не выбивалась и не имела значительно больший вклад исключительно из-за своей размерности, произведем линейное преобразование и сведем эту компоненту по масштабу к остальным."
      ],
      "metadata": {
        "id": "je3drrR2jdMU"
      }
    },
    {
      "cell_type": "code",
      "source": [
        "svd_em_А_copy = np.vstack([svd_em_А_copy, prices]) / 10**5"
      ],
      "metadata": {
        "id": "n5MEq02SRNB5"
      },
      "execution_count": 76,
      "outputs": []
    },
    {
      "cell_type": "markdown",
      "metadata": {
        "id": "RF3ih0Hj_hbH"
      },
      "source": [
        "# 6. Кластеризация на новых эмбеддингах"
      ]
    },
    {
      "cell_type": "code",
      "execution_count": 77,
      "metadata": {
        "id": "YK5-rM1S_hbH"
      },
      "outputs": [],
      "source": [
        "y_pred = DBSCAN(eps=1e-6, min_samples=10).fit_predict(svd_em_А_copy.T)"
      ]
    },
    {
      "cell_type": "code",
      "execution_count": 78,
      "metadata": {
        "colab": {
          "base_uri": "https://localhost:8080/"
        },
        "id": "yP28otom_hbH",
        "outputId": "2352cded-a9dc-4c27-917f-6b195e20ecaf"
      },
      "outputs": [
        {
          "output_type": "stream",
          "name": "stderr",
          "text": [
            "/usr/local/lib/python3.7/dist-packages/sklearn/manifold/_t_sne.py:783: FutureWarning:\n",
            "\n",
            "The default initialization in TSNE will change from 'random' to 'pca' in 1.2.\n",
            "\n",
            "/usr/local/lib/python3.7/dist-packages/sklearn/manifold/_t_sne.py:793: FutureWarning:\n",
            "\n",
            "The default learning rate in TSNE will change from 200.0 to 'auto' in 1.2.\n",
            "\n"
          ]
        }
      ],
      "source": [
        "X_embedded = TSNE(n_components=2).fit_transform(svd_em_А.T)"
      ]
    },
    {
      "cell_type": "code",
      "execution_count": 79,
      "metadata": {
        "id": "w7y7hBRw_hbI"
      },
      "outputs": [],
      "source": [
        "df = pd.DataFrame()\n",
        "df[\"x_component\"]=X_embedded[:,0]\n",
        "df[\"y_component\"]=X_embedded[:,1]\n",
        "df[\"labels\"] = y_pred\n",
        "\n",
        "df['StockCode'] = A.columns\n",
        "df = pd.merge(df, data[['StockCode', 'Description', 'Quantity']], on=['StockCode'], how='left')"
      ]
    },
    {
      "cell_type": "code",
      "execution_count": 80,
      "metadata": {
        "id": "F8LqX7-9_hbI"
      },
      "outputs": [],
      "source": [
        "fig = px.scatter(df, x=\"x_component\", y=\"y_component\", color = \"labels\", hover_data=['Description', 'Quantity'], size_max=60)\n",
        "fig.update_layout(\n",
        "     height=800)\n",
        "\n",
        "figs.append(fig)\n",
        "fig.show()"
      ]
    },
    {
      "cell_type": "markdown",
      "source": [
        "**Выводы:**   \n",
        "- Добавление фичи цены в эмбеддинг повышает качество кластеризации\n",
        "- Цена позволяет строить лучше эмбеддинг в том смысле, что разделение поверхности происходит четче."
      ],
      "metadata": {
        "id": "KWROKLlHRP7V"
      }
    },
    {
      "cell_type": "markdown",
      "metadata": {
        "id": "hRWLPBvQ_hbI"
      },
      "source": [
        "# 7. Товары-заменители"
      ]
    },
    {
      "cell_type": "markdown",
      "metadata": {
        "id": "F-geC7fe_hbI"
      },
      "source": [
        "Товары-заменители в пространстве эмбеддингов будут лежать рядом.   \n",
        "Построим иерархическую кластеризацию и посмотрим на внутренние уровни."
      ]
    },
    {
      "cell_type": "code",
      "execution_count": null,
      "metadata": {
        "id": "p1Y5Cg9c_hbJ"
      },
      "outputs": [],
      "source": [
        "df = pd.DataFrame()\n",
        "df['StockCode'] = A.columns\n",
        "df = pd.merge(df, data[['StockCode', 'Description', 'Quantity']], on=['StockCode'], how='left')\n",
        "df = df.drop_duplicates(subset=['StockCode'])\n",
        "names = dict(zip(df.StockCode, df.Description))\n",
        "df = df.rename(columns=names)"
      ]
    },
    {
      "cell_type": "code",
      "execution_count": null,
      "metadata": {
        "id": "ijWD7l2R_hbJ",
        "outputId": "f7e617c5-cbd4-4c6a-df82-962e51f14f58"
      },
      "outputs": [
        {
          "data": {
            "image/png": "[encoded data removed]",
            "text/plain": [
              "<Figure size 1440x720 with 1 Axes>"
            ]
          },
          "metadata": {},
          "output_type": "display_data"
        }
      ],
      "source": [
        "mergings = linkage(svd_em_B.T[:100,:], method='complete')\n",
        "varieties = df.columns[:100]\n",
        "\n",
        "plt.figure(figsize=(20, 10))\n",
        "dendrogram(mergings,\n",
        "           labels=varieties,\n",
        "           leaf_rotation=90,\n",
        "           leaf_font_size=10,\n",
        "          );"
      ]
    },
    {
      "cell_type": "markdown",
      "source": [
        "**Посмротрим на кластеры:**  \n",
        "- Оригами, карандаши разных видов, сумки выделились в один кластер\n",
        "- Товары на нижних уровнях дендогаммы можно считать товарами-заменителями"
      ],
      "metadata": {
        "id": "svATOLEBYYE1"
      }
    },
    {
      "cell_type": "markdown",
      "metadata": {
        "id": "zZgRyDCW_hbJ"
      },
      "source": [
        "# 8. Товары-якоря"
      ]
    },
    {
      "cell_type": "markdown",
      "source": [
        "Построим матрицу совстречаемости товаров"
      ],
      "metadata": {
        "id": "m3Mw1AoGAgc1"
      }
    },
    {
      "cell_type": "markdown",
      "source": [
        "Чтобы ускорить процесс построения, отфильтруем чеки, в которых меньше 3-х товаров и больше, чем 95-квантиль."
      ],
      "metadata": {
        "id": "Pm5hryrZRs63"
      }
    },
    {
      "cell_type": "code",
      "source": [
        "df_result = {}\n",
        "lens = []\n",
        "for number in tqdm(data['InvoiceNo'].unique()):\n",
        "  data_temp = data[data['InvoiceNo'] == number]\n",
        "  df_result[number] = data_temp['StockCode'].values.tolist()\n",
        "  lens.append(len(df_result[number]))"
      ],
      "metadata": {
        "colab": {
          "base_uri": "https://localhost:8080/"
        },
        "id": "PNBD3F9tBPO9",
        "outputId": "16358ba5-86a1-42a6-adeb-7fc6052524a1"
      },
      "execution_count": 6,
      "outputs": [
        {
          "output_type": "stream",
          "name": "stderr",
          "text": [
            "100%|██████████| 20728/20728 [12:25<00:00, 27.81it/s]\n"
          ]
        }
      ]
    },
    {
      "cell_type": "code",
      "source": [
        "plt.figure(figsize=(12,6))\n",
        "plt.hist(lens, bins=100)\n",
        "plt.title('Гистограмма количества товаров в чеке')\n",
        "plt.show()"
      ],
      "metadata": {
        "colab": {
          "base_uri": "https://localhost:8080/",
          "height": 389
        },
        "id": "DWtSI6NX8Toc",
        "outputId": "1c2fe06b-7337-41f8-8471-ed18f6ec14e0"
      },
      "execution_count": 7,
      "outputs": [
        {
          "output_type": "display_data",
          "data": {
            "text/plain": [
              "<Figure size 864x432 with 1 Axes>"
            ],
            "image/png": "[encoded data removed]"
          },
          "metadata": {}
        }
      ]
    },
    {
      "cell_type": "code",
      "source": [
        "df_matrix = pd.DataFrame(0, columns = data['StockCode'].unique(), index = data['StockCode'].unique())"
      ],
      "metadata": {
        "id": "Ey452GPHB2VR"
      },
      "execution_count": 8,
      "outputs": []
    },
    {
      "cell_type": "code",
      "source": [
        "quntile_095 = pd.Series(lens).quantile(0.95)"
      ],
      "metadata": {
        "id": "JnH4XSLQR5bl"
      },
      "execution_count": 9,
      "outputs": []
    },
    {
      "cell_type": "code",
      "source": [
        "for number in tqdm(df_result.keys()):\n",
        "  if len(df_result[number]) >= 3 and len(df_result[number]) <= quntile_095:\n",
        "    for pair in list(itertools.combinations(df_result[number], 2)):\n",
        "      df_matrix.loc[pair[0], pair[1]] += 1\n",
        "      df_matrix.loc[pair[1], pair[0]] += 1"
      ],
      "metadata": {
        "colab": {
          "base_uri": "https://localhost:8080/"
        },
        "id": "rne5WMwdCVQk",
        "outputId": "766f83b5-5db8-4514-af96-cd4f4d63c8ef"
      },
      "execution_count": 10,
      "outputs": [
        {
          "output_type": "stream",
          "name": "stderr",
          "text": [
            "100%|██████████| 20728/20728 [33:57<00:00, 10.18it/s]\n"
          ]
        }
      ]
    },
    {
      "cell_type": "code",
      "source": [
        "df_matrix.head()"
      ],
      "metadata": {
        "colab": {
          "base_uri": "https://localhost:8080/",
          "height": 299
        },
        "id": "qorGEnup1ner",
        "outputId": "caa591fb-03a6-4c37-c285-c5b16b439572"
      },
      "execution_count": 11,
      "outputs": [
        {
          "output_type": "execute_result",
          "data": {
            "text/plain": [
              "        85123A  71053  84406B  84029G  84029E  22752  21730  22633  22632  \\\n",
              "85123A     102     75      75      67      56     48     49     63     38   \n",
              "71053       75     32      27      22      20     20     20      3      0   \n",
              "84406B      75     27       6      22      20     23     18      8      4   \n",
              "84029G      67     22      22      12      96     19     19     53     25   \n",
              "84029E      56     20      20      96      16     24     19     41     36   \n",
              "\n",
              "        84879  ...  23560  23576  23562  23561  23609  85179a  23617  90214U  \\\n",
              "85123A    253  ...      0      3      0      0      0       0      0       0   \n",
              "71053      23  ...      0      0      0      0      0       0      0       0   \n",
              "84406B     29  ...      0      0      0      0      0       0      0       0   \n",
              "84029G     15  ...      0      1      0      0      0       0      0       0   \n",
              "84029E     24  ...      0      2      0      0      0       0      0       0   \n",
              "\n",
              "        47591b  23843  \n",
              "85123A       0      0  \n",
              "71053        0      0  \n",
              "84406B       0      0  \n",
              "84029G       0      0  \n",
              "84029E       0      0  \n",
              "\n",
              "[5 rows x 3941 columns]"
            ],
            "text/html": [
              "\n",
              "  <div id=\"df-2fb332de-cc27-46d0-b097-b83075460856\">\n",
              "    <div class=\"colab-df-container\">\n",
              "      <div>\n",
              "<style scoped>\n",
              "    .dataframe tbody tr th:only-of-type {\n",
              "        vertical-align: middle;\n",
              "    }\n",
              "\n",
              "    .dataframe tbody tr th {\n",
              "        vertical-align: top;\n",
              "    }\n",
              "\n",
              "    .dataframe thead th {\n",
              "        text-align: right;\n",
              "    }\n",
              "</style>\n",
              "<table border=\"1\" class=\"dataframe\">\n",
              "  <thead>\n",
              "    <tr style=\"text-align: right;\">\n",
              "      <th></th>\n",
              "      <th>85123A</th>\n",
              "      <th>71053</th>\n",
              "      <th>84406B</th>\n",
              "      <th>84029G</th>\n",
              "      <th>84029E</th>\n",
              "      <th>22752</th>\n",
              "      <th>21730</th>\n",
              "      <th>22633</th>\n",
              "      <th>22632</th>\n",
              "      <th>84879</th>\n",
              "      <th>...</th>\n",
              "      <th>23560</th>\n",
              "      <th>23576</th>\n",
              "      <th>23562</th>\n",
              "      <th>23561</th>\n",
              "      <th>23609</th>\n",
              "      <th>85179a</th>\n",
              "      <th>23617</th>\n",
              "      <th>90214U</th>\n",
              "      <th>47591b</th>\n",
              "      <th>23843</th>\n",
              "    </tr>\n",
              "  </thead>\n",
              "  <tbody>\n",
              "    <tr>\n",
              "      <th>85123A</th>\n",
              "      <td>102</td>\n",
              "      <td>75</td>\n",
              "      <td>75</td>\n",
              "      <td>67</td>\n",
              "      <td>56</td>\n",
              "      <td>48</td>\n",
              "      <td>49</td>\n",
              "      <td>63</td>\n",
              "      <td>38</td>\n",
              "      <td>253</td>\n",
              "      <td>...</td>\n",
              "      <td>0</td>\n",
              "      <td>3</td>\n",
              "      <td>0</td>\n",
              "      <td>0</td>\n",
              "      <td>0</td>\n",
              "      <td>0</td>\n",
              "      <td>0</td>\n",
              "      <td>0</td>\n",
              "      <td>0</td>\n",
              "      <td>0</td>\n",
              "    </tr>\n",
              "    <tr>\n",
              "      <th>71053</th>\n",
              "      <td>75</td>\n",
              "      <td>32</td>\n",
              "      <td>27</td>\n",
              "      <td>22</td>\n",
              "      <td>20</td>\n",
              "      <td>20</td>\n",
              "      <td>20</td>\n",
              "      <td>3</td>\n",
              "      <td>0</td>\n",
              "      <td>23</td>\n",
              "      <td>...</td>\n",
              "      <td>0</td>\n",
              "      <td>0</td>\n",
              "      <td>0</td>\n",
              "      <td>0</td>\n",
              "      <td>0</td>\n",
              "      <td>0</td>\n",
              "      <td>0</td>\n",
              "      <td>0</td>\n",
              "      <td>0</td>\n",
              "      <td>0</td>\n",
              "    </tr>\n",
              "    <tr>\n",
              "      <th>84406B</th>\n",
              "      <td>75</td>\n",
              "      <td>27</td>\n",
              "      <td>6</td>\n",
              "      <td>22</td>\n",
              "      <td>20</td>\n",
              "      <td>23</td>\n",
              "      <td>18</td>\n",
              "      <td>8</td>\n",
              "      <td>4</td>\n",
              "      <td>29</td>\n",
              "      <td>...</td>\n",
              "      <td>0</td>\n",
              "      <td>0</td>\n",
              "      <td>0</td>\n",
              "      <td>0</td>\n",
              "      <td>0</td>\n",
              "      <td>0</td>\n",
              "      <td>0</td>\n",
              "      <td>0</td>\n",
              "      <td>0</td>\n",
              "      <td>0</td>\n",
              "    </tr>\n",
              "    <tr>\n",
              "      <th>84029G</th>\n",
              "      <td>67</td>\n",
              "      <td>22</td>\n",
              "      <td>22</td>\n",
              "      <td>12</td>\n",
              "      <td>96</td>\n",
              "      <td>19</td>\n",
              "      <td>19</td>\n",
              "      <td>53</td>\n",
              "      <td>25</td>\n",
              "      <td>15</td>\n",
              "      <td>...</td>\n",
              "      <td>0</td>\n",
              "      <td>1</td>\n",
              "      <td>0</td>\n",
              "      <td>0</td>\n",
              "      <td>0</td>\n",
              "      <td>0</td>\n",
              "      <td>0</td>\n",
              "      <td>0</td>\n",
              "      <td>0</td>\n",
              "      <td>0</td>\n",
              "    </tr>\n",
              "    <tr>\n",
              "      <th>84029E</th>\n",
              "      <td>56</td>\n",
              "      <td>20</td>\n",
              "      <td>20</td>\n",
              "      <td>96</td>\n",
              "      <td>16</td>\n",
              "      <td>24</td>\n",
              "      <td>19</td>\n",
              "      <td>41</td>\n",
              "      <td>36</td>\n",
              "      <td>24</td>\n",
              "      <td>...</td>\n",
              "      <td>0</td>\n",
              "      <td>2</td>\n",
              "      <td>0</td>\n",
              "      <td>0</td>\n",
              "      <td>0</td>\n",
              "      <td>0</td>\n",
              "      <td>0</td>\n",
              "      <td>0</td>\n",
              "      <td>0</td>\n",
              "      <td>0</td>\n",
              "    </tr>\n",
              "  </tbody>\n",
              "</table>\n",
              "<p>5 rows × 3941 columns</p>\n",
              "</div>\n",
              "      <button class=\"colab-df-convert\" onclick=\"convertToInteractive('df-2fb332de-cc27-46d0-b097-b83075460856')\"\n",
              "              title=\"Convert this dataframe to an interactive table.\"\n",
              "              style=\"display:none;\">\n",
              "        \n",
              "  <svg xmlns=\"http://www.w3.org/2000/svg\" height=\"24px\"viewBox=\"0 0 24 24\"\n",
              "       width=\"24px\">\n",
              "    <path d=\"M0 0h24v24H0V0z\" fill=\"none\"/>\n",
              "    <path d=\"M18.56 5.44l.94 2.06.94-2.06 2.06-.94-2.06-.94-.94-2.06-.94 2.06-2.06.94zm-11 1L8.5 8.5l.94-2.06 2.06-.94-2.06-.94L8.5 2.5l-.94 2.06-2.06.94zm10 10l.94 2.06.94-2.06 2.06-.94-2.06-.94-.94-2.06-.94 2.06-2.06.94z\"/><path d=\"M17.41 7.96l-1.37-1.37c-.4-.4-.92-.59-1.43-.59-.52 0-1.04.2-1.43.59L10.3 9.45l-7.72 7.72c-.78.78-.78 2.05 0 2.83L4 21.41c.39.39.9.59 1.41.59.51 0 1.02-.2 1.41-.59l7.78-7.78 2.81-2.81c.8-.78.8-2.07 0-2.86zM5.41 20L4 18.59l7.72-7.72 1.47 1.35L5.41 20z\"/>\n",
              "  </svg>\n",
              "      </button>\n",
              "      \n",
              "  <style>\n",
              "    .colab-df-container {\n",
              "      display:flex;\n",
              "      flex-wrap:wrap;\n",
              "      gap: 12px;\n",
              "    }\n",
              "\n",
              "    .colab-df-convert {\n",
              "      background-color: #E8F0FE;\n",
              "      border: none;\n",
              "      border-radius: 50%;\n",
              "      cursor: pointer;\n",
              "      display: none;\n",
              "      fill: #1967D2;\n",
              "      height: 32px;\n",
              "      padding: 0 0 0 0;\n",
              "      width: 32px;\n",
              "    }\n",
              "\n",
              "    .colab-df-convert:hover {\n",
              "      background-color: #E2EBFA;\n",
              "      box-shadow: 0px 1px 2px rgba(60, 64, 67, 0.3), 0px 1px 3px 1px rgba(60, 64, 67, 0.15);\n",
              "      fill: #174EA6;\n",
              "    }\n",
              "\n",
              "    [theme=dark] .colab-df-convert {\n",
              "      background-color: #3B4455;\n",
              "      fill: #D2E3FC;\n",
              "    }\n",
              "\n",
              "    [theme=dark] .colab-df-convert:hover {\n",
              "      background-color: #434B5C;\n",
              "      box-shadow: 0px 1px 3px 1px rgba(0, 0, 0, 0.15);\n",
              "      filter: drop-shadow(0px 1px 2px rgba(0, 0, 0, 0.3));\n",
              "      fill: #FFFFFF;\n",
              "    }\n",
              "  </style>\n",
              "\n",
              "      <script>\n",
              "        const buttonEl =\n",
              "          document.querySelector('#df-2fb332de-cc27-46d0-b097-b83075460856 button.colab-df-convert');\n",
              "        buttonEl.style.display =\n",
              "          google.colab.kernel.accessAllowed ? 'block' : 'none';\n",
              "\n",
              "        async function convertToInteractive(key) {\n",
              "          const element = document.querySelector('#df-2fb332de-cc27-46d0-b097-b83075460856');\n",
              "          const dataTable =\n",
              "            await google.colab.kernel.invokeFunction('convertToInteractive',\n",
              "                                                     [key], {});\n",
              "          if (!dataTable) return;\n",
              "\n",
              "          const docLinkHtml = 'Like what you see? Visit the ' +\n",
              "            '<a target=\"_blank\" href=https://colab.research.google.com/notebooks/data_table.ipynb>data table notebook</a>'\n",
              "            + ' to learn more about interactive tables.';\n",
              "          element.innerHTML = '';\n",
              "          dataTable['output_type'] = 'display_data';\n",
              "          await google.colab.output.renderOutput(dataTable, element);\n",
              "          const docLink = document.createElement('div');\n",
              "          docLink.innerHTML = docLinkHtml;\n",
              "          element.appendChild(docLink);\n",
              "        }\n",
              "      </script>\n",
              "    </div>\n",
              "  </div>\n",
              "  "
            ]
          },
          "metadata": {},
          "execution_count": 11
        }
      ]
    },
    {
      "cell_type": "markdown",
      "source": [
        "**Посмотрим на несколько кластеров:**"
      ],
      "metadata": {
        "id": "PXVOAVxAffH2"
      }
    },
    {
      "cell_type": "code",
      "source": [
        "data[data.StockCode == '85123A']['Description'].unique()[0]"
      ],
      "metadata": {
        "colab": {
          "base_uri": "https://localhost:8080/",
          "height": 36
        },
        "id": "KRjI6hMefjAC",
        "outputId": "50f0032b-e96d-4217-b4ef-c830afe25880"
      },
      "execution_count": 26,
      "outputs": [
        {
          "output_type": "execute_result",
          "data": {
            "text/plain": [
              "'WHITE HANGING HEART T-LIGHT HOLDER'"
            ],
            "application/vnd.google.colaboratory.intrinsic+json": {
              "type": "string"
            }
          },
          "metadata": {},
          "execution_count": 26
        }
      ]
    },
    {
      "cell_type": "code",
      "source": [
        "for name in df_matrix.iloc[0, :].nlargest(5).index.tolist():\n",
        "  print(data[data.StockCode == name]['Description'].unique()[0])"
      ],
      "metadata": {
        "colab": {
          "base_uri": "https://localhost:8080/"
        },
        "id": "z1PB9tzEfpQG",
        "outputId": "652a73f5-8ca6-4352-de4e-14a417d34c2e"
      },
      "execution_count": 27,
      "outputs": [
        {
          "output_type": "stream",
          "name": "stdout",
          "text": [
            "RED HANGING HEART T-LIGHT HOLDER\n",
            "WOODEN PICTURE FRAME WHITE FINISH\n",
            "CANDLEHOLDER PINK HANGING HEART\n",
            "HEART OF WICKER LARGE\n",
            "ASSORTED COLOUR BIRD ORNAMENT\n"
          ]
        }
      ]
    },
    {
      "cell_type": "markdown",
      "source": [
        "Частотные совместные покупки с \n",
        "\n",
        "-------\n",
        "\n",
        "ВЯЗАНАЯ ГРЕЛКА С ФЛАГОМ СОЮЗА:\n",
        "\n",
        "-------\n",
        "\n",
        "ШОКОЛАДНАЯ ГРЕЛКА\n",
        "\n",
        "РЫЖАЯ ШЕРСТИСТАЯ КРАСОТКА С БЕЛЫМ СЕРДЦЕМ\n",
        "\n",
        "ГРЕЛКА СОХРАНЯЙТЕ СПОКОЙСТВИЕ\n",
        "\n",
        "БУТЫЛКА С ГОРЯЧЕЙ ВОДОЙ ДЛЯ СКОТТИ ДОГА\n",
        "\n",
        "БЕЛАЯ ГРЕЛКА С ЧЕРЕПОМ\n",
        "\n",
        "------------\n",
        "------------\n",
        "\n",
        "\n",
        "БЕЛЫЙ ПОДВЕСНОЙ СЕРДЕЧНЫЙ Т-ОБРАЗНЫЙ ДЕРЖАТЕЛЬ:\n",
        "\n",
        "--------\n",
        "\n",
        "КРАСНЫЙ ПОДВЕСНОЙ СЕРДЕЧНЫЙ Т-ОБРАЗНЫЙ ДЕРЖАТЕЛЬ\n",
        "\n",
        "ДЕРЕВЯННАЯ РАМКА ДЛЯ ФОТОГРАФИЙ С БЕЛОЙ ОТДЕЛКОЙ\n",
        "\n",
        "ПОДСВЕЧНИК РОЗОВОЕ ПОДВЕСНОЕ СЕРДЦЕ\n",
        "\n",
        "СЕРДЦЕ ИЗ ПЛЕТЕНОГО БОЛЬШОГО\n",
        "\n",
        "РАЗНОЦВЕТНЫЙ ПТИЧИЙ ОРНАМЕНТ\n",
        "\n"
      ],
      "metadata": {
        "id": "PdvyFTNqg7nf"
      }
    },
    {
      "cell_type": "markdown",
      "source": [
        "**Выводы:**   \n",
        "- Кажется, что в целом для простого бейзлайна получается неплохо:действительно, вместе товаром: подвестной держатель, который можно расценивать как якорь, покупают вместе сердце, рамку и разную другую утварь для дома в комплект по стилю\n",
        "\n",
        "- В кластерах товаров-якорей прослеживаются и заменители. \n",
        "Например, в первом с грелками. Это может получится из-за того, что порою покупают несколько видом одного товара для разнообразия, если надо несколько штук. Таким образом, возникает смешение кластеров."
      ],
      "metadata": {
        "id": "XDvLoxXYiMW6"
      }
    },
    {
      "cell_type": "markdown",
      "source": [
        "**Общие выводы:**   \n",
        "- Была произведена кластеризация товаров на основе эмбеддингов, полученных в ходе матричных разложений.\n",
        "- Матрица получается разреженной (что типично в таких задачах), что мешает получить хорошие разделяющие поверхности:(\n",
        "- Добавление цены в эмбеддинг повышает качество, так как эмбеддинги получаются более \"информативными\"\n",
        "- Основной проблемой применения данного подхода в динамическом ценообразовании, на мой взгляд, является разреженность матрицы, из-за прямой подход с матричными разложениями не дает хорошего качества. Возможно, качественный препроцессинг, нормализация помогут достичь значительно прироста.\n",
        "\n",
        "- Выводы по отдельным пунктам приложены после них"
      ],
      "metadata": {
        "id": "fpWeIy0hwumh"
      }
    },
    {
      "cell_type": "code",
      "source": [
        "with open('plots.html', 'a') as f:\n",
        "  for fig in figs:\n",
        "    f.write(fig.to_html(full_html=False, include_plotlyjs='cdn'))"
      ],
      "metadata": {
        "id": "tBEQrEyRzPYY"
      },
      "execution_count": 83,
      "outputs": []
    },
    {
      "cell_type": "code",
      "source": [
        ""
      ],
      "metadata": {
        "id": "A-p6qsfD0cYT"
      },
      "execution_count": null,
      "outputs": []
    }
  ],
  "metadata": {
    "kernelspec": {
      "display_name": "Python 3 (ipykernel)",
      "language": "python",
      "name": "python3"
    },
    "language_info": {
      "codemirror_mode": {
        "name": "ipython",
        "version": 3
      },
      "file_extension": ".py",
      "mimetype": "text/x-python",
      "name": "python",
      "nbconvert_exporter": "python",
      "pygments_lexer": "ipython3",
      "version": "3.9.5"
    },
    "colab": {
      "name": "HW2-t.ipynb",
      "provenance": []
    }
  },
  "nbformat": 4,
  "nbformat_minor": 0
}