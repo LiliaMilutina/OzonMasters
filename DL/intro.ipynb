{
  "nbformat": 4,
  "nbformat_minor": 0,
  "metadata": {
    "accelerator": "GPU",
    "colab": {
      "name": "  dl1",
      "provenance": [],
      "collapsed_sections": []
    },
    "kernelspec": {
      "display_name": "Python 3",
      "language": "python",
      "name": "python3"
    },
    "language_info": {
      "codemirror_mode": {
        "name": "ipython",
        "version": 3
      },
      "file_extension": ".py",
      "mimetype": "text/x-python",
      "name": "python",
      "nbconvert_exporter": "python",
      "pygments_lexer": "ipython3",
      "version": "3.6.6"
    }
  },
  "cells": [
    {
      "cell_type": "markdown",
      "metadata": {
        "id": "IQwlunyE86kE"
      },
      "source": [
        "# 1. Практическое задание. Обучение полносвязной нейронной сети.\n",
        "\n",
        "**ФИО**: Милютина Лилия Александровна\n",
        "\n",
        "**Дедлайн**: 3 октября 2021"
      ]
    },
    {
      "cell_type": "code",
      "metadata": {
        "id": "UyCGfNgA86kF"
      },
      "source": [
        "import numpy as np\n",
        "import torch\n",
        "import cv2\n",
        "\n",
        "from glob import glob\n",
        "from collections import OrderedDict\n",
        "from matplotlib import pyplot as plt\n",
        "\n",
        "from torch import nn\n",
        "from torch.autograd import Function\n",
        "from torch.autograd import gradcheck\n",
        "from torch.optim import Optimizer, Adam\n",
        "from torch.utils.data import Dataset, DataLoader\n",
        "from torchvision import datasets\n",
        "from torchvision import transforms"
      ],
      "execution_count": null,
      "outputs": []
    },
    {
      "cell_type": "markdown",
      "metadata": {
        "id": "uFaWrLT4GkfY"
      },
      "source": [
        "## 1. Загрузка данных"
      ]
    },
    {
      "cell_type": "markdown",
      "metadata": {
        "id": "R930jTYMG6nB"
      },
      "source": [
        "Если вам требуется работать с каким-нибубь датасетом, то во-первых, проверьте нет ли его среди датасетов `torchvison`. \n",
        "\n",
        "Мы будем работать с `FashionMNIST`. Скачаем его, но будем использовать это только как быстрый и удобный способ скачать данные. \n",
        "\n",
        "Структруру класса датасет реализуем сами."
      ]
    },
    {
      "cell_type": "code",
      "metadata": {
        "colab": {
          "base_uri": "https://localhost:8080/"
        },
        "id": "LauGpMvGF5qr",
        "outputId": "5a8a1b22-35ab-42c3-b559-a1b6029d7853"
      },
      "source": [
        "training_data = datasets.FashionMNIST(\n",
        "    root=\"data\",\n",
        "    train=True,\n",
        "    download=True\n",
        ")\n",
        "\n",
        "test_data = datasets.FashionMNIST(\n",
        "    root=\"data\",\n",
        "    train=False,\n",
        "    download=True\n",
        ")"
      ],
      "execution_count": null,
      "outputs": [
        {
          "name": "stderr",
          "output_type": "stream",
          "text": [
            "/usr/local/lib/python3.7/dist-packages/torchvision/datasets/mnist.py:498: UserWarning: The given NumPy array is not writeable, and PyTorch does not support non-writeable tensors. This means you can write to the underlying (supposedly non-writeable) NumPy array using the tensor. You may want to copy the array to protect its data or make it writeable before converting it to a tensor. This type of warning will be suppressed for the rest of this program. (Triggered internally at  /pytorch/torch/csrc/utils/tensor_numpy.cpp:180.)\n",
            "  return torch.from_numpy(parsed.astype(m[2], copy=False)).view(*s)\n"
          ]
        }
      ]
    },
    {
      "cell_type": "markdown",
      "metadata": {
        "id": "RIT32OCMaLLP"
      },
      "source": [
        "Воспользуемся функций загрузки данных из репозитория датасета."
      ]
    },
    {
      "cell_type": "code",
      "metadata": {
        "colab": {
          "base_uri": "https://localhost:8080/"
        },
        "id": "Fm_cf_hEIapm",
        "outputId": "ea025cfb-b10d-4110-b417-8d76ccd45152"
      },
      "source": [
        "! ls data/FashionMNIST/raw"
      ],
      "execution_count": null,
      "outputs": [
        {
          "name": "stdout",
          "output_type": "stream",
          "text": [
            "t10k-images-idx3-ubyte\t   train-images-idx3-ubyte\n",
            "t10k-images-idx3-ubyte.gz  train-images-idx3-ubyte.gz\n",
            "t10k-labels-idx1-ubyte\t   train-labels-idx1-ubyte\n",
            "t10k-labels-idx1-ubyte.gz  train-labels-idx1-ubyte.gz\n"
          ]
        }
      ]
    },
    {
      "cell_type": "code",
      "metadata": {
        "id": "-xnY5xk1KBg2"
      },
      "source": [
        "#https://github.com/zalandoresearch/fashion-mnist/blob/master/utils/mnist_reader.py\n",
        "\n",
        "def load_mnist(path, kind='train'):\n",
        "    import os\n",
        "    import gzip\n",
        "    import numpy as np\n",
        "\n",
        "    \"\"\"Load MNIST data from `path`\"\"\"\n",
        "    labels_path = os.path.join(path,\n",
        "                               '%s-labels-idx1-ubyte.gz'\n",
        "                               % kind)\n",
        "    images_path = os.path.join(path,\n",
        "                               '%s-images-idx3-ubyte.gz'\n",
        "                               % kind)\n",
        "\n",
        "    with gzip.open(labels_path, 'rb') as lbpath:\n",
        "        labels = np.frombuffer(lbpath.read(), dtype=np.uint8,\n",
        "                               offset=8)\n",
        "\n",
        "    with gzip.open(images_path, 'rb') as imgpath:\n",
        "        images = np.frombuffer(imgpath.read(), dtype=np.uint8,\n",
        "                               offset=16).reshape(len(labels), 784)\n",
        "\n",
        "    return images, labels"
      ],
      "execution_count": null,
      "outputs": []
    },
    {
      "cell_type": "markdown",
      "metadata": {
        "id": "qHIlWRV0aZnA"
      },
      "source": [
        "Для удобства в PyTorch предоставляется ряд утилит для загрузки датасетов, их предварительной обработки и взаимодействия с ними. Эти вспомогательные классы находятся в модуле `torch.utils.data`. Здесь следует обратить внимание на две основные концепции:\n",
        "\n",
        "- `Dataset`, инкапсулирующий источник данных,\n",
        "- `DataLoader`, отвечающий за загрузку датасета, возможно, в параллельном режиме.\n",
        "\n",
        "Для создания новых датасетов наследуется класс `torch.utils.data.Dataset` и переопределяется метод `__len__`, так, чтобы он возвращал количество образцов в датасете, а также метод `__getitem__` для доступа к единичному значению по конкретному индексу. "
      ]
    },
    {
      "cell_type": "markdown",
      "metadata": {
        "id": "3jf2e5cPbJV2"
      },
      "source": [
        "Реализуем класс для FasionMnist.\n",
        "\n",
        "Элементами датасета должны являться пары `(np.array, np.array)`, массивы имеют следующие размерности и типы: `(28, 28)`, тип элемента `np.float32`; и `(1,)`, тип элемента `int`."
      ]
    },
    {
      "cell_type": "code",
      "metadata": {
        "id": "snTBHRTQI1bc"
      },
      "source": [
        "class FashionMnist(Dataset):\n",
        "    def __init__(self, path, train=True, image_transform=None, \n",
        "                 label_transform=None):\n",
        "        if train:\n",
        "            images, labels = load_mnist(f\"{path}/raw\")\n",
        "        else:\n",
        "            images, labels = load_mnist(f\"{path}/raw\", kind=\"t10k\")\n",
        "        \n",
        "        self.img_labels = labels\n",
        "        self.transform = image_transform\n",
        "        self.target_transform = label_transform\n",
        "\n",
        "        image_size = int(np.sqrt(images.shape[1]))\n",
        "        self.images = images.reshape(-1, image_size, image_size)\n",
        "\n",
        "    def __len__(self,):\n",
        "        length = len(self.img_labels)\n",
        "        return length\n",
        "\n",
        "    def __getitem__(self, idx):\n",
        "        label = np.asarray(self.img_labels[idx])\n",
        "        img = self.images[idx, :, :]\n",
        "        if self.transform:\n",
        "          img = self.transform(img)\n",
        "        if self.target_transform:\n",
        "          label = self.target_transform(label)\n",
        "        return img, label\n"
      ],
      "execution_count": null,
      "outputs": []
    },
    {
      "cell_type": "code",
      "metadata": {
        "id": "XVGv_2zBNfpz"
      },
      "source": [
        "test_dataset = FashionMnist(\"data/FashionMNIST\", train=False)\n",
        "train_dataset = FashionMnist(\"data/FashionMNIST\")"
      ],
      "execution_count": null,
      "outputs": []
    },
    {
      "cell_type": "markdown",
      "metadata": {
        "id": "JciETIfndiGR"
      },
      "source": [
        "Визуализируйте случайные элементы датасета."
      ]
    },
    {
      "cell_type": "code",
      "metadata": {
        "colab": {
          "base_uri": "https://localhost:8080/",
          "height": 578
        },
        "id": "VotUn-XNrq24",
        "outputId": "0835c3e1-ae12-47ac-c7f5-9f733a76649c"
      },
      "source": [
        "plt.figure(figsize=(10,10))\n",
        "for i in range(25):\n",
        "  random_image_ind = np.random.randint(0, len(test_dataset))\n",
        "  image, label = test_dataset[random_image_ind]\n",
        "  plt.subplot(5,5,i+1)\n",
        "  plt.xticks([])\n",
        "  plt.yticks([])\n",
        "  plt.grid(False)\n",
        "  plt.imshow(image, cmap=plt.cm.binary)\n",
        "plt.show()"
      ],
      "execution_count": null,
      "outputs": [
        {
          "data": {
            "image/png": "[encoded data removed]",
            "text/plain": [
              "<Figure size 720x720 with 25 Axes>"
            ]
          },
          "metadata": {},
          "output_type": "display_data"
        }
      ]
    },
    {
      "cell_type": "markdown",
      "metadata": {
        "id": "320RvzL7PZrI"
      },
      "source": [
        "В конструктор датасета обычно можно передать преобразование `torchvision.transforms`. С помощью которых можно преобразовать исходные данные. \n",
        "\n",
        "Такое преобразование может привести, например, исходные данные к тензорам.\n",
        "\n",
        "Реализуйте поддержку преобразований в вашем датасете. Проверьте, что приведение типов работает корректно. "
      ]
    },
    {
      "cell_type": "code",
      "metadata": {
        "id": "pQsGbfXUTxcx"
      },
      "source": [
        "class ToTensor:\n",
        "    \"\"\"Convert ndarrays in sample to Tensors.\"\"\"\n",
        "\n",
        "    def __call__(self, sample):\n",
        "        return torch.from_numpy(sample)"
      ],
      "execution_count": null,
      "outputs": []
    },
    {
      "cell_type": "code",
      "metadata": {
        "id": "7BpFQ_Y2PoeI"
      },
      "source": [
        "transform = ToTensor()\n",
        "\n",
        "test_dataset = FashionMnist(\"data/FashionMNIST\", \n",
        "                            train=False, \n",
        "                            image_transform=transform, \n",
        "                            label_transform=transform\n",
        "                            )\n",
        "train_dataset = FashionMnist(\"data/FashionMNIST\",\n",
        "                             image_transform=transform, \n",
        "                             label_transform=transform\n",
        "                             )"
      ],
      "execution_count": null,
      "outputs": []
    },
    {
      "cell_type": "code",
      "metadata": {
        "colab": {
          "base_uri": "https://localhost:8080/"
        },
        "id": "ukLn9rY7SCsS",
        "outputId": "066f5bfe-baef-41ca-de6c-d190f2b042e4"
      },
      "source": [
        "print(f\"The type of the data is {type(test_dataset[0][0])}\")"
      ],
      "execution_count": null,
      "outputs": [
        {
          "name": "stdout",
          "output_type": "stream",
          "text": [
            "The type of the data is <class 'torch.Tensor'>\n"
          ]
        }
      ]
    },
    {
      "cell_type": "markdown",
      "metadata": {
        "id": "5Ltavx0QUMnm"
      },
      "source": [
        "Элементы датасета могут быть объединены в батчи явно и неявно. Если данные могут быть сконкатенированы или объединены каким-нибудь тривиальным способом, то можно не передавать никаких дополнительных парамертов в `torch.utils.data.Dataloader`."
      ]
    },
    {
      "cell_type": "code",
      "metadata": {
        "id": "Cizxx6m0VAI7"
      },
      "source": [
        "test_dataloader = DataLoader(test_dataset, batch_size=15, num_workers=2, shuffle=True)\n",
        "batch = next(iter(test_dataloader))"
      ],
      "execution_count": null,
      "outputs": []
    },
    {
      "cell_type": "code",
      "metadata": {
        "colab": {
          "base_uri": "https://localhost:8080/"
        },
        "id": "SIZiPrBgVwGA",
        "outputId": "de50c57d-cfe8-42cc-a2d9-830b1aa5076f"
      },
      "source": [
        "print(f\"The length of the batch is {len(batch)}\")\n",
        "print(f\"The shape of the batch[0] is {batch[0].shape}\")"
      ],
      "execution_count": null,
      "outputs": [
        {
          "name": "stdout",
          "output_type": "stream",
          "text": [
            "The length of the batch is 2\n",
            "The shape of the batch[0] is torch.Size([15, 28, 28])\n"
          ]
        }
      ]
    },
    {
      "cell_type": "markdown",
      "metadata": {
        "id": "BCggRyOQWVIx"
      },
      "source": [
        "Однако, если наша структура данных не позволяет нам использовать дефолтное объединение в батч, то можно написать собственную функцию. \n",
        "\n",
        "Реализуйте функцию, преобразующую последовательность элементов массива в батч. "
      ]
    },
    {
      "cell_type": "code",
      "metadata": {
        "id": "nQVh93fmWSjA"
      },
      "source": [
        "def collate(batch):\n",
        "    imgs = []\n",
        "    labels = []\n",
        "    for i, item in enumerate(batch):\n",
        "        img, label = item\n",
        "        imgs.append(img)\n",
        "        labels.append(label)\n",
        "    imgs = torch.nn.utils.rnn.pad_sequence(imgs, batch_first=True, padding_value=0)\n",
        "    return imgs, torch.tensor(labels).type(torch.LongTensor)"
      ],
      "execution_count": null,
      "outputs": []
    },
    {
      "cell_type": "markdown",
      "metadata": {
        "id": "Wij6F-vpe7KS"
      },
      "source": [
        "Убедитесть, что все работает корректно. "
      ]
    },
    {
      "cell_type": "code",
      "metadata": {
        "id": "4dDtlvlCXNbW"
      },
      "source": [
        "test_dataloader = DataLoader(test_dataset, batch_size=15, num_workers=2, \n",
        "                             shuffle=True, collate_fn=collate)\n",
        "train_dataloader = DataLoader(train_dataset, batch_size=15, num_workers=2,\n",
        "                              shuffle=True, collate_fn=collate)\n",
        "batch = next(iter(test_dataloader))"
      ],
      "execution_count": null,
      "outputs": []
    },
    {
      "cell_type": "code",
      "metadata": {
        "colab": {
          "base_uri": "https://localhost:8080/"
        },
        "id": "PFN00IyZXYaF",
        "outputId": "0d8ff99b-7e1e-42c0-ee1d-04cd1f5ffc42"
      },
      "source": [
        "print(f\"The length of the batch is {len(batch)}\")\n",
        "print(f\"The shape of the batch[0] is {batch[0].shape}\")"
      ],
      "execution_count": null,
      "outputs": [
        {
          "name": "stdout",
          "output_type": "stream",
          "text": [
            "The length of the batch is 2\n",
            "The shape of the batch[0] is torch.Size([15, 28, 28])\n"
          ]
        }
      ]
    },
    {
      "cell_type": "markdown",
      "metadata": {
        "id": "VHcumwuF86kL"
      },
      "source": [
        "## 2. Реализация модулей нейронной сети (15 баллов)\n",
        "\n",
        "В этом разделе мы полностью реализуем модули для полносвязной сети. \n",
        "\n",
        "Для начала нам понадобится реализовать прямой и обратный проход через слои. \n",
        "\n",
        "Наши слои будут соответствовать следующему интерфейсу (на примере \"тождественного\" слоя):"
      ]
    },
    {
      "cell_type": "markdown",
      "metadata": {
        "id": "zzhCW5HcfmKd"
      },
      "source": [
        "Сначала, мы реализуем функцию и её градиенинт. "
      ]
    },
    {
      "cell_type": "code",
      "metadata": {
        "id": "rcqeFXxsFGQO"
      },
      "source": [
        "class IdentityFunction(Function):\n",
        "    \"\"\"\n",
        "    We can implement our own custom autograd Functions by subclassing\n",
        "    torch.autograd.Function and implementing the forward and backward passes\n",
        "    which operate on Tensors.\n",
        "    \"\"\"\n",
        "    @staticmethod\n",
        "    def forward(x):\n",
        "        \"\"\"\n",
        "        In the forward pass we receive a Tensor containing the input and return\n",
        "        a Tensor containing the output. ctx is a context object that can be used\n",
        "        to stash information for backward computation. You can cache arbitrary\n",
        "        objects for use in the backward pass using the ctx.save_for_backward method.\n",
        "        \"\"\"\n",
        "        return x\n",
        "\n",
        "    @staticmethod\n",
        "    def backward(grad_output):\n",
        "        \"\"\"\n",
        "        In the backward pass we receive a Tensor containing the gradient of the loss\n",
        "        with respect to the output, and we need to compute the gradient of the loss\n",
        "        with respect to the input.\n",
        "        \"\"\"\n",
        "        return grad_output"
      ],
      "execution_count": null,
      "outputs": []
    },
    {
      "cell_type": "markdown",
      "metadata": {
        "id": "jc6Rtczffxv4"
      },
      "source": [
        "Затем обернем функцию в `nn.Module()`, сделав её таким образом \"кирпичеком\" нашей \n",
        "\n",
        "---\n",
        "\n",
        "нейронки. "
      ]
    },
    {
      "cell_type": "code",
      "metadata": {
        "id": "SiqeRVcM86kM"
      },
      "source": [
        "class IdentityLayer(nn.Module):\n",
        "\n",
        "    def __init__(self):\n",
        "        # An identity layer does nothing\n",
        "        super().__init__()\n",
        "        self.identity = IdentityFunction.apply\n",
        "    \n",
        "    def forward(self, inp):\n",
        "        # An identity layer just returns whatever it gets as input.\n",
        "        return self.identity(inp)"
      ],
      "execution_count": null,
      "outputs": []
    },
    {
      "cell_type": "markdown",
      "metadata": {
        "id": "N4IoM_pX86kQ"
      },
      "source": [
        "\n",
        "### 2.1 Слой нелинейности ReLU\n",
        "Для начала реализуем слой нелинейности $ReLU(x) = max(x, 0)$. Параметров у слоя нет. Метод forward должен вернуть результат поэлементного применения ReLU к входному массиву, метод backward - градиент функции потерь по входу слоя. В нуле будем считать производную равной 0. Обратите внимание, что при обратном проходе могут понадобиться величины, посчитанные во время прямого прохода, поэтому их стоит сохранить в `ctx`."
      ]
    },
    {
      "cell_type": "code",
      "metadata": {
        "id": "U9qrJ47xY6H0"
      },
      "source": [
        "class MyReLU(Function):\n",
        "    @staticmethod\n",
        "    def forward(ctx, input):\n",
        "        ctx.save_for_backward(input)\n",
        "        return input.clamp(min=0)\n",
        "\n",
        "    @staticmethod\n",
        "    def backward(ctx, grad_output):\n",
        "        input, = ctx.saved_tensors\n",
        "        grad_input = grad_output.clone()\n",
        "        grad_input[input < 0] = 0\n",
        "        return grad_input\n"
      ],
      "execution_count": null,
      "outputs": []
    },
    {
      "cell_type": "code",
      "metadata": {
        "id": "y09ZVCsT86kT"
      },
      "source": [
        "class ReLU(nn.Module):\n",
        "    def __init__(self):\n",
        "        super().__init__()\n",
        "\n",
        "    \n",
        "    def forward(self, input):\n",
        "        y = MyReLU.apply(input)\n",
        "        return y"
      ],
      "execution_count": null,
      "outputs": []
    },
    {
      "cell_type": "markdown",
      "metadata": {
        "id": "2RwKEUp_V3-L"
      },
      "source": [
        "Не забываем после реализации функции проверить градиент, испльзуя функцию `gradcheck`."
      ]
    },
    {
      "cell_type": "code",
      "metadata": {
        "id": "K0RnDQZCXXZn"
      },
      "source": [
        "relu = ReLU()\n",
        "x = torch.rand([16, 10], requires_grad=True).double()\n",
        "assert gradcheck(relu, x, eps=1e-4, atol=1e-3)"
      ],
      "execution_count": null,
      "outputs": []
    },
    {
      "cell_type": "markdown",
      "metadata": {
        "id": "qscLZQJKv21w"
      },
      "source": [
        "Сравнение с `PyTorch`. "
      ]
    },
    {
      "cell_type": "code",
      "metadata": {
        "id": "vUmbmR4iXurd"
      },
      "source": [
        "our_relu = ReLU()\n",
        "torch_relu = torch.nn.ReLU()\n",
        "x = torch.rand([16, 10], requires_grad=True).double()\n",
        "\n",
        "assert torch.norm(torch_relu(x.float()) - our_relu(x)) < 1e-5"
      ],
      "execution_count": null,
      "outputs": []
    },
    {
      "cell_type": "markdown",
      "metadata": {
        "id": "ojTR4GFd86kY"
      },
      "source": [
        "### 2.2 Линейный слой\n",
        "Далее реализуем полносвязный слой без нелинейности. У слоя два параметра: матрица весов и вектор сдвига."
      ]
    },
    {
      "cell_type": "code",
      "metadata": {
        "id": "fBl34oykbcBf"
      },
      "source": [
        "class Linear(Function):\n",
        "    @staticmethod\n",
        "    def forward(ctx, inp, weight, bias):\n",
        "        ctx.save_for_backward(inp, weight, bias)\n",
        "        inp = inp.float()\n",
        "        output = inp.matmul(weight.t()) + bias\n",
        "        return output\n",
        "    @staticmethod\n",
        "    def backward(ctx, grad_output):\n",
        "        input, weight, bias = ctx.saved_tensors\n",
        "        input = input.float()\n",
        "        grad_input = grad_weight = grad_bias = None\n",
        "        if ctx.needs_input_grad[0]:\n",
        "            grad_input = grad_output.matmul(weight)\n",
        "        if ctx.needs_input_grad[1]:\n",
        "            grad_weight = grad_output.t().matmul(input)\n",
        "        if ctx.needs_input_grad[2]:\n",
        "            grad_bias = grad_output.sum(0)\n",
        "        return grad_input, grad_weight, grad_bias"
      ],
      "execution_count": null,
      "outputs": []
    },
    {
      "cell_type": "code",
      "metadata": {
        "id": "YbN5JOc886kZ"
      },
      "source": [
        "class Dense(nn.Module):\n",
        "    def __init__(self, input_units, output_units):\n",
        "        super().__init__()\n",
        "        # initialize weights with small random numbers from normal distribution\n",
        "        # do not forget using nn.Parameter for bias and weight\n",
        "        self.input_units = input_units\n",
        "        self.output_units = output_units\n",
        "\n",
        "        self.weight = nn.Parameter(torch.normal(0, 0.01, size = (output_units, input_units)))\n",
        "        self.bias = nn.Parameter(torch.zeros(output_units))\n",
        "        \n",
        "    def forward(self,inp):\n",
        "        return Linear.apply(inp, self.weight, self.bias)\n"
      ],
      "execution_count": null,
      "outputs": []
    },
    {
      "cell_type": "markdown",
      "metadata": {
        "id": "gToXI43WYMDv"
      },
      "source": [
        "Проверим градиент, а также сравним работу нашего модуля с имплементированным в `PyTorch`. "
      ]
    },
    {
      "cell_type": "markdown",
      "metadata": {
        "id": "et7mKX5xZfMI"
      },
      "source": [
        "Проверка градиента:"
      ]
    },
    {
      "cell_type": "code",
      "metadata": {
        "colab": {
          "base_uri": "https://localhost:8080/"
        },
        "id": "PxLVozqLZb_H",
        "outputId": "918b3361-2c3b-40fe-da6e-23aa11e46f79"
      },
      "source": [
        "linear = Dense(10, 10)\n",
        "x = torch.rand([15, 10], requires_grad=True)\n",
        "assert gradcheck(linear, x, eps=1e-3, atol=1e-3)"
      ],
      "execution_count": null,
      "outputs": [
        {
          "name": "stderr",
          "output_type": "stream",
          "text": [
            "/usr/local/lib/python3.7/dist-packages/torch/autograd/gradcheck.py:633: UserWarning: Input #0 requires gradient and is not a double precision floating point or complex. This check will likely fail if all the inputs are not of double precision floating point or complex. \n",
            "  f'Input #{idx} requires gradient and '\n"
          ]
        }
      ]
    },
    {
      "cell_type": "markdown",
      "metadata": {
        "id": "pW8ppOciZndN"
      },
      "source": [
        "Сравнение с `PyTorch`. "
      ]
    },
    {
      "cell_type": "code",
      "metadata": {
        "id": "IIR9svs7Zmq0"
      },
      "source": [
        "weight = torch.normal(0, 1, (10, 10))\n",
        "bias = torch.zeros(10)\n",
        "x = torch.rand([10, 10], requires_grad=True)\n",
        "\n",
        "our_linear = Dense(10, 10)\n",
        "torch_linear = torch.nn.Linear(10, 10)\n",
        "\n",
        "state_dict = OrderedDict([(\"weight\", weight), (\"bias\", bias)])\n",
        "torch_linear.load_state_dict(state_dict)\n",
        "our_linear.load_state_dict(state_dict)\n",
        "\n",
        "assert torch.norm(torch_linear(x.float()) - our_linear(x)) < 1e-5"
      ],
      "execution_count": null,
      "outputs": []
    },
    {
      "cell_type": "markdown",
      "metadata": {
        "id": "0dyhDg0D86kt"
      },
      "source": [
        "### 2.3 LogSoftmax"
      ]
    },
    {
      "cell_type": "markdown",
      "metadata": {
        "id": "ArL0HLGH86ku"
      },
      "source": [
        "Реализация softmax-слоя и функции потерь\n",
        "Для решения задачи многоклассовой классификации обычно используют softmax в качестве нелинейности на последнем слое, чтобы получить вероятности классов для каждого объекта:$$\\hat y = softmax(x)  = \\bigl \\{\\frac {exp(x_i)}{\\sum_j exp(x_j)} \\bigr \\}_{i=1}^K, \\quad K - \\text{число классов}$$В этом случае удобно оптимизировать логарифм правдоподобия:$$L(y, \\hat y) = -\\sum_{i=1}^K y_i \\log \\hat y_i \\rightarrow \\min,$$где $y_i=1$, если объект принадлежит $i$-му классу, и 0 иначе. Записанная в таком виде, эта функция потерь совпадает с выражением для кросс-энтропии. Очевидно, что ее также можно переписать через индексацию, если через $y_i$ обозначить класс данного объекта:$$L(y, \\hat y) = - \\log \\hat y_{y_i} \\rightarrow \\min$$В таком виде ее удобно реализовывать.\n",
        "\n",
        "Реализуйте слой LogSoftmax (без параметров). Метод forward должен вычислять логарифм от softmax, а метод backward - пропускать градиенты. В общем случае в промежуточных вычислениях backward получится трехмерный тензор, однако для нашей конкретной функции потерь все вычисления можно реализовать в матричном виде. Поэтому мы будем предполагать, что аргумент grad_output - это матрица, у которой в каждой строке только одно ненулевое значение (не обязательно единица)."
      ]
    },
    {
      "cell_type": "code",
      "metadata": {
        "id": "xSV3XD0N86ky"
      },
      "source": [
        "class MyLogSoftmax(Function):\n",
        "    @staticmethod\n",
        "    def forward(ctx, inp):\n",
        "        result = torch.nn.functional.log_softmax(inp)\n",
        "        ctx.save_for_backward(inp)\n",
        "        return result\n",
        "    \n",
        "    @staticmethod        \n",
        "    def backward(ctx, grad_output):\n",
        "        input, = ctx.saved_tensors\n",
        "        result = torch.eye(input.shape[0]) - torch.nn.functional.softmax(input)\n",
        "        return grad_output.matmul(result)"
      ],
      "execution_count": null,
      "outputs": []
    },
    {
      "cell_type": "code",
      "metadata": {
        "id": "z7OnC6o_z2vg"
      },
      "source": [
        "class LogSoftmax(nn.Module):\n",
        "    def __init__(self):\n",
        "        super().__init__()\n",
        "\n",
        "    def forward(self, input):\n",
        "        return MyLogSoftmax.apply(input)"
      ],
      "execution_count": null,
      "outputs": []
    },
    {
      "cell_type": "markdown",
      "metadata": {
        "id": "Ke4G67cddjVA"
      },
      "source": [
        "Проверка градиентов."
      ]
    },
    {
      "cell_type": "code",
      "metadata": {
        "colab": {
          "base_uri": "https://localhost:8080/"
        },
        "id": "cfgkVgGbrQEv",
        "outputId": "2dd38247-8d00-466b-c749-1a569210f997"
      },
      "source": [
        "log_softmax = LogSoftmax()\n",
        "x = torch.rand([1, 1], requires_grad=True).double()\n",
        "assert gradcheck(log_softmax, x, eps=1e-3, atol=1e-3)"
      ],
      "execution_count": null,
      "outputs": [
        {
          "name": "stderr",
          "output_type": "stream",
          "text": [
            "/usr/local/lib/python3.7/dist-packages/ipykernel_launcher.py:4: UserWarning: Implicit dimension choice for log_softmax has been deprecated. Change the call to include dim=X as an argument.\n",
            "  after removing the cwd from sys.path.\n",
            "/usr/local/lib/python3.7/dist-packages/ipykernel_launcher.py:11: UserWarning: Implicit dimension choice for softmax has been deprecated. Change the call to include dim=X as an argument.\n",
            "  # This is added back by InteractiveShellApp.init_path()\n"
          ]
        }
      ]
    },
    {
      "cell_type": "markdown",
      "metadata": {
        "id": "3Sn2M_Q086k2"
      },
      "source": [
        "### 2.4 Dropout\n",
        "Реализуйте слой Dropout."
      ]
    },
    {
      "cell_type": "code",
      "metadata": {
        "id": "qCLECy1y86k3"
      },
      "source": [
        "class MyDropout(Function):\n",
        "    @staticmethod\n",
        "    def forward(ctx, inp, p):\n",
        "        ctx.save_for_backward(inp)\n",
        "        binomial = torch.distributions.binomial.Binomial(probs=1-self.p)\n",
        "        return inp * binomial.sample(inp.size()) * (1.0/(1-self.p))\n",
        "        \n",
        "    @staticmethod\n",
        "    def backward(ctx, grad_output):\n",
        "        input, = ctx.saved_tensors\n",
        "        result = input\n",
        "        return grad_output.matmul(result)"
      ],
      "execution_count": null,
      "outputs": []
    },
    {
      "cell_type": "code",
      "metadata": {
        "id": "pS5z_mth1ZAZ"
      },
      "source": [
        "class Dropout(nn.Module):\n",
        "    def __init__(self, p):\n",
        "        super().__init__()\n",
        "        self.p = p\n",
        "        \n",
        "    def forward(self, input):\n",
        "      return MyDropout.apply(input, p)"
      ],
      "execution_count": null,
      "outputs": []
    },
    {
      "cell_type": "markdown",
      "metadata": {
        "id": "hyPPzkCI86k7"
      },
      "source": [
        "### 2.5 CrossEntropy\n",
        "\n",
        "Реализуйте функцию потерь - кроссэнтропию. В разделе 2.3 приведены полезные формулы."
      ]
    },
    {
      "cell_type": "code",
      "metadata": {
        "id": "KotXWXnT3-j5"
      },
      "source": [
        "class CrossEntropy(Function):\n",
        "    @staticmethod\n",
        "    def forward(ctx, activations, target):\n",
        "        ctx.save_for_backward(activations, target)\n",
        "        log_prob = - MyLogSoftmax.apply(activations)\n",
        "        loss = torch.gather(log_prob, 1, target.unsqueeze(1)).view(-1)\n",
        "        loss = loss.mean()\n",
        "        return loss\n",
        "\n",
        "    @staticmethod\n",
        "    def backward(ctx, grad_output):\n",
        "        activations, target,  = ctx.saved_tensors\n",
        "        p = torch.nn.functional.softmax(activations)\n",
        "\n",
        "        t = torch.zeros(p.size(), device=activations.device)\n",
        "        for n in range(t.size(0)):\n",
        "            t[n][target.data[n]] = 1\n",
        "        \n",
        "        grad_activations = (p - t) / t.shape[0]\n",
        "        grad_activations = grad_output * grad_activations\n",
        "        return grad_activations, None\n",
        "\n",
        "class CrossEntropyLoss(nn.Module):\n",
        "    def __init__(self, ):\n",
        "        super().__init__()\n",
        "\n",
        "    def forward(self, activations, target):\n",
        "        return CrossEntropy.apply(activations, target)"
      ],
      "execution_count": null,
      "outputs": []
    },
    {
      "cell_type": "markdown",
      "metadata": {
        "id": "vFNcOfVNesCC"
      },
      "source": [
        "Проверка градиентов."
      ]
    },
    {
      "cell_type": "code",
      "metadata": {
        "colab": {
          "base_uri": "https://localhost:8080/"
        },
        "id": "lXQr7sllKi8k",
        "outputId": "4f14c6c6-ff3d-4165-d1c9-fc140e7296e8"
      },
      "source": [
        "ce = CrossEntropyLoss()\n",
        "x = torch.rand([16, 10], requires_grad=True).double()\n",
        "target = torch.arange(16) % 10\n",
        "assert gradcheck(ce, inputs=(x, target), eps=1e-4, atol=1e-3)"
      ],
      "execution_count": null,
      "outputs": [
        {
          "name": "stderr",
          "output_type": "stream",
          "text": [
            "/usr/local/lib/python3.7/dist-packages/ipykernel_launcher.py:4: UserWarning: Implicit dimension choice for log_softmax has been deprecated. Change the call to include dim=X as an argument.\n",
            "  after removing the cwd from sys.path.\n",
            "/usr/local/lib/python3.7/dist-packages/ipykernel_launcher.py:13: UserWarning: Implicit dimension choice for softmax has been deprecated. Change the call to include dim=X as an argument.\n",
            "  del sys.path[0]\n"
          ]
        }
      ]
    },
    {
      "cell_type": "markdown",
      "metadata": {
        "id": "kmzKDpyE86lg"
      },
      "source": [
        "## 3. Сборка и обучение нейронной сети (5 балла)"
      ]
    },
    {
      "cell_type": "markdown",
      "metadata": {
        "id": "mPqlZfj_86lg"
      },
      "source": [
        "Реализуйте произвольную нейросеть, состоящую из ваших блоков. Она должна состоять из нескольких полносвязных слоев."
      ]
    },
    {
      "cell_type": "code",
      "metadata": {
        "id": "tkESXVD87sM8"
      },
      "source": [
        "class Network(nn.Module):\n",
        "    def __init__(self, input_size=28*28, hidden_layers_size=32, num_layers=5,\n",
        "                 num_classes=10):\n",
        "        super().__init__()\n",
        "        self.input_size = input_size\n",
        "        \n",
        "        layers = []\n",
        "        layers.append(torch.nn.Flatten())\n",
        "        for i in range(num_layers + 1):\n",
        "            if i == 0:\n",
        "                layers.append(Dense(self.input_size, hidden_layers_size))\n",
        "                layers.append(ReLU())\n",
        "            else:\n",
        "                if i == num_layers:\n",
        "                    layers.append(Dense(hidden_layers_size, num_classes))\n",
        "                    layers.append(torch.nn.Softmax(dim=1))\n",
        "                else:\n",
        "                    layers.append(Dense(hidden_layers_size, hidden_layers_size))\n",
        "                    layers.append(ReLU())\n",
        "        self.layers = torch.nn.ModuleList(layers)\n",
        "\n",
        "    def forward(self, inp):\n",
        "        model = nn.Sequential(*self.layers)\n",
        "        y = model(inp)\n",
        "        return y\n",
        "        \n",
        "    def predict(self, inp):\n",
        "        y = self.forward(inp)\n",
        "        y = torch.argmax(y, dim=1)\n",
        "        return y"
      ],
      "execution_count": null,
      "outputs": []
    },
    {
      "cell_type": "markdown",
      "metadata": {
        "id": "Vj-eEvMFfbSo"
      },
      "source": [
        "Ниже приведены функции, реализующие обучение нейронной сети. В данном задании их предлагается просто переиспользовать. "
      ]
    },
    {
      "cell_type": "code",
      "metadata": {
        "id": "vDhcoCB4OpXE"
      },
      "source": [
        "class EmptyContext:\n",
        "    def __enter__(self):\n",
        "        pass\n",
        "    \n",
        "    def __exit__(self, *args):\n",
        "        pass"
      ],
      "execution_count": null,
      "outputs": []
    },
    {
      "cell_type": "code",
      "metadata": {
        "id": "8AsWblqIOquI"
      },
      "source": [
        "# accuract metric for our classififcation\n",
        "def accuracy(model_answers, labels):\n",
        "  return torch.mean((model_answers == labels).float())"
      ],
      "execution_count": null,
      "outputs": []
    },
    {
      "cell_type": "code",
      "metadata": {
        "id": "Oy33FHuv_Us-"
      },
      "source": [
        "def perform_epoch(model, loader, criterion, \n",
        "                optimizer=None, device=None):\n",
        "    is_train = optimizer is not None\n",
        "    model = model.to(device)\n",
        "    if is_train:  \n",
        "        model.train()\n",
        "    else:\n",
        "        model.eval()\n",
        "\n",
        "    total_loss = 0\n",
        "    total_acc = 0\n",
        "    total_n = 0\n",
        "    with EmptyContext() if is_train else torch.no_grad():\n",
        "        for batch_data, batch_answers in loader:\n",
        "            batch_data = batch_data.to(device)\n",
        "            batch_answers = batch_answers.to(device)          \n",
        "            model_answers = model(batch_data)\n",
        "            model_prediction = model.predict(batch_data)\n",
        "            new_loss = criterion(model_answers, batch_answers)\n",
        "            if is_train:\n",
        "              optimizer.zero_grad()\n",
        "              new_loss.backward()\n",
        "              optimizer.step() \n",
        "\n",
        "            one_batch_loss = float(criterion(model_answers, batch_answers))\n",
        "            one_batch_acc = accuracy(model_prediction, batch_answers)\n",
        "            \n",
        "            total_loss += one_batch_loss\n",
        "            total_acc += one_batch_acc\n",
        "            total_n += 1 \n",
        "    return (total_loss / total_n, total_acc / total_n) "
      ],
      "execution_count": null,
      "outputs": []
    },
    {
      "cell_type": "markdown",
      "metadata": {
        "id": "FtamPEJZgOY5"
      },
      "source": [
        "Теперь обучим нашу нейронную сеть. В данном разделе будем использовать оптимизатор `Adam` с дефолтными пораметрами."
      ]
    },
    {
      "cell_type": "code",
      "metadata": {
        "id": "mEcyUJJI_aAn"
      },
      "source": [
        "model = Network()\n",
        "optimizer = Adam(model.parameters())\n",
        "criterion = CrossEntropyLoss()"
      ],
      "execution_count": null,
      "outputs": []
    },
    {
      "cell_type": "code",
      "metadata": {
        "colab": {
          "base_uri": "https://localhost:8080/"
        },
        "id": "Imxjhjh86Yuo",
        "outputId": "0a76acc0-f151-43a0-a493-228d7b537e0d"
      },
      "source": [
        "print(model)"
      ],
      "execution_count": null,
      "outputs": [
        {
          "name": "stdout",
          "output_type": "stream",
          "text": [
            "Network(\n",
            "  (layers): ModuleList(\n",
            "    (0): Flatten(start_dim=1, end_dim=-1)\n",
            "    (1): Dense()\n",
            "    (2): ReLU()\n",
            "    (3): Dense()\n",
            "    (4): ReLU()\n",
            "    (5): Dense()\n",
            "    (6): ReLU()\n",
            "    (7): Dense()\n",
            "    (8): ReLU()\n",
            "    (9): Dense()\n",
            "    (10): ReLU()\n",
            "    (11): Dense()\n",
            "    (12): Softmax(dim=1)\n",
            "  )\n",
            ")\n"
          ]
        }
      ]
    },
    {
      "cell_type": "code",
      "metadata": {
        "colab": {
          "base_uri": "https://localhost:8080/"
        },
        "id": "OBADDSi0_jx7",
        "outputId": "855a71e3-4a23-4d1c-ccf9-9d4753865a4a"
      },
      "source": [
        "device = torch.device('cuda' if torch.cuda.is_available() else 'cpu')\n",
        "\n",
        "model.to(device)\n",
        "\n",
        "for epoch in range(10):\n",
        "    loss, acc = perform_epoch(model, train_dataloader, criterion, \n",
        "                                optimizer=optimizer, device=device)\n",
        "    print(f\"Epoch - {epoch} : train loss {loss}, train accuracy {acc}\")\n",
        "    print(f\"Current learning rate: {optimizer.param_groups[0]['lr']}\")"
      ],
      "execution_count": null,
      "outputs": [
        {
          "name": "stderr",
          "output_type": "stream",
          "text": [
            "/usr/local/lib/python3.7/dist-packages/ipykernel_launcher.py:4: UserWarning: Implicit dimension choice for log_softmax has been deprecated. Change the call to include dim=X as an argument.\n",
            "  after removing the cwd from sys.path.\n",
            "/usr/local/lib/python3.7/dist-packages/ipykernel_launcher.py:13: UserWarning: Implicit dimension choice for softmax has been deprecated. Change the call to include dim=X as an argument.\n",
            "  del sys.path[0]\n"
          ]
        },
        {
          "name": "stdout",
          "output_type": "stream",
          "text": [
            "Epoch - 0 : train loss 2.2187248935699464, train accuracy 0.2357858419418335\n",
            "Current learning rate: 0.001\n",
            "Epoch - 1 : train loss 2.0977883914113047, train accuracy 0.36315426230430603\n",
            "Current learning rate: 0.001\n",
            "Epoch - 2 : train loss 2.09760873028636, train accuracy 0.36348867416381836\n",
            "Current learning rate: 0.001\n",
            "Epoch - 3 : train loss 2.114161060422659, train accuracy 0.3466717004776001\n",
            "Current learning rate: 0.001\n",
            "Epoch - 4 : train loss 2.143148218214512, train accuracy 0.31793808937072754\n",
            "Current learning rate: 0.001\n",
            "Epoch - 5 : train loss 2.095349650233984, train accuracy 0.3656213581562042\n",
            "Current learning rate: 0.001\n",
            "Epoch - 6 : train loss 2.091664196640253, train accuracy 0.36947235465049744\n",
            "Current learning rate: 0.001\n",
            "Epoch - 7 : train loss 2.2329826738238334, train accuracy 0.22815336287021637\n",
            "Current learning rate: 0.001\n",
            "Epoch - 8 : train loss 2.2589062004089357, train accuracy 0.2022363841533661\n",
            "Current learning rate: 0.001\n",
            "Epoch - 9 : train loss 2.2810517975687983, train accuracy 0.1801033914089203\n",
            "Current learning rate: 0.001\n"
          ]
        }
      ]
    },
    {
      "cell_type": "code",
      "metadata": {
        "colab": {
          "base_uri": "https://localhost:8080/"
        },
        "id": "JxrvNtm3YSJn",
        "outputId": "aa650b86-ee46-48ec-b1fe-605182cc92fb"
      },
      "source": [
        "print(f\"Epoch - {epoch} : loss {loss}, accuracy {acc}\")\n",
        "print(f\"Current learning rate: {optimizer.param_groups[0]['lr']}\")"
      ],
      "execution_count": null,
      "outputs": [
        {
          "name": "stdout",
          "output_type": "stream",
          "text": [
            "Epoch - 9 : loss 2.2810517975687983, accuracy 0.1801033914089203\n",
            "Current learning rate: 0.001\n"
          ]
        }
      ]
    },
    {
      "cell_type": "markdown",
      "metadata": {
        "id": "WS41CQj0Y6Q8"
      },
      "source": [
        "Дальше:\n",
        "- Проведите эксперементы с числом слоев. \n",
        "- Постройте графики зависимости качества на трейне и нa тесте от числа слоев. Для получения статистически значимых результатов повторите эксперемени несколько раз.\n",
        "- Сделайте выводы."
      ]
    },
    {
      "cell_type": "code",
      "metadata": {
        "colab": {
          "base_uri": "https://localhost:8080/"
        },
        "id": "38_OmCEmg7ad",
        "outputId": "fca71d75-8eec-458b-8c03-5340442df9d4"
      },
      "source": [
        "layers = np.arange(1, 7)\n",
        "losses_train = []\n",
        "losses_test = []\n",
        "accs_train = []\n",
        "accs_test = []\n",
        "for num_layers in layers:\n",
        "    loss_train = []\n",
        "    acc_train = []\n",
        "    loss_test = []\n",
        "    acc_test = []\n",
        "    for repeat in range(5):\n",
        "        model = Network(num_layers=num_layers)\n",
        "        optimizer = Adam(model.parameters())\n",
        "        device = torch.device('cuda' if torch.cuda.is_available() else 'cpu')\n",
        "        model.to(device)\n",
        "\n",
        "        for epoch in range(10):\n",
        "            loss_train_val, acc_train_val = perform_epoch(model, train_dataloader, criterion, \n",
        "                                        optimizer=optimizer, device=device)\n",
        "            \n",
        "            loss_test_val, acc_test_val = perform_epoch(model, test_dataloader, criterion, device=device)\n",
        "            \n",
        "            print(f\"Repeat - {repeat}, Number of layers - {num_layers}, Epoch - {epoch}\")\n",
        "            print(f\"Current learning rate: {optimizer.param_groups[0]['lr']}\")\n",
        "            print(f\"Train: loss {loss_train_val}, accuracy {acc_train_val}\")\n",
        "            print(f\"Test: loss {loss_test_val}, accuracy {acc_test_val}\")\n",
        "\n",
        "        print('----------------------')\n",
        "        loss_train.append(loss_train_val)\n",
        "        acc_train.append(acc_train_val.item())\n",
        "        loss_test.append(loss_test_val)\n",
        "        acc_test.append(acc_test_val.item())\n",
        "    losses_train.append(np.mean(loss_train))\n",
        "    accs_train.append(np.mean(acc_train))\n",
        "    losses_test.append(np.mean(loss_test))\n",
        "    accs_test.append(np.mean(acc_test))"
      ],
      "execution_count": 42,
      "outputs": [
        {
          "metadata": {
            "tags": null
          },
          "name": "stderr",
          "output_type": "stream",
          "text": [
            "/usr/local/lib/python3.7/dist-packages/ipykernel_launcher.py:4: UserWarning: Implicit dimension choice for log_softmax has been deprecated. Change the call to include dim=X as an argument.\n",
            "  after removing the cwd from sys.path.\n",
            "/usr/local/lib/python3.7/dist-packages/ipykernel_launcher.py:13: UserWarning: Implicit dimension choice for softmax has been deprecated. Change the call to include dim=X as an argument.\n",
            "  del sys.path[0]\n"
          ]
        },
        {
          "output_type": "stream",
          "name": "stdout",
          "text": [
            "Repeat - 0, Number of layers - 1, Epoch - 0\n",
            "Current learning rate: 0.001\n",
            "Train: loss 1.9345741205215454, accuracy 0.5260336399078369\n",
            "Test: loss 1.988910278280278, accuracy 0.4719637334346771\n",
            "Repeat - 0, Number of layers - 1, Epoch - 1\n",
            "Current learning rate: 0.001\n",
            "Train: loss 1.8650023164451122, accuracy 0.5959835648536682\n",
            "Test: loss 1.8694840371161923, accuracy 0.5912047028541565\n",
            "Repeat - 0, Number of layers - 1, Epoch - 2\n",
            "Current learning rate: 0.001\n",
            "Train: loss 1.8717257034480572, accuracy 0.589333176612854\n",
            "Test: loss 1.8459708694217802, accuracy 0.6151425242424011\n",
            "Repeat - 0, Number of layers - 1, Epoch - 3\n",
            "Current learning rate: 0.001\n",
            "Train: loss 1.8518329998552798, accuracy 0.6092695593833923\n",
            "Test: loss 1.8572538999960697, accuracy 0.6037982702255249\n",
            "Repeat - 0, Number of layers - 1, Epoch - 4\n",
            "Current learning rate: 0.001\n",
            "Train: loss 1.8520728167593479, accuracy 0.6090346574783325\n",
            "Test: loss 1.8436087083959507, accuracy 0.6174911260604858\n",
            "Repeat - 0, Number of layers - 1, Epoch - 5\n",
            "Current learning rate: 0.001\n",
            "Train: loss 1.8604730790555477, accuracy 0.6006839275360107\n",
            "Test: loss 1.8609008336889332, accuracy 0.6002004742622375\n",
            "Repeat - 0, Number of layers - 1, Epoch - 6\n",
            "Current learning rate: 0.001\n",
            "Train: loss 1.8520480106770991, accuracy 0.6091349124908447\n",
            "Test: loss 1.8431253579781688, accuracy 0.618040919303894\n",
            "Repeat - 0, Number of layers - 1, Epoch - 7\n",
            "Current learning rate: 0.001\n",
            "Train: loss 1.8460023641586303, accuracy 0.6150846481323242\n",
            "Test: loss 1.8498815794934755, accuracy 0.6112943887710571\n",
            "Repeat - 0, Number of layers - 1, Epoch - 8\n",
            "Current learning rate: 0.001\n",
            "Train: loss 1.8307798184752464, accuracy 0.6303541660308838\n",
            "Test: loss 1.8893947099102313, accuracy 0.5716647505760193\n",
            "Repeat - 0, Number of layers - 1, Epoch - 9\n",
            "Current learning rate: 0.001\n",
            "Train: loss 1.818181424409151, accuracy 0.6429225206375122\n",
            "Test: loss 1.782502975957147, accuracy 0.6786600351333618\n",
            "----------------------\n",
            "Repeat - 1, Number of layers - 1, Epoch - 0\n",
            "Current learning rate: 0.001\n",
            "Train: loss 2.182168691337109, accuracy 0.27863627672195435\n",
            "Test: loss 2.18756599851634, accuracy 0.273662269115448\n",
            "Repeat - 1, Number of layers - 1, Epoch - 1\n",
            "Current learning rate: 0.001\n",
            "Train: loss 2.1646409074366093, accuracy 0.2963367998600006\n",
            "Test: loss 2.2011578924831063, accuracy 0.26001912355422974\n",
            "Repeat - 1, Number of layers - 1, Epoch - 2\n",
            "Current learning rate: 0.001\n",
            "Train: loss 2.1851055280268192, accuracy 0.2759856581687927\n",
            "Test: loss 2.180550928058653, accuracy 0.2805589437484741\n",
            "Repeat - 1, Number of layers - 1, Epoch - 3\n",
            "Current learning rate: 0.001\n",
            "Train: loss 2.1711505907177924, accuracy 0.28997018933296204\n",
            "Test: loss 2.1663696235087677, accuracy 0.2948014736175537\n",
            "Repeat - 1, Number of layers - 1, Epoch - 4\n",
            "Current learning rate: 0.001\n",
            "Train: loss 2.1715278423428535, accuracy 0.28961947560310364\n",
            "Test: loss 2.173874511354152, accuracy 0.2872553765773773\n",
            "Repeat - 1, Number of layers - 1, Epoch - 5\n",
            "Current learning rate: 0.001\n",
            "Train: loss 2.167833700954914, accuracy 0.2933031916618347\n",
            "Test: loss 2.16819290546463, accuracy 0.29295241832733154\n",
            "Repeat - 1, Number of layers - 1, Epoch - 6\n",
            "Current learning rate: 0.001\n",
            "Train: loss 2.17004623106122, accuracy 0.2910861670970917\n",
            "Test: loss 2.166539606483265, accuracy 0.2946016490459442\n",
            "Repeat - 1, Number of layers - 1, Epoch - 7\n",
            "Current learning rate: 0.001\n",
            "Train: loss 2.1676612199544905, accuracy 0.29348668456077576\n",
            "Test: loss 2.166237649352833, accuracy 0.2949015498161316\n",
            "Repeat - 1, Number of layers - 1, Epoch - 8\n",
            "Current learning rate: 0.001\n",
            "Train: loss 2.1699037859737875, accuracy 0.29123619198799133\n",
            "Test: loss 2.174534250592542, accuracy 0.2866057753562927\n",
            "Repeat - 1, Number of layers - 1, Epoch - 9\n",
            "Current learning rate: 0.001\n",
            "Train: loss 2.155150816500187, accuracy 0.3061204254627228\n",
            "Test: loss 2.09601307612309, accuracy 0.365116149187088\n",
            "----------------------\n",
            "Repeat - 2, Number of layers - 1, Epoch - 0\n",
            "Current learning rate: 0.001\n",
            "Train: loss 1.9818909440636634, accuracy 0.47884881496429443\n",
            "Test: loss 1.8809204828971509, accuracy 0.5800600051879883\n",
            "Repeat - 2, Number of layers - 1, Epoch - 1\n",
            "Current learning rate: 0.001\n",
            "Train: loss 1.8914153246581555, accuracy 0.569499135017395\n",
            "Test: loss 1.891967210097649, accuracy 0.5688658952713013\n",
            "Repeat - 2, Number of layers - 1, Epoch - 2\n",
            "Current learning rate: 0.001\n",
            "Train: loss 1.8510035000741483, accuracy 0.6099515557289124\n",
            "Test: loss 1.813372613071859, accuracy 0.6476258635520935\n",
            "Repeat - 2, Number of layers - 1, Epoch - 3\n",
            "Current learning rate: 0.001\n",
            "Train: loss 1.8360991457104683, accuracy 0.6249039173126221\n",
            "Test: loss 1.865064277999226, accuracy 0.5958525538444519\n",
            "Repeat - 2, Number of layers - 1, Epoch - 4\n",
            "Current learning rate: 0.001\n",
            "Train: loss 1.8363977575302124, accuracy 0.624636173248291\n",
            "Test: loss 1.851967761362868, accuracy 0.609195351600647\n",
            "Repeat - 2, Number of layers - 1, Epoch - 5\n",
            "Current learning rate: 0.001\n",
            "Train: loss 1.8298566276431083, accuracy 0.6311205625534058\n",
            "Test: loss 1.8158432740321582, accuracy 0.6453273296356201\n",
            "Repeat - 2, Number of layers - 1, Epoch - 6\n",
            "Current learning rate: 0.001\n",
            "Train: loss 1.8160224332511425, accuracy 0.6449715495109558\n",
            "Test: loss 1.8055461144697542, accuracy 0.655572235584259\n",
            "Repeat - 2, Number of layers - 1, Epoch - 7\n",
            "Current learning rate: 0.001\n",
            "Train: loss 1.813863404393196, accuracy 0.647139310836792\n",
            "Test: loss 1.8082874033940786, accuracy 0.6527732610702515\n",
            "Repeat - 2, Number of layers - 1, Epoch - 8\n",
            "Current learning rate: 0.001\n",
            "Train: loss 1.792239544659853, accuracy 0.6688247323036194\n",
            "Test: loss 1.8109672087422017, accuracy 0.6502249836921692\n",
            "Repeat - 2, Number of layers - 1, Epoch - 9\n",
            "Current learning rate: 0.001\n",
            "Train: loss 1.8093628578484058, accuracy 0.6517561674118042\n",
            "Test: loss 1.816551405093123, accuracy 0.6444778442382812\n",
            "----------------------\n",
            "Repeat - 3, Number of layers - 1, Epoch - 0\n",
            "Current learning rate: 0.001\n",
            "Train: loss 1.9643239299952984, accuracy 0.4960998594760895\n",
            "Test: loss 1.9763564321769589, accuracy 0.4844575822353363\n",
            "Repeat - 3, Number of layers - 1, Epoch - 1\n",
            "Current learning rate: 0.001\n",
            "Train: loss 1.9460677958130836, accuracy 0.5148990154266357\n",
            "Test: loss 1.9407662551799814, accuracy 0.5201401114463806\n",
            "Repeat - 3, Number of layers - 1, Epoch - 2\n",
            "Current learning rate: 0.001\n",
            "Train: loss 1.9515176789760589, accuracy 0.5095981955528259\n",
            "Test: loss 1.9446296237934118, accuracy 0.5165417790412903\n",
            "Repeat - 3, Number of layers - 1, Epoch - 3\n",
            "Current learning rate: 0.001\n",
            "Train: loss 1.9488882664442062, accuracy 0.5121827125549316\n",
            "Test: loss 1.9561693652280268, accuracy 0.5048475861549377\n",
            "Repeat - 3, Number of layers - 1, Epoch - 4\n",
            "Current learning rate: 0.001\n",
            "Train: loss 1.9510381355881692, accuracy 0.5100153684616089\n",
            "Test: loss 1.9680736922788835, accuracy 0.4929533302783966\n",
            "Repeat - 3, Number of layers - 1, Epoch - 5\n",
            "Current learning rate: 0.001\n",
            "Train: loss 1.9542442198097705, accuracy 0.5068166851997375\n",
            "Test: loss 1.952843236422789, accuracy 0.5082460045814514\n",
            "Repeat - 3, Number of layers - 1, Epoch - 6\n",
            "Current learning rate: 0.001\n",
            "Train: loss 1.9388155145049095, accuracy 0.5222483277320862\n",
            "Test: loss 1.943281213204185, accuracy 0.5177913308143616\n",
            "Repeat - 3, Number of layers - 1, Epoch - 7\n",
            "Current learning rate: 0.001\n",
            "Train: loss 1.9352907183170318, accuracy 0.525848388671875\n",
            "Test: loss 1.9508640113799112, accuracy 0.5102449655532837\n",
            "Repeat - 3, Number of layers - 1, Epoch - 8\n",
            "Current learning rate: 0.001\n",
            "Train: loss 1.9353080278038979, accuracy 0.5257801413536072\n",
            "Test: loss 1.9424136932464553, accuracy 0.5186408162117004\n",
            "Repeat - 3, Number of layers - 1, Epoch - 9\n",
            "Current learning rate: 0.001\n",
            "Train: loss 1.9450177320837974, accuracy 0.5161148309707642\n",
            "Test: loss 1.953506228984564, accuracy 0.5075963139533997\n",
            "----------------------\n",
            "Repeat - 4, Number of layers - 1, Epoch - 0\n",
            "Current learning rate: 0.001\n",
            "Train: loss 1.9597895039916038, accuracy 0.5007303953170776\n",
            "Test: loss 1.9381399580027567, accuracy 0.5226387977600098\n",
            "Repeat - 4, Number of layers - 1, Epoch - 1\n",
            "Current learning rate: 0.001\n",
            "Train: loss 1.9375358624756336, accuracy 0.5234814882278442\n",
            "Test: loss 1.923783874404484, accuracy 0.5371816158294678\n",
            "Repeat - 4, Number of layers - 1, Epoch - 2\n",
            "Current learning rate: 0.001\n",
            "Train: loss 1.9162141103744508, accuracy 0.5448651909828186\n",
            "Test: loss 1.9047247589617475, accuracy 0.556372344493866\n",
            "Repeat - 4, Number of layers - 1, Epoch - 3\n",
            "Current learning rate: 0.001\n",
            "Train: loss 1.8884177075028419, accuracy 0.5725977420806885\n",
            "Test: loss 1.893239817519238, accuracy 0.5678662061691284\n",
            "Repeat - 4, Number of layers - 1, Epoch - 4\n",
            "Current learning rate: 0.001\n",
            "Train: loss 1.884161705583334, accuracy 0.5769829750061035\n",
            "Test: loss 1.8820806141199915, accuracy 0.5788110494613647\n",
            "Repeat - 4, Number of layers - 1, Epoch - 5\n",
            "Current learning rate: 0.001\n",
            "Train: loss 1.891850915491581, accuracy 0.5692490935325623\n",
            "Test: loss 1.8999570692139587, accuracy 0.5610700249671936\n",
            "Repeat - 4, Number of layers - 1, Epoch - 6\n",
            "Current learning rate: 0.001\n",
            "Train: loss 1.8899125884473325, accuracy 0.5711320638656616\n",
            "Test: loss 1.873338576735764, accuracy 0.5877568125724792\n",
            "Repeat - 4, Number of layers - 1, Epoch - 7\n",
            "Current learning rate: 0.001\n",
            "Train: loss 1.8725105131864548, accuracy 0.5885827541351318\n",
            "Test: loss 1.8640463684631072, accuracy 0.5970519781112671\n",
            "Repeat - 4, Number of layers - 1, Epoch - 8\n",
            "Current learning rate: 0.001\n",
            "Train: loss 1.8700063507258893, accuracy 0.5911332368850708\n",
            "Test: loss 1.8734878021022905, accuracy 0.5877062678337097\n",
            "Repeat - 4, Number of layers - 1, Epoch - 9\n",
            "Current learning rate: 0.001\n",
            "Train: loss 1.873484001636505, accuracy 0.5876497626304626\n",
            "Test: loss 1.8693082691847474, accuracy 0.5918543338775635\n",
            "----------------------\n",
            "Repeat - 0, Number of layers - 2, Epoch - 0\n",
            "Current learning rate: 0.001\n",
            "Train: loss 1.7458573042750358, accuracy 0.7151966691017151\n",
            "Test: loss 1.7988356258915639, accuracy 0.6618687510490417\n",
            "Repeat - 0, Number of layers - 2, Epoch - 1\n",
            "Current learning rate: 0.001\n",
            "Train: loss 1.7243269771635532, accuracy 0.7363492846488953\n",
            "Test: loss 1.7311038458007744, accuracy 0.730134129524231\n",
            "Repeat - 0, Number of layers - 2, Epoch - 2\n",
            "Current learning rate: 0.001\n",
            "Train: loss 1.7326875798106194, accuracy 0.7283151745796204\n",
            "Test: loss 1.7326921137019076, accuracy 0.7287346720695496\n",
            "Repeat - 0, Number of layers - 2, Epoch - 3\n",
            "Current learning rate: 0.001\n",
            "Train: loss 1.7413177529871464, accuracy 0.7198135852813721\n",
            "Test: loss 1.7031514769730003, accuracy 0.7580199837684631\n",
            "Repeat - 0, Number of layers - 2, Epoch - 4\n",
            "Current learning rate: 0.001\n",
            "Train: loss 1.7222760077416897, accuracy 0.7388133406639099\n",
            "Test: loss 1.6921591408427865, accuracy 0.7690643072128296\n",
            "Repeat - 0, Number of layers - 2, Epoch - 5\n",
            "Current learning rate: 0.001\n",
            "Train: loss 1.7149688349068164, accuracy 0.7461144924163818\n",
            "Test: loss 1.7043958623548676, accuracy 0.7565206289291382\n",
            "Repeat - 0, Number of layers - 2, Epoch - 6\n",
            "Current learning rate: 0.001\n",
            "Train: loss 1.7260042463839054, accuracy 0.7350813746452332\n",
            "Test: loss 1.7111419444677534, accuracy 0.7497239112854004\n",
            "Repeat - 0, Number of layers - 2, Epoch - 7\n",
            "Current learning rate: 0.001\n",
            "Train: loss 1.721981921941042, accuracy 0.7389827966690063\n",
            "Test: loss 1.7089142534865074, accuracy 0.7521729469299316\n",
            "Repeat - 0, Number of layers - 2, Epoch - 8\n",
            "Current learning rate: 0.001\n",
            "Train: loss 1.7107682362496852, accuracy 0.750331699848175\n",
            "Test: loss 1.7282730548278145, accuracy 0.7327326536178589\n",
            "Repeat - 0, Number of layers - 2, Epoch - 9\n",
            "Current learning rate: 0.001\n",
            "Train: loss 1.7155278568267822, accuracy 0.7455652356147766\n",
            "Test: loss 1.6928574693971488, accuracy 0.7682146430015564\n",
            "----------------------\n",
            "Repeat - 1, Number of layers - 2, Epoch - 0\n",
            "Current learning rate: 0.001\n",
            "Train: loss 1.9365665285885334, accuracy 0.5244655609130859\n",
            "Test: loss 1.9166810315945695, accuracy 0.5442285537719727\n",
            "Repeat - 1, Number of layers - 2, Epoch - 1\n",
            "Current learning rate: 0.001\n",
            "Train: loss 1.9267133841216564, accuracy 0.5341149568557739\n",
            "Test: loss 1.9213406599979888, accuracy 0.5396804809570312\n",
            "Repeat - 1, Number of layers - 2, Epoch - 2\n",
            "Current learning rate: 0.001\n",
            "Train: loss 1.9224790388941764, accuracy 0.5384802222251892\n",
            "Test: loss 1.9956192509166484, accuracy 0.46531733870506287\n",
            "Repeat - 1, Number of layers - 2, Epoch - 3\n",
            "Current learning rate: 0.001\n",
            "Train: loss 1.9250938033759595, accuracy 0.5357146859169006\n",
            "Test: loss 1.9015109640904988, accuracy 0.5594205856323242\n",
            "Repeat - 1, Number of layers - 2, Epoch - 4\n",
            "Current learning rate: 0.001\n",
            "Train: loss 1.891674067914486, accuracy 0.5693322420120239\n",
            "Test: loss 1.902509517576741, accuracy 0.5585207939147949\n",
            "Repeat - 1, Number of layers - 2, Epoch - 5\n",
            "Current learning rate: 0.001\n",
            "Train: loss 1.8994351867437362, accuracy 0.5614829659461975\n",
            "Test: loss 1.8388747992007985, accuracy 0.6214894652366638\n",
            "Repeat - 1, Number of layers - 2, Epoch - 6\n",
            "Current learning rate: 0.001\n",
            "Train: loss 1.824789688706398, accuracy 0.636271059513092\n",
            "Test: loss 1.8025258963612065, accuracy 0.6583711504936218\n",
            "Repeat - 1, Number of layers - 2, Epoch - 7\n",
            "Current learning rate: 0.001\n",
            "Train: loss 1.8168951627016068, accuracy 0.6441212892532349\n",
            "Test: loss 1.8635896892919355, accuracy 0.5975517630577087\n",
            "Repeat - 1, Number of layers - 2, Epoch - 8\n",
            "Current learning rate: 0.001\n",
            "Train: loss 1.8316715439856053, accuracy 0.6293871998786926\n",
            "Test: loss 1.8069275957176174, accuracy 0.654122531414032\n",
            "Repeat - 1, Number of layers - 2, Epoch - 9\n",
            "Current learning rate: 0.001\n",
            "Train: loss 1.8210675565600396, accuracy 0.6399887204170227\n",
            "Test: loss 1.8094447908372893, accuracy 0.6516740322113037\n",
            "----------------------\n",
            "Repeat - 2, Number of layers - 2, Epoch - 0\n",
            "Current learning rate: 0.001\n",
            "Train: loss 1.7171850758492946, accuracy 0.7439800500869751\n",
            "Test: loss 1.6921298741579414, accuracy 0.7684646248817444\n",
            "Repeat - 2, Number of layers - 2, Epoch - 1\n",
            "Current learning rate: 0.001\n",
            "Train: loss 1.6932896282076835, accuracy 0.7674682140350342\n",
            "Test: loss 1.7390323473417062, accuracy 0.7216883301734924\n",
            "Repeat - 2, Number of layers - 2, Epoch - 2\n",
            "Current learning rate: 0.001\n",
            "Train: loss 1.6999080524146557, accuracy 0.7609843015670776\n",
            "Test: loss 1.7917821913108654, accuracy 0.6688152551651001\n",
            "Repeat - 2, Number of layers - 2, Epoch - 3\n",
            "Current learning rate: 0.001\n",
            "Train: loss 1.687914773195982, accuracy 0.772901177406311\n",
            "Test: loss 1.7023182381754336, accuracy 0.7586194276809692\n",
            "Repeat - 2, Number of layers - 2, Epoch - 4\n",
            "Current learning rate: 0.001\n",
            "Train: loss 1.6859637120366096, accuracy 0.7750017642974854\n",
            "Test: loss 1.6869569759497578, accuracy 0.7740119099617004\n",
            "Repeat - 2, Number of layers - 2, Epoch - 5\n",
            "Current learning rate: 0.001\n",
            "Train: loss 1.691625933855772, accuracy 0.769351065158844\n",
            "Test: loss 1.7130804438998495, accuracy 0.7482249140739441\n",
            "Repeat - 2, Number of layers - 2, Epoch - 6\n",
            "Current learning rate: 0.001\n",
            "Train: loss 1.7017411815226078, accuracy 0.759215235710144\n",
            "Test: loss 1.7121929346710845, accuracy 0.748874843120575\n",
            "Repeat - 2, Number of layers - 2, Epoch - 7\n",
            "Current learning rate: 0.001\n",
            "Train: loss 1.703955890417099, accuracy 0.7570814490318298\n",
            "Test: loss 1.6761658802918944, accuracy 0.7849059104919434\n",
            "Repeat - 2, Number of layers - 2, Epoch - 8\n",
            "Current learning rate: 0.001\n",
            "Train: loss 1.6777870702147484, accuracy 0.7832350134849548\n",
            "Test: loss 1.746271605076997, accuracy 0.7148914933204651\n",
            "Repeat - 2, Number of layers - 2, Epoch - 9\n",
            "Current learning rate: 0.001\n",
            "Train: loss 1.7319819634258746, accuracy 0.7291138172149658\n",
            "Test: loss 1.7253104512659327, accuracy 0.7358810305595398\n",
            "----------------------\n",
            "Repeat - 3, Number of layers - 2, Epoch - 0\n",
            "Current learning rate: 0.001\n",
            "Train: loss 1.7538837169110775, accuracy 0.7072120308876038\n",
            "Test: loss 1.7403373130257878, accuracy 0.7211387753486633\n",
            "Repeat - 3, Number of layers - 2, Epoch - 1\n",
            "Current learning rate: 0.001\n",
            "Train: loss 1.7131481750011444, accuracy 0.7476828098297119\n",
            "Test: loss 1.6984684091994073, accuracy 0.7624677419662476\n",
            "Repeat - 3, Number of layers - 2, Epoch - 2\n",
            "Current learning rate: 0.001\n",
            "Train: loss 1.7095319128334523, accuracy 0.7514336109161377\n",
            "Test: loss 1.7006977565999868, accuracy 0.7602189183235168\n",
            "Repeat - 3, Number of layers - 2, Epoch - 3\n",
            "Current learning rate: 0.001\n",
            "Train: loss 1.6911322287023067, accuracy 0.7696839570999146\n",
            "Test: loss 1.7426126196287919, accuracy 0.7182900905609131\n",
            "Repeat - 3, Number of layers - 2, Epoch - 4\n",
            "Current learning rate: 0.001\n",
            "Train: loss 1.725366380751133, accuracy 0.735663652420044\n",
            "Test: loss 1.842355422887845, accuracy 0.6185410618782043\n",
            "Repeat - 3, Number of layers - 2, Epoch - 5\n",
            "Current learning rate: 0.001\n",
            "Train: loss 1.7078276754915713, accuracy 0.7532484531402588\n",
            "Test: loss 1.724357678793717, accuracy 0.7367302775382996\n",
            "Repeat - 3, Number of layers - 2, Epoch - 6\n",
            "Current learning rate: 0.001\n",
            "Train: loss 1.7362892768681049, accuracy 0.7247458696365356\n",
            "Test: loss 1.7681464174876864, accuracy 0.6929032206535339\n",
            "Repeat - 3, Number of layers - 2, Epoch - 7\n",
            "Current learning rate: 0.001\n",
            "Train: loss 1.7254319387078285, accuracy 0.735662579536438\n",
            "Test: loss 1.735147081572434, accuracy 0.7259860634803772\n",
            "Repeat - 3, Number of layers - 2, Epoch - 8\n",
            "Current learning rate: 0.001\n",
            "Train: loss 1.7082817457914352, accuracy 0.7528154253959656\n",
            "Test: loss 1.6887688248947463, accuracy 0.7724623084068298\n",
            "Repeat - 3, Number of layers - 2, Epoch - 9\n",
            "Current learning rate: 0.001\n",
            "Train: loss 1.703454201132059, accuracy 0.7576656937599182\n",
            "Test: loss 1.7868578889738138, accuracy 0.6744127869606018\n",
            "----------------------\n",
            "Repeat - 4, Number of layers - 2, Epoch - 0\n",
            "Current learning rate: 0.001\n",
            "Train: loss 1.8229279902279376, accuracy 0.6380723118782043\n",
            "Test: loss 1.785833898155407, accuracy 0.6748624444007874\n",
            "Repeat - 4, Number of layers - 2, Epoch - 1\n",
            "Current learning rate: 0.001\n",
            "Train: loss 1.7965394997894764, accuracy 0.6643410921096802\n",
            "Test: loss 1.8694899275206376, accuracy 0.5910550355911255\n",
            "Repeat - 4, Number of layers - 2, Epoch - 2\n",
            "Current learning rate: 0.001\n",
            "Train: loss 1.8036795176565648, accuracy 0.6573238372802734\n",
            "Test: loss 1.7895418223233774, accuracy 0.6716638803482056\n",
            "Repeat - 4, Number of layers - 2, Epoch - 3\n",
            "Current learning rate: 0.001\n",
            "Train: loss 1.79162090626359, accuracy 0.6694240570068359\n",
            "Test: loss 1.7997991915406852, accuracy 0.6612687706947327\n",
            "Repeat - 4, Number of layers - 2, Epoch - 4\n",
            "Current learning rate: 0.001\n",
            "Train: loss 1.7964189179837704, accuracy 0.6646068692207336\n",
            "Test: loss 1.7775996058419727, accuracy 0.683458149433136\n",
            "Repeat - 4, Number of layers - 2, Epoch - 5\n",
            "Current learning rate: 0.001\n",
            "Train: loss 1.8137835963368416, accuracy 0.6472206711769104\n",
            "Test: loss 1.8512963506950253, accuracy 0.609795331954956\n",
            "Repeat - 4, Number of layers - 2, Epoch - 6\n",
            "Current learning rate: 0.001\n",
            "Train: loss 1.8176285764575004, accuracy 0.6434868574142456\n",
            "Test: loss 1.8267675715050418, accuracy 0.6343327760696411\n",
            "Repeat - 4, Number of layers - 2, Epoch - 7\n",
            "Current learning rate: 0.001\n",
            "Train: loss 1.799275081217289, accuracy 0.6618415117263794\n",
            "Test: loss 1.7767940879404276, accuracy 0.684457540512085\n",
            "Repeat - 4, Number of layers - 2, Epoch - 8\n",
            "Current learning rate: 0.001\n",
            "Train: loss 1.8025451722443104, accuracy 0.6585902571678162\n",
            "Test: loss 1.7861348547856848, accuracy 0.6750123500823975\n",
            "Repeat - 4, Number of layers - 2, Epoch - 9\n",
            "Current learning rate: 0.001\n",
            "Train: loss 1.809167460232973, accuracy 0.6519719362258911\n",
            "Test: loss 1.8006940131065907, accuracy 0.6604695916175842\n",
            "----------------------\n",
            "Repeat - 0, Number of layers - 3, Epoch - 0\n",
            "Current learning rate: 0.001\n",
            "Train: loss 1.957761644244194, accuracy 0.5027292370796204\n",
            "Test: loss 1.8955579542148595, accuracy 0.5649176836013794\n",
            "Repeat - 0, Number of layers - 3, Epoch - 1\n",
            "Current learning rate: 0.001\n",
            "Train: loss 1.913050469994545, accuracy 0.5477153062820435\n",
            "Test: loss 1.9040078745074178, accuracy 0.556522011756897\n",
            "Repeat - 0, Number of layers - 3, Epoch - 2\n",
            "Current learning rate: 0.001\n",
            "Train: loss 1.8908603816628455, accuracy 0.5701164603233337\n",
            "Test: loss 1.9554487750984204, accuracy 0.5055475234985352\n",
            "Repeat - 0, Number of layers - 3, Epoch - 3\n",
            "Current learning rate: 0.001\n",
            "Train: loss 1.9188978227078914, accuracy 0.5420951247215271\n",
            "Test: loss 1.9733133539445755, accuracy 0.4879060387611389\n",
            "Repeat - 0, Number of layers - 3, Epoch - 4\n",
            "Current learning rate: 0.001\n",
            "Train: loss 1.9558223442733287, accuracy 0.505252480506897\n",
            "Test: loss 1.949345902345706, accuracy 0.5117942094802856\n",
            "Repeat - 0, Number of layers - 3, Epoch - 5\n",
            "Current learning rate: 0.001\n",
            "Train: loss 1.915501702040434, accuracy 0.5455814003944397\n",
            "Test: loss 1.9147215011059076, accuracy 0.5464770197868347\n",
            "Repeat - 0, Number of layers - 3, Epoch - 6\n",
            "Current learning rate: 0.001\n",
            "Train: loss 1.9455673388242722, accuracy 0.5155470967292786\n",
            "Test: loss 1.8738284577494082, accuracy 0.587256908416748\n",
            "Repeat - 0, Number of layers - 3, Epoch - 7\n",
            "Current learning rate: 0.001\n",
            "Train: loss 1.9078569958209992, accuracy 0.5532488822937012\n",
            "Test: loss 1.9108871332351594, accuracy 0.5502747893333435\n",
            "Repeat - 0, Number of layers - 3, Epoch - 8\n",
            "Current learning rate: 0.001\n",
            "Train: loss 1.9215530120134354, accuracy 0.5395995378494263\n",
            "Test: loss 1.9137598193925003, accuracy 0.5473765730857849\n",
            "Repeat - 0, Number of layers - 3, Epoch - 9\n",
            "Current learning rate: 0.001\n",
            "Train: loss 1.9291392824351787, accuracy 0.5319647789001465\n",
            "Test: loss 1.8751537299406404, accuracy 0.5859574675559998\n",
            "----------------------\n",
            "Repeat - 1, Number of layers - 3, Epoch - 0\n",
            "Current learning rate: 0.001\n",
            "Train: loss 1.8707799444794655, accuracy 0.5896152853965759\n",
            "Test: loss 1.8614690323462193, accuracy 0.5995503067970276\n",
            "Repeat - 1, Number of layers - 3, Epoch - 1\n",
            "Current learning rate: 0.001\n",
            "Train: loss 1.8362415569126607, accuracy 0.6247369050979614\n",
            "Test: loss 1.8748166230486252, accuracy 0.5851577520370483\n",
            "Repeat - 1, Number of layers - 3, Epoch - 2\n",
            "Current learning rate: 0.001\n",
            "Train: loss 1.7951792243421079, accuracy 0.6657578349113464\n",
            "Test: loss 1.8145375537729336, accuracy 0.6465268731117249\n",
            "Repeat - 1, Number of layers - 3, Epoch - 3\n",
            "Current learning rate: 0.001\n",
            "Train: loss 1.8565223867595195, accuracy 0.6045165657997131\n",
            "Test: loss 1.7891846226787995, accuracy 0.6720138788223267\n",
            "Repeat - 1, Number of layers - 3, Epoch - 4\n",
            "Current learning rate: 0.001\n",
            "Train: loss 1.8526631864905356, accuracy 0.6084195375442505\n",
            "Test: loss 1.8628932721968712, accuracy 0.5981511473655701\n",
            "Repeat - 1, Number of layers - 3, Epoch - 5\n",
            "Current learning rate: 0.001\n",
            "Train: loss 1.8078109540045262, accuracy 0.653286874294281\n",
            "Test: loss 1.8460633826220054, accuracy 0.6149423122406006\n",
            "Repeat - 1, Number of layers - 3, Epoch - 6\n",
            "Current learning rate: 0.001\n",
            "Train: loss 1.7919505705237389, accuracy 0.6691740155220032\n",
            "Test: loss 1.7762644337392461, accuracy 0.6849073171615601\n",
            "Repeat - 1, Number of layers - 3, Epoch - 7\n",
            "Current learning rate: 0.001\n",
            "Train: loss 1.7840939990580083, accuracy 0.6769915223121643\n",
            "Test: loss 1.7683687783788884, accuracy 0.692653238773346\n",
            "Repeat - 1, Number of layers - 3, Epoch - 8\n",
            "Current learning rate: 0.001\n",
            "Train: loss 1.7714628989696504, accuracy 0.6896756887435913\n",
            "Test: loss 1.7627732137153889, accuracy 0.6983005404472351\n",
            "Repeat - 1, Number of layers - 3, Epoch - 9\n",
            "Current learning rate: 0.001\n",
            "Train: loss 1.7722943057715892, accuracy 0.6888092756271362\n",
            "Test: loss 1.8074416231358426, accuracy 0.653623104095459\n",
            "----------------------\n",
            "Repeat - 2, Number of layers - 3, Epoch - 0\n",
            "Current learning rate: 0.001\n",
            "Train: loss 1.9482705935537814, accuracy 0.5118350386619568\n",
            "Test: loss 2.009578194754056, accuracy 0.4516235589981079\n",
            "Repeat - 2, Number of layers - 3, Epoch - 1\n",
            "Current learning rate: 0.001\n",
            "Train: loss 1.9864906546473504, accuracy 0.4745209515094757\n",
            "Test: loss 2.0390152941936854, accuracy 0.42193806171417236\n",
            "Repeat - 2, Number of layers - 3, Epoch - 2\n",
            "Current learning rate: 0.001\n",
            "Train: loss 2.011935486584902, accuracy 0.4491199254989624\n",
            "Test: loss 2.0070559215331185, accuracy 0.4540225565433502\n",
            "Repeat - 2, Number of layers - 3, Epoch - 3\n",
            "Current learning rate: 0.001\n",
            "Train: loss 2.017686980456114, accuracy 0.44335299730300903\n",
            "Test: loss 2.0027736857913245, accuracy 0.4583704471588135\n",
            "Repeat - 2, Number of layers - 3, Epoch - 4\n",
            "Current learning rate: 0.001\n",
            "Train: loss 2.0126638413071634, accuracy 0.44833698868751526\n",
            "Test: loss 2.0213491711123237, accuracy 0.4396296739578247\n",
            "Repeat - 2, Number of layers - 3, Epoch - 5\n",
            "Current learning rate: 0.001\n",
            "Train: loss 2.0112452056109906, accuracy 0.44985368847846985\n",
            "Test: loss 2.0024419910368, accuracy 0.4587703049182892\n",
            "Repeat - 2, Number of layers - 3, Epoch - 6\n",
            "Current learning rate: 0.001\n",
            "Train: loss 2.0154614253044127, accuracy 0.44565412402153015\n",
            "Test: loss 2.002631481798335, accuracy 0.4585707187652588\n",
            "Repeat - 2, Number of layers - 3, Epoch - 7\n",
            "Current learning rate: 0.001\n",
            "Train: loss 2.0058399585187434, accuracy 0.45525380969047546\n",
            "Test: loss 1.9989863230191964, accuracy 0.4621187150478363\n",
            "Repeat - 2, Number of layers - 3, Epoch - 8\n",
            "Current learning rate: 0.001\n",
            "Train: loss 2.0281052822470667, accuracy 0.4330388903617859\n",
            "Test: loss 2.0902807276466975, accuracy 0.370863139629364\n",
            "Repeat - 2, Number of layers - 3, Epoch - 9\n",
            "Current learning rate: 0.001\n",
            "Train: loss 2.088616872817278, accuracy 0.3725375831127167\n",
            "Test: loss 2.004809782780271, accuracy 0.4562717080116272\n",
            "----------------------\n",
            "Repeat - 3, Number of layers - 3, Epoch - 0\n",
            "Current learning rate: 0.001\n",
            "Train: loss 1.9013639090955257, accuracy 0.5585131645202637\n",
            "Test: loss 1.8469228038544776, accuracy 0.6138932704925537\n",
            "Repeat - 3, Number of layers - 3, Epoch - 1\n",
            "Current learning rate: 0.001\n",
            "Train: loss 1.8484798626303673, accuracy 0.6123854517936707\n",
            "Test: loss 1.8415412788448304, accuracy 0.6197901964187622\n",
            "Repeat - 3, Number of layers - 3, Epoch - 2\n",
            "Current learning rate: 0.001\n",
            "Train: loss 1.850052024692297, accuracy 0.6108684539794922\n",
            "Test: loss 1.8318192819426622, accuracy 0.6291355490684509\n",
            "Repeat - 3, Number of layers - 3, Epoch - 3\n",
            "Current learning rate: 0.001\n",
            "Train: loss 1.8631352669894696, accuracy 0.5978997945785522\n",
            "Test: loss 1.8638958911309536, accuracy 0.5971017479896545\n",
            "Repeat - 3, Number of layers - 3, Epoch - 4\n",
            "Current learning rate: 0.001\n",
            "Train: loss 1.8465823401510715, accuracy 0.6145022511482239\n",
            "Test: loss 1.8369869208228642, accuracy 0.6241877675056458\n",
            "Repeat - 3, Number of layers - 3, Epoch - 5\n",
            "Current learning rate: 0.001\n",
            "Train: loss 1.845082625091076, accuracy 0.616052508354187\n",
            "Test: loss 1.838956586603282, accuracy 0.622139036655426\n",
            "Repeat - 3, Number of layers - 3, Epoch - 6\n",
            "Current learning rate: 0.001\n",
            "Train: loss 1.8480144609808922, accuracy 0.6131187081336975\n",
            "Test: loss 1.83807946431047, accuracy 0.6229885816574097\n",
            "Repeat - 3, Number of layers - 3, Epoch - 7\n",
            "Current learning rate: 0.001\n",
            "Train: loss 1.845211576193571, accuracy 0.6159345507621765\n",
            "Test: loss 1.8892008361072912, accuracy 0.5719144940376282\n",
            "Repeat - 3, Number of layers - 3, Epoch - 8\n",
            "Current learning rate: 0.001\n",
            "Train: loss 1.8542033827602864, accuracy 0.60685133934021\n",
            "Test: loss 1.8922014579601374, accuracy 0.5690162181854248\n",
            "Repeat - 3, Number of layers - 3, Epoch - 9\n",
            "Current learning rate: 0.001\n",
            "Train: loss 1.8684945624172689, accuracy 0.5925683379173279\n",
            "Test: loss 1.8458478481158325, accuracy 0.615291953086853\n",
            "----------------------\n",
            "Repeat - 4, Number of layers - 3, Epoch - 0\n",
            "Current learning rate: 0.001\n",
            "Train: loss 1.8130550893247128, accuracy 0.6472567915916443\n",
            "Test: loss 1.7789358318835005, accuracy 0.6812590956687927\n",
            "Repeat - 4, Number of layers - 3, Epoch - 1\n",
            "Current learning rate: 0.001\n",
            "Train: loss 1.7804897246360778, accuracy 0.6804089546203613\n",
            "Test: loss 1.7938603350426303, accuracy 0.6674162745475769\n",
            "Repeat - 4, Number of layers - 3, Epoch - 2\n",
            "Current learning rate: 0.001\n",
            "Train: loss 1.7968295721411705, accuracy 0.6641231179237366\n",
            "Test: loss 1.7876914623437792, accuracy 0.6733630299568176\n",
            "Repeat - 4, Number of layers - 3, Epoch - 3\n",
            "Current learning rate: 0.001\n",
            "Train: loss 1.8182403800785543, accuracy 0.6427895426750183\n",
            "Test: loss 1.7873292123002449, accuracy 0.6737130284309387\n",
            "Repeat - 4, Number of layers - 3, Epoch - 4\n",
            "Current learning rate: 0.001\n",
            "Train: loss 1.8212415196597576, accuracy 0.6398541927337646\n",
            "Test: loss 1.9254187895976442, accuracy 0.5355325937271118\n",
            "Repeat - 4, Number of layers - 3, Epoch - 5\n",
            "Current learning rate: 0.001\n",
            "Train: loss 1.8164476653635502, accuracy 0.6447370052337646\n",
            "Test: loss 1.8516265827676524, accuracy 0.6094456911087036\n",
            "Repeat - 4, Number of layers - 3, Epoch - 6\n",
            "Current learning rate: 0.001\n",
            "Train: loss 1.8289061159193516, accuracy 0.6321535706520081\n",
            "Test: loss 1.8015440897248138, accuracy 0.6595697999000549\n",
            "Repeat - 4, Number of layers - 3, Epoch - 7\n",
            "Current learning rate: 0.001\n",
            "Train: loss 1.8094323045909404, accuracy 0.6516559720039368\n",
            "Test: loss 1.8841860705408557, accuracy 0.5769120454788208\n",
            "Repeat - 4, Number of layers - 3, Epoch - 8\n",
            "Current learning rate: 0.001\n",
            "Train: loss 1.8103575165867805, accuracy 0.6508232355117798\n",
            "Test: loss 1.792402869936587, accuracy 0.6686654090881348\n",
            "Repeat - 4, Number of layers - 3, Epoch - 9\n",
            "Current learning rate: 0.001\n",
            "Train: loss 1.8017097755670548, accuracy 0.6594237089157104\n",
            "Test: loss 1.777573265950719, accuracy 0.6836081147193909\n",
            "----------------------\n",
            "Repeat - 0, Number of layers - 4, Epoch - 0\n",
            "Current learning rate: 0.001\n",
            "Train: loss 2.2550216290354728, accuracy 0.20353713631629944\n",
            "Test: loss 2.2621727777921454, accuracy 0.19895021617412567\n",
            "Repeat - 0, Number of layers - 4, Epoch - 1\n",
            "Current learning rate: 0.001\n",
            "Train: loss 2.262569319218397, accuracy 0.19855301082134247\n",
            "Test: loss 2.261599142512103, accuracy 0.19954995810985565\n",
            "Repeat - 0, Number of layers - 4, Epoch - 2\n",
            "Current learning rate: 0.001\n",
            "Train: loss 2.262259305566549, accuracy 0.19886982440948486\n",
            "Test: loss 2.2623920535397852, accuracy 0.19875048100948334\n",
            "Repeat - 0, Number of layers - 4, Epoch - 3\n",
            "Current learning rate: 0.001\n",
            "Train: loss 2.32022887969017, accuracy 0.1409195512533188\n",
            "Test: loss 2.36115061575505, accuracy 0.10000008344650269\n",
            "Repeat - 0, Number of layers - 4, Epoch - 4\n",
            "Current learning rate: 0.001\n",
            "Train: loss 2.3611506127119064, accuracy 0.10000148415565491\n",
            "Test: loss 2.3612006057327477, accuracy 0.09995020180940628\n",
            "Repeat - 0, Number of layers - 4, Epoch - 5\n",
            "Current learning rate: 0.001\n",
            "Train: loss 2.361150632917881, accuracy 0.10000132769346237\n",
            "Test: loss 2.361150631125363, accuracy 0.10000011324882507\n",
            "Repeat - 0, Number of layers - 4, Epoch - 6\n",
            "Current learning rate: 0.001\n",
            "Train: loss 2.3611506323516367, accuracy 0.10000132769346237\n",
            "Test: loss 2.3611506332700576, accuracy 0.10000009834766388\n",
            "Repeat - 0, Number of layers - 4, Epoch - 7\n",
            "Current learning rate: 0.001\n",
            "Train: loss 2.361150634407997, accuracy 0.10000157356262207\n",
            "Test: loss 2.3611006568754274, accuracy 0.10005010664463043\n",
            "Repeat - 0, Number of layers - 4, Epoch - 8\n",
            "Current learning rate: 0.001\n",
            "Train: loss 2.3611506339907646, accuracy 0.10000158846378326\n",
            "Test: loss 2.3612006085923407, accuracy 0.0999501571059227\n",
            "Repeat - 0, Number of layers - 4, Epoch - 9\n",
            "Current learning rate: 0.001\n",
            "Train: loss 2.3611506326198577, accuracy 0.10000144690275192\n",
            "Test: loss 2.3610506836978393, accuracy 0.1001000702381134\n",
            "----------------------\n",
            "Repeat - 1, Number of layers - 4, Epoch - 0\n",
            "Current learning rate: 0.001\n",
            "Train: loss 2.1018217877447607, accuracy 0.35697120428085327\n",
            "Test: loss 2.1794943718359745, accuracy 0.2817082107067108\n",
            "Repeat - 1, Number of layers - 4, Epoch - 1\n",
            "Current learning rate: 0.001\n",
            "Train: loss 2.1780669955313208, accuracy 0.282853364944458\n",
            "Test: loss 2.1092364841672793, accuracy 0.3516727387905121\n",
            "Repeat - 1, Number of layers - 4, Epoch - 2\n",
            "Current learning rate: 0.001\n",
            "Train: loss 2.063890587747097, accuracy 0.39708584547042847\n",
            "Test: loss 2.010668574065819, accuracy 0.45042458176612854\n",
            "Repeat - 1, Number of layers - 4, Epoch - 3\n",
            "Current learning rate: 0.001\n",
            "Train: loss 2.0119146578907965, accuracy 0.4492204785346985\n",
            "Test: loss 2.0215215134298963, accuracy 0.439929336309433\n",
            "Repeat - 1, Number of layers - 4, Epoch - 4\n",
            "Current learning rate: 0.001\n",
            "Train: loss 2.026697602748871, accuracy 0.4343033730983734\n",
            "Test: loss 1.972263328139035, accuracy 0.4887557029724121\n",
            "Repeat - 1, Number of layers - 4, Epoch - 5\n",
            "Current learning rate: 0.001\n",
            "Train: loss 2.021721811622381, accuracy 0.4394531548023224\n",
            "Test: loss 2.0151792807557594, accuracy 0.4461265504360199\n",
            "Repeat - 1, Number of layers - 4, Epoch - 6\n",
            "Current learning rate: 0.001\n",
            "Train: loss 2.028494882076979, accuracy 0.43258780241012573\n",
            "Test: loss 2.044598320256109, accuracy 0.4163912236690521\n",
            "Repeat - 1, Number of layers - 4, Epoch - 7\n",
            "Current learning rate: 0.001\n",
            "Train: loss 2.0175468292236327, accuracy 0.44368624687194824\n",
            "Test: loss 2.0026523637986076, accuracy 0.45837026834487915\n",
            "Repeat - 1, Number of layers - 4, Epoch - 8\n",
            "Current learning rate: 0.001\n",
            "Train: loss 1.9556556962132454, accuracy 0.5055005550384521\n",
            "Test: loss 1.9465981212513022, accuracy 0.514592707157135\n",
            "Repeat - 1, Number of layers - 4, Epoch - 9\n",
            "Current learning rate: 0.001\n",
            "Train: loss 1.9460830362737178, accuracy 0.515032947063446\n",
            "Test: loss 1.9458679309313087, accuracy 0.5153423547744751\n",
            "----------------------\n",
            "Repeat - 2, Number of layers - 4, Epoch - 0\n",
            "Current learning rate: 0.001\n",
            "Train: loss 1.9319504656791686, accuracy 0.5254459381103516\n",
            "Test: loss 1.9263076548097373, accuracy 0.5344825983047485\n",
            "Repeat - 2, Number of layers - 4, Epoch - 1\n",
            "Current learning rate: 0.001\n",
            "Train: loss 2.093534208446741, accuracy 0.36752161383628845\n",
            "Test: loss 2.1129624931172453, accuracy 0.3479245603084564\n",
            "Repeat - 2, Number of layers - 4, Epoch - 2\n",
            "Current learning rate: 0.001\n",
            "Train: loss 2.1885963820815086, accuracy 0.27251800894737244\n",
            "Test: loss 2.2761196167930136, accuracy 0.1850574016571045\n",
            "Repeat - 2, Number of layers - 4, Epoch - 3\n",
            "Current learning rate: 0.001\n",
            "Train: loss 2.1960224021077157, accuracy 0.2651190459728241\n",
            "Test: loss 2.1698739662699436, accuracy 0.29125353693962097\n",
            "Repeat - 2, Number of layers - 4, Epoch - 4\n",
            "Current learning rate: 0.001\n",
            "Train: loss 2.1822435961663724, accuracy 0.27890148758888245\n",
            "Test: loss 2.2653415857226418, accuracy 0.1957520991563797\n",
            "Repeat - 2, Number of layers - 4, Epoch - 5\n",
            "Current learning rate: 0.001\n",
            "Train: loss 2.230441572338343, accuracy 0.23070205748081207\n",
            "Test: loss 2.1794103841552848, accuracy 0.28170812129974365\n",
            "Repeat - 2, Number of layers - 4, Epoch - 6\n",
            "Current learning rate: 0.001\n",
            "Train: loss 2.208996528238058, accuracy 0.2521527111530304\n",
            "Test: loss 2.2612496130112585, accuracy 0.1998998522758484\n",
            "Repeat - 2, Number of layers - 4, Epoch - 7\n",
            "Current learning rate: 0.001\n",
            "Train: loss 2.3135333105623723, accuracy 0.14762012660503387\n",
            "Test: loss 2.261497915952817, accuracy 0.19964997470378876\n",
            "Repeat - 2, Number of layers - 4, Epoch - 8\n",
            "Current learning rate: 0.001\n",
            "Train: loss 2.262416722804308, accuracy 0.19873611629009247\n",
            "Test: loss 2.2620999705845093, accuracy 0.19905030727386475\n",
            "Repeat - 2, Number of layers - 4, Epoch - 9\n",
            "Current learning rate: 0.001\n",
            "Train: loss 2.2629690197110177, accuracy 0.19818659126758575\n",
            "Test: loss 2.266652905780157, accuracy 0.19450253248214722\n",
            "----------------------\n",
            "Repeat - 3, Number of layers - 4, Epoch - 0\n",
            "Current learning rate: 0.001\n",
            "Train: loss 2.0798574156165124, accuracy 0.37946751713752747\n",
            "Test: loss 2.361142065214074, accuracy 0.10000009834766388\n",
            "Repeat - 3, Number of layers - 4, Epoch - 1\n",
            "Current learning rate: 0.001\n",
            "Train: loss 2.340576508194208, accuracy 0.1205344945192337\n",
            "Test: loss 2.263038639543296, accuracy 0.1981007605791092\n",
            "Repeat - 3, Number of layers - 4, Epoch - 2\n",
            "Current learning rate: 0.001\n",
            "Train: loss 2.1625662940740584, accuracy 0.29916736483573914\n",
            "Test: loss 1.9545787821287872, accuracy 0.5071463584899902\n",
            "Repeat - 3, Number of layers - 4, Epoch - 3\n",
            "Current learning rate: 0.001\n",
            "Train: loss 1.9348761386573314, accuracy 0.5265819430351257\n",
            "Test: loss 1.9280967224484262, accuracy 0.5335337519645691\n",
            "Repeat - 3, Number of layers - 4, Epoch - 4\n",
            "Current learning rate: 0.001\n",
            "Train: loss 1.9281246653199196, accuracy 0.5328643918037415\n",
            "Test: loss 1.9339649273359079, accuracy 0.5235882997512817\n",
            "Repeat - 3, Number of layers - 4, Epoch - 5\n",
            "Current learning rate: 0.001\n",
            "Train: loss 1.8850866507589816, accuracy 0.5760161876678467\n",
            "Test: loss 1.940123089249881, accuracy 0.5210398435592651\n",
            "Repeat - 3, Number of layers - 4, Epoch - 6\n",
            "Current learning rate: 0.001\n",
            "Train: loss 1.8948777974545956, accuracy 0.5656997561454773\n",
            "Test: loss 1.856815710954223, accuracy 0.6036482453346252\n",
            "Repeat - 3, Number of layers - 4, Epoch - 7\n",
            "Current learning rate: 0.001\n",
            "Train: loss 1.863038199007511, accuracy 0.5980843305587769\n",
            "Test: loss 1.8442796458011268, accuracy 0.6176411509513855\n",
            "Repeat - 3, Number of layers - 4, Epoch - 8\n",
            "Current learning rate: 0.001\n",
            "Train: loss 1.840001254916191, accuracy 0.6212362051010132\n",
            "Test: loss 1.835914530854175, accuracy 0.6246877908706665\n",
            "Repeat - 3, Number of layers - 4, Epoch - 9\n",
            "Current learning rate: 0.001\n",
            "Train: loss 1.8436895195543765, accuracy 0.6174525618553162\n",
            "Test: loss 1.8314436146880555, accuracy 0.6298354864120483\n",
            "----------------------\n",
            "Repeat - 4, Number of layers - 4, Epoch - 0\n",
            "Current learning rate: 0.001\n",
            "Train: loss 1.8311529230475425, accuracy 0.6278372406959534\n",
            "Test: loss 1.7584670594428433, accuracy 0.7023482918739319\n",
            "Repeat - 4, Number of layers - 4, Epoch - 1\n",
            "Current learning rate: 0.001\n",
            "Train: loss 1.7713587908446788, accuracy 0.6895596385002136\n",
            "Test: loss 1.7908721799435823, accuracy 0.6699651479721069\n",
            "Repeat - 4, Number of layers - 4, Epoch - 2\n",
            "Current learning rate: 0.001\n",
            "Train: loss 1.8063191047906875, accuracy 0.6545516848564148\n",
            "Test: loss 1.8555640775760611, accuracy 0.6059972643852234\n",
            "Repeat - 4, Number of layers - 4, Epoch - 3\n",
            "Current learning rate: 0.001\n",
            "Train: loss 1.8094058495759964, accuracy 0.6514893770217896\n",
            "Test: loss 1.7583468812873875, accuracy 0.7027478814125061\n",
            "Repeat - 4, Number of layers - 4, Epoch - 4\n",
            "Current learning rate: 0.001\n",
            "Train: loss 1.7719547900259496, accuracy 0.6890777945518494\n",
            "Test: loss 1.7699828335548984, accuracy 0.6910046935081482\n",
            "Repeat - 4, Number of layers - 4, Epoch - 5\n",
            "Current learning rate: 0.001\n",
            "Train: loss 1.785856020092964, accuracy 0.6751740574836731\n",
            "Test: loss 1.8080546416264067, accuracy 0.6529240012168884\n",
            "Repeat - 4, Number of layers - 4, Epoch - 6\n",
            "Current learning rate: 0.001\n",
            "Train: loss 1.7746425010859965, accuracy 0.6865267753601074\n",
            "Test: loss 1.8030957764592663, accuracy 0.6580209136009216\n",
            "Repeat - 4, Number of layers - 4, Epoch - 7\n",
            "Current learning rate: 0.001\n",
            "Train: loss 1.784744398355484, accuracy 0.6764423847198486\n",
            "Test: loss 1.8155957027889977, accuracy 0.6454271674156189\n",
            "Repeat - 4, Number of layers - 4, Epoch - 8\n",
            "Current learning rate: 0.001\n",
            "Train: loss 1.8126535704135895, accuracy 0.6484553813934326\n",
            "Test: loss 1.7768492732627101, accuracy 0.6843071579933167\n",
            "Repeat - 4, Number of layers - 4, Epoch - 9\n",
            "Current learning rate: 0.001\n",
            "Train: loss 1.77504258492589, accuracy 0.6861095428466797\n",
            "Test: loss 1.7679365699973957, accuracy 0.6932032704353333\n",
            "----------------------\n",
            "Repeat - 0, Number of layers - 5, Epoch - 0\n",
            "Current learning rate: 0.001\n",
            "Train: loss 2.1490423456132413, accuracy 0.30760112404823303\n",
            "Test: loss 2.2629615245372996, accuracy 0.1981509029865265\n",
            "Repeat - 0, Number of layers - 5, Epoch - 1\n",
            "Current learning rate: 0.001\n",
            "Train: loss 2.344981198489666, accuracy 0.11616922914981842\n",
            "Test: loss 2.3611492427928873, accuracy 0.10000014305114746\n",
            "Repeat - 0, Number of layers - 5, Epoch - 2\n",
            "Current learning rate: 0.001\n",
            "Train: loss 2.30809072548151, accuracy 0.14781838655471802\n",
            "Test: loss 2.2321169821397477, accuracy 0.196901336312294\n",
            "Repeat - 0, Number of layers - 5, Epoch - 3\n",
            "Current learning rate: 0.001\n",
            "Train: loss 2.1831702361404894, accuracy 0.26996850967407227\n",
            "Test: loss 2.175786783491475, accuracy 0.2822079062461853\n",
            "Repeat - 0, Number of layers - 5, Epoch - 4\n",
            "Current learning rate: 0.001\n",
            "Train: loss 2.174899362683296, accuracy 0.2829363942146301\n",
            "Test: loss 2.1721164613649404, accuracy 0.28215789794921875\n",
            "Repeat - 0, Number of layers - 5, Epoch - 5\n",
            "Current learning rate: 0.001\n",
            "Train: loss 2.2264309713840484, accuracy 0.21828587353229523\n",
            "Test: loss 2.199339666466663, accuracy 0.2592695355415344\n",
            "Repeat - 0, Number of layers - 5, Epoch - 6\n",
            "Current learning rate: 0.001\n",
            "Train: loss 2.158653092056513, accuracy 0.29902008175849915\n",
            "Test: loss 2.0993452837084723, accuracy 0.3574199676513672\n",
            "Repeat - 0, Number of layers - 5, Epoch - 7\n",
            "Current learning rate: 0.001\n",
            "Train: loss 2.1117193141281603, accuracy 0.34223780035972595\n",
            "Test: loss 2.102427612537744, accuracy 0.34362658858299255\n",
            "Repeat - 0, Number of layers - 5, Epoch - 8\n",
            "Current learning rate: 0.001\n",
            "Train: loss 2.1660754416286947, accuracy 0.2877524793148041\n",
            "Test: loss 2.209273329917816, accuracy 0.24357779324054718\n",
            "Repeat - 0, Number of layers - 5, Epoch - 9\n",
            "Current learning rate: 0.001\n",
            "Train: loss 2.1888275495171547, accuracy 0.2654193341732025\n",
            "Test: loss 2.188129670973839, accuracy 0.26141852140426636\n",
            "----------------------\n",
            "Repeat - 1, Number of layers - 5, Epoch - 0\n",
            "Current learning rate: 0.001\n",
            "Train: loss 1.89129714050889, accuracy 0.5618317723274231\n",
            "Test: loss 1.7876701160170685, accuracy 0.6731635332107544\n",
            "Repeat - 1, Number of layers - 5, Epoch - 1\n",
            "Current learning rate: 0.001\n",
            "Train: loss 1.807646693378687, accuracy 0.6532565355300903\n",
            "Test: loss 1.8404056482586726, accuracy 0.6206395030021667\n",
            "Repeat - 1, Number of layers - 5, Epoch - 2\n",
            "Current learning rate: 0.001\n",
            "Train: loss 1.9840241672992707, accuracy 0.4770705997943878\n",
            "Test: loss 2.004028798936904, accuracy 0.45697084069252014\n",
            "Repeat - 1, Number of layers - 5, Epoch - 3\n",
            "Current learning rate: 0.001\n",
            "Train: loss 2.050903337806463, accuracy 0.4101404845714569\n",
            "Test: loss 2.096278122518731, accuracy 0.36481648683547974\n",
            "Repeat - 1, Number of layers - 5, Epoch - 4\n",
            "Current learning rate: 0.001\n",
            "Train: loss 2.09648874104023, accuracy 0.364605188369751\n",
            "Test: loss 2.182534824783119, accuracy 0.2786098122596741\n",
            "Repeat - 1, Number of layers - 5, Epoch - 5\n",
            "Current learning rate: 0.001\n",
            "Train: loss 2.3389346680045127, accuracy 0.12220285087823868\n",
            "Test: loss 2.3611557658823177, accuracy 0.10000013560056686\n",
            "Repeat - 1, Number of layers - 5, Epoch - 6\n",
            "Current learning rate: 0.001\n",
            "Train: loss 2.3611811980605126, accuracy 0.09996810555458069\n",
            "Test: loss 2.361100659020122, accuracy 0.10005004703998566\n",
            "Repeat - 1, Number of layers - 5, Epoch - 7\n",
            "Current learning rate: 0.001\n",
            "Train: loss 2.3611505109667776, accuracy 0.10000159591436386\n",
            "Test: loss 2.3612006622097126, accuracy 0.09995010495185852\n",
            "Repeat - 1, Number of layers - 5, Epoch - 8\n",
            "Current learning rate: 0.001\n",
            "Train: loss 2.361149708300829, accuracy 0.10000160336494446\n",
            "Test: loss 2.3612006078774423, accuracy 0.09995013475418091\n",
            "Repeat - 1, Number of layers - 5, Epoch - 9\n",
            "Current learning rate: 0.001\n",
            "Train: loss 2.36115063560009, accuracy 0.10000158846378326\n",
            "Test: loss 2.3612006128817304, accuracy 0.0999501496553421\n",
            "----------------------\n",
            "Repeat - 2, Number of layers - 5, Epoch - 0\n",
            "Current learning rate: 0.001\n",
            "Train: loss 1.8744594255387783, accuracy 0.5788829326629639\n",
            "Test: loss 1.7819465827727425, accuracy 0.6773110628128052\n",
            "Repeat - 2, Number of layers - 5, Epoch - 1\n",
            "Current learning rate: 0.001\n",
            "Train: loss 1.8525872427225112, accuracy 0.6070356965065002\n",
            "Test: loss 1.8626762809067117, accuracy 0.5972514152526855\n",
            "Repeat - 2, Number of layers - 5, Epoch - 2\n",
            "Current learning rate: 0.001\n",
            "Train: loss 1.923469822973013, accuracy 0.5369820594787598\n",
            "Test: loss 1.8539590333355243, accuracy 0.6059970259666443\n",
            "Repeat - 2, Number of layers - 5, Epoch - 3\n",
            "Current learning rate: 0.001\n",
            "Train: loss 1.8807390242516995, accuracy 0.5822994112968445\n",
            "Test: loss 1.8995183355983407, accuracy 0.5629187226295471\n",
            "Repeat - 2, Number of layers - 5, Epoch - 4\n",
            "Current learning rate: 0.001\n",
            "Train: loss 1.8609757193922996, accuracy 0.6013820767402649\n",
            "Test: loss 1.9067476396260412, accuracy 0.5547228455543518\n",
            "Repeat - 2, Number of layers - 5, Epoch - 5\n",
            "Current learning rate: 0.001\n",
            "Train: loss 1.962374562472105, accuracy 0.498918741941452\n",
            "Test: loss 2.0523451461248667, accuracy 0.40919438004493713\n",
            "Repeat - 2, Number of layers - 5, Epoch - 6\n",
            "Current learning rate: 0.001\n",
            "Train: loss 2.0388603420257567, accuracy 0.4222050607204437\n",
            "Test: loss 2.0382294717399794, accuracy 0.42293789982795715\n",
            "Repeat - 2, Number of layers - 5, Epoch - 7\n",
            "Current learning rate: 0.001\n",
            "Train: loss 1.9596133088469505, accuracy 0.5013498663902283\n",
            "Test: loss 1.9798108593098585, accuracy 0.48125889897346497\n",
            "Repeat - 2, Number of layers - 5, Epoch - 8\n",
            "Current learning rate: 0.001\n",
            "Train: loss 1.9555519691109657, accuracy 0.5057485103607178\n",
            "Test: loss 1.9059245522054418, accuracy 0.5556723475456238\n",
            "Repeat - 2, Number of layers - 5, Epoch - 9\n",
            "Current learning rate: 0.001\n",
            "Train: loss 1.8938313381373881, accuracy 0.567130446434021\n",
            "Test: loss 1.898395778893352, accuracy 0.5617197155952454\n",
            "----------------------\n",
            "Repeat - 3, Number of layers - 5, Epoch - 0\n",
            "Current learning rate: 0.001\n",
            "Train: loss 2.093204512178898, accuracy 0.3636551797389984\n",
            "Test: loss 2.1779550935911094, accuracy 0.2828574478626251\n",
            "Repeat - 3, Number of layers - 5, Epoch - 1\n",
            "Current learning rate: 0.001\n",
            "Train: loss 2.1691495072841644, accuracy 0.29202017188072205\n",
            "Test: loss 2.1106413558147836, accuracy 0.350223571062088\n",
            "Repeat - 3, Number of layers - 5, Epoch - 2\n",
            "Current learning rate: 0.001\n",
            "Train: loss 2.095794815629721, accuracy 0.36520546674728394\n",
            "Test: loss 2.0894829340424317, accuracy 0.371662974357605\n",
            "Repeat - 3, Number of layers - 5, Epoch - 3\n",
            "Current learning rate: 0.001\n",
            "Train: loss 2.0863103905320166, accuracy 0.3746882975101471\n",
            "Test: loss 2.0651055309904747, accuracy 0.39565110206604004\n",
            "Repeat - 3, Number of layers - 5, Epoch - 4\n",
            "Current learning rate: 0.001\n",
            "Train: loss 2.0555404476225374, accuracy 0.40553760528564453\n",
            "Test: loss 2.0029197781161034, accuracy 0.4584704637527466\n",
            "Repeat - 3, Number of layers - 5, Epoch - 5\n",
            "Current learning rate: 0.001\n",
            "Train: loss 2.031603490382433, accuracy 0.42957162857055664\n",
            "Test: loss 2.031036928497154, accuracy 0.430084228515625\n",
            "Repeat - 3, Number of layers - 5, Epoch - 6\n",
            "Current learning rate: 0.001\n",
            "Train: loss 2.023866157889366, accuracy 0.4372206926345825\n",
            "Test: loss 2.099615009828307, accuracy 0.3613678514957428\n",
            "Repeat - 3, Number of layers - 5, Epoch - 7\n",
            "Current learning rate: 0.001\n",
            "Train: loss 2.0281558922827245, accuracy 0.4330219030380249\n",
            "Test: loss 2.010540089864602, accuracy 0.45057424902915955\n",
            "Repeat - 3, Number of layers - 5, Epoch - 8\n",
            "Current learning rate: 0.001\n",
            "Train: loss 2.018922764956951, accuracy 0.4421870708465576\n",
            "Test: loss 2.002382546529241, accuracy 0.4588199257850647\n",
            "Repeat - 3, Number of layers - 5, Epoch - 9\n",
            "Current learning rate: 0.001\n",
            "Train: loss 2.0249917971491813, accuracy 0.43612128496170044\n",
            "Test: loss 2.024393988334793, accuracy 0.4367810785770416\n",
            "----------------------\n",
            "Repeat - 4, Number of layers - 5, Epoch - 0\n",
            "Current learning rate: 0.001\n",
            "Train: loss 2.2207300370037557, accuracy 0.2392868846654892\n",
            "Test: loss 2.2637433717990745, accuracy 0.19730132818222046\n",
            "Repeat - 4, Number of layers - 5, Epoch - 1\n",
            "Current learning rate: 0.001\n",
            "Train: loss 2.2876415818333626, accuracy 0.17345239222049713\n",
            "Test: loss 2.266586891178606, accuracy 0.19455264508724213\n",
            "Repeat - 4, Number of layers - 5, Epoch - 2\n",
            "Current learning rate: 0.001\n",
            "Train: loss 2.279211197912693, accuracy 0.18193650245666504\n",
            "Test: loss 2.268650593071327, accuracy 0.1925036460161209\n",
            "Repeat - 4, Number of layers - 5, Epoch - 3\n",
            "Current learning rate: 0.001\n",
            "Train: loss 2.2708845007419587, accuracy 0.1902695596218109\n",
            "Test: loss 2.264948191671357, accuracy 0.1962016224861145\n",
            "Repeat - 4, Number of layers - 5, Epoch - 4\n",
            "Current learning rate: 0.001\n",
            "Train: loss 2.2747792162299154, accuracy 0.18633627891540527\n",
            "Test: loss 2.3011317489029226, accuracy 0.16001978516578674\n",
            "Repeat - 4, Number of layers - 5, Epoch - 5\n",
            "Current learning rate: 0.001\n",
            "Train: loss 2.2957647724747656, accuracy 0.16540288925170898\n",
            "Test: loss 2.3062342567958574, accuracy 0.15487244725227356\n",
            "Repeat - 4, Number of layers - 5, Epoch - 6\n",
            "Current learning rate: 0.001\n",
            "Train: loss 2.3603504313230514, accuracy 0.10080144554376602\n",
            "Test: loss 2.361150637023274, accuracy 0.10000007599592209\n",
            "Repeat - 4, Number of layers - 5, Epoch - 7\n",
            "Current learning rate: 0.001\n",
            "Train: loss 2.361150632917881, accuracy 0.10000152140855789\n",
            "Test: loss 2.361200606447646, accuracy 0.09995019435882568\n",
            "Repeat - 4, Number of layers - 5, Epoch - 8\n",
            "Current learning rate: 0.001\n",
            "Train: loss 2.361150633275509, accuracy 0.10000140219926834\n",
            "Test: loss 2.3612006085923407, accuracy 0.09995011240243912\n",
            "Repeat - 4, Number of layers - 5, Epoch - 9\n",
            "Current learning rate: 0.001\n",
            "Train: loss 2.361150635302067, accuracy 0.10000146925449371\n",
            "Test: loss 2.361100660807368, accuracy 0.10005006939172745\n",
            "----------------------\n",
            "Repeat - 0, Number of layers - 6, Epoch - 0\n",
            "Current learning rate: 0.001\n",
            "Train: loss 2.0908606064319613, accuracy 0.3770008385181427\n",
            "Test: loss 1.9643239424503904, accuracy 0.5027986168861389\n",
            "Repeat - 0, Number of layers - 6, Epoch - 1\n",
            "Current learning rate: 0.001\n",
            "Train: loss 1.9605055640935898, accuracy 0.502634584903717\n",
            "Test: loss 2.049120265683313, accuracy 0.4141921103000641\n",
            "Repeat - 0, Number of layers - 6, Epoch - 2\n",
            "Current learning rate: 0.001\n",
            "Train: loss 2.0033851162195204, accuracy 0.45773768424987793\n",
            "Test: loss 2.0470355198658567, accuracy 0.4127427339553833\n",
            "Repeat - 0, Number of layers - 6, Epoch - 3\n",
            "Current learning rate: 0.001\n",
            "Train: loss 2.0371472245156763, accuracy 0.42396992444992065\n",
            "Test: loss 2.0421357746424524, accuracy 0.41928932070732117\n",
            "Repeat - 0, Number of layers - 6, Epoch - 4\n",
            "Current learning rate: 0.001\n",
            "Train: loss 2.0095359941124915, accuracy 0.4517865777015686\n",
            "Test: loss 2.0102153952153907, accuracy 0.4509739875793457\n",
            "Repeat - 0, Number of layers - 6, Epoch - 5\n",
            "Current learning rate: 0.001\n",
            "Train: loss 2.0689971718788147, accuracy 0.3922393023967743\n",
            "Test: loss 2.0884166893394274, accuracy 0.37256237864494324\n",
            "Repeat - 0, Number of layers - 6, Epoch - 6\n",
            "Current learning rate: 0.001\n",
            "Train: loss 2.092349908798933, accuracy 0.36872220039367676\n",
            "Test: loss 2.0975480740931793, accuracy 0.36351677775382996\n",
            "Repeat - 0, Number of layers - 6, Epoch - 7\n",
            "Current learning rate: 0.001\n",
            "Train: loss 2.104183847486973, accuracy 0.35683879256248474\n",
            "Test: loss 2.1613893868147525, accuracy 0.29984891414642334\n",
            "Repeat - 0, Number of layers - 6, Epoch - 8\n",
            "Current learning rate: 0.001\n",
            "Train: loss 2.1703569779992105, accuracy 0.29063668847084045\n",
            "Test: loss 2.126190167138244, accuracy 0.33573073148727417\n",
            "Repeat - 0, Number of layers - 6, Epoch - 9\n",
            "Current learning rate: 0.001\n",
            "Train: loss 2.097576270341873, accuracy 0.36403870582580566\n",
            "Test: loss 2.0878828483364216, accuracy 0.3738117516040802\n",
            "----------------------\n",
            "Repeat - 1, Number of layers - 6, Epoch - 0\n",
            "Current learning rate: 0.001\n",
            "Train: loss 1.9457658122777939, accuracy 0.5188620090484619\n",
            "Test: loss 1.8409243625500749, accuracy 0.6192403435707092\n",
            "Repeat - 1, Number of layers - 6, Epoch - 1\n",
            "Current learning rate: 0.001\n",
            "Train: loss 1.8289857198894024, accuracy 0.6271341443061829\n",
            "Test: loss 1.8084817551065242, accuracy 0.6497756242752075\n",
            "Repeat - 1, Number of layers - 6, Epoch - 2\n",
            "Current learning rate: 0.001\n",
            "Train: loss 1.8321422680020332, accuracy 0.6241039633750916\n",
            "Test: loss 1.819429307684548, accuracy 0.6222889423370361\n",
            "Repeat - 1, Number of layers - 6, Epoch - 3\n",
            "Current learning rate: 0.001\n",
            "Train: loss 1.8406500658094882, accuracy 0.6152368187904358\n",
            "Test: loss 1.8357600760066706, accuracy 0.6076461672782898\n",
            "Repeat - 1, Number of layers - 6, Epoch - 4\n",
            "Current learning rate: 0.001\n",
            "Train: loss 1.8637091539502144, accuracy 0.5872136950492859\n",
            "Test: loss 1.9167656955690398, accuracy 0.5260371565818787\n",
            "Repeat - 1, Number of layers - 6, Epoch - 5\n",
            "Current learning rate: 0.001\n",
            "Train: loss 1.9494414962232114, accuracy 0.49491629004478455\n",
            "Test: loss 1.9017431666289848, accuracy 0.550225019454956\n",
            "Repeat - 1, Number of layers - 6, Epoch - 6\n",
            "Current learning rate: 0.001\n",
            "Train: loss 1.9042629864513874, accuracy 0.5485652089118958\n",
            "Test: loss 1.9011665621976266, accuracy 0.5569213628768921\n",
            "Repeat - 1, Number of layers - 6, Epoch - 7\n",
            "Current learning rate: 0.001\n",
            "Train: loss 1.923833717405796, accuracy 0.5314467549324036\n",
            "Test: loss 1.8909555659301278, accuracy 0.5610194802284241\n",
            "Repeat - 1, Number of layers - 6, Epoch - 8\n",
            "Current learning rate: 0.001\n",
            "Train: loss 1.882782532721758, accuracy 0.5685986876487732\n",
            "Test: loss 1.8819265867816632, accuracy 0.5734632015228271\n",
            "Repeat - 1, Number of layers - 6, Epoch - 9\n",
            "Current learning rate: 0.001\n",
            "Train: loss 1.8866748496592045, accuracy 0.5702819228172302\n",
            "Test: loss 1.88467343958064, accuracy 0.5728634595870972\n",
            "----------------------\n",
            "Repeat - 2, Number of layers - 6, Epoch - 0\n",
            "Current learning rate: 0.001\n",
            "Train: loss 2.3276514676213265, accuracy 0.12440317124128342\n",
            "Test: loss 2.36105068334039, accuracy 0.100100077688694\n",
            "Repeat - 2, Number of layers - 6, Epoch - 1\n",
            "Current learning rate: 0.001\n",
            "Train: loss 2.3611506354808807, accuracy 0.10000146925449371\n",
            "Test: loss 2.3610506844127377, accuracy 0.10010004788637161\n",
            "Repeat - 2, Number of layers - 6, Epoch - 2\n",
            "Current learning rate: 0.001\n",
            "Train: loss 2.3611506363749504, accuracy 0.10000161081552505\n",
            "Test: loss 2.361150628980668, accuracy 0.10000014305114746\n",
            "Repeat - 2, Number of layers - 6, Epoch - 3\n",
            "Current learning rate: 0.001\n",
            "Train: loss 2.3611506347060205, accuracy 0.10000152885913849\n",
            "Test: loss 2.3612006100221374, accuracy 0.0999501571059227\n",
            "Repeat - 2, Number of layers - 6, Epoch - 4\n",
            "Current learning rate: 0.001\n",
            "Train: loss 2.3611506343483923, accuracy 0.10000152140855789\n",
            "Test: loss 2.3612006103795866, accuracy 0.0999501571059227\n",
            "Repeat - 2, Number of layers - 6, Epoch - 5\n",
            "Current learning rate: 0.001\n",
            "Train: loss 2.361150633811951, accuracy 0.1000015065073967\n",
            "Test: loss 2.3611506336275068, accuracy 0.10000018030405045\n",
            "Repeat - 2, Number of layers - 6, Epoch - 6\n",
            "Current learning rate: 0.001\n",
            "Train: loss 2.3611506341695785, accuracy 0.10000158846378326\n",
            "Test: loss 2.3612006128817304, accuracy 0.0999501496553421\n",
            "Repeat - 2, Number of layers - 6, Epoch - 7\n",
            "Current learning rate: 0.001\n",
            "Train: loss 2.361150634139776, accuracy 0.10000132769346237\n",
            "Test: loss 2.3611506350573035, accuracy 0.10000013560056686\n",
            "Repeat - 2, Number of layers - 6, Epoch - 8\n",
            "Current learning rate: 0.001\n",
            "Train: loss 2.3611506327390672, accuracy 0.10000137984752655\n",
            "Test: loss 2.3611506318402613, accuracy 0.10000013560056686\n",
            "Repeat - 2, Number of layers - 6, Epoch - 9\n",
            "Current learning rate: 0.001\n",
            "Train: loss 2.3611506351828577, accuracy 0.10000159591436386\n",
            "Test: loss 2.36120060894979, accuracy 0.09995013475418091\n",
            "----------------------\n",
            "Repeat - 3, Number of layers - 6, Epoch - 0\n",
            "Current learning rate: 0.001\n",
            "Train: loss 1.9799442319273948, accuracy 0.4788975417613983\n",
            "Test: loss 1.9023667793760057, accuracy 0.5554224252700806\n",
            "Repeat - 3, Number of layers - 6, Epoch - 1\n",
            "Current learning rate: 0.001\n",
            "Train: loss 1.9227175305485726, accuracy 0.5315487384796143\n",
            "Test: loss 1.8997370354954093, accuracy 0.5518742799758911\n",
            "Repeat - 3, Number of layers - 6, Epoch - 2\n",
            "Current learning rate: 0.001\n",
            "Train: loss 1.81672328799963, accuracy 0.642022967338562\n",
            "Test: loss 1.7768662068797374, accuracy 0.6828084588050842\n",
            "Repeat - 3, Number of layers - 6, Epoch - 3\n",
            "Current learning rate: 0.001\n",
            "Train: loss 1.7650983091294765, accuracy 0.693777859210968\n",
            "Test: loss 1.8267019704721499, accuracy 0.6358819603919983\n",
            "Repeat - 3, Number of layers - 6, Epoch - 4\n",
            "Current learning rate: 0.001\n",
            "Train: loss 1.855805292993784, accuracy 0.6045519113540649\n",
            "Test: loss 1.82427485307296, accuracy 0.6365818977355957\n",
            "Repeat - 3, Number of layers - 6, Epoch - 5\n",
            "Current learning rate: 0.001\n",
            "Train: loss 1.8100722546875476, accuracy 0.6505402326583862\n",
            "Test: loss 1.7807541140194596, accuracy 0.6803094744682312\n",
            "Repeat - 3, Number of layers - 6, Epoch - 6\n",
            "Current learning rate: 0.001\n",
            "Train: loss 1.8666057171821595, accuracy 0.5946075320243835\n",
            "Test: loss 1.9969067993550107, accuracy 0.4645175337791443\n",
            "Repeat - 3, Number of layers - 6, Epoch - 7\n",
            "Current learning rate: 0.001\n",
            "Train: loss 1.9549725510776044, accuracy 0.5053181648254395\n",
            "Test: loss 1.998692955212972, accuracy 0.4607694149017334\n",
            "Repeat - 3, Number of layers - 6, Epoch - 8\n",
            "Current learning rate: 0.001\n",
            "Train: loss 1.9941588406562805, accuracy 0.4661523401737213\n",
            "Test: loss 1.9916839828376827, accuracy 0.4688149690628052\n",
            "Repeat - 3, Number of layers - 6, Epoch - 9\n",
            "Current learning rate: 0.001\n",
            "Train: loss 2.014002679079771, accuracy 0.4451875388622284\n",
            "Test: loss 2.081864034575501, accuracy 0.37711021304130554\n",
            "----------------------\n",
            "Repeat - 4, Number of layers - 6, Epoch - 0\n",
            "Current learning rate: 0.001\n",
            "Train: loss 1.9662200724780559, accuracy 0.4864797592163086\n",
            "Test: loss 1.8815269640003187, accuracy 0.5814592242240906\n",
            "Repeat - 4, Number of layers - 6, Epoch - 1\n",
            "Current learning rate: 0.001\n",
            "Train: loss 1.7983126206994056, accuracy 0.6633404493331909\n",
            "Test: loss 1.7980416871975924, accuracy 0.6630682945251465\n",
            "Repeat - 4, Number of layers - 6, Epoch - 2\n",
            "Current learning rate: 0.001\n",
            "Train: loss 1.8648189647495748, accuracy 0.5961501002311707\n",
            "Test: loss 1.87167792520423, accuracy 0.5896556377410889\n",
            "Repeat - 4, Number of layers - 6, Epoch - 3\n",
            "Current learning rate: 0.001\n",
            "Train: loss 1.9147457934319974, accuracy 0.5461978912353516\n",
            "Test: loss 1.9681001167068597, accuracy 0.49195346236228943\n",
            "Repeat - 4, Number of layers - 6, Epoch - 4\n",
            "Current learning rate: 0.001\n",
            "Train: loss 1.9391479712724686, accuracy 0.5217813849449158\n",
            "Test: loss 1.870741758568176, accuracy 0.590155303478241\n",
            "Repeat - 4, Number of layers - 6, Epoch - 5\n",
            "Current learning rate: 0.001\n",
            "Train: loss 1.8578145858347417, accuracy 0.6032341122627258\n",
            "Test: loss 2.0724403043200765, accuracy 0.3886546194553375\n",
            "Repeat - 4, Number of layers - 6, Epoch - 6\n",
            "Current learning rate: 0.001\n",
            "Train: loss 1.9226906107068062, accuracy 0.538349449634552\n",
            "Test: loss 1.9469750765738996, accuracy 0.5141433477401733\n",
            "Repeat - 4, Number of layers - 6, Epoch - 7\n",
            "Current learning rate: 0.001\n",
            "Train: loss 1.9863783604204654, accuracy 0.47470390796661377\n",
            "Test: loss 2.0351750384206357, accuracy 0.42588603496551514\n",
            "Repeat - 4, Number of layers - 6, Epoch - 8\n",
            "Current learning rate: 0.001\n",
            "Train: loss 2.0609356778860093, accuracy 0.4001704454421997\n",
            "Test: loss 2.0186768782728617, accuracy 0.44237878918647766\n",
            "Repeat - 4, Number of layers - 6, Epoch - 9\n",
            "Current learning rate: 0.001\n",
            "Train: loss 2.022192810446024, accuracy 0.438921719789505\n",
            "Test: loss 2.0132966373992645, accuracy 0.4478253126144409\n",
            "----------------------\n"
          ]
        }
      ]
    },
    {
      "cell_type": "code",
      "metadata": {
        "id": "d_kL1T-keK-p",
        "colab": {
          "base_uri": "https://localhost:8080/",
          "height": 295
        },
        "outputId": "d6fd40a0-f43d-45ef-c66f-196641832136"
      },
      "source": [
        "plt.plot(layers, losses_train, 'ro-', label='Loss on train', color='blue')\n",
        "plt.plot(layers, losses_test, 'ro-', label='Loss on test', color='green')\n",
        "plt.xlabel(\"Number of layers\")\n",
        "plt.title(\"Loss on train and test\")\n",
        "plt.legend(loc=\"best\")\n",
        "plt.show()"
      ],
      "execution_count": 43,
      "outputs": [
        {
          "output_type": "display_data",
          "data": {
            "image/png": "[encoded data removed]",
            "text/plain": [
              "<Figure size 432x288 with 1 Axes>"
            ]
          },
          "metadata": {
            "needs_background": "light"
          }
        }
      ]
    },
    {
      "cell_type": "code",
      "metadata": {
        "id": "0De48IXWoQgZ",
        "colab": {
          "base_uri": "https://localhost:8080/",
          "height": 295
        },
        "outputId": "f72ce9c3-0078-45e1-9052-4b1a005e1785"
      },
      "source": [
        "plt.plot(layers, accs_train, 'ro-', label='Accuracy on train', color='blue')\n",
        "plt.plot(layers, accs_test, 'ro-', label='Accuracy on test', color='green')\n",
        "plt.xlabel(\"Number of layers\")\n",
        "plt.title(\"Accuracy on train and test\")\n",
        "plt.legend(loc=\"best\")\n",
        "plt.show()"
      ],
      "execution_count": 44,
      "outputs": [
        {
          "output_type": "display_data",
          "data": {
            "image/png": "[encoded data removed]",
            "text/plain": [
              "<Figure size 432x288 with 1 Axes>"
            ]
          },
          "metadata": {
            "needs_background": "light"
          }
        }
      ]
    },
    {
      "cell_type": "markdown",
      "metadata": {
        "id": "WRLj815jd52Z"
      },
      "source": [
        "**Выводы**\n",
        "\n",
        "1. Ошибка на тесте и трейне практически одинаковы, что говорит о том, что модель слишком простая.\n",
        "\n",
        "2. Лучшее качество было получено при 2-х слоях.\n",
        "\n",
        "3. При числе слоев больше 2-х, модель обучается хуже. Ведь размерность скрытых слоев одинакова и, кажется, что начинаются проблемы с градиентами при обратном распространении, и функция хуже минимизируется. \n",
        "Но здесь стоит сделать ремарку о том, что начальная инициализация весов очень сильно влияет на конечный результат. Возможно, поигравшись с ней, можно было достигнуть и лучших результатов."
      ]
    },
    {
      "cell_type": "markdown",
      "metadata": {
        "id": "d3vcONKQ86mu"
      },
      "source": [
        "## 4. Бонусная часть."
      ]
    },
    {
      "cell_type": "markdown",
      "metadata": {
        "id": "Kuhxy7aW86mu"
      },
      "source": [
        "### 4.1 Реализация метода оптимизации (3 + 3 балла).\n",
        "Реализуйте сами метод оптимизации  для рассмотренной выше архитектуры. Вы можете выбрать произвольный метод от классики до супермодных вариантов. Продемонстрируйте правильную работу метода оптимизации, сравните его работы с Adam. \n",
        "\n",
        "**Дополнительные баллы** вы получите, если метод будет уникален среди сдавших задание. "
      ]
    },
    {
      "cell_type": "markdown",
      "metadata": {
        "id": "a_CYcJgVxbeb"
      },
      "source": [
        "Ниже приведен пример реализации SGD в рамках фреймворка **PyTorch.**"
      ]
    },
    {
      "cell_type": "code",
      "metadata": {
        "id": "GYMu0uF1p6o0"
      },
      "source": [
        "class MySotaOptimizer(Optimizer):\n",
        "    def __init__(self, params, lr=1e-3):\n",
        "        defaults = dict(lr=lr)\n",
        "        super(MySotaOptimizer, self).__init__(params, defaults)\n",
        "\n",
        "    @torch.no_grad()\n",
        "    def step(self,):\n",
        "\n",
        "        for group in self.param_groups:\n",
        "            lr = group['lr']\n",
        "            for p in group['params']:\n",
        "                if p.grad is not None:\n",
        "                    p.data.add_(-lr*p.grad)"
      ],
      "execution_count": null,
      "outputs": []
    },
    {
      "cell_type": "markdown",
      "metadata": {
        "id": "d3aabYCykXL7"
      },
      "source": [
        "### 4.2 Реализация модной активации (2 + 2 балла).\n",
        "Реализуйте одну из активаций, предложенных на лекции или в статье. Например, Hardswish. Сравните сеть с вашей активацией и с ReLU. \n",
        "\n",
        "**Дополнительные баллы** вы получите, если функция будет уникальна среди сдавших задание. "
      ]
    },
    {
      "cell_type": "code",
      "metadata": {
        "id": "R_rEcuA-StZv"
      },
      "source": [
        ""
      ],
      "execution_count": null,
      "outputs": []
    }
  ]
}
