{
 "cells": [
  {
   "cell_type": "markdown",
   "metadata": {},
   "source": [
    "# Info\n",
    "Для каждой из перечисленных ниже задач необходимо написать функцию (функции в случае первой задачи), которые решают поставленную проблему. Ниже функции необходимо написать тесты, которые показывали бы, что ваша функция работает. Проверять вырожденные случаи вроде пустых и неправильных входов не нужно, для всего остального функции должны работать корректно. Мы специально не делаем контест (по крайней мере на первой домашке), чтобы глазами посмотреть на качество и стиль вашего кода (https://www.python.org/dev/peps/pep-0008/)."
   ]
  },
  {
   "cell_type": "markdown",
   "metadata": {},
   "source": [
    "# Задача 1\n",
    "\n",
    "Напишите функции простейшей алгебры с матрицами (список из $m$ списков длины $n$): сложение матриц, умножение на число, перемножение двух матриц, транспонирование. Нельзя пользоваться numpy и аналогами."
   ]
  },
  {
   "cell_type": "code",
   "execution_count": 1,
   "metadata": {},
   "outputs": [
    {
     "name": "stdout",
     "output_type": "stream",
     "text": [
      "Суммирование матриц\n",
      "Матрица 1: \n",
      "[[2, 0, 6], [6, 7, 4], [8, 10, 3]]\n",
      "Матрица 2: \n",
      "[[1, 7, 6], [8, 5, 6], [1, 8, 7]]\n",
      "Сумма матриц 1 и 2: \n",
      "[[3, 7, 12], [14, 12, 10], [9, 18, 10]]\n",
      "\n",
      "Умножение матрицы на число\n",
      "Матрица: \n",
      "[[2, 0, 6], [6, 7, 4], [8, 10, 3]]\n",
      "Матрица, умноженная на число 2: \n",
      "[[4, 0, 12], [12, 14, 8], [16, 20, 6]]\n",
      "\n",
      "Умножение матриц\n",
      "Матрица 1: \n",
      "[[2, 0, 6], [6, 7, 4], [8, 10, 3]]\n",
      "Матрица 2: \n",
      "[[1, 7, 6], [8, 5, 6], [1, 8, 7]]\n",
      "Произведение матрицы 1 и 2:  [[8, 62, 54], [66, 109, 106], [91, 130, 129]]\n",
      "\n",
      "Транспонирование матрицы\n",
      "Матрица: \n",
      "[[2, 0, 6], [6, 7, 4], [8, 10, 3]]\n",
      "Транспонированная матрица: \n",
      "[[2, 6, 8], [0, 7, 10], [6, 4, 3]]\n"
     ]
    }
   ],
   "source": [
    "# создание матрицы для тестов\n",
    "import random\n",
    "def create_matrix(m, n):\n",
    "    matrix = []\n",
    "    a = 0\n",
    "    for i in range(0, m):\n",
    "        temp = []\n",
    "        for j in range(0, n):\n",
    "            a = random.randint(0, 10)\n",
    "            temp.append(a)\n",
    "        matrix.append(temp)\n",
    "    return matrix\n",
    "\n",
    "\n",
    "# суммирование матриц\n",
    "def sum_matrixes(matrix_1, matrix_2):\n",
    "    res = []\n",
    "    for i in range(0, len(matrix_1)):\n",
    "        r = [x + y for x, y in zip(matrix_1[i], matrix_2[i])]\n",
    "        res.append(r)\n",
    "    return res\n",
    "\n",
    "\n",
    "print(\"Суммирование матриц\", sep = '\\n')\n",
    "matrix_1 = create_matrix(3, 3)\n",
    "matrix_2 = create_matrix(3, 3)\n",
    "\n",
    "sum_matr = sum_matrixes(matrix_1, matrix_2)\n",
    "\n",
    "print(\"Матрица 1: \", matrix_1, sep = '\\n')\n",
    "print(\"Матрица 2: \", matrix_2, sep = '\\n')\n",
    "print(\"Сумма матриц 1 и 2: \", sum_matr, sep = '\\n')\n",
    "print(\"\", sep = '\\n')\n",
    "\n",
    "\n",
    "# умножение матрицы на число\n",
    "def multiplication_by_a_number(matrix, num):\n",
    "    res = []\n",
    "    for i in range(0, len(matrix)):\n",
    "        temp = []\n",
    "        for el in matrix[i]:\n",
    "            temp = [el*num for el in matrix[i]]\n",
    "        res.append(temp)\n",
    "    return res\n",
    "\n",
    "\n",
    "print(\"Умножение матрицы на число\", sep = '\\n')\n",
    "\n",
    "num = 2\n",
    "mul_matr = multiplication_by_a_number(matrix_1, num)\n",
    "\n",
    "print(\"Матрица: \", matrix_1, sep = '\\n')\n",
    "print(\"Матрица, умноженная на число \" + str(num) + \": \", mul_matr, sep = '\\n')    \n",
    "print(\"\", sep = '\\n')\n",
    "\n",
    "\n",
    "# умножение матриц\n",
    "def matrix_multiplication(matrix_1, matrix_2):\n",
    "    col_matr = []\n",
    "    for j in range(0, len(matrix_2[0])):\n",
    "        temp = []\n",
    "        for i in range(0, len(matrix_2)):\n",
    "            temp.append(matrix_2[i][j])\n",
    "        col_matr.append(temp)\n",
    "    matrix_mult = []\n",
    "    for i in range(0, len(matrix_1)):\n",
    "        temp = []\n",
    "        for j in range(0, len(col_matr)):\n",
    "            res = [x*y for x, y in zip(matrix_1[i], col_matr[j])]\n",
    "            a = sum(res)\n",
    "            temp.append(a)\n",
    "        matrix_mult.append(temp)\n",
    "    return matrix_mult\n",
    "    \n",
    "\n",
    "print(\"Умножение матриц\", sep = '\\n')\n",
    "print(\"Матрица 1: \", matrix_1, sep = '\\n')\n",
    "print(\"Матрица 2: \", matrix_2, sep = '\\n')  \n",
    "\n",
    "matrix_mult = matrix_multiplication(matrix_1, matrix_2) \n",
    "\n",
    "print(\"Произведение матрицы 1 и 2: \", matrix_mult)\n",
    "print(\"\", sep = '\\n')\n",
    "\n",
    "\n",
    "# транспонирование матрицы\n",
    "def matrix_transpose(matrix):\n",
    "    col_matr = []\n",
    "    for j in range(0, len(matrix[0])):\n",
    "        temp = []\n",
    "        for i in range(0, len(matrix)):\n",
    "            temp.append(matrix[i][j])\n",
    "        col_matr.append(temp)\n",
    "    return col_matr\n",
    "\n",
    "\n",
    "print(\"Транспонирование матрицы\", sep = '\\n')\n",
    "print(\"Матрица: \", matrix_1, sep = '\\n')\n",
    "\n",
    "matr_transp = matrix_transpose(matrix_1)\n",
    "\n",
    "print(\"Транспонированная матрица: \", matr_transp, sep = '\\n')"
   ]
  },
  {
   "cell_type": "markdown",
   "metadata": {},
   "source": [
    "# Задача 2\n",
    "\n",
    "Написать сортировку слиянием (merge sort) без рекурсии"
   ]
  },
  {
   "cell_type": "code",
   "execution_count": 2,
   "metadata": {},
   "outputs": [
    {
     "name": "stdout",
     "output_type": "stream",
     "text": [
      "Исходный массив:  [2, 5, 1, 6, 8, 7]\n",
      "Отсортированный массив:  [1, 2, 5, 6, 7, 8]\n"
     ]
    }
   ],
   "source": [
    "def merge_sort(a):\n",
    "    cur_s = 1\n",
    "    len_a = len(a)\n",
    "    while cur_s < len_a - 1:\n",
    "        l = 0\n",
    "        while l < len_a - 1:\n",
    "            m = min((l + cur_s - 1), (len_a - 1))\n",
    "            r = ((2 * cur_s + l - 1, len_a - 1)[2 * cur_s + l - 1 > len_a-1])\n",
    "            merge(a, l, m, r)\n",
    "            l += cur_s*2\n",
    "        cur_s = 2 * cur_s\n",
    "  \n",
    "\n",
    "def merge(a, l, m, r):\n",
    "    n_1 = m - l + 1\n",
    "    n_2 = r - m\n",
    "    l_side = [0] * n_1 \n",
    "    r_side = [0] * n_2 \n",
    "    for i in range(0, n_1): \n",
    "        l_side[i] = a[l + i]\n",
    "    for i in range(0, n_2):\n",
    "        r_side[i] = a[m + i + 1]\n",
    "    i = 0\n",
    "    j = 0\n",
    "    k = l\n",
    "    while i < n_1 and j < n_2:\n",
    "        if l_side[i] > r_side[j]:\n",
    "            a[k] = r_side[j]\n",
    "            j += 1\n",
    "        else:\n",
    "            a[k] = l_side[i]\n",
    "            i += 1\n",
    "        k += 1\n",
    "    while i < n_1:\n",
    "        a[k] = l_side[i]\n",
    "        i += 1\n",
    "        k += 1\n",
    "    while j < n_2:\n",
    "        a[k] = r_side[j]\n",
    "        j += 1\n",
    "        k += 1\n",
    "\n",
    "        \n",
    "a = [2, 5, 1, 6, 8, 7] \n",
    "print(\"Исходный массив: \", a)  \n",
    "\n",
    "merge_sort(a)  \n",
    "  \n",
    "print(\"Отсортированный массив: \", a)  "
   ]
  },
  {
   "cell_type": "markdown",
   "metadata": {},
   "source": [
    "# Задача 3\n",
    "\n",
    "Напишите функцию, принимающую на вход список, выводящую тот же список без дубликатов (оставить только первое вхождение каждого элемента), но в обратном порядке."
   ]
  },
  {
   "cell_type": "code",
   "execution_count": 3,
   "metadata": {},
   "outputs": [
    {
     "name": "stdout",
     "output_type": "stream",
     "text": [
      "Исходный список:  [1, 1, 2, 3, 1, 4]\n",
      "Полученный список:  [4, 3, 2, 1]\n"
     ]
    }
   ],
   "source": [
    "def unique_list(a):\n",
    "    un_el = set()\n",
    "    for el in a:\n",
    "        un_el.add(el)\n",
    "    un_list = list(un_el)\n",
    "    un_list = un_list[::-1]\n",
    "    return un_list\n",
    "\n",
    "\n",
    "a = [1, 1, 2, 3, 1, 4]\n",
    "print(\"Исходный список: \", a)\n",
    "a = unique_list(a)\n",
    "print(\"Полученный список: \", a)"
   ]
  },
  {
   "cell_type": "markdown",
   "metadata": {},
   "source": [
    "# Задача 4 (Последовательности)\n",
    "\n",
    "Написать функцию, которая выясняет, является последовательность возрастающей, убывающей или она беспорядочна. На вход подается одномерный массив.\n",
    "Прим. - последовательность называется возрастающей, если каждый следующий элемент > предыдущего, и называется убывающей, если след. элемент < предыдущего. В программе нужно определить, является ли она возрастающей, убывающий или беспорядочна."
   ]
  },
  {
   "cell_type": "code",
   "execution_count": 4,
   "metadata": {},
   "outputs": [
    {
     "name": "stdout",
     "output_type": "stream",
     "text": [
      "Последовательность:  [1, 2, 2, 3, 4]\n",
      "Последовательность хаотичная\n",
      "Последовательность:  [1, 2, 3, 4, 5]\n",
      "Последовательность возрастающая\n",
      "Последовательность:  [5, 4, 3, 2, 1]\n",
      "Последовательность убывающая\n"
     ]
    }
   ],
   "source": [
    "def check_seq(a):\n",
    "    a_inc = sorted(a)\n",
    "    a_dec = sorted(a, reverse=True)\n",
    "    if a != a_inc and a != a_dec or len(a) != len(unique_list(a)):\n",
    "        print(\"Последовательность хаотичная\")\n",
    "    else:\n",
    "        if a == a_inc:\n",
    "            print(\"Последовательность возрастающая\")\n",
    "        if a == a_dec:\n",
    "            print(\"Последовательность убывающая\")   \n",
    "\n",
    "            \n",
    "a = [1, 2, 2, 3, 4]\n",
    "print(\"Последовательность: \", a)\n",
    "check_seq(a)\n",
    "\n",
    "a = [1, 2, 3, 4, 5]\n",
    "print(\"Последовательность: \", a)\n",
    "check_seq(a)\n",
    "\n",
    "a = [5, 4, 3, 2, 1]\n",
    "print(\"Последовательность: \", a)\n",
    "check_seq(a)"
   ]
  },
  {
   "cell_type": "markdown",
   "metadata": {},
   "source": [
    "# Задача 5 (Максимин)\n",
    "\n",
    "В двумерном массиве требуется определить, есть ли такой элемент $a_{ij}$, который был бы максимален в i-й строке и минимален в j-м столбце. Если такой элемент есть, то вывести его координаты. Если таких элементов несколько, то вывести координаты одного из них."
   ]
  },
  {
   "cell_type": "code",
   "execution_count": 5,
   "metadata": {},
   "outputs": [
    {
     "name": "stdout",
     "output_type": "stream",
     "text": [
      "Последовательность:  [[1, 2, 3], [4, 5, 6]]\n",
      "Максмин:  (0, 2)\n",
      "Последовательность:  [[5, 4, 3], [3, 5, 2]]\n",
      "Нет такого элемента\n"
     ]
    }
   ],
   "source": [
    "def max_min(matrix):\n",
    "    for i in range (0, len(matrix)):\n",
    "        max_el = max(matrix[i])\n",
    "        max_el_ind = matrix[i].index(max_el)\n",
    "        col = []\n",
    "        for j in range (0, len(matrix)):\n",
    "            col.append(matrix[j][max_el_ind])\n",
    "        min_el = min(col)\n",
    "        if (min_el == max_el):\n",
    "            print (\"Максмин: \", (i, max_el_ind))\n",
    "            return\n",
    "    print(\"Нет такого элемента\")\n",
    "\n",
    "    \n",
    "a = [[1, 2, 3], [4, 5, 6]] \n",
    "print(\"Последовательность: \", a)\n",
    "max_min(a)\n",
    "\n",
    "a = [[5, 4, 3], [3, 5, 2]] \n",
    "print(\"Последовательность: \", a)\n",
    "max_min(a)\n"
   ]
  },
  {
   "cell_type": "markdown",
   "metadata": {},
   "source": [
    "# Задача 6 (Ладья)\n",
    "Требуется определить, бьет ли ладья, стоящая на клетке с указанными координатами (номер строки и номер столбца), фигуру, стоящую на другой указанной клетке. Вводятся четыре числа: координаты ладьи (два числа) и координаты другой фигуры (два числа), каждое число вводится в отдельной строке. Координаты - целые числа в интервале от 1 до 8. Требуется вывести слово YES, если ладья сможет побить фигуру за 1 ход и NO - в противном случае.\n"
   ]
  },
  {
   "cell_type": "code",
   "execution_count": 6,
   "metadata": {},
   "outputs": [
    {
     "name": "stdout",
     "output_type": "stream",
     "text": [
      "Введите координату x ладьи:\n",
      "1\n",
      "Введите координату y ладьи:\n",
      "1\n",
      "Введите координату x фигуры:\n",
      "1\n",
      "Введите координату y фигуры:\n",
      "3\n",
      "YES\n",
      "\n",
      "Введите координату x ладьи:\n",
      "1\n",
      "Введите координату y ладьи:\n",
      "1\n",
      "Введите координату x фигуры:\n",
      "4\n",
      "Введите координату y фигуры:\n",
      "3\n",
      "NO\n"
     ]
    }
   ],
   "source": [
    "def check(x_1, y_1, x_2, y_2):\n",
    "    if x_1 == x_2 or y_1 == y_2:\n",
    "        print(\"YES\")\n",
    "    else:\n",
    "        print(\"NO\")\n",
    "        \n",
    "print(\"Введите координату x ладьи:\", sep = '\\n')\n",
    "x_1 = int(input())\n",
    "print(\"Введите координату y ладьи:\", sep = '\\n')\n",
    "y_1 = int(input())\n",
    "print(\"Введите координату x фигуры:\", sep = '\\n')\n",
    "x_2 = int(input())\n",
    "print(\"Введите координату y фигуры:\", sep = '\\n')\n",
    "y_2 = int(input())\n",
    "\n",
    "check(x_1, y_1, x_2, y_2)\n",
    "\n",
    "print(\"\", sep = '\\n')\n",
    "\n",
    "print(\"Введите координату x ладьи:\", sep = '\\n')\n",
    "x_1 = int(input())\n",
    "print(\"Введите координату y ладьи:\", sep = '\\n')\n",
    "y_1 = int(input())\n",
    "print(\"Введите координату x фигуры:\", sep = '\\n')\n",
    "x_2 = int(input())\n",
    "print(\"Введите координату y фигуры:\", sep = '\\n')\n",
    "y_2 = int(input())\n",
    "\n",
    "check(x_1, y_1, x_2, y_2)"
   ]
  },
  {
   "cell_type": "code",
   "execution_count": null,
   "metadata": {},
   "outputs": [],
   "source": []
  }
 ],
 "metadata": {
  "kernelspec": {
   "display_name": "Python 3",
   "language": "python",
   "name": "python3"
  },
  "language_info": {
   "codemirror_mode": {
    "name": "ipython",
    "version": 3
   },
   "file_extension": ".py",
   "mimetype": "text/x-python",
   "name": "python",
   "nbconvert_exporter": "python",
   "pygments_lexer": "ipython3",
   "version": "3.7.3"
  }
 },
 "nbformat": 4,
 "nbformat_minor": 4
}
