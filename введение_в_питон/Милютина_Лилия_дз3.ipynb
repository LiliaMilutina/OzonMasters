{
 "cells": [
  {
   "cell_type": "markdown",
   "metadata": {},
   "source": [
    "__Треугольник:__"
   ]
  },
  {
   "cell_type": "code",
   "execution_count": 1,
   "metadata": {},
   "outputs": [],
   "source": [
    "import math as m\n",
    "class Triangle():\n",
    "    def __init__(self, l1, l2, l3):\n",
    "        self.l1 = l1\n",
    "        self.l2 = l2\n",
    "        self.l3 = l3\n",
    "        if self.l1 > self.l2 + self.l3 or self.l2 > self.l1 + self.l3 or self.l3 > self.l1 + self.l2:\n",
    "            raise Exception(\"Такого треугольниа не существует\")\n",
    "            \n",
    "    def perimeter(self):\n",
    "        return self.l1 + self.l2 + self.l3\n",
    "    \n",
    "    def area(self):\n",
    "        p = self.perimeter()/2\n",
    "        return m.sqrt(p*(p-self.l1)*(p-self.l2)*(p-self.l3))\n",
    "    \n",
    "    def isosceles(self):\n",
    "        return (self.l1 == self.l2) or (self.l1 == self.l3) or (self.l2 == self.l3)\n",
    "    \n",
    "    def equilateral(self):\n",
    "        return (self.l1 == self.l2) and (self.l1 == self.l3)\n",
    "    \n",
    "    def __eq__(self, other):\n",
    "        return (self.l1 == other.l1) and (self.l2 == other.l2) and (self.l3 == other.l3)"
   ]
  },
  {
   "cell_type": "code",
   "execution_count": 2,
   "metadata": {},
   "outputs": [],
   "source": [
    "# демонстрация работы класса Triangle\n",
    "\n",
    "# создание экзепляров класса\n",
    "\n",
    "triangle_1 = Triangle(3, 4, 5)\n",
    "triangle_2 = Triangle(6, 8, 10)"
   ]
  },
  {
   "cell_type": "code",
   "execution_count": 3,
   "metadata": {},
   "outputs": [
    {
     "ename": "Exception",
     "evalue": "Такого треугольниа не существует",
     "output_type": "error",
     "traceback": [
      "\u001b[0;31m---------------------------------------------------------------------------\u001b[0m",
      "\u001b[0;31mException\u001b[0m                                 Traceback (most recent call last)",
      "\u001b[0;32m<ipython-input-3-7bc5e8c7dcb3>\u001b[0m in \u001b[0;36m<module>\u001b[0;34m\u001b[0m\n\u001b[1;32m      1\u001b[0m \u001b[0;31m# такого треугольника не существует\u001b[0m\u001b[0;34m\u001b[0m\u001b[0;34m\u001b[0m\u001b[0;34m\u001b[0m\u001b[0m\n\u001b[1;32m      2\u001b[0m \u001b[0;34m\u001b[0m\u001b[0m\n\u001b[0;32m----> 3\u001b[0;31m \u001b[0mtriangle_2\u001b[0m \u001b[0;34m=\u001b[0m \u001b[0mTriangle\u001b[0m\u001b[0;34m(\u001b[0m\u001b[0;36m1\u001b[0m\u001b[0;34m,\u001b[0m \u001b[0;36m2\u001b[0m\u001b[0;34m,\u001b[0m \u001b[0;36m4\u001b[0m\u001b[0;34m)\u001b[0m\u001b[0;34m\u001b[0m\u001b[0;34m\u001b[0m\u001b[0m\n\u001b[0m",
      "\u001b[0;32m<ipython-input-1-fe7e76e2424c>\u001b[0m in \u001b[0;36m__init__\u001b[0;34m(self, l1, l2, l3)\u001b[0m\n\u001b[1;32m      6\u001b[0m         \u001b[0mself\u001b[0m\u001b[0;34m.\u001b[0m\u001b[0ml3\u001b[0m \u001b[0;34m=\u001b[0m \u001b[0ml3\u001b[0m\u001b[0;34m\u001b[0m\u001b[0;34m\u001b[0m\u001b[0m\n\u001b[1;32m      7\u001b[0m         \u001b[0;32mif\u001b[0m \u001b[0mself\u001b[0m\u001b[0;34m.\u001b[0m\u001b[0ml1\u001b[0m \u001b[0;34m>\u001b[0m \u001b[0mself\u001b[0m\u001b[0;34m.\u001b[0m\u001b[0ml2\u001b[0m \u001b[0;34m+\u001b[0m \u001b[0mself\u001b[0m\u001b[0;34m.\u001b[0m\u001b[0ml3\u001b[0m \u001b[0;32mor\u001b[0m \u001b[0mself\u001b[0m\u001b[0;34m.\u001b[0m\u001b[0ml2\u001b[0m \u001b[0;34m>\u001b[0m \u001b[0mself\u001b[0m\u001b[0;34m.\u001b[0m\u001b[0ml1\u001b[0m \u001b[0;34m+\u001b[0m \u001b[0mself\u001b[0m\u001b[0;34m.\u001b[0m\u001b[0ml3\u001b[0m \u001b[0;32mor\u001b[0m \u001b[0mself\u001b[0m\u001b[0;34m.\u001b[0m\u001b[0ml3\u001b[0m \u001b[0;34m>\u001b[0m \u001b[0mself\u001b[0m\u001b[0;34m.\u001b[0m\u001b[0ml1\u001b[0m \u001b[0;34m+\u001b[0m \u001b[0mself\u001b[0m\u001b[0;34m.\u001b[0m\u001b[0ml2\u001b[0m\u001b[0;34m:\u001b[0m\u001b[0;34m\u001b[0m\u001b[0;34m\u001b[0m\u001b[0m\n\u001b[0;32m----> 8\u001b[0;31m             \u001b[0;32mraise\u001b[0m \u001b[0mException\u001b[0m\u001b[0;34m(\u001b[0m\u001b[0;34m\"Такого треугольниа не существует\"\u001b[0m\u001b[0;34m)\u001b[0m\u001b[0;34m\u001b[0m\u001b[0;34m\u001b[0m\u001b[0m\n\u001b[0m\u001b[1;32m      9\u001b[0m \u001b[0;34m\u001b[0m\u001b[0m\n\u001b[1;32m     10\u001b[0m     \u001b[0;32mdef\u001b[0m \u001b[0mperimeter\u001b[0m\u001b[0;34m(\u001b[0m\u001b[0mself\u001b[0m\u001b[0;34m)\u001b[0m\u001b[0;34m:\u001b[0m\u001b[0;34m\u001b[0m\u001b[0;34m\u001b[0m\u001b[0m\n",
      "\u001b[0;31mException\u001b[0m: Такого треугольниа не существует"
     ]
    }
   ],
   "source": [
    "# такого треугольника не существует\n",
    "\n",
    "triangle_2 = Triangle(1, 2, 4)"
   ]
  },
  {
   "cell_type": "code",
   "execution_count": 4,
   "metadata": {},
   "outputs": [
    {
     "name": "stdout",
     "output_type": "stream",
     "text": [
      "Периметр:  12\n",
      "Площадь:  6.0\n",
      "Неравнобедренный\n",
      "Неравносторонний\n"
     ]
    }
   ],
   "source": [
    "# методы\n",
    "\n",
    "print('Периметр: ', triangle_1.perimeter())\n",
    "print('Площадь: ', triangle_1.area())\n",
    "\n",
    "if triangle_1.isosceles() == True:\n",
    "    print('Равнобедренный')\n",
    "else:\n",
    "    print('Неравнобедренный')\n",
    "    \n",
    "if triangle_1.equilateral() == True:\n",
    "    print('Равносторонний')\n",
    "else:\n",
    "    print('Неравносторонний')"
   ]
  },
  {
   "cell_type": "code",
   "execution_count": 5,
   "metadata": {},
   "outputs": [
    {
     "name": "stdout",
     "output_type": "stream",
     "text": [
      "Равнобедренный\n",
      "Равносторонний\n"
     ]
    }
   ],
   "source": [
    "triangle_3 = Triangle(1, 1, 1)\n",
    "\n",
    "if triangle_3.isosceles() == True:\n",
    "    print('Равнобедренный')\n",
    "else:\n",
    "    print('Неравнобедренный')\n",
    "    \n",
    "if triangle_3.equilateral() == True:\n",
    "    print('Равносторонний')\n",
    "else:\n",
    "    print('Неравносторонний')"
   ]
  },
  {
   "cell_type": "code",
   "execution_count": 6,
   "metadata": {},
   "outputs": [
    {
     "name": "stdout",
     "output_type": "stream",
     "text": [
      "Равны\n"
     ]
    }
   ],
   "source": [
    "triangle_4 = Triangle(1, 1, 1)\n",
    "\n",
    "if triangle_3 == triangle_4:\n",
    "    print('Равны')\n",
    "else:\n",
    "    print('Не равны')"
   ]
  },
  {
   "cell_type": "markdown",
   "metadata": {},
   "source": [
    "__Окружность:__"
   ]
  },
  {
   "cell_type": "code",
   "execution_count": 4,
   "metadata": {},
   "outputs": [],
   "source": [
    "import numpy as np\n",
    "import math as m\n",
    "class Circle:\n",
    "    def __init__(self, coords=np.array([0,0]), r=1):\n",
    "        self.x = coords[0]\n",
    "        self.y = coords[1]\n",
    "        self.r  = r\n",
    "        \n",
    "    def perimeter(self):\n",
    "        return 2* m.pi * self.r\n",
    "    \n",
    "    def area(self):\n",
    "        return m.pi * self.r**2\n",
    "    \n",
    "    def move_to_point(self, coords):\n",
    "        self.x += coords[0]\n",
    "        self.y += coords[1]\n",
    "        \n",
    "    def set_radius(self, r):\n",
    "        self.r = r\n",
    "        \n",
    "    def __and__(self, other):\n",
    "        dist = m.sqrt((self.x - other.x)**2 + (self.y - other.y)**2)\n",
    "        return (dist >= abs(self.r - other.r)) and (dist <= abs(self.r + other.r))\n",
    "    \n",
    "    def __lt__(self, other):\n",
    "        dist = m.sqrt((self.x - other.x)**2 + (self.y - other.y)**2)\n",
    "        return dist < abs(self.r - other.r)\n",
    "    \n",
    "    def __gt__(self, other):\n",
    "        dist = m.sqrt((self.x - other.x)**2 + (self.y - other.y)**2)\n",
    "        return dist > abs(self.r - other.r)    \n",
    "    \n",
    "    def __eq__(self, other):\n",
    "        return (self.x == other.x) and (self.y == other.y) and (self.r == other.r)"
   ]
  },
  {
   "cell_type": "code",
   "execution_count": 5,
   "metadata": {},
   "outputs": [],
   "source": [
    "# демонстрация работы класса Circle\n",
    "\n",
    "# создание экзепляров класса\n",
    "\n",
    "circle_1 = Circle([1, 1], 1)\n",
    "circle_2 = Circle([1, 1], 0.5)\n",
    "circle_3 = Circle([3, 3], 1)\n",
    "circle_4 = Circle([1, 1], 1)\n",
    "circle_5 = Circle([0.5, 0.5], 1)"
   ]
  },
  {
   "cell_type": "code",
   "execution_count": 6,
   "metadata": {},
   "outputs": [
    {
     "name": "stdout",
     "output_type": "stream",
     "text": [
      "Периметр:  6.283185307179586\n",
      "Площадь:  3.141592653589793\n",
      "Центр до: ( 3, 3)\n",
      "Центр после перемещения на (1,1): ( 4, 4)\n",
      "Радиус до:  1\n",
      "Радиус после:  2\n"
     ]
    }
   ],
   "source": [
    "# методы\n",
    "\n",
    "print('Периметр: ', circle_1.perimeter())\n",
    "print('Площадь: ', circle_1.area())\n",
    "\n",
    "print(f'Центр до: ({circle_3.x}, {circle_3.y})')\n",
    "circle_3.move_to_point([1, 1])\n",
    "print(f'Центр после перемещения на (1, 1): ({circle_3.x}, {circle_3.y})')\n",
    "\n",
    "print('Радиус до: ', circle_3.r)\n",
    "circle_3.set_radius(2)\n",
    "print('Радиус после: ', circle_3.r)"
   ]
  },
  {
   "cell_type": "code",
   "execution_count": 7,
   "metadata": {},
   "outputs": [
    {
     "name": "stdout",
     "output_type": "stream",
     "text": [
      "Равны\n",
      "Вне\n",
      "Внутри\n",
      "Пересекаются\n"
     ]
    }
   ],
   "source": [
    "# проверки на включение\n",
    "\n",
    "if circle_1 == circle_4:\n",
    "    print('Равны')\n",
    "else:\n",
    "    print('Не равны')\n",
    "    \n",
    "if circle_3 > circle_1:\n",
    "    print('Вне')\n",
    "else:\n",
    "    print('Внутри')\n",
    "    \n",
    "if circle_2 < circle_1:\n",
    "    print('Внутри')\n",
    "else:\n",
    "    print('Вне')\n",
    "    \n",
    "if circle_1 & circle_5:\n",
    "    print('Пересекаются')\n",
    "else:\n",
    "    print('Не пересекаются')"
   ]
  },
  {
   "cell_type": "markdown",
   "metadata": {},
   "source": [
    "__Товар:__"
   ]
  },
  {
   "cell_type": "code",
   "execution_count": 8,
   "metadata": {},
   "outputs": [],
   "source": [
    "class Item:\n",
    "    def __init__(self, name, price, category):\n",
    "        self.name = name\n",
    "        self.price = price\n",
    "        self.category = category\n",
    "        \n",
    "    def __str__(self):\n",
    "        return (f\"Product name: '{self.name}', price: {self.price}, category: {self.category}\")\n",
    "    \n",
    "    def __eq__(self, other):\n",
    "        return (self.name == other.name) and (self.price == other.price) and (self.category == other.category)"
   ]
  },
  {
   "cell_type": "markdown",
   "metadata": {},
   "source": [
    "__Магазин товаров:__"
   ]
  },
  {
   "cell_type": "code",
   "execution_count": 9,
   "metadata": {},
   "outputs": [],
   "source": [
    "class Shop:\n",
    "    def __init__(self, items):\n",
    "        self.items = items\n",
    "    \n",
    "    def add(self, item):\n",
    "        new_items = self.items.copy()\n",
    "        new_items.append(item)\n",
    "        self.items = new_items\n",
    "        \n",
    "    def count_category(self, category):\n",
    "        count = 0\n",
    "        for el in self.items:\n",
    "            if el.category == category:\n",
    "                count += 1\n",
    "        return count\n",
    "    \n",
    "    def find_items(self, price_bounds, categories):\n",
    "        if price_bounds[0] is None:\n",
    "            price_bounds[0] = -np.inf\n",
    "            \n",
    "        if price_bounds[1] is None:\n",
    "            price_bounds[1] = np.inf\n",
    "        \n",
    "        s_items = []\n",
    "        \n",
    "        if categories is None:\n",
    "            # не смотрим на категорию\n",
    "            for el in self.items:\n",
    "                if el.price >= price_bounds[0] and el.price <= price_bounds[1]:\n",
    "                    s_items.append(el)\n",
    "        else:\n",
    "            for el in self.items:\n",
    "                if el.price >= price_bounds[0] and el.price <= price_bounds[1] and el.category in categories:\n",
    "                    s_items.append(el)\n",
    "        return s_items\n",
    "    \n",
    "    def get_full_price(self, categories):\n",
    "        total_sum = 0\n",
    "        if categories is None:\n",
    "            # не смотрим на категорию\n",
    "            for el in self.items:\n",
    "                total_sum += el.price\n",
    "        else:\n",
    "            for el in self.items:\n",
    "                if el.category in categories:\n",
    "                    total_sum += el.price\n",
    "        return total_sum\n",
    "    \n",
    "    def is_available(self, item):\n",
    "        for el in self.items:\n",
    "            if el == item:\n",
    "                return True\n",
    "        return False"
   ]
  },
  {
   "cell_type": "code",
   "execution_count": 11,
   "metadata": {},
   "outputs": [
    {
     "name": "stdout",
     "output_type": "stream",
     "text": [
      "Число товаров в категории \"Notebook\":  1\n",
      "\n",
      "Подходящие товары: \n",
      "Product name: 'Iphone', price: 20000, category: Smarphone\n",
      "Product name: 'Noski', price: 100, category: Noski\n",
      "Product name: 'Mac', price: 80000, category: Notebook\n",
      "\n",
      "Подходящие товары [0, 200]: \n",
      "Product name: 'Noski', price: 100, category: Noski\n",
      "\n",
      "Общая сумма товаров в категории: \"Notebook\": 80000\n",
      "\n",
      "В наличии Iphone\n",
      "Нет в наличии: Notebook\n"
     ]
    }
   ],
   "source": [
    "item_1 = Item(\"Iphone\", 20000, \"Smarphone\")\n",
    "item_2 = Item(\"Noski\", 100, \"Noski\")\n",
    "item_3 = Item(\"Mac\", 80000, \"Notebook\")\n",
    "\n",
    "shop = Shop([])\n",
    "shop.add(item_1)\n",
    "shop.add(item_2)\n",
    "shop.add(item_3)\n",
    "\n",
    "print('Число товаров в категории \"Notebook\": ', shop.count_category(\"Notebook\"))\n",
    "print()\n",
    "\n",
    "print('Подходящие товары: ')\n",
    "\n",
    "suitable_items = shop.find_items([None, None], None)\n",
    "for el in suitable_items:\n",
    "    print(el)\n",
    "print()\n",
    "\n",
    "print('Подходящие товары [0, 200]: ')\n",
    "\n",
    "suitable_items = shop.find_items([0, 200], None)\n",
    "for el in suitable_items:\n",
    "    print(el)\n",
    "print()\n",
    "\n",
    "print('Общая сумма товаров в категории: \"Notebook\":', shop.get_full_price([\"Notebook\"]))\n",
    "print()\n",
    "\n",
    "item_ = Item(\"Iphone\", 20000, \"Smarphone\")\n",
    "\n",
    "if shop.is_available(item_) == True:\n",
    "    print('В наличии', item_.name)\n",
    "else:\n",
    "    print('Нет в наличии', item_.name)\n",
    "    \n",
    "    \n",
    "item_ = Item(\"Notebook\", 10000, \"Smarphone\")\n",
    "\n",
    "if shop.is_available(item_) == True:\n",
    "    print('В наличии:', item_.name)\n",
    "else:\n",
    "    print('Нет в наличии:', item_.name)"
   ]
  },
  {
   "cell_type": "markdown",
   "metadata": {},
   "source": [
    "__Роботы:__"
   ]
  },
  {
   "cell_type": "code",
   "execution_count": 32,
   "metadata": {},
   "outputs": [],
   "source": [
    "from itertools import count\n",
    "class Robot:\n",
    "    _ids = count(1)\n",
    "        \n",
    "    def __init__(self, name=None, power=10):\n",
    "        if name is None:\n",
    "            self.name = \"Robot\" + str(next(self._ids))\n",
    "        else:\n",
    "            self.name = name\n",
    "        self.power = power\n",
    "        self.health = 100\n",
    "        \n",
    "    def hit(self, robot):\n",
    "        p = np.random.randint(1, self.power)\n",
    "        robot.health -= p\n",
    "        \n",
    "        if robot.health < 0:\n",
    "            robot.health = 0\n",
    "        \n",
    "        print(f'Робот {self.name} ударил робота {robot.name} и нанес {p} урона здоровью.')\n",
    "        print(f' Здоровье робота {self.name}: {self.health}, здоровье робота {robot.name}: {robot.health}')\n",
    "        \n",
    "    def fightWith(self, robot):\n",
    "        while self.health > 0 and robot.health > 0:\n",
    "            self.hit(robot)\n",
    "            if robot.health <= 0:\n",
    "                print(f\"Робот {self.name} побеждает!\")\n",
    "                break\n",
    "            \n",
    "            robot.hit(self)\n",
    "            if self.health <= 0:\n",
    "                print(f\"Робот {robot.name} побеждает!\")\n",
    "                break"
   ]
  },
  {
   "cell_type": "code",
   "execution_count": 33,
   "metadata": {},
   "outputs": [
    {
     "name": "stdout",
     "output_type": "stream",
     "text": [
      "Робот Robot1 ударил робота Robot2 и нанес 2 урона здоровью.\n",
      " Здоровье робота Robot1: 100, здоровье робота Robot2: 98\n",
      "Робот Robot2 ударил робота Robot1 и нанес 8 урона здоровью.\n",
      " Здоровье робота Robot2: 98, здоровье робота Robot1: 92\n",
      "Робот Robot1 ударил робота Robot2 и нанес 2 урона здоровью.\n",
      " Здоровье робота Robot1: 92, здоровье робота Robot2: 96\n",
      "Робот Robot2 ударил робота Robot1 и нанес 3 урона здоровью.\n",
      " Здоровье робота Robot2: 96, здоровье робота Robot1: 89\n",
      "Робот Robot1 ударил робота Robot2 и нанес 2 урона здоровью.\n",
      " Здоровье робота Robot1: 89, здоровье робота Robot2: 94\n",
      "Робот Robot2 ударил робота Robot1 и нанес 5 урона здоровью.\n",
      " Здоровье робота Robot2: 94, здоровье робота Robot1: 84\n",
      "Робот Robot1 ударил робота Robot2 и нанес 9 урона здоровью.\n",
      " Здоровье робота Robot1: 84, здоровье робота Robot2: 85\n",
      "Робот Robot2 ударил робота Robot1 и нанес 7 урона здоровью.\n",
      " Здоровье робота Robot2: 85, здоровье робота Robot1: 77\n",
      "Робот Robot1 ударил робота Robot2 и нанес 5 урона здоровью.\n",
      " Здоровье робота Robot1: 77, здоровье робота Robot2: 80\n",
      "Робот Robot2 ударил робота Robot1 и нанес 9 урона здоровью.\n",
      " Здоровье робота Robot2: 80, здоровье робота Robot1: 68\n",
      "Робот Robot1 ударил робота Robot2 и нанес 3 урона здоровью.\n",
      " Здоровье робота Robot1: 68, здоровье робота Robot2: 77\n",
      "Робот Robot2 ударил робота Robot1 и нанес 8 урона здоровью.\n",
      " Здоровье робота Robot2: 77, здоровье робота Robot1: 60\n",
      "Робот Robot1 ударил робота Robot2 и нанес 2 урона здоровью.\n",
      " Здоровье робота Robot1: 60, здоровье робота Robot2: 75\n",
      "Робот Robot2 ударил робота Robot1 и нанес 8 урона здоровью.\n",
      " Здоровье робота Robot2: 75, здоровье робота Robot1: 52\n",
      "Робот Robot1 ударил робота Robot2 и нанес 9 урона здоровью.\n",
      " Здоровье робота Robot1: 52, здоровье робота Robot2: 66\n",
      "Робот Robot2 ударил робота Robot1 и нанес 1 урона здоровью.\n",
      " Здоровье робота Robot2: 66, здоровье робота Robot1: 51\n",
      "Робот Robot1 ударил робота Robot2 и нанес 8 урона здоровью.\n",
      " Здоровье робота Robot1: 51, здоровье робота Robot2: 58\n",
      "Робот Robot2 ударил робота Robot1 и нанес 5 урона здоровью.\n",
      " Здоровье робота Robot2: 58, здоровье робота Robot1: 46\n",
      "Робот Robot1 ударил робота Robot2 и нанес 3 урона здоровью.\n",
      " Здоровье робота Robot1: 46, здоровье робота Robot2: 55\n",
      "Робот Robot2 ударил робота Robot1 и нанес 4 урона здоровью.\n",
      " Здоровье робота Robot2: 55, здоровье робота Robot1: 42\n",
      "Робот Robot1 ударил робота Robot2 и нанес 1 урона здоровью.\n",
      " Здоровье робота Robot1: 42, здоровье робота Robot2: 54\n",
      "Робот Robot2 ударил робота Robot1 и нанес 7 урона здоровью.\n",
      " Здоровье робота Robot2: 54, здоровье робота Robot1: 35\n",
      "Робот Robot1 ударил робота Robot2 и нанес 6 урона здоровью.\n",
      " Здоровье робота Robot1: 35, здоровье робота Robot2: 48\n",
      "Робот Robot2 ударил робота Robot1 и нанес 2 урона здоровью.\n",
      " Здоровье робота Robot2: 48, здоровье робота Robot1: 33\n",
      "Робот Robot1 ударил робота Robot2 и нанес 3 урона здоровью.\n",
      " Здоровье робота Robot1: 33, здоровье робота Robot2: 45\n",
      "Робот Robot2 ударил робота Robot1 и нанес 2 урона здоровью.\n",
      " Здоровье робота Robot2: 45, здоровье робота Robot1: 31\n",
      "Робот Robot1 ударил робота Robot2 и нанес 2 урона здоровью.\n",
      " Здоровье робота Robot1: 31, здоровье робота Robot2: 43\n",
      "Робот Robot2 ударил робота Robot1 и нанес 1 урона здоровью.\n",
      " Здоровье робота Robot2: 43, здоровье робота Robot1: 30\n",
      "Робот Robot1 ударил робота Robot2 и нанес 2 урона здоровью.\n",
      " Здоровье робота Robot1: 30, здоровье робота Robot2: 41\n",
      "Робот Robot2 ударил робота Robot1 и нанес 1 урона здоровью.\n",
      " Здоровье робота Robot2: 41, здоровье робота Robot1: 29\n",
      "Робот Robot1 ударил робота Robot2 и нанес 1 урона здоровью.\n",
      " Здоровье робота Robot1: 29, здоровье робота Robot2: 40\n",
      "Робот Robot2 ударил робота Robot1 и нанес 3 урона здоровью.\n",
      " Здоровье робота Robot2: 40, здоровье робота Robot1: 26\n",
      "Робот Robot1 ударил робота Robot2 и нанес 8 урона здоровью.\n",
      " Здоровье робота Robot1: 26, здоровье робота Robot2: 32\n",
      "Робот Robot2 ударил робота Robot1 и нанес 6 урона здоровью.\n",
      " Здоровье робота Robot2: 32, здоровье робота Robot1: 20\n",
      "Робот Robot1 ударил робота Robot2 и нанес 8 урона здоровью.\n",
      " Здоровье робота Robot1: 20, здоровье робота Robot2: 24\n",
      "Робот Robot2 ударил робота Robot1 и нанес 9 урона здоровью.\n",
      " Здоровье робота Robot2: 24, здоровье робота Robot1: 11\n",
      "Робот Robot1 ударил робота Robot2 и нанес 1 урона здоровью.\n",
      " Здоровье робота Robot1: 11, здоровье робота Robot2: 23\n",
      "Робот Robot2 ударил робота Robot1 и нанес 8 урона здоровью.\n",
      " Здоровье робота Robot2: 23, здоровье робота Robot1: 3\n",
      "Робот Robot1 ударил робота Robot2 и нанес 4 урона здоровью.\n",
      " Здоровье робота Robot1: 3, здоровье робота Robot2: 19\n",
      "Робот Robot2 ударил робота Robot1 и нанес 1 урона здоровью.\n",
      " Здоровье робота Robot2: 19, здоровье робота Robot1: 2\n",
      "Робот Robot1 ударил робота Robot2 и нанес 6 урона здоровью.\n",
      " Здоровье робота Robot1: 2, здоровье робота Robot2: 13\n",
      "Робот Robot2 ударил робота Robot1 и нанес 4 урона здоровью.\n",
      " Здоровье робота Robot2: 13, здоровье робота Robot1: 0\n",
      "Робот Robot2 побеждает!\n"
     ]
    }
   ],
   "source": [
    "robot_1 = Robot()\n",
    "robot_2 = Robot()\n",
    "robot_1.fightWith(robot_2)"
   ]
  },
  {
   "cell_type": "code",
   "execution_count": null,
   "metadata": {},
   "outputs": [],
   "source": []
  }
 ],
 "metadata": {
  "kernelspec": {
   "display_name": "Python 3",
   "language": "python",
   "name": "python3"
  },
  "language_info": {
   "codemirror_mode": {
    "name": "ipython",
    "version": 3
   },
   "file_extension": ".py",
   "mimetype": "text/x-python",
   "name": "python",
   "nbconvert_exporter": "python",
   "pygments_lexer": "ipython3",
   "version": "3.7.6"
  }
 },
 "nbformat": 4,
 "nbformat_minor": 2
}
