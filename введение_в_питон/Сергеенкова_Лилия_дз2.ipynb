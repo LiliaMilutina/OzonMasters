{
 "cells": [
  {
   "cell_type": "code",
   "execution_count": 1,
   "metadata": {},
   "outputs": [],
   "source": [
    "import pandas as pd"
   ]
  },
  {
   "cell_type": "code",
   "execution_count": 2,
   "metadata": {},
   "outputs": [],
   "source": [
    "apps = pd.read_csv('googleplaystore.csv')\n",
    "reviews = pd.read_csv('googleplaystore_user_reviews.csv')"
   ]
  },
  {
   "cell_type": "code",
   "execution_count": 3,
   "metadata": {},
   "outputs": [
    {
     "data": {
      "text/html": [
       "<div>\n",
       "<style scoped>\n",
       "    .dataframe tbody tr th:only-of-type {\n",
       "        vertical-align: middle;\n",
       "    }\n",
       "\n",
       "    .dataframe tbody tr th {\n",
       "        vertical-align: top;\n",
       "    }\n",
       "\n",
       "    .dataframe thead th {\n",
       "        text-align: right;\n",
       "    }\n",
       "</style>\n",
       "<table border=\"1\" class=\"dataframe\">\n",
       "  <thead>\n",
       "    <tr style=\"text-align: right;\">\n",
       "      <th></th>\n",
       "      <th>Category</th>\n",
       "      <th>Reviews</th>\n",
       "    </tr>\n",
       "  </thead>\n",
       "  <tbody>\n",
       "    <tr>\n",
       "      <th>2544</th>\n",
       "      <td>SOCIAL</td>\n",
       "      <td>78158306.0</td>\n",
       "    </tr>\n",
       "  </tbody>\n",
       "</table>\n",
       "</div>"
      ],
      "text/plain": [
       "     Category     Reviews\n",
       "2544   SOCIAL  78158306.0"
      ]
     },
     "execution_count": 3,
     "metadata": {},
     "output_type": "execute_result"
    }
   ],
   "source": [
    "# задача №1\n",
    "\n",
    "# удаление данных, где review содержит посторонние символы (отличные от чисел)\n",
    "# преобразование столбца в числа или заполнение nan\n",
    "apps['Reviews'] = pd.to_numeric(apps['Reviews'], errors='coerce')\n",
    "apps = apps.dropna()\n",
    "\n",
    "# категория с наибольшим количеством отзывов \n",
    "apps.loc[apps[\"Reviews\"] == apps[\"Reviews\"].max(), [\"Category\", \"Reviews\"]]"
   ]
  },
  {
   "cell_type": "code",
   "execution_count": 4,
   "metadata": {},
   "outputs": [
    {
     "data": {
      "text/html": [
       "<div>\n",
       "<style scoped>\n",
       "    .dataframe tbody tr th:only-of-type {\n",
       "        vertical-align: middle;\n",
       "    }\n",
       "\n",
       "    .dataframe tbody tr th {\n",
       "        vertical-align: top;\n",
       "    }\n",
       "\n",
       "    .dataframe thead th {\n",
       "        text-align: right;\n",
       "    }\n",
       "</style>\n",
       "<table border=\"1\" class=\"dataframe\">\n",
       "  <thead>\n",
       "    <tr style=\"text-align: right;\">\n",
       "      <th></th>\n",
       "      <th>App</th>\n",
       "      <th>Rating</th>\n",
       "    </tr>\n",
       "  </thead>\n",
       "  <tbody>\n",
       "    <tr>\n",
       "      <th>369</th>\n",
       "      <td>JW Library</td>\n",
       "      <td>4.9</td>\n",
       "    </tr>\n",
       "  </tbody>\n",
       "</table>\n",
       "</div>"
      ],
      "text/plain": [
       "            App  Rating\n",
       "369  JW Library     4.9"
      ]
     },
     "execution_count": 4,
     "metadata": {},
     "output_type": "execute_result"
    }
   ],
   "source": [
    "# задача №2\n",
    "\n",
    "# удаляем дубликаты\n",
    "apps_drop_dupl = apps.drop_duplicates(subset=['App'])\n",
    "\n",
    "# 5% приложений с наибольшим количеством отзывов\n",
    "apps_sorted = apps_drop_dupl.sort_values(by = [\"Reviews\"], ascending=False)\n",
    "apps_sorted.reset_index(drop=True, inplace=True)\n",
    "\n",
    "num_rows = apps_drop_dupl.shape[0]\n",
    "rows_best = int(num_rows*0.05)\n",
    "\n",
    "apps_best = apps_sorted.loc[:rows_best-1, :]\n",
    "\n",
    "# приложение с наивысшим рейтингом среди 5% приложений с наибольшим количеством отзывов\n",
    "apps_best.loc[apps_best[\"Rating\"] == apps_best[\"Rating\"].max(), [\"App\", \"Rating\"]]"
   ]
  },
  {
   "cell_type": "code",
   "execution_count": 5,
   "metadata": {},
   "outputs": [],
   "source": [
    "# задача №3\n",
    "\n",
    "# функция для преобразования числа скачиваний в число\n",
    "def to_number(x):\n",
    "    x_new = (\n",
    "        x\n",
    "        .replace(\",\", \"\")\n",
    "        .replace(\"+\", \"\")\n",
    "        .replace(\"Free\", \"0\")\n",
    "    )\n",
    "    return int(x_new)"
   ]
  },
  {
   "cell_type": "code",
   "execution_count": 6,
   "metadata": {},
   "outputs": [],
   "source": [
    "apps[\"Installs\"] = apps[\"Installs\"].apply(to_number)"
   ]
  },
  {
   "cell_type": "code",
   "execution_count": 7,
   "metadata": {},
   "outputs": [
    {
     "data": {
      "image/png": "[encoded data removed]",
      "text/plain": [
       "<Figure size 432x288 with 1 Axes>"
      ]
     },
     "metadata": {
      "needs_background": "light"
     },
     "output_type": "display_data"
    }
   ],
   "source": [
    "# график зависимости рейтинга от числа скачиваний\n",
    "\n",
    "import math\n",
    "\n",
    "import matplotlib.pyplot as plt\n",
    "import seaborn as sns\n",
    "sns.set()\n",
    "\n",
    "%matplotlib inline\n",
    "ax = sns.boxplot(x=\"Installs\", \n",
    "                 y=\"Rating\",\n",
    "                 data=apps[apps[\"Installs\"] > 10], \n",
    "                 showfliers = False)\n",
    "ax.set_xticklabels(ax.get_xticklabels(),rotation=30);"
   ]
  },
  {
   "cell_type": "code",
   "execution_count": 8,
   "metadata": {},
   "outputs": [
    {
     "data": {
      "text/plain": [
       "array([[<matplotlib.axes._subplots.AxesSubplot object at 0x1a18a29550>]],\n",
       "      dtype=object)"
      ]
     },
     "execution_count": 8,
     "metadata": {},
     "output_type": "execute_result"
    },
    {
     "data": {
      "image/png": "[encoded data removed]",
      "text/plain": [
       "<Figure size 432x288 with 1 Axes>"
      ]
     },
     "metadata": {
      "needs_background": "light"
     },
     "output_type": "display_data"
    }
   ],
   "source": [
    "# задача №4\n",
    "# гистограмма рейтингов приложений\n",
    "\n",
    "apps[apps.Rating <= 5.0].hist(\"Rating\", bins=50)"
   ]
  },
  {
   "cell_type": "code",
   "execution_count": 9,
   "metadata": {},
   "outputs": [
    {
     "name": "stdout",
     "output_type": "stream",
     "text": [
      "Топ-5 позитивных отзывов:\n",
      "\n",
      "                                   Translated_Review\n",
      "0  I like eat delicious food. That's I'm cooking ...\n",
      "1  This best bank ever. Don't take word stop A+ F...\n",
      "2                                Excellent material!\n",
      "3                                          Excellent\n",
      "4                                     It awesome!!!!\n",
      "-----------------------------------\n",
      "Топ-5 негативных отзывов:\n",
      "\n",
      "                                   Translated_Review\n",
      "0                                          The worst\n",
      "1  Notification go away & can't find any. Very an...\n",
      "2  Why would age calculator need permission manag...\n",
      "3  Why ur requires storage permission!? Remove ne...\n",
      "4  Notification go away & can't find any. Very an...\n"
     ]
    },
    {
     "name": "stderr",
     "output_type": "stream",
     "text": [
      "/anaconda3/lib/python3.7/site-packages/ipykernel_launcher.py:5: SettingWithCopyWarning: \n",
      "A value is trying to be set on a copy of a slice from a DataFrame\n",
      "\n",
      "See the caveats in the documentation: http://pandas.pydata.org/pandas-docs/stable/indexing.html#indexing-view-versus-copy\n",
      "  \"\"\"\n",
      "/anaconda3/lib/python3.7/site-packages/ipykernel_launcher.py:12: SettingWithCopyWarning: \n",
      "A value is trying to be set on a copy of a slice from a DataFrame\n",
      "\n",
      "See the caveats in the documentation: http://pandas.pydata.org/pandas-docs/stable/indexing.html#indexing-view-versus-copy\n",
      "  if sys.path[0] == '':\n"
     ]
    }
   ],
   "source": [
    "# задача №5\n",
    "\n",
    "# топ-5 позитивных\n",
    "reviews_pos = reviews.loc[reviews['Sentiment'] == 'Positive'] \n",
    "reviews_pos.sort_values('Sentiment_Polarity', ascending=False, inplace=True)\n",
    "reviews_pos.reset_index(drop=True, inplace=True)\n",
    "print('Топ-5 позитивных отзывов:\\n', reviews_pos.loc[:4, ['Translated_Review']], sep='\\n')\n",
    "print('-----------------------------------')\n",
    "\n",
    "# топ-5 негативных\n",
    "reviews_neg = reviews.loc[reviews['Sentiment'] == 'Negative'] \n",
    "reviews_neg.sort_values('Sentiment_Polarity', inplace=True)\n",
    "reviews_neg.reset_index(drop=True, inplace=True)\n",
    "print('Топ-5 негативных отзывов:\\n', reviews_neg.loc[:4,['Translated_Review']], sep='\\n')"
   ]
  },
  {
   "cell_type": "code",
   "execution_count": 10,
   "metadata": {},
   "outputs": [
    {
     "data": {
      "text/html": [
       "<div>\n",
       "<style scoped>\n",
       "    .dataframe tbody tr th:only-of-type {\n",
       "        vertical-align: middle;\n",
       "    }\n",
       "\n",
       "    .dataframe tbody tr th {\n",
       "        vertical-align: top;\n",
       "    }\n",
       "\n",
       "    .dataframe thead th {\n",
       "        text-align: right;\n",
       "    }\n",
       "</style>\n",
       "<table border=\"1\" class=\"dataframe\">\n",
       "  <thead>\n",
       "    <tr style=\"text-align: right;\">\n",
       "      <th></th>\n",
       "      <th>Sentiment_Subjectivity</th>\n",
       "    </tr>\n",
       "    <tr>\n",
       "      <th>Category</th>\n",
       "      <th></th>\n",
       "    </tr>\n",
       "  </thead>\n",
       "  <tbody>\n",
       "    <tr>\n",
       "      <th>COMICS</th>\n",
       "      <td>0.579079</td>\n",
       "    </tr>\n",
       "  </tbody>\n",
       "</table>\n",
       "</div>"
      ],
      "text/plain": [
       "          Sentiment_Subjectivity\n",
       "Category                        \n",
       "COMICS                  0.579079"
      ]
     },
     "execution_count": 10,
     "metadata": {},
     "output_type": "execute_result"
    }
   ],
   "source": [
    "# задача №6\n",
    "# категория с самыми субъективными оценками\n",
    "\n",
    "merged_table = reviews.merge(apps, on=\"App\", how=\"inner\")\n",
    "merged_table[[\"Category\", \"Sentiment_Subjectivity\"]].groupby(\"Category\").mean().sort_values(\"Sentiment_Subjectivity\", ascending=False).head(1)"
   ]
  },
  {
   "cell_type": "code",
   "execution_count": 11,
   "metadata": {},
   "outputs": [],
   "source": [
    "# задача №7\n",
    "\n",
    "def is_prime(number):\n",
    "    def check_div(n, d):\n",
    "        if d == 1:\n",
    "            return True\n",
    "        elif n % d == 0:\n",
    "            return False\n",
    "        else:\n",
    "            return(check_div(n, d - 1))\n",
    "        \n",
    "    if number > 1:\n",
    "        return check_div(number, number - 1)\n",
    "    else:\n",
    "        return True"
   ]
  },
  {
   "cell_type": "code",
   "execution_count": 12,
   "metadata": {},
   "outputs": [
    {
     "name": "stdout",
     "output_type": "stream",
     "text": [
      "1  - простое число\n",
      "\n",
      "3  - простое число\n",
      "\n",
      "4  - не простое число\n",
      "\n",
      "5  - простое число\n",
      "\n"
     ]
    }
   ],
   "source": [
    "# тесты\n",
    "\n",
    "numbers = [1, 3, 4, 5]\n",
    "\n",
    "for el in numbers:\n",
    "    res = is_prime(el)\n",
    "    if res is True:\n",
    "        print(el, ' - простое число\\n')\n",
    "    else:\n",
    "        print(el, ' - не простое число\\n')"
   ]
  },
  {
   "cell_type": "code",
   "execution_count": 13,
   "metadata": {},
   "outputs": [],
   "source": [
    "# задача №8\n",
    "\n",
    "def first_unique(s):\n",
    "    fl = True\n",
    "    el = s[0]\n",
    "    i = 1\n",
    "    while fl is True and i < len(s):\n",
    "        if (s[i] != el):\n",
    "            fl = False\n",
    "        else:\n",
    "            el = s[i]\n",
    "            i += 1;\n",
    "    if (fl == True):\n",
    "        return -1\n",
    "    else:\n",
    "        return s[i]"
   ]
  },
  {
   "cell_type": "code",
   "execution_count": 14,
   "metadata": {},
   "outputs": [
    {
     "name": "stdout",
     "output_type": "stream",
     "text": [
      "Такого элемента нет\n",
      "Первый неповторяющийся элемент в aaaaa : -1\n",
      "Первый неповторяющийся элемент в a : -1\n"
     ]
    }
   ],
   "source": [
    "# тесты\n",
    "\n",
    "strs = ['abc', 'aaaaa', 'a']\n",
    "for el in strs:\n",
    "    res = first_unique(el)\n",
    "    if res == -1:\n",
    "        print('Первый неповторяющийся элемент в', el,':', res)\n",
    "    else:\n",
    "        print('Такого элемента нет')"
   ]
  },
  {
   "cell_type": "code",
   "execution_count": 15,
   "metadata": {},
   "outputs": [],
   "source": [
    "# задача №9\n",
    "import os\n",
    "def file_numerator(basepath):\n",
    "    count = 1\n",
    "    for path in os.listdir(basepath):\n",
    "        full_path = os.path.join(basepath, path)\n",
    "    \n",
    "        if os.path.isdir(full_path):\n",
    "            file_numerator(full_path)\n",
    "        \n",
    "        if os.path.isfile(full_path):\n",
    "            print (count, ',', path)\n",
    "            count += 1"
   ]
  },
  {
   "cell_type": "code",
   "execution_count": 16,
   "metadata": {},
   "outputs": [
    {
     "name": "stdout",
     "output_type": "stream",
     "text": [
      "1 , .DS_Store\n",
      "2 , Сергеенкова_Лилия_дз1.ipynb\n",
      "1 , .DS_Store\n",
      "2 , Oalg_cw4.pdf\n",
      "3 , Oalg_cw5.pdf\n",
      "4 , Cormen_Leiserson_Rivest_Stein-Introduction_to_Algorithms-RU.pdf\n",
      "5 , Programming_theorem_and_problems.pdf\n",
      "6 , OzAlgNotes1.pdf\n",
      "7 , Oalg_cw6.pdf\n",
      "8 , Oalg_cw2.pdf\n",
      "9 , Oalg_cw3.pdf\n",
      "10 , alg_lectures_2020.pdf\n",
      "11 , Oalg_cw1.pdf\n",
      "12 , notepad5.pdf\n",
      "13 , DataStructuresI.pdf\n",
      "14 , GXwlvy-dasgupta_2014.pdf\n",
      "15 , Oalg_hw5.pdf\n",
      "16 , Oalg_hw4.pdf\n",
      "17 , Oalg_hw6.pdf\n",
      "18 , 2max.pdf\n",
      "19 , Oalg_hw3.pdf\n",
      "20 , Oalg_hw2.pdf\n",
      "21 , Oalg_hw1.pdf\n",
      "1 , .DS_Store\n",
      "1 , .DS_Store\n",
      "2 , hw1.ipynb\n",
      "1 , .DS_Store\n",
      "1 , 6QICoUs8.png\n",
      "2 , .DS_Store\n",
      "3 , Сергеенкова_Лилия_experiments.ipynb\n",
      "4 , knn.zip\n",
      "5 , Сергеенкова_Лилия_experiments.html\n",
      "1 , .DS_Store\n",
      "2 , 8.jpg\n",
      "3 , 9.jpg\n",
      "4 , Unknown.png\n",
      "5 , 10.jpg\n",
      "6 , дз3.pdf\n",
      "7 , 7.jpg\n",
      "8 , 2.jpg\n",
      "9 , 1.jpg\n",
      "1 , .DS_Store\n",
      "2 , task3.py\n",
      "3 , task7.py\n",
      "4 , task6.py\n",
      "5 , task2.py\n",
      "6 , task5.py\n",
      "7 , task1.py\n",
      "8 , task4.py\n",
      "9 , Снимок экрана 2020-10-04 в 18.33.44.png\n",
      "1 , check_first_sentence_is_second.py\n",
      "2 , get_new_dictionary.py\n",
      "3 , find_max_substring_occurrency.py\n",
      "4 , find_word_in_circle.py\n",
      "1 , Сергеенкова_Лилия_Александровна_дз5.pdf\n",
      "2 , Сергеенкова_Лилия_Александровна_дз4.pdf\n",
      "3 , Сергеенкова_Лилия_Александровна_дз6.pdf\n",
      "4 , Сергеенкова_Лилия_Александровна_дз3.pdf\n",
      "5 , .DS_Store\n",
      "6 , Сергеенкова_Лилия_Александровна_дз2.pdf\n",
      "7 , Сергеенкова_Лилия_Александровна_дз1.pdf\n",
      "8 , Сергеенкова_Лилия_Александровна_дз1.tex\n",
      "9 , Сергеенкова_Лилия_Александровна_дз2.tex\n",
      "10 , Сергеенкова_Лилия_Александровна_дз3.tex\n",
      "11 , Сергеенкова_Лилия_Александровна_дз6.tex\n",
      "12 , Сергеенкова_Лилия_Александровна_дз4.tex\n",
      "13 , Сергеенкова_Лилия_Александровна_дз5.tex\n"
     ]
    }
   ],
   "source": [
    "# тест\n",
    "path = '/Users/liliasergeenkova/Desktop/озон'\n",
    "file_numerator(path)"
   ]
  },
  {
   "cell_type": "code",
   "execution_count": 17,
   "metadata": {},
   "outputs": [],
   "source": [
    "# задача №10\n",
    "\n",
    "def palindrome(string):\n",
    "    def check(st, first, last) :\n",
    "        if (first == last):\n",
    "            return True\n",
    "        \n",
    "        if (st[first] != st[last]) :\n",
    "\n",
    "            return False\n",
    "\n",
    "        if (last < first + 1) :\n",
    "            return check(st, first + 1, last - 1)\n",
    "        \n",
    "        return True\n",
    "    \n",
    "    n = len(string)\n",
    "    \n",
    "    if (n == 0) :\n",
    "        return True\n",
    "    \n",
    "    return check(string, 0, n - 1) "
   ]
  },
  {
   "cell_type": "code",
   "execution_count": 18,
   "metadata": {},
   "outputs": [
    {
     "name": "stdout",
     "output_type": "stream",
     "text": [
      "cbc  является палиндромом\n",
      "abc  не является палиндромом\n",
      "aabaa  является палиндромом\n"
     ]
    }
   ],
   "source": [
    "# тесты\n",
    "\n",
    "strs = ['cbc', 'abc', 'aabaa']\n",
    "for el in strs:\n",
    "    res = palindrome(el)\n",
    "    if res is True:\n",
    "        print(el, ' является палиндромом')\n",
    "    else:\n",
    "        print(el, ' не является палиндромом')"
   ]
  },
  {
   "cell_type": "code",
   "execution_count": 19,
   "metadata": {},
   "outputs": [],
   "source": [
    "# задача №11\n",
    "\n",
    "def code_of_string(string):\n",
    "    s_prev = string[0]\n",
    "    count = 1\n",
    "    code = ''\n",
    "    for i in range (1, len(string)):\n",
    "        if s_prev == string[i]:\n",
    "            count += 1\n",
    "            if i == len(string)-1:\n",
    "                code += s_prev + str(count)\n",
    "        else:\n",
    "            code += s_prev + str(count)\n",
    "            count = 1\n",
    "        s_prev = string[i]\n",
    "    return code"
   ]
  },
  {
   "cell_type": "code",
   "execution_count": 20,
   "metadata": {},
   "outputs": [
    {
     "name": "stdout",
     "output_type": "stream",
     "text": [
      "AAACCBBBBDD : A3C2B4D2\n",
      "aaa : a3\n"
     ]
    }
   ],
   "source": [
    "# тесты\n",
    "\n",
    "strs = ['AAACCBBBBDD', 'aaa']\n",
    "for el in strs:\n",
    "    res = code_of_string(el)\n",
    "    print(el, ':', res)"
   ]
  },
  {
   "cell_type": "code",
   "execution_count": 21,
   "metadata": {},
   "outputs": [],
   "source": [
    "# задача №12\n",
    "\n",
    "def merge_sort(arr):\n",
    "    if len(arr) < 2:\n",
    "        return arr\n",
    "    else:\n",
    "        middle = int(len(arr) / 2)\n",
    "        left = merge_sort(arr[:middle])\n",
    "        right = merge_sort(arr[middle:])\n",
    "        return merge(left, right)"
   ]
  },
  {
   "cell_type": "code",
   "execution_count": 22,
   "metadata": {},
   "outputs": [],
   "source": [
    "def merge(left, right):\n",
    "    result = []\n",
    "    i = 0\n",
    "    j = 0\n",
    "    while i < len(left) and j < len(right):\n",
    "        if left[i] < right[j]:\n",
    "            result.append(left[i])\n",
    "            i += 1\n",
    "        else:\n",
    "            result.append(right[j])\n",
    "            j += 1\n",
    "    while i < len(left):\n",
    "        result.append(left[i])\n",
    "        i += 1\n",
    "    while j < len(right):\n",
    "        result.append(right[j])\n",
    "        j += 1\n",
    "    return result"
   ]
  },
  {
   "cell_type": "code",
   "execution_count": 23,
   "metadata": {},
   "outputs": [
    {
     "name": "stdout",
     "output_type": "stream",
     "text": [
      "Исходный массив: \n",
      "[1, 9, 4, 6, 3, 8]\n",
      "Отсортированный массив: \n",
      "[1, 3, 4, 6, 8, 9]\n",
      "--------------------------------\n",
      "Исходный массив: \n",
      "[9, 8, 5, 4, 3]\n",
      "Отсортированный массив: \n",
      "[3, 4, 5, 8, 9]\n",
      "--------------------------------\n"
     ]
    }
   ],
   "source": [
    "# тесты \n",
    "\n",
    "arrs = [[1, 9, 4, 6, 3, 8], [9, 8, 5, 4, 3]]\n",
    "for el in arrs:\n",
    "    res = merge_sort(el)\n",
    "    print('Исходный массив: ', el, sep = '\\n')\n",
    "    print('Отсортированный массив: ', res, sep = '\\n')\n",
    "    print('--------------------------------')"
   ]
  }
 ],
 "metadata": {
  "kernelspec": {
   "display_name": "Python 3",
   "language": "python",
   "name": "python3"
  },
  "language_info": {
   "codemirror_mode": {
    "name": "ipython",
    "version": 3
   },
   "file_extension": ".py",
   "mimetype": "text/x-python",
   "name": "python",
   "nbconvert_exporter": "python",
   "pygments_lexer": "ipython3",
   "version": "3.7.3"
  }
 },
 "nbformat": 4,
 "nbformat_minor": 2
}
