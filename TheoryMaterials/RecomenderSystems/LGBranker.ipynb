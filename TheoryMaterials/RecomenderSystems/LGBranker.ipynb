{
 "cells": [
  {
   "cell_type": "code",
   "execution_count": 1,
   "metadata": {},
   "outputs": [],
   "source": [
    "import lightgbm as lgb\n",
    "from sklearn.datasets import load_svmlight_file"
   ]
  },
  {
   "cell_type": "code",
   "execution_count": 13,
   "metadata": {},
   "outputs": [],
   "source": [
    "X_train, y_train = load_svmlight_file('Fold1/train.txt')"
   ]
  },
  {
   "cell_type": "code",
   "execution_count": 16,
   "metadata": {},
   "outputs": [],
   "source": [
    "X_val, y_val  = load_svmlight_file('Fold1/vali.txt')"
   ]
  },
  {
   "cell_type": "code",
   "execution_count": 18,
   "metadata": {},
   "outputs": [],
   "source": [
    "query_train = [X_train.shape[0]]\n",
    "query_val = [X_val.shape[0]]\n",
    "#query_test = [X_test.shape[0]]"
   ]
  },
  {
   "cell_type": "code",
   "execution_count": null,
   "metadata": {},
   "outputs": [
    {
     "name": "stdout",
     "output_type": "stream",
     "text": [
      "[1]\tvalid_0's ndcg@5: 0.284644\tvalid_0's ndcg@10: 0.301737\tvalid_0's ndcg@20: 0.36502\n",
      "Training until validation scores don't improve for 50 rounds\n",
      "[2]\tvalid_0's ndcg@5: 0.284644\tvalid_0's ndcg@10: 0.301737\tvalid_0's ndcg@20: 0.36502\n",
      "[3]\tvalid_0's ndcg@5: 0.284644\tvalid_0's ndcg@10: 0.301737\tvalid_0's ndcg@20: 0.36502\n",
      "[4]\tvalid_0's ndcg@5: 0.284644\tvalid_0's ndcg@10: 0.301737\tvalid_0's ndcg@20: 0.36502\n",
      "[5]\tvalid_0's ndcg@5: 0.284644\tvalid_0's ndcg@10: 0.301737\tvalid_0's ndcg@20: 0.36502\n",
      "[6]\tvalid_0's ndcg@5: 0.284644\tvalid_0's ndcg@10: 0.301737\tvalid_0's ndcg@20: 0.36502\n",
      "[7]\tvalid_0's ndcg@5: 0.284644\tvalid_0's ndcg@10: 0.301737\tvalid_0's ndcg@20: 0.36502\n",
      "[8]\tvalid_0's ndcg@5: 0.284644\tvalid_0's ndcg@10: 0.301737\tvalid_0's ndcg@20: 0.36502\n",
      "[9]\tvalid_0's ndcg@5: 0.284644\tvalid_0's ndcg@10: 0.301737\tvalid_0's ndcg@20: 0.36502\n",
      "[10]\tvalid_0's ndcg@5: 0.284644\tvalid_0's ndcg@10: 0.301737\tvalid_0's ndcg@20: 0.36502\n",
      "[11]\tvalid_0's ndcg@5: 0.284644\tvalid_0's ndcg@10: 0.301737\tvalid_0's ndcg@20: 0.36502\n",
      "[12]\tvalid_0's ndcg@5: 0.284644\tvalid_0's ndcg@10: 0.301737\tvalid_0's ndcg@20: 0.36502\n"
     ]
    }
   ],
   "source": [
    "gbm = lgb.LGBMRanker()\n",
    "gbm.fit(X_train, y_train, group=query_train,\n",
    "        eval_set=[(X_val, y_val)], eval_group=[query_val],\n",
    "        eval_at=[5, 10, 20], early_stopping_rounds=50)"
   ]
  },
  {
   "cell_type": "code",
   "execution_count": null,
   "metadata": {},
   "outputs": [],
   "source": []
  }
 ],
 "metadata": {
  "kernelspec": {
   "display_name": "Python 3",
   "language": "python",
   "name": "python3"
  },
  "language_info": {
   "codemirror_mode": {
    "name": "ipython",
    "version": 3
   },
   "file_extension": ".py",
   "mimetype": "text/x-python",
   "name": "python",
   "nbconvert_exporter": "python",
   "pygments_lexer": "ipython3",
   "version": "3.7.4"
  }
 },
 "nbformat": 4,
 "nbformat_minor": 2
}
